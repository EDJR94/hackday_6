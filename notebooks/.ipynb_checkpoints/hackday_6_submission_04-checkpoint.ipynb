{
 "cells": [
  {
   "cell_type": "markdown",
   "id": "54217ca5-d090-4212-ab5f-3ca859e9e963",
   "metadata": {},
   "source": [
    "# Imports"
   ]
  },
  {
   "cell_type": "code",
   "execution_count": 478,
   "id": "205137f3-f697-4e84-8afa-7074f3cf8dc1",
   "metadata": {},
   "outputs": [],
   "source": [
    "import pandas as pd\n",
    "import numpy as np\n",
    "import ast\n",
    "\n",
    "import matplotlib.pyplot as plt\n",
    "\n",
    "from sklearn.preprocessing import TargetEncoder\n",
    "from sklearn.model_selection import train_test_split\n",
    "\n",
    "plt.style.use('ggplot')\n",
    "\n",
    "pd.options.display.max_columns = 999\n",
    "\n",
    "import warnings\n",
    "\n",
    "warnings.filterwarnings('ignore')"
   ]
  },
  {
   "cell_type": "markdown",
   "id": "c8f001c8-2eab-4278-8fe6-2a851b413c2c",
   "metadata": {},
   "source": [
    "## Load Data"
   ]
  },
  {
   "cell_type": "code",
   "execution_count": 455,
   "id": "04db2f9e-262f-470e-bbf9-011fa2a3c5d9",
   "metadata": {},
   "outputs": [],
   "source": [
    "path = '/home/edilson07/projects/hackday_6/datasets/'\n",
    "\n",
    "df_raw = pd.read_json(path + 'train.json', orient='split')"
   ]
  },
  {
   "cell_type": "markdown",
   "id": "ea0a24da-d5e4-4693-a55d-6fa61753733b",
   "metadata": {},
   "source": [
    "## Criar numero de caracteristicas"
   ]
  },
  {
   "cell_type": "code",
   "execution_count": 456,
   "id": "970b300f-7aee-4202-9578-4115c8e672f5",
   "metadata": {},
   "outputs": [],
   "source": [
    "df_raw['product_details_count'] = df_raw['product_details'].apply(lambda x: len(ast.literal_eval(x)) )"
   ]
  },
  {
   "cell_type": "markdown",
   "id": "5d1cdcc2-7157-4e06-9944-14b1f8373944",
   "metadata": {},
   "source": [
    "## Transformar detalhes dos produtos em colunas"
   ]
  },
  {
   "cell_type": "code",
   "execution_count": 457,
   "id": "edab8afd-4602-4e2e-84bb-82515421a4e3",
   "metadata": {},
   "outputs": [],
   "source": [
    "df_raw['product_details'] = df_raw['product_details'].apply(lambda x: ast.literal_eval(x))"
   ]
  },
  {
   "cell_type": "code",
   "execution_count": 458,
   "id": "dca5dfdd-c582-48b4-9a1b-13574fcf1203",
   "metadata": {},
   "outputs": [],
   "source": [
    "all_keys = set()\n",
    "for data in df_raw['product_details']:\n",
    "    for item in data:\n",
    "        all_keys.update(item.keys())\n",
    "\n",
    "# Para cada chave no conjunto, crie uma coluna no DataFrame e preencha com os valores correspondentes\n",
    "for key in all_keys:\n",
    "    df_raw[key] = df_raw['product_details'].apply(lambda x: next((item[key] for item in x if key in item), np.nan))\n",
    "\n",
    "# Remova a coluna 'product_details' original\n",
    "df_raw.drop('product_details', axis=1, inplace=True)"
   ]
  },
  {
   "cell_type": "code",
   "execution_count": 459,
   "id": "62ff0a66-1f82-4c42-b403-e29cb016fcae",
   "metadata": {},
   "outputs": [],
   "source": [
    "df_raw.rename(columns={'Pack of': 'Pack Of 2'}, inplace=True)\n",
    "\n",
    "# Preencha os valores NaN na coluna 'Pack Of' com os valores da coluna 'Pack Of' 2\n",
    "df_raw['Pack Of'].fillna(df_raw['Pack Of 2'], inplace=True)\n",
    "\n",
    "df_raw.drop('Pack Of 2', axis=1, inplace=True)"
   ]
  },
  {
   "cell_type": "markdown",
   "id": "e1652605-6f2f-4915-ad92-0806b4328f9e",
   "metadata": {},
   "source": [
    "## Escolher as colunas com menos NaN"
   ]
  },
  {
   "cell_type": "code",
   "execution_count": 460,
   "id": "95fdfef2-223e-4450-9ec1-ea10ef79b58e",
   "metadata": {},
   "outputs": [],
   "source": [
    "details_to_maintain = ['_id',\n",
    "                       'average_rating',\n",
    "                       'number_of_reviews',\n",
    "                       'brand',\n",
    "                       'category',\n",
    "                       'crawled_at',\n",
    "                       'description',\n",
    "                       'images',\n",
    "                       'out_of_stock',\n",
    "                       'avg_delivery_time_days',\n",
    "                       'pid',\n",
    "                       'seller',\n",
    "                       'sub_category',\n",
    "                       'fabrication_time',\n",
    "                       'title',\n",
    "                       'actual_price',\n",
    "                       'Sleeve',\n",
    "                       'Pack Of',\n",
    "                       'Brand Color',\n",
    "                       'Size',\n",
    "                       'Fit',\n",
    "                       'Pattern',\n",
    "                       'Ideal For',\n",
    "                       'Suitable For',\n",
    "                       'Fabric',\n",
    "                       'Type',\n",
    "                       'product_details_count',]\n",
    "                       #'Shade',\n",
    "                       #'Pack Of 2']\n",
    "\n",
    "df_raw = df_raw[details_to_maintain]"
   ]
  },
  {
   "cell_type": "markdown",
   "id": "39b4c900-ccce-4f2e-ac1e-946d1c4c15e9",
   "metadata": {},
   "source": [
    "# Data Description"
   ]
  },
  {
   "cell_type": "code",
   "execution_count": 461,
   "id": "44c1211d-d921-4a97-b7b1-d162b76a1074",
   "metadata": {},
   "outputs": [],
   "source": [
    "df1 = df_raw.copy()"
   ]
  },
  {
   "cell_type": "code",
   "execution_count": 462,
   "id": "dc7e138f-e879-4895-a07d-0f2b1c9b165d",
   "metadata": {},
   "outputs": [
    {
     "name": "stdout",
     "output_type": "stream",
     "text": [
      "<class 'pandas.core.frame.DataFrame'>\n",
      "Index: 23309 entries, 0 to 23308\n",
      "Data columns (total 27 columns):\n",
      " #   Column                  Non-Null Count  Dtype         \n",
      "---  ------                  --------------  -----         \n",
      " 0   _id                     23309 non-null  object        \n",
      " 1   average_rating          23309 non-null  float64       \n",
      " 2   number_of_reviews       23309 non-null  int64         \n",
      " 3   brand                   23309 non-null  object        \n",
      " 4   category                23309 non-null  object        \n",
      " 5   crawled_at              23309 non-null  datetime64[ns]\n",
      " 6   description             23309 non-null  object        \n",
      " 7   images                  23309 non-null  object        \n",
      " 8   out_of_stock            23309 non-null  bool          \n",
      " 9   avg_delivery_time_days  23309 non-null  int64         \n",
      " 10  pid                     23309 non-null  object        \n",
      " 11  seller                  23309 non-null  object        \n",
      " 12  sub_category            23309 non-null  object        \n",
      " 13  fabrication_time        23309 non-null  int64         \n",
      " 14  title                   23309 non-null  object        \n",
      " 15  actual_price            19813 non-null  float64       \n",
      " 16  Sleeve                  15858 non-null  object        \n",
      " 17  Pack Of                 15842 non-null  object        \n",
      " 18  Brand Color             10852 non-null  object        \n",
      " 19  Size                    10374 non-null  object        \n",
      " 20  Fit                     14097 non-null  object        \n",
      " 21  Pattern                 21361 non-null  object        \n",
      " 22  Ideal For               14342 non-null  object        \n",
      " 23  Suitable For            16141 non-null  object        \n",
      " 24  Fabric                  21576 non-null  object        \n",
      " 25  Type                    14570 non-null  object        \n",
      " 26  product_details_count   23309 non-null  int64         \n",
      "dtypes: bool(1), datetime64[ns](1), float64(2), int64(4), object(19)\n",
      "memory usage: 4.8+ MB\n"
     ]
    }
   ],
   "source": [
    "df1.info()"
   ]
  },
  {
   "cell_type": "code",
   "execution_count": 463,
   "id": "04dc4f51-617b-4fa0-a819-fcee7dd7525f",
   "metadata": {},
   "outputs": [
    {
     "data": {
      "text/html": [
       "<div>\n",
       "<style scoped>\n",
       "    .dataframe tbody tr th:only-of-type {\n",
       "        vertical-align: middle;\n",
       "    }\n",
       "\n",
       "    .dataframe tbody tr th {\n",
       "        vertical-align: top;\n",
       "    }\n",
       "\n",
       "    .dataframe thead th {\n",
       "        text-align: right;\n",
       "    }\n",
       "</style>\n",
       "<table border=\"1\" class=\"dataframe\">\n",
       "  <thead>\n",
       "    <tr style=\"text-align: right;\">\n",
       "      <th></th>\n",
       "      <th>average_rating</th>\n",
       "      <th>number_of_reviews</th>\n",
       "      <th>crawled_at</th>\n",
       "      <th>avg_delivery_time_days</th>\n",
       "      <th>fabrication_time</th>\n",
       "      <th>actual_price</th>\n",
       "      <th>product_details_count</th>\n",
       "    </tr>\n",
       "  </thead>\n",
       "  <tbody>\n",
       "    <tr>\n",
       "      <th>count</th>\n",
       "      <td>23309.000000</td>\n",
       "      <td>23309.000000</td>\n",
       "      <td>23309</td>\n",
       "      <td>23309.000000</td>\n",
       "      <td>23309.000000</td>\n",
       "      <td>19813.000000</td>\n",
       "      <td>23309.000000</td>\n",
       "    </tr>\n",
       "    <tr>\n",
       "      <th>mean</th>\n",
       "      <td>3.367322</td>\n",
       "      <td>27.767386</td>\n",
       "      <td>2021-02-10 22:55:49.561242624</td>\n",
       "      <td>9.933502</td>\n",
       "      <td>366.663563</td>\n",
       "      <td>1480.980568</td>\n",
       "      <td>13.438500</td>\n",
       "    </tr>\n",
       "    <tr>\n",
       "      <th>min</th>\n",
       "      <td>0.000000</td>\n",
       "      <td>0.000000</td>\n",
       "      <td>2021-02-10 20:11:51</td>\n",
       "      <td>3.000000</td>\n",
       "      <td>1.000000</td>\n",
       "      <td>150.000000</td>\n",
       "      <td>1.000000</td>\n",
       "    </tr>\n",
       "    <tr>\n",
       "      <th>25%</th>\n",
       "      <td>3.100000</td>\n",
       "      <td>26.000000</td>\n",
       "      <td>2021-02-10 21:30:50</td>\n",
       "      <td>7.000000</td>\n",
       "      <td>184.000000</td>\n",
       "      <td>895.000000</td>\n",
       "      <td>11.000000</td>\n",
       "    </tr>\n",
       "    <tr>\n",
       "      <th>50%</th>\n",
       "      <td>3.700000</td>\n",
       "      <td>31.000000</td>\n",
       "      <td>2021-02-10 23:01:37</td>\n",
       "      <td>10.000000</td>\n",
       "      <td>369.000000</td>\n",
       "      <td>1256.000000</td>\n",
       "      <td>14.000000</td>\n",
       "    </tr>\n",
       "    <tr>\n",
       "      <th>75%</th>\n",
       "      <td>4.100000</td>\n",
       "      <td>34.000000</td>\n",
       "      <td>2021-02-11 00:17:54</td>\n",
       "      <td>13.000000</td>\n",
       "      <td>550.000000</td>\n",
       "      <td>1799.000000</td>\n",
       "      <td>17.000000</td>\n",
       "    </tr>\n",
       "    <tr>\n",
       "      <th>max</th>\n",
       "      <td>5.000000</td>\n",
       "      <td>41.000000</td>\n",
       "      <td>2021-02-11 01:31:55</td>\n",
       "      <td>19.000000</td>\n",
       "      <td>729.000000</td>\n",
       "      <td>12999.000000</td>\n",
       "      <td>25.000000</td>\n",
       "    </tr>\n",
       "    <tr>\n",
       "      <th>std</th>\n",
       "      <td>1.157570</td>\n",
       "      <td>9.555809</td>\n",
       "      <td>NaN</td>\n",
       "      <td>3.568971</td>\n",
       "      <td>210.255811</td>\n",
       "      <td>967.824650</td>\n",
       "      <td>4.517272</td>\n",
       "    </tr>\n",
       "  </tbody>\n",
       "</table>\n",
       "</div>"
      ],
      "text/plain": [
       "       average_rating  number_of_reviews                     crawled_at  \\\n",
       "count    23309.000000       23309.000000                          23309   \n",
       "mean         3.367322          27.767386  2021-02-10 22:55:49.561242624   \n",
       "min          0.000000           0.000000            2021-02-10 20:11:51   \n",
       "25%          3.100000          26.000000            2021-02-10 21:30:50   \n",
       "50%          3.700000          31.000000            2021-02-10 23:01:37   \n",
       "75%          4.100000          34.000000            2021-02-11 00:17:54   \n",
       "max          5.000000          41.000000            2021-02-11 01:31:55   \n",
       "std          1.157570           9.555809                            NaN   \n",
       "\n",
       "       avg_delivery_time_days  fabrication_time  actual_price  \\\n",
       "count            23309.000000      23309.000000  19813.000000   \n",
       "mean                 9.933502        366.663563   1480.980568   \n",
       "min                  3.000000          1.000000    150.000000   \n",
       "25%                  7.000000        184.000000    895.000000   \n",
       "50%                 10.000000        369.000000   1256.000000   \n",
       "75%                 13.000000        550.000000   1799.000000   \n",
       "max                 19.000000        729.000000  12999.000000   \n",
       "std                  3.568971        210.255811    967.824650   \n",
       "\n",
       "       product_details_count  \n",
       "count           23309.000000  \n",
       "mean               13.438500  \n",
       "min                 1.000000  \n",
       "25%                11.000000  \n",
       "50%                14.000000  \n",
       "75%                17.000000  \n",
       "max                25.000000  \n",
       "std                 4.517272  "
      ]
     },
     "execution_count": 463,
     "metadata": {},
     "output_type": "execute_result"
    }
   ],
   "source": [
    "df1.describe()"
   ]
  },
  {
   "cell_type": "markdown",
   "id": "ee80ea99-5783-448b-bacd-932cd8bb0493",
   "metadata": {},
   "source": [
    "## Criar colunas Numero de Imagens"
   ]
  },
  {
   "cell_type": "code",
   "execution_count": 464,
   "id": "ebbb09c8-2603-4222-9907-ad6b5861595f",
   "metadata": {},
   "outputs": [],
   "source": [
    "df1['images'] = df1['images'].apply(lambda x: ast.literal_eval(x))"
   ]
  },
  {
   "cell_type": "code",
   "execution_count": 465,
   "id": "35611077-73ff-4464-bb1f-009fb215cd9a",
   "metadata": {},
   "outputs": [],
   "source": [
    "df1['number_images'] = df1['images'].apply(lambda x: len(x))"
   ]
  },
  {
   "cell_type": "markdown",
   "id": "a1ea996b-8a4b-4183-8882-97812f964b7d",
   "metadata": {},
   "source": [
    "## Dropar colunas complicadas/descessarias"
   ]
  },
  {
   "cell_type": "code",
   "execution_count": 466,
   "id": "ee33fc92-2b42-4e8b-9403-57c4c7852df0",
   "metadata": {},
   "outputs": [],
   "source": [
    "cols_drop = ['_id','crawled_at','description','title','images']"
   ]
  },
  {
   "cell_type": "code",
   "execution_count": 467,
   "id": "475f53f0-07c6-4be7-96a9-7a3e5e44f2a5",
   "metadata": {},
   "outputs": [],
   "source": [
    "df1 = df1.drop(cols_drop, axis=1)"
   ]
  },
  {
   "cell_type": "code",
   "execution_count": 468,
   "id": "da1520d1-4dca-4495-a696-aaaa1631f8a7",
   "metadata": {},
   "outputs": [],
   "source": [
    "df1 = df1.dropna(subset='actual_price')"
   ]
  },
  {
   "cell_type": "code",
   "execution_count": 469,
   "id": "7e9198ad-089d-49cc-b5d0-2df85497a8f5",
   "metadata": {},
   "outputs": [],
   "source": [
    "df1 = df1.fillna(0)"
   ]
  },
  {
   "cell_type": "code",
   "execution_count": 470,
   "id": "cb51d3f2-388a-4063-9f4f-33b05945e8f6",
   "metadata": {},
   "outputs": [
    {
     "data": {
      "text/plain": [
       "average_rating            0\n",
       "number_of_reviews         0\n",
       "brand                     0\n",
       "category                  0\n",
       "out_of_stock              0\n",
       "avg_delivery_time_days    0\n",
       "pid                       0\n",
       "seller                    0\n",
       "sub_category              0\n",
       "fabrication_time          0\n",
       "actual_price              0\n",
       "Sleeve                    0\n",
       "Pack Of                   0\n",
       "Brand Color               0\n",
       "Size                      0\n",
       "Fit                       0\n",
       "Pattern                   0\n",
       "Ideal For                 0\n",
       "Suitable For              0\n",
       "Fabric                    0\n",
       "Type                      0\n",
       "product_details_count     0\n",
       "number_images             0\n",
       "dtype: int64"
      ]
     },
     "execution_count": 470,
     "metadata": {},
     "output_type": "execute_result"
    }
   ],
   "source": [
    "df1.isna().sum()"
   ]
  },
  {
   "cell_type": "markdown",
   "id": "e8b77fdb-0a07-411b-abb7-692bba51a844",
   "metadata": {},
   "source": [
    "## Encoders"
   ]
  },
  {
   "cell_type": "code",
   "execution_count": 471,
   "id": "03e301e3-c3c2-49ad-b803-69db0af4d6b2",
   "metadata": {},
   "outputs": [
    {
     "data": {
      "text/plain": [
       "average_rating               38\n",
       "number_of_reviews            32\n",
       "brand                       301\n",
       "category                      3\n",
       "out_of_stock                  2\n",
       "avg_delivery_time_days       17\n",
       "pid                       18718\n",
       "seller                      460\n",
       "sub_category                 23\n",
       "fabrication_time            729\n",
       "actual_price                636\n",
       "Sleeve                       20\n",
       "Pack Of                      14\n",
       "Brand Color                1611\n",
       "Size                         15\n",
       "Fit                          44\n",
       "Pattern                     107\n",
       "Ideal For                     6\n",
       "Suitable For                  5\n",
       "Fabric                      198\n",
       "Type                        143\n",
       "product_details_count        25\n",
       "number_images                22\n",
       "dtype: int64"
      ]
     },
     "execution_count": 471,
     "metadata": {},
     "output_type": "execute_result"
    }
   ],
   "source": [
    "df1.nunique()"
   ]
  },
  {
   "cell_type": "code",
   "execution_count": 472,
   "id": "98b2a551-6fb1-444d-8626-d86dab04bb3a",
   "metadata": {},
   "outputs": [
    {
     "data": {
      "text/plain": [
       "Index(['average_rating', 'number_of_reviews', 'brand', 'category',\n",
       "       'out_of_stock', 'avg_delivery_time_days', 'pid', 'seller',\n",
       "       'sub_category', 'fabrication_time', 'actual_price', 'Sleeve', 'Pack Of',\n",
       "       'Brand Color', 'Size', 'Fit', 'Pattern', 'Ideal For', 'Suitable For',\n",
       "       'Fabric', 'Type', 'product_details_count', 'number_images'],\n",
       "      dtype='object')"
      ]
     },
     "execution_count": 472,
     "metadata": {},
     "output_type": "execute_result"
    }
   ],
   "source": [
    "df1.columns"
   ]
  },
  {
   "cell_type": "code",
   "execution_count": 473,
   "id": "2b3cfe7c-e487-4aed-8658-06ae6ea3b320",
   "metadata": {},
   "outputs": [
    {
     "data": {
      "text/plain": [
       "average_rating            float64\n",
       "number_of_reviews           int64\n",
       "brand                      object\n",
       "category                   object\n",
       "out_of_stock                 bool\n",
       "avg_delivery_time_days      int64\n",
       "pid                        object\n",
       "seller                     object\n",
       "sub_category               object\n",
       "fabrication_time            int64\n",
       "actual_price              float64\n",
       "Sleeve                     object\n",
       "Pack Of                    object\n",
       "Brand Color                object\n",
       "Size                       object\n",
       "Fit                        object\n",
       "Pattern                    object\n",
       "Ideal For                  object\n",
       "Suitable For               object\n",
       "Fabric                     object\n",
       "Type                       object\n",
       "product_details_count       int64\n",
       "number_images               int64\n",
       "dtype: object"
      ]
     },
     "execution_count": 473,
     "metadata": {},
     "output_type": "execute_result"
    }
   ],
   "source": [
    "df1.dtypes"
   ]
  },
  {
   "cell_type": "code",
   "execution_count": 474,
   "id": "e711f57d-95bd-4345-a11d-3eb1a6c4a038",
   "metadata": {},
   "outputs": [],
   "source": [
    "#ONE HOT ENCODER\n",
    "onehot = ['category','out_of_stock']\n",
    "df1 = pd.get_dummies(df1, columns=onehot)"
   ]
  },
  {
   "cell_type": "code",
   "execution_count": 475,
   "id": "2357302d-1406-485f-998f-d5e335f7c4f4",
   "metadata": {},
   "outputs": [],
   "source": [
    "\n",
    "\n",
    "#TARGET ENCODER\n",
    "te_cols = ['brand','seller','sub_category','Sleeve', 'Pack Of',\n",
    "       'Brand Color', 'Size', 'Fit', 'Pattern', 'Ideal For', 'Suitable For',\n",
    "       'Fabric', 'Type']\n",
    "\n",
    "\n",
    "df1[te_cols] = df1[te_cols].astype(str)\n",
    "\n",
    "te = TargetEncoder(target_type='continuous')\n",
    "df1[te_cols] = te.fit_transform(df1[te_cols], df1['actual_price'])\n",
    "\n"
   ]
  },
  {
   "cell_type": "markdown",
   "id": "8bad1c59-d33d-4e2f-b2f2-d6ea772e6113",
   "metadata": {},
   "source": [
    "## Dropar ID E variável resposta"
   ]
  },
  {
   "cell_type": "code",
   "execution_count": 476,
   "id": "d2bd4845-03fb-45e9-b66d-06ecbc804d3e",
   "metadata": {},
   "outputs": [],
   "source": [
    "X = df1.drop(['pid','actual_price'], axis=1).copy()\n",
    "y = df1['actual_price'].copy()"
   ]
  },
  {
   "cell_type": "code",
   "execution_count": 477,
   "id": "cf7459b7-9b82-469e-a019-1dea2ccf9348",
   "metadata": {},
   "outputs": [
    {
     "data": {
      "image/png": "[encoded data removed]",
      "text/plain": [
       "<Figure size 1000x600 with 1 Axes>"
      ]
     },
     "metadata": {},
     "output_type": "display_data"
    }
   ],
   "source": [
    "from sklearn.ensemble import RandomForestRegressor\n",
    "\n",
    "# Crie o modelo Random Forest\n",
    "rf = RandomForestRegressor(n_estimators=100, random_state=42, n_jobs=1) \n",
    "\n",
    "# Treine o modelo\n",
    "rf.fit(X, y)\n",
    "\n",
    "# Obtenha a importância das características\n",
    "feature_importance = rf.feature_importances_\n",
    "\n",
    "# Crie um DataFrame para facilitar a visualização\n",
    "feature_importance_df = pd.DataFrame({'Feature': X.columns, 'Importance': feature_importance})\n",
    "\n",
    "# Classifique as características com base na importância\n",
    "feature_importance_df = feature_importance_df.sort_values(by='Importance', ascending=False)\n",
    "\n",
    "# Crie o gráfico de barras\n",
    "plt.figure(figsize=(10, 6))\n",
    "plt.barh(feature_importance_df['Feature'], feature_importance_df['Importance'])\n",
    "plt.xlabel('Importância da Característica')\n",
    "plt.ylabel('Característica')\n",
    "plt.title('Importância das Características - Random Forest')\n",
    "plt.show()"
   ]
  },
  {
   "cell_type": "markdown",
   "id": "487f1205-b9ae-4652-8a1d-cd37119942f9",
   "metadata": {},
   "source": [
    "# Machine Learning"
   ]
  },
  {
   "cell_type": "code",
   "execution_count": 479,
   "id": "4dc8e0f3-161d-40a9-a85f-b719e3e0a729",
   "metadata": {},
   "outputs": [],
   "source": [
    "X_train, X_val, y_train, y_val = train_test_split(X, y, test_size=0.2, random_state=42)"
   ]
  },
  {
   "cell_type": "code",
   "execution_count": 480,
   "id": "d581bd71-028b-4ff9-abea-2b566201097d",
   "metadata": {},
   "outputs": [
    {
     "data": {
      "text/plain": [
       "((15850, 24), (3963, 24))"
      ]
     },
     "execution_count": 480,
     "metadata": {},
     "output_type": "execute_result"
    }
   ],
   "source": [
    "X_train.shape, X_val.shape"
   ]
  },
  {
   "cell_type": "code",
   "execution_count": 545,
   "id": "2f8142d5-dcb9-498d-b088-9347bbf2beda",
   "metadata": {},
   "outputs": [],
   "source": [
    "# X_train.to_csv('X_train.csv', index=False)\n",
    "# y_train.to_csv('y_train.csv', index=False)\n",
    "# X_val.to_csv('X_val.csv', index=False)\n",
    "# y_val.to_csv('y_val.csv', index=False)\n"
   ]
  },
  {
   "cell_type": "markdown",
   "id": "bee34e95-a3f5-4f93-a0a5-9bfe636b57e8",
   "metadata": {},
   "source": [
    "## XGBoost"
   ]
  },
  {
   "cell_type": "code",
   "execution_count": 481,
   "id": "cb5a58a6-032a-4e91-a251-e9c23ffaf607",
   "metadata": {},
   "outputs": [
    {
     "data": {
      "text/html": [
       "<style>#sk-container-id-7 {color: black;}#sk-container-id-7 pre{padding: 0;}#sk-container-id-7 div.sk-toggleable {background-color: white;}#sk-container-id-7 label.sk-toggleable__label {cursor: pointer;display: block;width: 100%;margin-bottom: 0;padding: 0.3em;box-sizing: border-box;text-align: center;}#sk-container-id-7 label.sk-toggleable__label-arrow:before {content: \"▸\";float: left;margin-right: 0.25em;color: #696969;}#sk-container-id-7 label.sk-toggleable__label-arrow:hover:before {color: black;}#sk-container-id-7 div.sk-estimator:hover label.sk-toggleable__label-arrow:before {color: black;}#sk-container-id-7 div.sk-toggleable__content {max-height: 0;max-width: 0;overflow: hidden;text-align: left;background-color: #f0f8ff;}#sk-container-id-7 div.sk-toggleable__content pre {margin: 0.2em;color: black;border-radius: 0.25em;background-color: #f0f8ff;}#sk-container-id-7 input.sk-toggleable__control:checked~div.sk-toggleable__content {max-height: 200px;max-width: 100%;overflow: auto;}#sk-container-id-7 input.sk-toggleable__control:checked~label.sk-toggleable__label-arrow:before {content: \"▾\";}#sk-container-id-7 div.sk-estimator input.sk-toggleable__control:checked~label.sk-toggleable__label {background-color: #d4ebff;}#sk-container-id-7 div.sk-label input.sk-toggleable__control:checked~label.sk-toggleable__label {background-color: #d4ebff;}#sk-container-id-7 input.sk-hidden--visually {border: 0;clip: rect(1px 1px 1px 1px);clip: rect(1px, 1px, 1px, 1px);height: 1px;margin: -1px;overflow: hidden;padding: 0;position: absolute;width: 1px;}#sk-container-id-7 div.sk-estimator {font-family: monospace;background-color: #f0f8ff;border: 1px dotted black;border-radius: 0.25em;box-sizing: border-box;margin-bottom: 0.5em;}#sk-container-id-7 div.sk-estimator:hover {background-color: #d4ebff;}#sk-container-id-7 div.sk-parallel-item::after {content: \"\";width: 100%;border-bottom: 1px solid gray;flex-grow: 1;}#sk-container-id-7 div.sk-label:hover label.sk-toggleable__label {background-color: #d4ebff;}#sk-container-id-7 div.sk-serial::before {content: \"\";position: absolute;border-left: 1px solid gray;box-sizing: border-box;top: 0;bottom: 0;left: 50%;z-index: 0;}#sk-container-id-7 div.sk-serial {display: flex;flex-direction: column;align-items: center;background-color: white;padding-right: 0.2em;padding-left: 0.2em;position: relative;}#sk-container-id-7 div.sk-item {position: relative;z-index: 1;}#sk-container-id-7 div.sk-parallel {display: flex;align-items: stretch;justify-content: center;background-color: white;position: relative;}#sk-container-id-7 div.sk-item::before, #sk-container-id-7 div.sk-parallel-item::before {content: \"\";position: absolute;border-left: 1px solid gray;box-sizing: border-box;top: 0;bottom: 0;left: 50%;z-index: -1;}#sk-container-id-7 div.sk-parallel-item {display: flex;flex-direction: column;z-index: 1;position: relative;background-color: white;}#sk-container-id-7 div.sk-parallel-item:first-child::after {align-self: flex-end;width: 50%;}#sk-container-id-7 div.sk-parallel-item:last-child::after {align-self: flex-start;width: 50%;}#sk-container-id-7 div.sk-parallel-item:only-child::after {width: 0;}#sk-container-id-7 div.sk-dashed-wrapped {border: 1px dashed gray;margin: 0 0.4em 0.5em 0.4em;box-sizing: border-box;padding-bottom: 0.4em;background-color: white;}#sk-container-id-7 div.sk-label label {font-family: monospace;font-weight: bold;display: inline-block;line-height: 1.2em;}#sk-container-id-7 div.sk-label-container {text-align: center;}#sk-container-id-7 div.sk-container {/* jupyter's `normalize.less` sets `[hidden] { display: none; }` but bootstrap.min.css set `[hidden] { display: none !important; }` so we also need the `!important` here to be able to override the default hidden behavior on the sphinx rendered scikit-learn.org. See: https://github.com/scikit-learn/scikit-learn/issues/21755 */display: inline-block !important;position: relative;}#sk-container-id-7 div.sk-text-repr-fallback {display: none;}</style><div id=\"sk-container-id-7\" class=\"sk-top-container\"><div class=\"sk-text-repr-fallback\"><pre>XGBRegressor(base_score=None, booster=None, callbacks=None,\n",
       "             colsample_bylevel=None, colsample_bynode=None,\n",
       "             colsample_bytree=None, device=None, early_stopping_rounds=None,\n",
       "             enable_categorical=False, eval_metric=None, feature_types=None,\n",
       "             gamma=None, grow_policy=None, importance_type=None,\n",
       "             interaction_constraints=None, learning_rate=None, max_bin=None,\n",
       "             max_cat_threshold=None, max_cat_to_onehot=None,\n",
       "             max_delta_step=None, max_depth=None, max_leaves=None,\n",
       "             min_child_weight=None, missing=nan, monotone_constraints=None,\n",
       "             multi_strategy=None, n_estimators=None, n_jobs=None,\n",
       "             num_parallel_tree=None, random_state=None, ...)</pre><b>In a Jupyter environment, please rerun this cell to show the HTML representation or trust the notebook. <br />On GitHub, the HTML representation is unable to render, please try loading this page with nbviewer.org.</b></div><div class=\"sk-container\" hidden><div class=\"sk-item\"><div class=\"sk-estimator sk-toggleable\"><input class=\"sk-toggleable__control sk-hidden--visually\" id=\"sk-estimator-id-7\" type=\"checkbox\" checked><label for=\"sk-estimator-id-7\" class=\"sk-toggleable__label sk-toggleable__label-arrow\">XGBRegressor</label><div class=\"sk-toggleable__content\"><pre>XGBRegressor(base_score=None, booster=None, callbacks=None,\n",
       "             colsample_bylevel=None, colsample_bynode=None,\n",
       "             colsample_bytree=None, device=None, early_stopping_rounds=None,\n",
       "             enable_categorical=False, eval_metric=None, feature_types=None,\n",
       "             gamma=None, grow_policy=None, importance_type=None,\n",
       "             interaction_constraints=None, learning_rate=None, max_bin=None,\n",
       "             max_cat_threshold=None, max_cat_to_onehot=None,\n",
       "             max_delta_step=None, max_depth=None, max_leaves=None,\n",
       "             min_child_weight=None, missing=nan, monotone_constraints=None,\n",
       "             multi_strategy=None, n_estimators=None, n_jobs=None,\n",
       "             num_parallel_tree=None, random_state=None, ...)</pre></div></div></div></div></div>"
      ],
      "text/plain": [
       "XGBRegressor(base_score=None, booster=None, callbacks=None,\n",
       "             colsample_bylevel=None, colsample_bynode=None,\n",
       "             colsample_bytree=None, device=None, early_stopping_rounds=None,\n",
       "             enable_categorical=False, eval_metric=None, feature_types=None,\n",
       "             gamma=None, grow_policy=None, importance_type=None,\n",
       "             interaction_constraints=None, learning_rate=None, max_bin=None,\n",
       "             max_cat_threshold=None, max_cat_to_onehot=None,\n",
       "             max_delta_step=None, max_depth=None, max_leaves=None,\n",
       "             min_child_weight=None, missing=nan, monotone_constraints=None,\n",
       "             multi_strategy=None, n_estimators=None, n_jobs=None,\n",
       "             num_parallel_tree=None, random_state=None, ...)"
      ]
     },
     "execution_count": 481,
     "metadata": {},
     "output_type": "execute_result"
    }
   ],
   "source": [
    "from xgboost import XGBRegressor\n",
    "\n",
    "xgb = XGBRegressor()\n",
    "\n",
    "xgb.fit(X_train, y_train)"
   ]
  },
  {
   "cell_type": "code",
   "execution_count": 482,
   "id": "c9057ff5-f807-418f-af46-9af6900489d2",
   "metadata": {},
   "outputs": [],
   "source": [
    "y_pred_val = xgb.predict(X_val)"
   ]
  },
  {
   "cell_type": "code",
   "execution_count": 492,
   "id": "1db0adf2-31e5-4776-a884-0687e2877fa5",
   "metadata": {},
   "outputs": [],
   "source": [
    "from sklearn.metrics import mean_absolute_error, mean_absolute_percentage_error, mean_squared_error \n",
    "\n",
    "def smape(y_pred, y_test):\n",
    "\n",
    "    smape = 100 / len(y_test) * np.sum(2 * np.abs(y_pred - y_test) / (np.abs(y_test) + np.abs(y_pred)))\n",
    "    return smape"
   ]
  },
  {
   "cell_type": "code",
   "execution_count": 493,
   "id": "bf9674e0-cbe8-4c63-a699-c4240fa09e63",
   "metadata": {},
   "outputs": [
    {
     "name": "stdout",
     "output_type": "stream",
     "text": [
      "MAE: 227.84776959550402\n",
      "MAPE: 0.14851793644862102\n",
      "RMSE: 422.44121956630505\n",
      "SMAPE: 14.918558898136187\n"
     ]
    }
   ],
   "source": [
    "print(f'MAE: {mean_absolute_error(y_pred_val, y_val)}')\n",
    "print(f'MAPE: {mean_absolute_percentage_error(y_pred_val, y_val)}')\n",
    "print(f'RMSE: {mean_squared_error(y_pred_val, y_val, squared=False)}')\n",
    "print(f'SMAPE: {smape(y_pred_val, y_val)}')\n"
   ]
  },
  {
   "cell_type": "markdown",
   "id": "2b9e2b39-77a6-438c-9a70-b71c9dd4af02",
   "metadata": {},
   "source": [
    "## Catboost"
   ]
  },
  {
   "cell_type": "code",
   "execution_count": 496,
   "id": "01b077f7-aa4f-4aee-8945-543a8377a8c0",
   "metadata": {
    "scrolled": true
   },
   "outputs": [],
   "source": [
    "from catboost import CatBoostRegressor\n",
    "\n",
    "cat = CatBoostRegressor(verbose=False)\n",
    "\n",
    "cat.fit(X_train, y_train)\n",
    "y_pred_cat = cat.predict(X_val)"
   ]
  },
  {
   "cell_type": "code",
   "execution_count": 497,
   "id": "e73428d5-81d8-4395-9baa-5faa33c1c0e2",
   "metadata": {},
   "outputs": [
    {
     "name": "stdout",
     "output_type": "stream",
     "text": [
      "MAE: 235.22158591815608\n",
      "MAPE: 0.15541197167166979\n",
      "RMSE: 415.59654603257866\n",
      "SMAPE: 15.663881468512363\n"
     ]
    }
   ],
   "source": [
    "print(f'MAE: {mean_absolute_error(y_pred_cat, y_val)}')\n",
    "print(f'MAPE: {mean_absolute_percentage_error(y_pred_cat, y_val)}')\n",
    "print(f'RMSE: {mean_squared_error(y_pred_cat, y_val, squared=False)}')\n",
    "print(f'SMAPE: {smape(y_pred_cat, y_val)}')"
   ]
  },
  {
   "cell_type": "code",
   "execution_count": 501,
   "id": "ed7f69ff-bb2a-4977-8f37-0f54f59735e0",
   "metadata": {},
   "outputs": [
    {
     "data": {
      "text/plain": [
       "average_rating                       float64\n",
       "number_of_reviews                      int64\n",
       "brand                                float64\n",
       "avg_delivery_time_days                 int64\n",
       "seller                               float64\n",
       "sub_category                         float64\n",
       "fabrication_time                       int64\n",
       "Sleeve                               float64\n",
       "Pack Of                              float64\n",
       "Brand Color                          float64\n",
       "Size                                 float64\n",
       "Fit                                  float64\n",
       "Pattern                              float64\n",
       "Ideal For                            float64\n",
       "Suitable For                         float64\n",
       "Fabric                               float64\n",
       "Type                                 float64\n",
       "product_details_count                  int64\n",
       "number_images                          int64\n",
       "category_Bags, Wallets & Belts          bool\n",
       "category_Clothing and Accessories       bool\n",
       "category_Footwear                       bool\n",
       "out_of_stock_False                      bool\n",
       "out_of_stock_True                       bool\n",
       "dtype: object"
      ]
     },
     "execution_count": 501,
     "metadata": {},
     "output_type": "execute_result"
    }
   ],
   "source": [
    "X_train.dtypes"
   ]
  },
  {
   "cell_type": "code",
   "execution_count": 511,
   "id": "8cab7f82-9ea9-4a35-b6b4-73f05c804992",
   "metadata": {},
   "outputs": [],
   "source": [
    "import inflection\n",
    "\n",
    "X_train.columns = X_train.columns.map(lambda x: inflection.parameterize(x, separator='_'))\n",
    "X_val.columns = X_val.columns.map(lambda x: inflection.parameterize(x, separator='_'))"
   ]
  },
  {
   "cell_type": "code",
   "execution_count": 506,
   "id": "b77ee194-35c2-4906-b241-405fa3c80dec",
   "metadata": {},
   "outputs": [
    {
     "data": {
      "text/plain": [
       "average_rating                       float64\n",
       "number_of_reviews                      int64\n",
       "brand                                float64\n",
       "avg_delivery_time_days                 int64\n",
       "seller                               float64\n",
       "sub_category                         float64\n",
       "fabrication_time                       int64\n",
       "sleeve                               float64\n",
       "pack_of                              float64\n",
       "brand_color                          float64\n",
       "size                                 float64\n",
       "fit                                  float64\n",
       "pattern                              float64\n",
       "ideal_for                            float64\n",
       "suitable_for                         float64\n",
       "fabric                               float64\n",
       "type                                 float64\n",
       "product_details_count                  int64\n",
       "number_images                          int64\n",
       "category_bags_wallets_belts             bool\n",
       "category_clothing_and_accessories       bool\n",
       "category_footwear                       bool\n",
       "out_of_stock_false                      bool\n",
       "out_of_stock_true                       bool\n",
       "dtype: object"
      ]
     },
     "execution_count": 506,
     "metadata": {},
     "output_type": "execute_result"
    }
   ],
   "source": [
    "X_train.dtypes"
   ]
  },
  {
   "cell_type": "markdown",
   "id": "8e0dd14d-f4ed-4d15-8ab4-b4d81fc6509d",
   "metadata": {},
   "source": [
    "## LightGBM"
   ]
  },
  {
   "cell_type": "code",
   "execution_count": 507,
   "id": "d42ed18a-d073-439b-91c0-e4f39ac732be",
   "metadata": {},
   "outputs": [
    {
     "name": "stdout",
     "output_type": "stream",
     "text": [
      "[LightGBM] [Info] Auto-choosing row-wise multi-threading, the overhead of testing was 0.000812 seconds.\n",
      "You can set `force_row_wise=true` to remove the overhead.\n",
      "And if memory is not enough, you can set `force_col_wise=true`.\n",
      "[LightGBM] [Info] Total Bins 1989\n",
      "[LightGBM] [Info] Number of data points in the train set: 15850, number of used features: 23\n",
      "[LightGBM] [Info] Start training from score 1475.283722\n"
     ]
    }
   ],
   "source": [
    "from lightgbm import LGBMRegressor\n",
    "\n",
    "lgb = LGBMRegressor()\n",
    "\n",
    "lgb.fit(X_train, y_train)\n",
    "\n",
    "y_pred_lgb = lgb.predict(X_val)"
   ]
  },
  {
   "cell_type": "code",
   "execution_count": 508,
   "id": "db34bdf2-5c31-4006-99b3-cf6838d2806f",
   "metadata": {},
   "outputs": [
    {
     "name": "stdout",
     "output_type": "stream",
     "text": [
      "MAE: 243.094390689756\n",
      "MAPE: 0.16170363686709188\n",
      "RMSE: 417.3586225303151\n",
      "SMAPE: 16.3082789877354\n"
     ]
    }
   ],
   "source": [
    "print(f'MAE: {mean_absolute_error(y_pred_lgb, y_val)}')\n",
    "print(f'MAPE: {mean_absolute_percentage_error(y_pred_lgb, y_val)}')\n",
    "print(f'RMSE: {mean_squared_error(y_pred_lgb, y_val, squared=False)}')\n",
    "print(f'SMAPE: {smape(y_pred_lgb, y_val)}')"
   ]
  },
  {
   "cell_type": "markdown",
   "id": "882fbe3f-0a75-40b6-8964-c5afccbff413",
   "metadata": {},
   "source": [
    "## Random Forest"
   ]
  },
  {
   "cell_type": "code",
   "execution_count": 512,
   "id": "4801bc39-dcc4-4202-ab14-87b87b75c341",
   "metadata": {},
   "outputs": [],
   "source": [
    "from sklearn.ensemble import RandomForestRegressor\n",
    "\n",
    "rf = RandomForestRegressor(n_jobs=-1)\n",
    "\n",
    "rf.fit(X_train, y_train)\n",
    "\n",
    "y_pred_rf = rf.predict(X_val)"
   ]
  },
  {
   "cell_type": "code",
   "execution_count": 513,
   "id": "871835b1-b68d-4186-a6d7-aa89dd8527e4",
   "metadata": {},
   "outputs": [
    {
     "name": "stdout",
     "output_type": "stream",
     "text": [
      "MAE: 188.18962288670198\n",
      "MAPE: 0.11658325436165247\n",
      "RMSE: 401.67278779894286\n",
      "SMAPE: 11.718766420454568\n"
     ]
    }
   ],
   "source": [
    "print(f'MAE: {mean_absolute_error(y_pred_rf, y_val)}')\n",
    "print(f'MAPE: {mean_absolute_percentage_error(y_pred_rf, y_val)}')\n",
    "print(f'RMSE: {mean_squared_error(y_pred_rf, y_val, squared=False)}')\n",
    "print(f'SMAPE: {smape(y_pred_rf, y_val)}')"
   ]
  },
  {
   "cell_type": "code",
   "execution_count": 542,
   "id": "79096276-0ab5-4f86-88eb-6a39f7dc421b",
   "metadata": {},
   "outputs": [
    {
     "data": {
      "text/plain": [
       "{'bootstrap': True,\n",
       " 'ccp_alpha': 0.0,\n",
       " 'criterion': 'squared_error',\n",
       " 'max_depth': None,\n",
       " 'max_features': 1.0,\n",
       " 'max_leaf_nodes': None,\n",
       " 'max_samples': None,\n",
       " 'min_impurity_decrease': 0.0,\n",
       " 'min_samples_leaf': 1,\n",
       " 'min_samples_split': 2,\n",
       " 'min_weight_fraction_leaf': 0.0,\n",
       " 'n_estimators': 100,\n",
       " 'n_jobs': -1,\n",
       " 'oob_score': False,\n",
       " 'random_state': None,\n",
       " 'verbose': 0,\n",
       " 'warm_start': False}"
      ]
     },
     "execution_count": 542,
     "metadata": {},
     "output_type": "execute_result"
    }
   ],
   "source": [
    "rf.get_params()"
   ]
  },
  {
   "cell_type": "markdown",
   "id": "223be484-bce5-41f0-b5d5-40e16870c00d",
   "metadata": {},
   "source": [
    "## Fine Tuning Optuna"
   ]
  },
  {
   "cell_type": "code",
   "execution_count": 537,
   "id": "6f1139b2-472e-40bd-859b-663389137d4e",
   "metadata": {},
   "outputs": [],
   "source": [
    "import optuna"
   ]
  },
  {
   "cell_type": "code",
   "execution_count": 551,
   "id": "160d4be9-a210-49a3-b705-c37e750e395b",
   "metadata": {},
   "outputs": [],
   "source": [
    "def objective(trial):\n",
    "    # Defina os parâmetros que você deseja otimizar\n",
    "    n_estimators = trial.suggest_int('n_estimators', 25, 500, 25)\n",
    "    max_depth = trial.suggest_int('max_depth', 2, 30)\n",
    "    min_samples_split = trial.suggest_int('min_samples_split', 2, 15)\n",
    "    min_samples_leaf = trial.suggest_int('min_samples_leaf', 1, 15)\n",
    "    max_features = trial.suggest_int('max_features', 1, 10)\n",
    "\n",
    "    # Crie o modelo Random Forest com os parâmetros otimizados\n",
    "    model = RandomForestRegressor(\n",
    "        n_estimators=n_estimators,\n",
    "        max_depth=max_depth,\n",
    "        min_samples_split=min_samples_split,\n",
    "        min_samples_leaf=min_samples_leaf,\n",
    "        max_features=max_features,\n",
    "        bootstrap=True,  # Mantenha os outros parâmetros inalterados\n",
    "        ccp_alpha=0.0,\n",
    "        criterion='squared_error',\n",
    "        max_leaf_nodes=None,\n",
    "        max_samples=None,\n",
    "        min_impurity_decrease=0.0,\n",
    "        min_weight_fraction_leaf=0.0,\n",
    "        n_jobs=-1,\n",
    "        oob_score=False,\n",
    "        random_state=None,\n",
    "        verbose=0,\n",
    "        warm_start=False\n",
    "    )\n",
    "    \n",
    "    model.fit(X_train, y_train)\n",
    "    \n",
    "    y_pred = model.predict(X_val)\n",
    "    \n",
    "    smape_error = smape(y_pred, y_val)\n",
    "    \n",
    "    return smape_error"
   ]
  },
  {
   "cell_type": "code",
   "execution_count": 552,
   "id": "5d01da43-767c-49e5-98ce-39c2f8ccdac6",
   "metadata": {},
   "outputs": [
    {
     "name": "stderr",
     "output_type": "stream",
     "text": [
      "[I 2023-10-21 16:16:30,819] A new study created in memory with name: no-name-ed143ce0-acef-485f-a7fe-77c4d6034054\n",
      "[I 2023-10-21 16:16:33,208] Trial 0 finished with value: 13.107374431426953 and parameters: {'n_estimators': 325, 'max_depth': 20, 'min_samples_split': 12, 'min_samples_leaf': 4, 'max_features': 9}. Best is trial 0 with value: 13.107374431426953.\n",
      "[I 2023-10-21 16:16:35,179] Trial 1 finished with value: 24.71294262809402 and parameters: {'n_estimators': 450, 'max_depth': 5, 'min_samples_split': 2, 'min_samples_leaf': 14, 'max_features': 3}. Best is trial 0 with value: 13.107374431426953.\n",
      "[I 2023-10-21 16:16:36,932] Trial 2 finished with value: 27.773021849486625 and parameters: {'n_estimators': 475, 'max_depth': 3, 'min_samples_split': 7, 'min_samples_leaf': 4, 'max_features': 4}. Best is trial 0 with value: 13.107374431426953.\n",
      "[I 2023-10-21 16:16:39,591] Trial 3 finished with value: 18.89937600615957 and parameters: {'n_estimators': 500, 'max_depth': 7, 'min_samples_split': 12, 'min_samples_leaf': 6, 'max_features': 10}. Best is trial 0 with value: 13.107374431426953.\n",
      "[I 2023-10-21 16:16:40,586] Trial 4 finished with value: 19.5004824192111 and parameters: {'n_estimators': 200, 'max_depth': 15, 'min_samples_split': 5, 'min_samples_leaf': 15, 'max_features': 2}. Best is trial 0 with value: 13.107374431426953.\n",
      "[I 2023-10-21 16:16:41,303] Trial 5 finished with value: 16.98850897423164 and parameters: {'n_estimators': 125, 'max_depth': 9, 'min_samples_split': 14, 'min_samples_leaf': 8, 'max_features': 9}. Best is trial 0 with value: 13.107374431426953.\n",
      "[I 2023-10-21 16:16:43,407] Trial 6 finished with value: 14.674335105344365 and parameters: {'n_estimators': 350, 'max_depth': 30, 'min_samples_split': 14, 'min_samples_leaf': 10, 'max_features': 7}. Best is trial 0 with value: 13.107374431426953.\n",
      "[I 2023-10-21 16:16:44,495] Trial 7 finished with value: 13.8732856082407 and parameters: {'n_estimators': 175, 'max_depth': 20, 'min_samples_split': 5, 'min_samples_leaf': 4, 'max_features': 5}. Best is trial 0 with value: 13.107374431426953.\n",
      "[I 2023-10-21 16:16:45,615] Trial 8 finished with value: 18.731417064019872 and parameters: {'n_estimators': 225, 'max_depth': 27, 'min_samples_split': 15, 'min_samples_leaf': 11, 'max_features': 2}. Best is trial 0 with value: 13.107374431426953.\n",
      "[I 2023-10-21 16:16:46,000] Trial 9 finished with value: 20.374165416813003 and parameters: {'n_estimators': 75, 'max_depth': 6, 'min_samples_split': 3, 'min_samples_leaf': 10, 'max_features': 8}. Best is trial 0 with value: 13.107374431426953.\n",
      "[I 2023-10-21 16:16:48,374] Trial 10 finished with value: 12.788331676676426 and parameters: {'n_estimators': 325, 'max_depth': 20, 'min_samples_split': 10, 'min_samples_leaf': 1, 'max_features': 7}. Best is trial 10 with value: 12.788331676676426.\n",
      "[I 2023-10-21 16:16:50,811] Trial 11 finished with value: 12.739291450317529 and parameters: {'n_estimators': 325, 'max_depth': 21, 'min_samples_split': 10, 'min_samples_leaf': 1, 'max_features': 7}. Best is trial 11 with value: 12.739291450317529.\n",
      "[I 2023-10-21 16:16:53,399] Trial 12 finished with value: 12.849499416140683 and parameters: {'n_estimators': 350, 'max_depth': 22, 'min_samples_split': 9, 'min_samples_leaf': 1, 'max_features': 6}. Best is trial 11 with value: 12.739291450317529.\n",
      "[I 2023-10-21 16:16:55,369] Trial 13 finished with value: 13.825237634855156 and parameters: {'n_estimators': 300, 'max_depth': 14, 'min_samples_split': 10, 'min_samples_leaf': 1, 'max_features': 7}. Best is trial 11 with value: 12.739291450317529.\n",
      "[I 2023-10-21 16:16:58,188] Trial 14 finished with value: 13.155731528865038 and parameters: {'n_estimators': 400, 'max_depth': 24, 'min_samples_split': 11, 'min_samples_leaf': 2, 'max_features': 6}. Best is trial 11 with value: 12.739291450317529.\n",
      "[I 2023-10-21 16:16:59,815] Trial 15 finished with value: 15.50468862910026 and parameters: {'n_estimators': 275, 'max_depth': 12, 'min_samples_split': 8, 'min_samples_leaf': 3, 'max_features': 5}. Best is trial 11 with value: 12.739291450317529.\n",
      "[I 2023-10-21 16:17:02,893] Trial 16 finished with value: 13.688348842177108 and parameters: {'n_estimators': 400, 'max_depth': 17, 'min_samples_split': 7, 'min_samples_leaf': 6, 'max_features': 8}. Best is trial 11 with value: 12.739291450317529.\n",
      "[I 2023-10-21 16:17:03,133] Trial 17 finished with value: 14.021901990212745 and parameters: {'n_estimators': 25, 'max_depth': 25, 'min_samples_split': 10, 'min_samples_leaf': 6, 'max_features': 7}. Best is trial 11 with value: 12.739291450317529.\n",
      "[I 2023-10-21 16:17:04,784] Trial 18 finished with value: 14.173557979914621 and parameters: {'n_estimators': 250, 'max_depth': 18, 'min_samples_split': 12, 'min_samples_leaf': 1, 'max_features': 4}. Best is trial 11 with value: 12.739291450317529.\n",
      "[I 2023-10-21 16:17:07,918] Trial 19 finished with value: 14.997605521515654 and parameters: {'n_estimators': 400, 'max_depth': 11, 'min_samples_split': 6, 'min_samples_leaf': 3, 'max_features': 10}. Best is trial 11 with value: 12.739291450317529.\n",
      "[I 2023-10-21 16:17:08,840] Trial 20 finished with value: 22.337879596453735 and parameters: {'n_estimators': 175, 'max_depth': 29, 'min_samples_split': 9, 'min_samples_leaf': 8, 'max_features': 1}. Best is trial 11 with value: 12.739291450317529.\n",
      "[I 2023-10-21 16:17:11,520] Trial 21 finished with value: 12.815584872239391 and parameters: {'n_estimators': 375, 'max_depth': 22, 'min_samples_split': 9, 'min_samples_leaf': 1, 'max_features': 6}. Best is trial 11 with value: 12.739291450317529.\n",
      "[I 2023-10-21 16:17:14,214] Trial 22 finished with value: 13.107284073645301 and parameters: {'n_estimators': 375, 'max_depth': 22, 'min_samples_split': 10, 'min_samples_leaf': 2, 'max_features': 6}. Best is trial 11 with value: 12.739291450317529.\n",
      "[I 2023-10-21 16:17:16,651] Trial 23 finished with value: 12.60266635042508 and parameters: {'n_estimators': 300, 'max_depth': 20, 'min_samples_split': 8, 'min_samples_leaf': 2, 'max_features': 8}. Best is trial 23 with value: 12.60266635042508.\n",
      "[I 2023-10-21 16:17:19,046] Trial 24 finished with value: 12.865494094464314 and parameters: {'n_estimators': 300, 'max_depth': 19, 'min_samples_split': 8, 'min_samples_leaf': 3, 'max_features': 8}. Best is trial 23 with value: 12.60266635042508.\n",
      "[I 2023-10-21 16:17:20,963] Trial 25 finished with value: 13.448095388324308 and parameters: {'n_estimators': 250, 'max_depth': 16, 'min_samples_split': 11, 'min_samples_leaf': 5, 'max_features': 9}. Best is trial 23 with value: 12.60266635042508.\n",
      "[I 2023-10-21 16:17:23,630] Trial 26 finished with value: 12.649203214496692 and parameters: {'n_estimators': 325, 'max_depth': 25, 'min_samples_split': 7, 'min_samples_leaf': 2, 'max_features': 7}. Best is trial 23 with value: 12.60266635042508.\n",
      "[I 2023-10-21 16:17:25,981] Trial 27 finished with value: 12.32853423538423 and parameters: {'n_estimators': 275, 'max_depth': 26, 'min_samples_split': 5, 'min_samples_leaf': 2, 'max_features': 8}. Best is trial 27 with value: 12.32853423538423.\n",
      "[I 2023-10-21 16:17:28,110] Trial 28 finished with value: 13.337122996529521 and parameters: {'n_estimators': 275, 'max_depth': 26, 'min_samples_split': 4, 'min_samples_leaf': 5, 'max_features': 8}. Best is trial 27 with value: 12.32853423538423.\n",
      "[I 2023-10-21 16:17:30,130] Trial 29 finished with value: 12.557704413606652 and parameters: {'n_estimators': 225, 'max_depth': 27, 'min_samples_split': 6, 'min_samples_leaf': 3, 'max_features': 9}. Best is trial 27 with value: 12.32853423538423.\n",
      "[I 2023-10-21 16:17:31,204] Trial 30 finished with value: 13.627016809574949 and parameters: {'n_estimators': 125, 'max_depth': 28, 'min_samples_split': 5, 'min_samples_leaf': 7, 'max_features': 10}. Best is trial 27 with value: 12.32853423538423.\n",
      "[I 2023-10-21 16:17:33,433] Trial 31 finished with value: 12.645555097375231 and parameters: {'n_estimators': 225, 'max_depth': 24, 'min_samples_split': 7, 'min_samples_leaf': 3, 'max_features': 9}. Best is trial 27 with value: 12.32853423538423.\n",
      "[I 2023-10-21 16:17:35,401] Trial 32 finished with value: 12.55468835675485 and parameters: {'n_estimators': 225, 'max_depth': 24, 'min_samples_split': 6, 'min_samples_leaf': 3, 'max_features': 9}. Best is trial 27 with value: 12.32853423538423.\n",
      "[I 2023-10-21 16:17:36,954] Trial 33 finished with value: 13.252832457963818 and parameters: {'n_estimators': 175, 'max_depth': 27, 'min_samples_split': 2, 'min_samples_leaf': 5, 'max_features': 9}. Best is trial 27 with value: 12.32853423538423.\n",
      "[I 2023-10-21 16:17:39,060] Trial 34 finished with value: 12.931851081698596 and parameters: {'n_estimators': 225, 'max_depth': 23, 'min_samples_split': 6, 'min_samples_leaf': 4, 'max_features': 9}. Best is trial 27 with value: 12.32853423538423.\n",
      "[I 2023-10-21 16:17:40,460] Trial 35 finished with value: 12.772273935321142 and parameters: {'n_estimators': 150, 'max_depth': 30, 'min_samples_split': 6, 'min_samples_leaf': 4, 'max_features': 10}. Best is trial 27 with value: 12.32853423538423.\n",
      "[I 2023-10-21 16:17:42,180] Trial 36 finished with value: 12.348657237670045 and parameters: {'n_estimators': 200, 'max_depth': 27, 'min_samples_split': 4, 'min_samples_leaf': 2, 'max_features': 8}. Best is trial 27 with value: 12.32853423538423.\n",
      "[I 2023-10-21 16:17:43,704] Trial 37 finished with value: 14.48959735791261 and parameters: {'n_estimators': 200, 'max_depth': 28, 'min_samples_split': 4, 'min_samples_leaf': 12, 'max_features': 10}. Best is trial 27 with value: 12.32853423538423.\n",
      "[I 2023-10-21 16:17:44,810] Trial 38 finished with value: 12.66216980221886 and parameters: {'n_estimators': 125, 'max_depth': 26, 'min_samples_split': 4, 'min_samples_leaf': 3, 'max_features': 8}. Best is trial 27 with value: 12.32853423538423.\n",
      "[I 2023-10-21 16:17:46,353] Trial 39 finished with value: 13.709858418690292 and parameters: {'n_estimators': 200, 'max_depth': 30, 'min_samples_split': 3, 'min_samples_leaf': 7, 'max_features': 9}. Best is trial 27 with value: 12.32853423538423.\n",
      "[I 2023-10-21 16:17:47,223] Trial 40 finished with value: 13.063328595140876 and parameters: {'n_estimators': 100, 'max_depth': 28, 'min_samples_split': 3, 'min_samples_leaf': 4, 'max_features': 8}. Best is trial 27 with value: 12.32853423538423.\n",
      "[I 2023-10-21 16:17:49,654] Trial 41 finished with value: 12.38826360841842 and parameters: {'n_estimators': 250, 'max_depth': 24, 'min_samples_split': 5, 'min_samples_leaf': 2, 'max_features': 8}. Best is trial 27 with value: 12.32853423538423.\n",
      "[I 2023-10-21 16:17:50,650] Trial 42 finished with value: 28.218845025430518 and parameters: {'n_estimators': 250, 'max_depth': 2, 'min_samples_split': 5, 'min_samples_leaf': 2, 'max_features': 9}. Best is trial 27 with value: 12.32853423538423.\n",
      "[I 2023-10-21 16:17:52,684] Trial 43 finished with value: 12.272738790514083 and parameters: {'n_estimators': 200, 'max_depth': 24, 'min_samples_split': 5, 'min_samples_leaf': 2, 'max_features': 9}. Best is trial 43 with value: 12.272738790514083.\n",
      "[I 2023-10-21 16:17:54,640] Trial 44 finished with value: 12.201465817744229 and parameters: {'n_estimators': 200, 'max_depth': 24, 'min_samples_split': 5, 'min_samples_leaf': 2, 'max_features': 10}. Best is trial 44 with value: 12.201465817744229.\n",
      "[I 2023-10-21 16:17:55,825] Trial 45 finished with value: 14.655084731598839 and parameters: {'n_estimators': 150, 'max_depth': 23, 'min_samples_split': 4, 'min_samples_leaf': 13, 'max_features': 10}. Best is trial 44 with value: 12.201465817744229.\n",
      "[I 2023-10-21 16:17:58,130] Trial 46 finished with value: 12.146479406759461 and parameters: {'n_estimators': 200, 'max_depth': 26, 'min_samples_split': 2, 'min_samples_leaf': 2, 'max_features': 10}. Best is trial 46 with value: 12.146479406759461.\n",
      "[I 2023-10-21 16:18:00,125] Trial 47 finished with value: 12.129343517607024 and parameters: {'n_estimators': 150, 'max_depth': 26, 'min_samples_split': 2, 'min_samples_leaf': 2, 'max_features': 10}. Best is trial 47 with value: 12.129343517607024.\n",
      "[I 2023-10-21 16:18:01,139] Trial 48 finished with value: 11.863570948423645 and parameters: {'n_estimators': 75, 'max_depth': 26, 'min_samples_split': 2, 'min_samples_leaf': 1, 'max_features': 10}. Best is trial 48 with value: 11.863570948423645.\n",
      "[I 2023-10-21 16:18:01,830] Trial 49 finished with value: 12.057621100700205 and parameters: {'n_estimators': 50, 'max_depth': 25, 'min_samples_split': 2, 'min_samples_leaf': 1, 'max_features': 10}. Best is trial 48 with value: 11.863570948423645.\n",
      "[I 2023-10-21 16:18:02,544] Trial 50 finished with value: 12.093318381888267 and parameters: {'n_estimators': 50, 'max_depth': 21, 'min_samples_split': 2, 'min_samples_leaf': 1, 'max_features': 10}. Best is trial 48 with value: 11.863570948423645.\n",
      "[I 2023-10-21 16:18:02,921] Trial 51 finished with value: 12.246951131785352 and parameters: {'n_estimators': 25, 'max_depth': 21, 'min_samples_split': 2, 'min_samples_leaf': 1, 'max_features': 10}. Best is trial 48 with value: 11.863570948423645.\n",
      "[I 2023-10-21 16:18:03,611] Trial 52 finished with value: 12.03286106375892 and parameters: {'n_estimators': 50, 'max_depth': 25, 'min_samples_split': 2, 'min_samples_leaf': 1, 'max_features': 10}. Best is trial 48 with value: 11.863570948423645.\n",
      "[I 2023-10-21 16:18:04,338] Trial 53 finished with value: 12.012542112435996 and parameters: {'n_estimators': 50, 'max_depth': 25, 'min_samples_split': 2, 'min_samples_leaf': 1, 'max_features': 10}. Best is trial 48 with value: 11.863570948423645.\n",
      "[I 2023-10-21 16:18:04,958] Trial 54 finished with value: 12.098714953613932 and parameters: {'n_estimators': 50, 'max_depth': 22, 'min_samples_split': 3, 'min_samples_leaf': 1, 'max_features': 10}. Best is trial 48 with value: 11.863570948423645.\n",
      "[I 2023-10-21 16:18:05,582] Trial 55 finished with value: 12.049182682641423 and parameters: {'n_estimators': 50, 'max_depth': 21, 'min_samples_split': 3, 'min_samples_leaf': 1, 'max_features': 10}. Best is trial 48 with value: 11.863570948423645.\n",
      "[I 2023-10-21 16:18:06,171] Trial 56 finished with value: 17.74413141043134 and parameters: {'n_estimators': 75, 'max_depth': 19, 'min_samples_split': 3, 'min_samples_leaf': 15, 'max_features': 3}. Best is trial 48 with value: 11.863570948423645.\n",
      "[I 2023-10-21 16:18:06,889] Trial 57 finished with value: 12.094597198976176 and parameters: {'n_estimators': 50, 'max_depth': 21, 'min_samples_split': 2, 'min_samples_leaf': 1, 'max_features': 10}. Best is trial 48 with value: 11.863570948423645.\n",
      "[I 2023-10-21 16:18:07,593] Trial 58 finished with value: 13.227114139546826 and parameters: {'n_estimators': 75, 'max_depth': 14, 'min_samples_split': 3, 'min_samples_leaf': 1, 'max_features': 10}. Best is trial 48 with value: 11.863570948423645.\n",
      "[I 2023-10-21 16:18:08,132] Trial 59 finished with value: 12.296394328377914 and parameters: {'n_estimators': 50, 'max_depth': 18, 'min_samples_split': 2, 'min_samples_leaf': 1, 'max_features': 9}. Best is trial 48 with value: 11.863570948423645.\n",
      "[I 2023-10-21 16:18:09,273] Trial 60 finished with value: 11.918331014169357 and parameters: {'n_estimators': 100, 'max_depth': 23, 'min_samples_split': 2, 'min_samples_leaf': 1, 'max_features': 10}. Best is trial 48 with value: 11.863570948423645.\n",
      "[I 2023-10-21 16:18:10,464] Trial 61 finished with value: 11.922110378519415 and parameters: {'n_estimators': 100, 'max_depth': 23, 'min_samples_split': 2, 'min_samples_leaf': 1, 'max_features': 10}. Best is trial 48 with value: 11.863570948423645.\n",
      "[I 2023-10-21 16:18:11,598] Trial 62 finished with value: 11.949627191943886 and parameters: {'n_estimators': 100, 'max_depth': 23, 'min_samples_split': 3, 'min_samples_leaf': 1, 'max_features': 10}. Best is trial 48 with value: 11.863570948423645.\n",
      "[I 2023-10-21 16:18:12,392] Trial 63 finished with value: 14.32045036514781 and parameters: {'n_estimators': 100, 'max_depth': 25, 'min_samples_split': 3, 'min_samples_leaf': 10, 'max_features': 9}. Best is trial 48 with value: 11.863570948423645.\n",
      "[I 2023-10-21 16:18:13,204] Trial 64 finished with value: 14.009554771498669 and parameters: {'n_estimators': 100, 'max_depth': 23, 'min_samples_split': 3, 'min_samples_leaf': 9, 'max_features': 10}. Best is trial 48 with value: 11.863570948423645.\n",
      "[I 2023-10-21 16:18:13,555] Trial 65 finished with value: 12.406786809951369 and parameters: {'n_estimators': 25, 'max_depth': 20, 'min_samples_split': 3, 'min_samples_leaf': 1, 'max_features': 9}. Best is trial 48 with value: 11.863570948423645.\n",
      "[I 2023-10-21 16:18:14,401] Trial 66 finished with value: 12.001994213022112 and parameters: {'n_estimators': 75, 'max_depth': 23, 'min_samples_split': 2, 'min_samples_leaf': 1, 'max_features': 10}. Best is trial 48 with value: 11.863570948423645.\n",
      "[I 2023-10-21 16:18:15,159] Trial 67 finished with value: 12.625857633869877 and parameters: {'n_estimators': 75, 'max_depth': 23, 'min_samples_split': 2, 'min_samples_leaf': 3, 'max_features': 10}. Best is trial 48 with value: 11.863570948423645.\n",
      "[I 2023-10-21 16:18:16,081] Trial 68 finished with value: 12.665509478575554 and parameters: {'n_estimators': 100, 'max_depth': 29, 'min_samples_split': 2, 'min_samples_leaf': 3, 'max_features': 9}. Best is trial 48 with value: 11.863570948423645.\n",
      "[I 2023-10-21 16:18:16,899] Trial 69 finished with value: 12.043221302334182 and parameters: {'n_estimators': 75, 'max_depth': 22, 'min_samples_split': 4, 'min_samples_leaf': 1, 'max_features': 10}. Best is trial 48 with value: 11.863570948423645.\n",
      "[I 2023-10-21 16:18:17,879] Trial 70 finished with value: 13.273527334971986 and parameters: {'n_estimators': 125, 'max_depth': 19, 'min_samples_split': 2, 'min_samples_leaf': 2, 'max_features': 5}. Best is trial 48 with value: 11.863570948423645.\n",
      "[I 2023-10-21 16:18:18,663] Trial 71 finished with value: 12.094543886646552 and parameters: {'n_estimators': 75, 'max_depth': 22, 'min_samples_split': 4, 'min_samples_leaf': 1, 'max_features': 10}. Best is trial 48 with value: 11.863570948423645.\n",
      "[I 2023-10-21 16:18:18,999] Trial 72 finished with value: 12.17910395371833 and parameters: {'n_estimators': 25, 'max_depth': 23, 'min_samples_split': 3, 'min_samples_leaf': 1, 'max_features': 9}. Best is trial 48 with value: 11.863570948423645.\n",
      "[I 2023-10-21 16:18:20,021] Trial 73 finished with value: 12.153095990265982 and parameters: {'n_estimators': 100, 'max_depth': 25, 'min_samples_split': 2, 'min_samples_leaf': 2, 'max_features': 10}. Best is trial 48 with value: 11.863570948423645.\n",
      "[I 2023-10-21 16:18:24,435] Trial 74 finished with value: 12.663088802022116 and parameters: {'n_estimators': 500, 'max_depth': 25, 'min_samples_split': 15, 'min_samples_leaf': 1, 'max_features': 10}. Best is trial 48 with value: 11.863570948423645.\n",
      "[I 2023-10-21 16:18:25,208] Trial 75 finished with value: 12.404079542744235 and parameters: {'n_estimators': 75, 'max_depth': 23, 'min_samples_split': 4, 'min_samples_leaf': 2, 'max_features': 9}. Best is trial 48 with value: 11.863570948423645.\n",
      "[I 2023-10-21 16:18:25,934] Trial 76 finished with value: 18.940892004748523 and parameters: {'n_estimators': 125, 'max_depth': 7, 'min_samples_split': 2, 'min_samples_leaf': 1, 'max_features': 10}. Best is trial 48 with value: 11.863570948423645.\n",
      "[I 2023-10-21 16:18:26,692] Trial 77 finished with value: 12.632898781520002 and parameters: {'n_estimators': 75, 'max_depth': 27, 'min_samples_split': 3, 'min_samples_leaf': 3, 'max_features': 9}. Best is trial 48 with value: 11.863570948423645.\n",
      "[I 2023-10-21 16:18:27,709] Trial 78 finished with value: 12.16752162555116 and parameters: {'n_estimators': 100, 'max_depth': 22, 'min_samples_split': 4, 'min_samples_leaf': 2, 'max_features': 10}. Best is trial 48 with value: 11.863570948423645.\n",
      "[I 2023-10-21 16:18:27,934] Trial 79 finished with value: 17.075228794473365 and parameters: {'n_estimators': 25, 'max_depth': 24, 'min_samples_split': 3, 'min_samples_leaf': 3, 'max_features': 2}. Best is trial 48 with value: 11.863570948423645.\n",
      "[I 2023-10-21 16:18:29,267] Trial 80 finished with value: 11.963295583933398 and parameters: {'n_estimators': 125, 'max_depth': 26, 'min_samples_split': 2, 'min_samples_leaf': 1, 'max_features': 9}. Best is trial 48 with value: 11.863570948423645.\n",
      "[I 2023-10-21 16:18:30,806] Trial 81 finished with value: 11.846343693140456 and parameters: {'n_estimators': 125, 'max_depth': 26, 'min_samples_split': 2, 'min_samples_leaf': 1, 'max_features': 10}. Best is trial 81 with value: 11.846343693140456.\n",
      "[I 2023-10-21 16:18:32,491] Trial 82 finished with value: 11.866315793897517 and parameters: {'n_estimators': 150, 'max_depth': 29, 'min_samples_split': 2, 'min_samples_leaf': 1, 'max_features': 10}. Best is trial 81 with value: 11.846343693140456.\n",
      "[I 2023-10-21 16:18:33,677] Trial 83 finished with value: 12.239189226987369 and parameters: {'n_estimators': 125, 'max_depth': 29, 'min_samples_split': 2, 'min_samples_leaf': 2, 'max_features': 9}. Best is trial 81 with value: 11.846343693140456.\n",
      "[I 2023-10-21 16:18:35,332] Trial 84 finished with value: 11.81570580993289 and parameters: {'n_estimators': 150, 'max_depth': 28, 'min_samples_split': 2, 'min_samples_leaf': 1, 'max_features': 10}. Best is trial 84 with value: 11.81570580993289.\n",
      "[I 2023-10-21 16:18:36,221] Trial 85 finished with value: 18.22155932580055 and parameters: {'n_estimators': 150, 'max_depth': 29, 'min_samples_split': 3, 'min_samples_leaf': 2, 'max_features': 1}. Best is trial 84 with value: 11.81570580993289.\n",
      "[I 2023-10-21 16:18:37,918] Trial 86 finished with value: 12.14298209156273 and parameters: {'n_estimators': 175, 'max_depth': 28, 'min_samples_split': 2, 'min_samples_leaf': 2, 'max_features': 10}. Best is trial 84 with value: 11.81570580993289.\n",
      "[I 2023-10-21 16:18:39,018] Trial 87 finished with value: 12.604033496706858 and parameters: {'n_estimators': 125, 'max_depth': 27, 'min_samples_split': 13, 'min_samples_leaf': 1, 'max_features': 9}. Best is trial 84 with value: 11.81570580993289.\n",
      "[I 2023-10-21 16:18:41,062] Trial 88 finished with value: 11.872352145563719 and parameters: {'n_estimators': 175, 'max_depth': 28, 'min_samples_split': 2, 'min_samples_leaf': 1, 'max_features': 10}. Best is trial 84 with value: 11.81570580993289.\n",
      "[I 2023-10-21 16:18:42,217] Trial 89 finished with value: 14.823388441091133 and parameters: {'n_estimators': 150, 'max_depth': 28, 'min_samples_split': 3, 'min_samples_leaf': 14, 'max_features': 10}. Best is trial 84 with value: 11.81570580993289.\n",
      "[I 2023-10-21 16:18:43,679] Trial 90 finished with value: 12.910046887249228 and parameters: {'n_estimators': 175, 'max_depth': 30, 'min_samples_split': 2, 'min_samples_leaf': 4, 'max_features': 9}. Best is trial 84 with value: 11.81570580993289.\n",
      "[I 2023-10-21 16:18:45,300] Trial 91 finished with value: 11.861336460824324 and parameters: {'n_estimators': 150, 'max_depth': 29, 'min_samples_split': 2, 'min_samples_leaf': 1, 'max_features': 10}. Best is trial 84 with value: 11.81570580993289.\n",
      "[I 2023-10-21 16:18:46,878] Trial 92 finished with value: 12.168649710380398 and parameters: {'n_estimators': 150, 'max_depth': 29, 'min_samples_split': 2, 'min_samples_leaf': 2, 'max_features': 10}. Best is trial 84 with value: 11.81570580993289.\n",
      "[I 2023-10-21 16:18:48,208] Trial 93 finished with value: 13.036378784304368 and parameters: {'n_estimators': 175, 'max_depth': 26, 'min_samples_split': 3, 'min_samples_leaf': 1, 'max_features': 4}. Best is trial 84 with value: 11.81570580993289.\n",
      "[I 2023-10-21 16:18:49,748] Trial 94 finished with value: 12.15220246536887 and parameters: {'n_estimators': 150, 'max_depth': 30, 'min_samples_split': 2, 'min_samples_leaf': 2, 'max_features': 10}. Best is trial 84 with value: 11.81570580993289.\n",
      "[I 2023-10-21 16:18:51,095] Trial 95 finished with value: 11.954938549509308 and parameters: {'n_estimators': 125, 'max_depth': 28, 'min_samples_split': 2, 'min_samples_leaf': 1, 'max_features': 9}. Best is trial 84 with value: 11.81570580993289.\n",
      "[I 2023-10-21 16:18:52,225] Trial 96 finished with value: 11.889022507785816 and parameters: {'n_estimators': 100, 'max_depth': 27, 'min_samples_split': 3, 'min_samples_leaf': 1, 'max_features': 10}. Best is trial 84 with value: 11.81570580993289.\n",
      "[I 2023-10-21 16:18:53,271] Trial 97 finished with value: 12.210157714101314 and parameters: {'n_estimators': 100, 'max_depth': 27, 'min_samples_split': 3, 'min_samples_leaf': 2, 'max_features': 10}. Best is trial 84 with value: 11.81570580993289.\n",
      "[I 2023-10-21 16:18:54,650] Trial 98 finished with value: 11.937729761848589 and parameters: {'n_estimators': 125, 'max_depth': 28, 'min_samples_split': 3, 'min_samples_leaf': 1, 'max_features': 10}. Best is trial 84 with value: 11.81570580993289.\n",
      "[I 2023-10-21 16:18:56,115] Trial 99 finished with value: 12.435496742343359 and parameters: {'n_estimators': 150, 'max_depth': 29, 'min_samples_split': 3, 'min_samples_leaf': 3, 'max_features': 10}. Best is trial 84 with value: 11.81570580993289.\n",
      "[I 2023-10-21 16:18:57,896] Trial 100 finished with value: 12.15101716150081 and parameters: {'n_estimators': 175, 'max_depth': 28, 'min_samples_split': 2, 'min_samples_leaf': 2, 'max_features': 10}. Best is trial 84 with value: 11.81570580993289.\n",
      "[I 2023-10-21 16:18:59,059] Trial 101 finished with value: 11.942946706903351 and parameters: {'n_estimators': 100, 'max_depth': 29, 'min_samples_split': 3, 'min_samples_leaf': 1, 'max_features': 10}. Best is trial 84 with value: 11.81570580993289.\n",
      "[I 2023-10-21 16:19:00,445] Trial 102 finished with value: 11.920843009932373 and parameters: {'n_estimators': 125, 'max_depth': 30, 'min_samples_split': 3, 'min_samples_leaf': 1, 'max_features': 10}. Best is trial 84 with value: 11.81570580993289.\n",
      "[I 2023-10-21 16:19:01,455] Trial 103 finished with value: 13.615797565050888 and parameters: {'n_estimators': 125, 'max_depth': 30, 'min_samples_split': 2, 'min_samples_leaf': 1, 'max_features': 3}. Best is trial 84 with value: 11.81570580993289.\n",
      "[I 2023-10-21 16:19:03,151] Trial 104 finished with value: 11.892320612320834 and parameters: {'n_estimators': 150, 'max_depth': 27, 'min_samples_split': 4, 'min_samples_leaf': 1, 'max_features': 10}. Best is trial 84 with value: 11.81570580993289.\n",
      "[I 2023-10-21 16:19:04,784] Trial 105 finished with value: 11.999661902784062 and parameters: {'n_estimators': 150, 'max_depth': 27, 'min_samples_split': 4, 'min_samples_leaf': 1, 'max_features': 10}. Best is trial 84 with value: 11.81570580993289.\n",
      "[I 2023-10-21 16:19:06,626] Trial 106 finished with value: 12.127534030991988 and parameters: {'n_estimators': 175, 'max_depth': 30, 'min_samples_split': 2, 'min_samples_leaf': 2, 'max_features': 10}. Best is trial 84 with value: 11.81570580993289.\n",
      "[I 2023-10-21 16:19:07,713] Trial 107 finished with value: 12.141031725540723 and parameters: {'n_estimators': 100, 'max_depth': 26, 'min_samples_split': 3, 'min_samples_leaf': 2, 'max_features': 10}. Best is trial 84 with value: 11.81570580993289.\n",
      "[I 2023-10-21 16:19:09,379] Trial 108 finished with value: 11.982515251387406 and parameters: {'n_estimators': 150, 'max_depth': 27, 'min_samples_split': 2, 'min_samples_leaf': 1, 'max_features': 9}. Best is trial 84 with value: 11.81570580993289.\n",
      "[I 2023-10-21 16:19:10,705] Trial 109 finished with value: 12.381008463784804 and parameters: {'n_estimators': 125, 'max_depth': 29, 'min_samples_split': 11, 'min_samples_leaf': 1, 'max_features': 10}. Best is trial 84 with value: 11.81570580993289.\n",
      "[I 2023-10-21 16:19:12,477] Trial 110 finished with value: 12.096881893998601 and parameters: {'n_estimators': 175, 'max_depth': 28, 'min_samples_split': 4, 'min_samples_leaf': 2, 'max_features': 10}. Best is trial 84 with value: 11.81570580993289.\n",
      "[I 2023-10-21 16:19:13,892] Trial 111 finished with value: 11.953565460599334 and parameters: {'n_estimators': 125, 'max_depth': 28, 'min_samples_split': 3, 'min_samples_leaf': 1, 'max_features': 10}. Best is trial 84 with value: 11.81570580993289.\n",
      "[I 2023-10-21 16:19:15,265] Trial 112 finished with value: 11.929608028052828 and parameters: {'n_estimators': 125, 'max_depth': 27, 'min_samples_split': 2, 'min_samples_leaf': 1, 'max_features': 10}. Best is trial 84 with value: 11.81570580993289.\n",
      "[I 2023-10-21 16:19:16,448] Trial 113 finished with value: 11.802063364768486 and parameters: {'n_estimators': 100, 'max_depth': 27, 'min_samples_split': 2, 'min_samples_leaf': 1, 'max_features': 10}. Best is trial 113 with value: 11.802063364768486.\n",
      "[I 2023-10-21 16:19:17,607] Trial 114 finished with value: 11.915543139794353 and parameters: {'n_estimators': 100, 'max_depth': 26, 'min_samples_split': 2, 'min_samples_leaf': 1, 'max_features': 10}. Best is trial 113 with value: 11.802063364768486.\n",
      "[I 2023-10-21 16:19:18,805] Trial 115 finished with value: 13.756223522792574 and parameters: {'n_estimators': 150, 'max_depth': 26, 'min_samples_split': 2, 'min_samples_leaf': 7, 'max_features': 9}. Best is trial 113 with value: 11.802063364768486.\n",
      "[I 2023-10-21 16:19:19,878] Trial 116 finished with value: 11.942366542303004 and parameters: {'n_estimators': 100, 'max_depth': 27, 'min_samples_split': 3, 'min_samples_leaf': 1, 'max_features': 10}. Best is trial 113 with value: 11.802063364768486.\n",
      "[I 2023-10-21 16:19:20,673] Trial 117 finished with value: 12.20353273211031 and parameters: {'n_estimators': 75, 'max_depth': 30, 'min_samples_split': 2, 'min_samples_leaf': 2, 'max_features': 10}. Best is trial 113 with value: 11.802063364768486.\n",
      "[I 2023-10-21 16:19:21,517] Trial 118 finished with value: 12.657173615594827 and parameters: {'n_estimators': 100, 'max_depth': 26, 'min_samples_split': 2, 'min_samples_leaf': 1, 'max_features': 5}. Best is trial 113 with value: 11.802063364768486.\n",
      "[I 2023-10-21 16:19:23,146] Trial 119 finished with value: 11.913995928614773 and parameters: {'n_estimators': 150, 'max_depth': 29, 'min_samples_split': 3, 'min_samples_leaf': 1, 'max_features': 10}. Best is trial 113 with value: 11.802063364768486.\n",
      "[I 2023-10-21 16:19:24,570] Trial 120 finished with value: 12.22256851612331 and parameters: {'n_estimators': 150, 'max_depth': 29, 'min_samples_split': 2, 'min_samples_leaf': 2, 'max_features': 9}. Best is trial 113 with value: 11.802063364768486.\n",
      "[I 2023-10-21 16:19:25,935] Trial 121 finished with value: 11.89089549023578 and parameters: {'n_estimators': 125, 'max_depth': 28, 'min_samples_split': 3, 'min_samples_leaf': 1, 'max_features': 10}. Best is trial 113 with value: 11.802063364768486.\n",
      "[I 2023-10-21 16:19:27,865] Trial 122 finished with value: 11.910225655548723 and parameters: {'n_estimators': 175, 'max_depth': 27, 'min_samples_split': 3, 'min_samples_leaf': 1, 'max_features': 10}. Best is trial 113 with value: 11.802063364768486.\n",
      "[I 2023-10-21 16:19:29,920] Trial 123 finished with value: 11.897208553643184 and parameters: {'n_estimators': 200, 'max_depth': 28, 'min_samples_split': 4, 'min_samples_leaf': 1, 'max_features': 10}. Best is trial 113 with value: 11.802063364768486.\n",
      "[I 2023-10-21 16:19:31,738] Trial 124 finished with value: 11.953357460533644 and parameters: {'n_estimators': 175, 'max_depth': 28, 'min_samples_split': 4, 'min_samples_leaf': 1, 'max_features': 10}. Best is trial 113 with value: 11.802063364768486.\n",
      "[I 2023-10-21 16:19:33,151] Trial 125 finished with value: 14.929274752721662 and parameters: {'n_estimators': 200, 'max_depth': 11, 'min_samples_split': 4, 'min_samples_leaf': 2, 'max_features': 10}. Best is trial 113 with value: 11.802063364768486.\n",
      "[I 2023-10-21 16:19:35,129] Trial 126 finished with value: 14.000771436004454 and parameters: {'n_estimators': 225, 'max_depth': 29, 'min_samples_split': 4, 'min_samples_leaf': 9, 'max_features': 10}. Best is trial 113 with value: 11.802063364768486.\n",
      "[I 2023-10-21 16:19:37,145] Trial 127 finished with value: 12.205853956292017 and parameters: {'n_estimators': 200, 'max_depth': 27, 'min_samples_split': 3, 'min_samples_leaf': 2, 'max_features': 9}. Best is trial 113 with value: 11.802063364768486.\n",
      "[I 2023-10-21 16:19:38,592] Trial 128 finished with value: 14.389185164394709 and parameters: {'n_estimators': 175, 'max_depth': 28, 'min_samples_split': 5, 'min_samples_leaf': 11, 'max_features': 10}. Best is trial 113 with value: 11.802063364768486.\n",
      "[I 2023-10-21 16:19:40,466] Trial 129 finished with value: 11.898356310544298 and parameters: {'n_estimators': 175, 'max_depth': 29, 'min_samples_split': 3, 'min_samples_leaf': 1, 'max_features': 10}. Best is trial 113 with value: 11.802063364768486.\n",
      "[I 2023-10-21 16:19:42,302] Trial 130 finished with value: 11.94152171807794 and parameters: {'n_estimators': 175, 'max_depth': 28, 'min_samples_split': 3, 'min_samples_leaf': 1, 'max_features': 9}. Best is trial 113 with value: 11.802063364768486.\n",
      "[I 2023-10-21 16:19:43,955] Trial 131 finished with value: 11.911823679231683 and parameters: {'n_estimators': 150, 'max_depth': 29, 'min_samples_split': 3, 'min_samples_leaf': 1, 'max_features': 10}. Best is trial 113 with value: 11.802063364768486.\n",
      "[I 2023-10-21 16:19:46,032] Trial 132 finished with value: 11.899563752188403 and parameters: {'n_estimators': 200, 'max_depth': 27, 'min_samples_split': 4, 'min_samples_leaf': 1, 'max_features': 10}. Best is trial 113 with value: 11.802063364768486.\n",
      "[I 2023-10-21 16:19:48,079] Trial 133 finished with value: 11.888877936330653 and parameters: {'n_estimators': 200, 'max_depth': 27, 'min_samples_split': 4, 'min_samples_leaf': 1, 'max_features': 10}. Best is trial 113 with value: 11.802063364768486.\n",
      "[I 2023-10-21 16:19:50,098] Trial 134 finished with value: 12.114190183372497 and parameters: {'n_estimators': 200, 'max_depth': 27, 'min_samples_split': 4, 'min_samples_leaf': 2, 'max_features': 10}. Best is trial 113 with value: 11.802063364768486.\n",
      "[I 2023-10-21 16:19:52,338] Trial 135 finished with value: 11.86242504635186 and parameters: {'n_estimators': 225, 'max_depth': 25, 'min_samples_split': 4, 'min_samples_leaf': 1, 'max_features': 10}. Best is trial 113 with value: 11.802063364768486.\n",
      "[I 2023-10-21 16:19:54,532] Trial 136 finished with value: 12.005845892919517 and parameters: {'n_estimators': 225, 'max_depth': 25, 'min_samples_split': 5, 'min_samples_leaf': 1, 'max_features': 10}. Best is trial 113 with value: 11.802063364768486.\n",
      "[I 2023-10-21 16:19:56,442] Trial 137 finished with value: 12.460225410322693 and parameters: {'n_estimators': 225, 'max_depth': 25, 'min_samples_split': 4, 'min_samples_leaf': 2, 'max_features': 7}. Best is trial 113 with value: 11.802063364768486.\n",
      "[I 2023-10-21 16:19:58,794] Trial 138 finished with value: 12.188185980865704 and parameters: {'n_estimators': 250, 'max_depth': 26, 'min_samples_split': 7, 'min_samples_leaf': 1, 'max_features': 9}. Best is trial 113 with value: 11.802063364768486.\n",
      "[I 2023-10-21 16:20:02,954] Trial 139 finished with value: 12.12329361148647 and parameters: {'n_estimators': 425, 'max_depth': 28, 'min_samples_split': 5, 'min_samples_leaf': 2, 'max_features': 10}. Best is trial 113 with value: 11.802063364768486.\n",
      "[I 2023-10-21 16:20:05,270] Trial 140 finished with value: 12.003255976077478 and parameters: {'n_estimators': 225, 'max_depth': 28, 'min_samples_split': 6, 'min_samples_leaf': 1, 'max_features': 10}. Best is trial 113 with value: 11.802063364768486.\n",
      "[I 2023-10-21 16:20:07,426] Trial 141 finished with value: 11.953925535931912 and parameters: {'n_estimators': 200, 'max_depth': 27, 'min_samples_split': 4, 'min_samples_leaf': 1, 'max_features': 10}. Best is trial 113 with value: 11.802063364768486.\n",
      "[I 2023-10-21 16:20:09,506] Trial 142 finished with value: 11.973331402780948 and parameters: {'n_estimators': 200, 'max_depth': 26, 'min_samples_split': 4, 'min_samples_leaf': 1, 'max_features': 10}. Best is trial 113 with value: 11.802063364768486.\n",
      "[I 2023-10-21 16:20:11,662] Trial 143 finished with value: 11.886445148264857 and parameters: {'n_estimators': 200, 'max_depth': 29, 'min_samples_split': 4, 'min_samples_leaf': 1, 'max_features': 10}. Best is trial 113 with value: 11.802063364768486.\n",
      "[I 2023-10-21 16:20:13,556] Trial 144 finished with value: 11.94379315321672 and parameters: {'n_estimators': 175, 'max_depth': 29, 'min_samples_split': 5, 'min_samples_leaf': 1, 'max_features': 10}. Best is trial 113 with value: 11.802063364768486.\n",
      "[I 2023-10-21 16:20:16,355] Trial 145 finished with value: 12.149167341600647 and parameters: {'n_estimators': 275, 'max_depth': 30, 'min_samples_split': 8, 'min_samples_leaf': 1, 'max_features': 10}. Best is trial 113 with value: 11.802063364768486.\n",
      "[I 2023-10-21 16:20:18,100] Trial 146 finished with value: 12.151617199763141 and parameters: {'n_estimators': 175, 'max_depth': 28, 'min_samples_split': 4, 'min_samples_leaf': 2, 'max_features': 10}. Best is trial 113 with value: 11.802063364768486.\n",
      "[I 2023-10-21 16:20:20,216] Trial 147 finished with value: 11.982817913134618 and parameters: {'n_estimators': 200, 'max_depth': 30, 'min_samples_split': 5, 'min_samples_leaf': 1, 'max_features': 10}. Best is trial 113 with value: 11.802063364768486.\n",
      "[I 2023-10-21 16:20:21,408] Trial 148 finished with value: 13.367188192371682 and parameters: {'n_estimators': 150, 'max_depth': 29, 'min_samples_split': 14, 'min_samples_leaf': 2, 'max_features': 6}. Best is trial 113 with value: 11.802063364768486.\n",
      "[I 2023-10-21 16:20:23,257] Trial 149 finished with value: 11.96010403121656 and parameters: {'n_estimators': 175, 'max_depth': 27, 'min_samples_split': 3, 'min_samples_leaf': 1, 'max_features': 10}. Best is trial 113 with value: 11.802063364768486.\n"
     ]
    }
   ],
   "source": [
    "study = optuna.create_study(direction='minimize')\n",
    "\n",
    "study.optimize(objective, n_trials=150)"
   ]
  },
  {
   "cell_type": "code",
   "execution_count": 566,
   "id": "7d37bc19-020e-431b-a8e2-d82010c1fdeb",
   "metadata": {},
   "outputs": [
    {
     "ename": "ValueError",
     "evalue": "\nImage export using the \"kaleido\" engine requires the kaleido package,\nwhich can be installed using pip:\n    $ pip install -U kaleido\n",
     "output_type": "error",
     "traceback": [
      "\u001b[0;31m---------------------------------------------------------------------------\u001b[0m",
      "\u001b[0;31mValueError\u001b[0m                                Traceback (most recent call last)",
      "Cell \u001b[0;32mIn[566], line 2\u001b[0m\n\u001b[1;32m      1\u001b[0m optuna\u001b[38;5;241m.\u001b[39mvisualization\u001b[38;5;241m.\u001b[39mplot_optimization_history(study)\n\u001b[0;32m----> 2\u001b[0m \u001b[43mfig\u001b[49m\u001b[38;5;241;43m.\u001b[39;49m\u001b[43mwrite_image\u001b[49m\u001b[43m(\u001b[49m\u001b[38;5;124;43m\"\u001b[39;49m\u001b[38;5;124;43mfig.png\u001b[39;49m\u001b[38;5;124;43m\"\u001b[39;49m\u001b[43m)\u001b[49m\n\u001b[1;32m      3\u001b[0m \u001b[38;5;66;03m#fig.update_layout(template='plotly_dark', title='<b>Optimization History Plot', title_x=0.5)\u001b[39;00m\n\u001b[1;32m      4\u001b[0m \u001b[38;5;66;03m#fig.show()\u001b[39;00m\n",
      "File \u001b[0;32m~/.pyenv/versions/3.10.11/envs/hackday_6/lib/python3.10/site-packages/plotly/basedatatypes.py:3843\u001b[0m, in \u001b[0;36mBaseFigure.write_image\u001b[0;34m(self, *args, **kwargs)\u001b[0m\n\u001b[1;32m   3783\u001b[0m \u001b[38;5;250m\u001b[39m\u001b[38;5;124;03m\"\"\"\u001b[39;00m\n\u001b[1;32m   3784\u001b[0m \u001b[38;5;124;03mConvert a figure to a static image and write it to a file or writeable\u001b[39;00m\n\u001b[1;32m   3785\u001b[0m \u001b[38;5;124;03mobject\u001b[39;00m\n\u001b[0;32m   (...)\u001b[0m\n\u001b[1;32m   3839\u001b[0m \u001b[38;5;124;03mNone\u001b[39;00m\n\u001b[1;32m   3840\u001b[0m \u001b[38;5;124;03m\"\"\"\u001b[39;00m\n\u001b[1;32m   3841\u001b[0m \u001b[38;5;28;01mimport\u001b[39;00m \u001b[38;5;21;01mplotly\u001b[39;00m\u001b[38;5;21;01m.\u001b[39;00m\u001b[38;5;21;01mio\u001b[39;00m \u001b[38;5;28;01mas\u001b[39;00m \u001b[38;5;21;01mpio\u001b[39;00m\n\u001b[0;32m-> 3843\u001b[0m \u001b[38;5;28;01mreturn\u001b[39;00m \u001b[43mpio\u001b[49m\u001b[38;5;241;43m.\u001b[39;49m\u001b[43mwrite_image\u001b[49m\u001b[43m(\u001b[49m\u001b[38;5;28;43mself\u001b[39;49m\u001b[43m,\u001b[49m\u001b[43m \u001b[49m\u001b[38;5;241;43m*\u001b[39;49m\u001b[43margs\u001b[49m\u001b[43m,\u001b[49m\u001b[43m \u001b[49m\u001b[38;5;241;43m*\u001b[39;49m\u001b[38;5;241;43m*\u001b[39;49m\u001b[43mkwargs\u001b[49m\u001b[43m)\u001b[49m\n",
      "File \u001b[0;32m~/.pyenv/versions/3.10.11/envs/hackday_6/lib/python3.10/site-packages/plotly/io/_kaleido.py:267\u001b[0m, in \u001b[0;36mwrite_image\u001b[0;34m(fig, file, format, scale, width, height, validate, engine)\u001b[0m\n\u001b[1;32m    251\u001b[0m             \u001b[38;5;28;01mraise\u001b[39;00m \u001b[38;5;167;01mValueError\u001b[39;00m(\n\u001b[1;32m    252\u001b[0m \u001b[38;5;250m                \u001b[39m\u001b[38;5;124;03m\"\"\"\u001b[39;00m\n\u001b[1;32m    253\u001b[0m \u001b[38;5;124;03mCannot infer image type from output path '{file}'.\u001b[39;00m\n\u001b[0;32m   (...)\u001b[0m\n\u001b[1;32m    261\u001b[0m                 )\n\u001b[1;32m    262\u001b[0m             )\n\u001b[1;32m    264\u001b[0m     \u001b[38;5;66;03m# Request image\u001b[39;00m\n\u001b[1;32m    265\u001b[0m     \u001b[38;5;66;03m# -------------\u001b[39;00m\n\u001b[1;32m    266\u001b[0m     \u001b[38;5;66;03m# Do this first so we don't create a file if image conversion fails\u001b[39;00m\n\u001b[0;32m--> 267\u001b[0m     img_data \u001b[38;5;241m=\u001b[39m \u001b[43mto_image\u001b[49m\u001b[43m(\u001b[49m\n\u001b[1;32m    268\u001b[0m \u001b[43m        \u001b[49m\u001b[43mfig\u001b[49m\u001b[43m,\u001b[49m\n\u001b[1;32m    269\u001b[0m \u001b[43m        \u001b[49m\u001b[38;5;28;43mformat\u001b[39;49m\u001b[38;5;241;43m=\u001b[39;49m\u001b[38;5;28;43mformat\u001b[39;49m\u001b[43m,\u001b[49m\n\u001b[1;32m    270\u001b[0m \u001b[43m        \u001b[49m\u001b[43mscale\u001b[49m\u001b[38;5;241;43m=\u001b[39;49m\u001b[43mscale\u001b[49m\u001b[43m,\u001b[49m\n\u001b[1;32m    271\u001b[0m \u001b[43m        \u001b[49m\u001b[43mwidth\u001b[49m\u001b[38;5;241;43m=\u001b[39;49m\u001b[43mwidth\u001b[49m\u001b[43m,\u001b[49m\n\u001b[1;32m    272\u001b[0m \u001b[43m        \u001b[49m\u001b[43mheight\u001b[49m\u001b[38;5;241;43m=\u001b[39;49m\u001b[43mheight\u001b[49m\u001b[43m,\u001b[49m\n\u001b[1;32m    273\u001b[0m \u001b[43m        \u001b[49m\u001b[43mvalidate\u001b[49m\u001b[38;5;241;43m=\u001b[39;49m\u001b[43mvalidate\u001b[49m\u001b[43m,\u001b[49m\n\u001b[1;32m    274\u001b[0m \u001b[43m        \u001b[49m\u001b[43mengine\u001b[49m\u001b[38;5;241;43m=\u001b[39;49m\u001b[43mengine\u001b[49m\u001b[43m,\u001b[49m\n\u001b[1;32m    275\u001b[0m \u001b[43m    \u001b[49m\u001b[43m)\u001b[49m\n\u001b[1;32m    277\u001b[0m     \u001b[38;5;66;03m# Open file\u001b[39;00m\n\u001b[1;32m    278\u001b[0m     \u001b[38;5;66;03m# ---------\u001b[39;00m\n\u001b[1;32m    279\u001b[0m     \u001b[38;5;28;01mif\u001b[39;00m path \u001b[38;5;129;01mis\u001b[39;00m \u001b[38;5;28;01mNone\u001b[39;00m:\n\u001b[1;32m    280\u001b[0m         \u001b[38;5;66;03m# We previously failed to make sense of `file` as a pathlib object.\u001b[39;00m\n\u001b[1;32m    281\u001b[0m         \u001b[38;5;66;03m# Attempt to write to `file` as an open file descriptor.\u001b[39;00m\n",
      "File \u001b[0;32m~/.pyenv/versions/3.10.11/envs/hackday_6/lib/python3.10/site-packages/plotly/io/_kaleido.py:133\u001b[0m, in \u001b[0;36mto_image\u001b[0;34m(fig, format, width, height, scale, validate, engine)\u001b[0m\n\u001b[1;32m    131\u001b[0m     \u001b[38;5;66;03m# Raise informative error message if Kaleido is not installed\u001b[39;00m\n\u001b[1;32m    132\u001b[0m     \u001b[38;5;28;01mif\u001b[39;00m scope \u001b[38;5;129;01mis\u001b[39;00m \u001b[38;5;28;01mNone\u001b[39;00m:\n\u001b[0;32m--> 133\u001b[0m         \u001b[38;5;28;01mraise\u001b[39;00m \u001b[38;5;167;01mValueError\u001b[39;00m(\n\u001b[1;32m    134\u001b[0m \u001b[38;5;250m            \u001b[39m\u001b[38;5;124;03m\"\"\"\u001b[39;00m\n\u001b[1;32m    135\u001b[0m \u001b[38;5;124;03mImage export using the \"kaleido\" engine requires the kaleido package,\u001b[39;00m\n\u001b[1;32m    136\u001b[0m \u001b[38;5;124;03mwhich can be installed using pip:\u001b[39;00m\n\u001b[1;32m    137\u001b[0m \u001b[38;5;124;03m    $ pip install -U kaleido\u001b[39;00m\n\u001b[1;32m    138\u001b[0m \u001b[38;5;124;03m\"\"\"\u001b[39;00m\n\u001b[1;32m    139\u001b[0m         )\n\u001b[1;32m    141\u001b[0m     \u001b[38;5;66;03m# Validate figure\u001b[39;00m\n\u001b[1;32m    142\u001b[0m     \u001b[38;5;66;03m# ---------------\u001b[39;00m\n\u001b[1;32m    143\u001b[0m     fig_dict \u001b[38;5;241m=\u001b[39m validate_coerce_fig_to_dict(fig, validate)\n",
      "\u001b[0;31mValueError\u001b[0m: \nImage export using the \"kaleido\" engine requires the kaleido package,\nwhich can be installed using pip:\n    $ pip install -U kaleido\n"
     ]
    }
   ],
   "source": [
    "optuna.visualization.plot_optimization_history(study)\n",
    "fig.write_image(\"fig.png\")\n",
    "#fig.update_layout(template='plotly_dark', title='<b>Optimization History Plot', title_x=0.5)\n",
    "#fig.show()"
   ]
  },
  {
   "cell_type": "code",
   "execution_count": 554,
   "id": "20b9dc3c-f437-4b65-8275-7e3aa4369af8",
   "metadata": {},
   "outputs": [
    {
     "data": {
      "application/vnd.plotly.v1+json": {
       "config": {
        "plotlyServerURL": "https://plot.ly"
       },
       "data": [
        {
         "cliponaxis": false,
         "hovertemplate": [
          "min_samples_split (IntDistribution): 0.003930502745751883<extra></extra>",
          "n_estimators (IntDistribution): 0.02139263201867899<extra></extra>",
          "min_samples_leaf (IntDistribution): 0.05459946364576691<extra></extra>",
          "max_features (IntDistribution): 0.2034635287052806<extra></extra>",
          "max_depth (IntDistribution): 0.7166138728845215<extra></extra>"
         ],
         "name": "Objective Value",
         "orientation": "h",
         "text": [
          "<0.01",
          "0.02",
          "0.05",
          "0.20",
          "0.72"
         ],
         "textposition": "outside",
         "type": "bar",
         "x": [
          0.003930502745751883,
          0.02139263201867899,
          0.05459946364576691,
          0.2034635287052806,
          0.7166138728845215
         ],
         "y": [
          "min_samples_split",
          "n_estimators",
          "min_samples_leaf",
          "max_features",
          "max_depth"
         ]
        }
       ],
       "layout": {
        "template": {
         "data": {
          "bar": [
           {
            "error_x": {
             "color": "#f2f5fa"
            },
            "error_y": {
             "color": "#f2f5fa"
            },
            "marker": {
             "line": {
              "color": "rgb(17,17,17)",
              "width": 0.5
             },
             "pattern": {
              "fillmode": "overlay",
              "size": 10,
              "solidity": 0.2
             }
            },
            "type": "bar"
           }
          ],
          "barpolar": [
           {
            "marker": {
             "line": {
              "color": "rgb(17,17,17)",
              "width": 0.5
             },
             "pattern": {
              "fillmode": "overlay",
              "size": 10,
              "solidity": 0.2
             }
            },
            "type": "barpolar"
           }
          ],
          "carpet": [
           {
            "aaxis": {
             "endlinecolor": "#A2B1C6",
             "gridcolor": "#506784",
             "linecolor": "#506784",
             "minorgridcolor": "#506784",
             "startlinecolor": "#A2B1C6"
            },
            "baxis": {
             "endlinecolor": "#A2B1C6",
             "gridcolor": "#506784",
             "linecolor": "#506784",
             "minorgridcolor": "#506784",
             "startlinecolor": "#A2B1C6"
            },
            "type": "carpet"
           }
          ],
          "choropleth": [
           {
            "colorbar": {
             "outlinewidth": 0,
             "ticks": ""
            },
            "type": "choropleth"
           }
          ],
          "contour": [
           {
            "colorbar": {
             "outlinewidth": 0,
             "ticks": ""
            },
            "colorscale": [
             [
              0,
              "#0d0887"
             ],
             [
              0.1111111111111111,
              "#46039f"
             ],
             [
              0.2222222222222222,
              "#7201a8"
             ],
             [
              0.3333333333333333,
              "#9c179e"
             ],
             [
              0.4444444444444444,
              "#bd3786"
             ],
             [
              0.5555555555555556,
              "#d8576b"
             ],
             [
              0.6666666666666666,
              "#ed7953"
             ],
             [
              0.7777777777777778,
              "#fb9f3a"
             ],
             [
              0.8888888888888888,
              "#fdca26"
             ],
             [
              1,
              "#f0f921"
             ]
            ],
            "type": "contour"
           }
          ],
          "contourcarpet": [
           {
            "colorbar": {
             "outlinewidth": 0,
             "ticks": ""
            },
            "type": "contourcarpet"
           }
          ],
          "heatmap": [
           {
            "colorbar": {
             "outlinewidth": 0,
             "ticks": ""
            },
            "colorscale": [
             [
              0,
              "#0d0887"
             ],
             [
              0.1111111111111111,
              "#46039f"
             ],
             [
              0.2222222222222222,
              "#7201a8"
             ],
             [
              0.3333333333333333,
              "#9c179e"
             ],
             [
              0.4444444444444444,
              "#bd3786"
             ],
             [
              0.5555555555555556,
              "#d8576b"
             ],
             [
              0.6666666666666666,
              "#ed7953"
             ],
             [
              0.7777777777777778,
              "#fb9f3a"
             ],
             [
              0.8888888888888888,
              "#fdca26"
             ],
             [
              1,
              "#f0f921"
             ]
            ],
            "type": "heatmap"
           }
          ],
          "heatmapgl": [
           {
            "colorbar": {
             "outlinewidth": 0,
             "ticks": ""
            },
            "colorscale": [
             [
              0,
              "#0d0887"
             ],
             [
              0.1111111111111111,
              "#46039f"
             ],
             [
              0.2222222222222222,
              "#7201a8"
             ],
             [
              0.3333333333333333,
              "#9c179e"
             ],
             [
              0.4444444444444444,
              "#bd3786"
             ],
             [
              0.5555555555555556,
              "#d8576b"
             ],
             [
              0.6666666666666666,
              "#ed7953"
             ],
             [
              0.7777777777777778,
              "#fb9f3a"
             ],
             [
              0.8888888888888888,
              "#fdca26"
             ],
             [
              1,
              "#f0f921"
             ]
            ],
            "type": "heatmapgl"
           }
          ],
          "histogram": [
           {
            "marker": {
             "pattern": {
              "fillmode": "overlay",
              "size": 10,
              "solidity": 0.2
             }
            },
            "type": "histogram"
           }
          ],
          "histogram2d": [
           {
            "colorbar": {
             "outlinewidth": 0,
             "ticks": ""
            },
            "colorscale": [
             [
              0,
              "#0d0887"
             ],
             [
              0.1111111111111111,
              "#46039f"
             ],
             [
              0.2222222222222222,
              "#7201a8"
             ],
             [
              0.3333333333333333,
              "#9c179e"
             ],
             [
              0.4444444444444444,
              "#bd3786"
             ],
             [
              0.5555555555555556,
              "#d8576b"
             ],
             [
              0.6666666666666666,
              "#ed7953"
             ],
             [
              0.7777777777777778,
              "#fb9f3a"
             ],
             [
              0.8888888888888888,
              "#fdca26"
             ],
             [
              1,
              "#f0f921"
             ]
            ],
            "type": "histogram2d"
           }
          ],
          "histogram2dcontour": [
           {
            "colorbar": {
             "outlinewidth": 0,
             "ticks": ""
            },
            "colorscale": [
             [
              0,
              "#0d0887"
             ],
             [
              0.1111111111111111,
              "#46039f"
             ],
             [
              0.2222222222222222,
              "#7201a8"
             ],
             [
              0.3333333333333333,
              "#9c179e"
             ],
             [
              0.4444444444444444,
              "#bd3786"
             ],
             [
              0.5555555555555556,
              "#d8576b"
             ],
             [
              0.6666666666666666,
              "#ed7953"
             ],
             [
              0.7777777777777778,
              "#fb9f3a"
             ],
             [
              0.8888888888888888,
              "#fdca26"
             ],
             [
              1,
              "#f0f921"
             ]
            ],
            "type": "histogram2dcontour"
           }
          ],
          "mesh3d": [
           {
            "colorbar": {
             "outlinewidth": 0,
             "ticks": ""
            },
            "type": "mesh3d"
           }
          ],
          "parcoords": [
           {
            "line": {
             "colorbar": {
              "outlinewidth": 0,
              "ticks": ""
             }
            },
            "type": "parcoords"
           }
          ],
          "pie": [
           {
            "automargin": true,
            "type": "pie"
           }
          ],
          "scatter": [
           {
            "marker": {
             "line": {
              "color": "#283442"
             }
            },
            "type": "scatter"
           }
          ],
          "scatter3d": [
           {
            "line": {
             "colorbar": {
              "outlinewidth": 0,
              "ticks": ""
             }
            },
            "marker": {
             "colorbar": {
              "outlinewidth": 0,
              "ticks": ""
             }
            },
            "type": "scatter3d"
           }
          ],
          "scattercarpet": [
           {
            "marker": {
             "colorbar": {
              "outlinewidth": 0,
              "ticks": ""
             }
            },
            "type": "scattercarpet"
           }
          ],
          "scattergeo": [
           {
            "marker": {
             "colorbar": {
              "outlinewidth": 0,
              "ticks": ""
             }
            },
            "type": "scattergeo"
           }
          ],
          "scattergl": [
           {
            "marker": {
             "line": {
              "color": "#283442"
             }
            },
            "type": "scattergl"
           }
          ],
          "scattermapbox": [
           {
            "marker": {
             "colorbar": {
              "outlinewidth": 0,
              "ticks": ""
             }
            },
            "type": "scattermapbox"
           }
          ],
          "scatterpolar": [
           {
            "marker": {
             "colorbar": {
              "outlinewidth": 0,
              "ticks": ""
             }
            },
            "type": "scatterpolar"
           }
          ],
          "scatterpolargl": [
           {
            "marker": {
             "colorbar": {
              "outlinewidth": 0,
              "ticks": ""
             }
            },
            "type": "scatterpolargl"
           }
          ],
          "scatterternary": [
           {
            "marker": {
             "colorbar": {
              "outlinewidth": 0,
              "ticks": ""
             }
            },
            "type": "scatterternary"
           }
          ],
          "surface": [
           {
            "colorbar": {
             "outlinewidth": 0,
             "ticks": ""
            },
            "colorscale": [
             [
              0,
              "#0d0887"
             ],
             [
              0.1111111111111111,
              "#46039f"
             ],
             [
              0.2222222222222222,
              "#7201a8"
             ],
             [
              0.3333333333333333,
              "#9c179e"
             ],
             [
              0.4444444444444444,
              "#bd3786"
             ],
             [
              0.5555555555555556,
              "#d8576b"
             ],
             [
              0.6666666666666666,
              "#ed7953"
             ],
             [
              0.7777777777777778,
              "#fb9f3a"
             ],
             [
              0.8888888888888888,
              "#fdca26"
             ],
             [
              1,
              "#f0f921"
             ]
            ],
            "type": "surface"
           }
          ],
          "table": [
           {
            "cells": {
             "fill": {
              "color": "#506784"
             },
             "line": {
              "color": "rgb(17,17,17)"
             }
            },
            "header": {
             "fill": {
              "color": "#2a3f5f"
             },
             "line": {
              "color": "rgb(17,17,17)"
             }
            },
            "type": "table"
           }
          ]
         },
         "layout": {
          "annotationdefaults": {
           "arrowcolor": "#f2f5fa",
           "arrowhead": 0,
           "arrowwidth": 1
          },
          "autotypenumbers": "strict",
          "coloraxis": {
           "colorbar": {
            "outlinewidth": 0,
            "ticks": ""
           }
          },
          "colorscale": {
           "diverging": [
            [
             0,
             "#8e0152"
            ],
            [
             0.1,
             "#c51b7d"
            ],
            [
             0.2,
             "#de77ae"
            ],
            [
             0.3,
             "#f1b6da"
            ],
            [
             0.4,
             "#fde0ef"
            ],
            [
             0.5,
             "#f7f7f7"
            ],
            [
             0.6,
             "#e6f5d0"
            ],
            [
             0.7,
             "#b8e186"
            ],
            [
             0.8,
             "#7fbc41"
            ],
            [
             0.9,
             "#4d9221"
            ],
            [
             1,
             "#276419"
            ]
           ],
           "sequential": [
            [
             0,
             "#0d0887"
            ],
            [
             0.1111111111111111,
             "#46039f"
            ],
            [
             0.2222222222222222,
             "#7201a8"
            ],
            [
             0.3333333333333333,
             "#9c179e"
            ],
            [
             0.4444444444444444,
             "#bd3786"
            ],
            [
             0.5555555555555556,
             "#d8576b"
            ],
            [
             0.6666666666666666,
             "#ed7953"
            ],
            [
             0.7777777777777778,
             "#fb9f3a"
            ],
            [
             0.8888888888888888,
             "#fdca26"
            ],
            [
             1,
             "#f0f921"
            ]
           ],
           "sequentialminus": [
            [
             0,
             "#0d0887"
            ],
            [
             0.1111111111111111,
             "#46039f"
            ],
            [
             0.2222222222222222,
             "#7201a8"
            ],
            [
             0.3333333333333333,
             "#9c179e"
            ],
            [
             0.4444444444444444,
             "#bd3786"
            ],
            [
             0.5555555555555556,
             "#d8576b"
            ],
            [
             0.6666666666666666,
             "#ed7953"
            ],
            [
             0.7777777777777778,
             "#fb9f3a"
            ],
            [
             0.8888888888888888,
             "#fdca26"
            ],
            [
             1,
             "#f0f921"
            ]
           ]
          },
          "colorway": [
           "#636efa",
           "#EF553B",
           "#00cc96",
           "#ab63fa",
           "#FFA15A",
           "#19d3f3",
           "#FF6692",
           "#B6E880",
           "#FF97FF",
           "#FECB52"
          ],
          "font": {
           "color": "#f2f5fa"
          },
          "geo": {
           "bgcolor": "rgb(17,17,17)",
           "lakecolor": "rgb(17,17,17)",
           "landcolor": "rgb(17,17,17)",
           "showlakes": true,
           "showland": true,
           "subunitcolor": "#506784"
          },
          "hoverlabel": {
           "align": "left"
          },
          "hovermode": "closest",
          "mapbox": {
           "style": "dark"
          },
          "paper_bgcolor": "rgb(17,17,17)",
          "plot_bgcolor": "rgb(17,17,17)",
          "polar": {
           "angularaxis": {
            "gridcolor": "#506784",
            "linecolor": "#506784",
            "ticks": ""
           },
           "bgcolor": "rgb(17,17,17)",
           "radialaxis": {
            "gridcolor": "#506784",
            "linecolor": "#506784",
            "ticks": ""
           }
          },
          "scene": {
           "xaxis": {
            "backgroundcolor": "rgb(17,17,17)",
            "gridcolor": "#506784",
            "gridwidth": 2,
            "linecolor": "#506784",
            "showbackground": true,
            "ticks": "",
            "zerolinecolor": "#C8D4E3"
           },
           "yaxis": {
            "backgroundcolor": "rgb(17,17,17)",
            "gridcolor": "#506784",
            "gridwidth": 2,
            "linecolor": "#506784",
            "showbackground": true,
            "ticks": "",
            "zerolinecolor": "#C8D4E3"
           },
           "zaxis": {
            "backgroundcolor": "rgb(17,17,17)",
            "gridcolor": "#506784",
            "gridwidth": 2,
            "linecolor": "#506784",
            "showbackground": true,
            "ticks": "",
            "zerolinecolor": "#C8D4E3"
           }
          },
          "shapedefaults": {
           "line": {
            "color": "#f2f5fa"
           }
          },
          "sliderdefaults": {
           "bgcolor": "#C8D4E3",
           "bordercolor": "rgb(17,17,17)",
           "borderwidth": 1,
           "tickwidth": 0
          },
          "ternary": {
           "aaxis": {
            "gridcolor": "#506784",
            "linecolor": "#506784",
            "ticks": ""
           },
           "baxis": {
            "gridcolor": "#506784",
            "linecolor": "#506784",
            "ticks": ""
           },
           "bgcolor": "rgb(17,17,17)",
           "caxis": {
            "gridcolor": "#506784",
            "linecolor": "#506784",
            "ticks": ""
           }
          },
          "title": {
           "x": 0.05
          },
          "updatemenudefaults": {
           "bgcolor": "#506784",
           "borderwidth": 0
          },
          "xaxis": {
           "automargin": true,
           "gridcolor": "#283442",
           "linecolor": "#506784",
           "ticks": "",
           "title": {
            "standoff": 15
           },
           "zerolinecolor": "#283442",
           "zerolinewidth": 2
          },
          "yaxis": {
           "automargin": true,
           "gridcolor": "#283442",
           "linecolor": "#506784",
           "ticks": "",
           "title": {
            "standoff": 15
           },
           "zerolinecolor": "#283442",
           "zerolinewidth": 2
          }
         }
        },
        "title": {
         "text": "<b>Optimization History Plot",
         "x": 0.5
        },
        "xaxis": {
         "title": {
          "text": "Hyperparameter Importance"
         }
        },
        "yaxis": {
         "title": {
          "text": "Hyperparameter"
         }
        }
       }
      },
      "text/html": [
       "<div>                            <div id=\"0825eee5-44d8-43c2-837d-2c9876e2e1d2\" class=\"plotly-graph-div\" style=\"height:525px; width:100%;\"></div>            <script type=\"text/javascript\">                require([\"plotly\"], function(Plotly) {                    window.PLOTLYENV=window.PLOTLYENV || {};                                    if (document.getElementById(\"0825eee5-44d8-43c2-837d-2c9876e2e1d2\")) {                    Plotly.newPlot(                        \"0825eee5-44d8-43c2-837d-2c9876e2e1d2\",                        [{\"cliponaxis\":false,\"hovertemplate\":[\"min_samples_split (IntDistribution): 0.003930502745751883\\u003cextra\\u003e\\u003c\\u002fextra\\u003e\",\"n_estimators (IntDistribution): 0.02139263201867899\\u003cextra\\u003e\\u003c\\u002fextra\\u003e\",\"min_samples_leaf (IntDistribution): 0.05459946364576691\\u003cextra\\u003e\\u003c\\u002fextra\\u003e\",\"max_features (IntDistribution): 0.2034635287052806\\u003cextra\\u003e\\u003c\\u002fextra\\u003e\",\"max_depth (IntDistribution): 0.7166138728845215\\u003cextra\\u003e\\u003c\\u002fextra\\u003e\"],\"name\":\"Objective Value\",\"orientation\":\"h\",\"text\":[\"\\u003c0.01\",\"0.02\",\"0.05\",\"0.20\",\"0.72\"],\"textposition\":\"outside\",\"x\":[0.003930502745751883,0.02139263201867899,0.05459946364576691,0.2034635287052806,0.7166138728845215],\"y\":[\"min_samples_split\",\"n_estimators\",\"min_samples_leaf\",\"max_features\",\"max_depth\"],\"type\":\"bar\"}],                        {\"title\":{\"text\":\"\\u003cb\\u003eOptimization History Plot\",\"x\":0.5},\"xaxis\":{\"title\":{\"text\":\"Hyperparameter Importance\"}},\"yaxis\":{\"title\":{\"text\":\"Hyperparameter\"}},\"template\":{\"data\":{\"barpolar\":[{\"marker\":{\"line\":{\"color\":\"rgb(17,17,17)\",\"width\":0.5},\"pattern\":{\"fillmode\":\"overlay\",\"size\":10,\"solidity\":0.2}},\"type\":\"barpolar\"}],\"bar\":[{\"error_x\":{\"color\":\"#f2f5fa\"},\"error_y\":{\"color\":\"#f2f5fa\"},\"marker\":{\"line\":{\"color\":\"rgb(17,17,17)\",\"width\":0.5},\"pattern\":{\"fillmode\":\"overlay\",\"size\":10,\"solidity\":0.2}},\"type\":\"bar\"}],\"carpet\":[{\"aaxis\":{\"endlinecolor\":\"#A2B1C6\",\"gridcolor\":\"#506784\",\"linecolor\":\"#506784\",\"minorgridcolor\":\"#506784\",\"startlinecolor\":\"#A2B1C6\"},\"baxis\":{\"endlinecolor\":\"#A2B1C6\",\"gridcolor\":\"#506784\",\"linecolor\":\"#506784\",\"minorgridcolor\":\"#506784\",\"startlinecolor\":\"#A2B1C6\"},\"type\":\"carpet\"}],\"choropleth\":[{\"colorbar\":{\"outlinewidth\":0,\"ticks\":\"\"},\"type\":\"choropleth\"}],\"contourcarpet\":[{\"colorbar\":{\"outlinewidth\":0,\"ticks\":\"\"},\"type\":\"contourcarpet\"}],\"contour\":[{\"colorbar\":{\"outlinewidth\":0,\"ticks\":\"\"},\"colorscale\":[[0.0,\"#0d0887\"],[0.1111111111111111,\"#46039f\"],[0.2222222222222222,\"#7201a8\"],[0.3333333333333333,\"#9c179e\"],[0.4444444444444444,\"#bd3786\"],[0.5555555555555556,\"#d8576b\"],[0.6666666666666666,\"#ed7953\"],[0.7777777777777778,\"#fb9f3a\"],[0.8888888888888888,\"#fdca26\"],[1.0,\"#f0f921\"]],\"type\":\"contour\"}],\"heatmapgl\":[{\"colorbar\":{\"outlinewidth\":0,\"ticks\":\"\"},\"colorscale\":[[0.0,\"#0d0887\"],[0.1111111111111111,\"#46039f\"],[0.2222222222222222,\"#7201a8\"],[0.3333333333333333,\"#9c179e\"],[0.4444444444444444,\"#bd3786\"],[0.5555555555555556,\"#d8576b\"],[0.6666666666666666,\"#ed7953\"],[0.7777777777777778,\"#fb9f3a\"],[0.8888888888888888,\"#fdca26\"],[1.0,\"#f0f921\"]],\"type\":\"heatmapgl\"}],\"heatmap\":[{\"colorbar\":{\"outlinewidth\":0,\"ticks\":\"\"},\"colorscale\":[[0.0,\"#0d0887\"],[0.1111111111111111,\"#46039f\"],[0.2222222222222222,\"#7201a8\"],[0.3333333333333333,\"#9c179e\"],[0.4444444444444444,\"#bd3786\"],[0.5555555555555556,\"#d8576b\"],[0.6666666666666666,\"#ed7953\"],[0.7777777777777778,\"#fb9f3a\"],[0.8888888888888888,\"#fdca26\"],[1.0,\"#f0f921\"]],\"type\":\"heatmap\"}],\"histogram2dcontour\":[{\"colorbar\":{\"outlinewidth\":0,\"ticks\":\"\"},\"colorscale\":[[0.0,\"#0d0887\"],[0.1111111111111111,\"#46039f\"],[0.2222222222222222,\"#7201a8\"],[0.3333333333333333,\"#9c179e\"],[0.4444444444444444,\"#bd3786\"],[0.5555555555555556,\"#d8576b\"],[0.6666666666666666,\"#ed7953\"],[0.7777777777777778,\"#fb9f3a\"],[0.8888888888888888,\"#fdca26\"],[1.0,\"#f0f921\"]],\"type\":\"histogram2dcontour\"}],\"histogram2d\":[{\"colorbar\":{\"outlinewidth\":0,\"ticks\":\"\"},\"colorscale\":[[0.0,\"#0d0887\"],[0.1111111111111111,\"#46039f\"],[0.2222222222222222,\"#7201a8\"],[0.3333333333333333,\"#9c179e\"],[0.4444444444444444,\"#bd3786\"],[0.5555555555555556,\"#d8576b\"],[0.6666666666666666,\"#ed7953\"],[0.7777777777777778,\"#fb9f3a\"],[0.8888888888888888,\"#fdca26\"],[1.0,\"#f0f921\"]],\"type\":\"histogram2d\"}],\"histogram\":[{\"marker\":{\"pattern\":{\"fillmode\":\"overlay\",\"size\":10,\"solidity\":0.2}},\"type\":\"histogram\"}],\"mesh3d\":[{\"colorbar\":{\"outlinewidth\":0,\"ticks\":\"\"},\"type\":\"mesh3d\"}],\"parcoords\":[{\"line\":{\"colorbar\":{\"outlinewidth\":0,\"ticks\":\"\"}},\"type\":\"parcoords\"}],\"pie\":[{\"automargin\":true,\"type\":\"pie\"}],\"scatter3d\":[{\"line\":{\"colorbar\":{\"outlinewidth\":0,\"ticks\":\"\"}},\"marker\":{\"colorbar\":{\"outlinewidth\":0,\"ticks\":\"\"}},\"type\":\"scatter3d\"}],\"scattercarpet\":[{\"marker\":{\"colorbar\":{\"outlinewidth\":0,\"ticks\":\"\"}},\"type\":\"scattercarpet\"}],\"scattergeo\":[{\"marker\":{\"colorbar\":{\"outlinewidth\":0,\"ticks\":\"\"}},\"type\":\"scattergeo\"}],\"scattergl\":[{\"marker\":{\"line\":{\"color\":\"#283442\"}},\"type\":\"scattergl\"}],\"scattermapbox\":[{\"marker\":{\"colorbar\":{\"outlinewidth\":0,\"ticks\":\"\"}},\"type\":\"scattermapbox\"}],\"scatterpolargl\":[{\"marker\":{\"colorbar\":{\"outlinewidth\":0,\"ticks\":\"\"}},\"type\":\"scatterpolargl\"}],\"scatterpolar\":[{\"marker\":{\"colorbar\":{\"outlinewidth\":0,\"ticks\":\"\"}},\"type\":\"scatterpolar\"}],\"scatter\":[{\"marker\":{\"line\":{\"color\":\"#283442\"}},\"type\":\"scatter\"}],\"scatterternary\":[{\"marker\":{\"colorbar\":{\"outlinewidth\":0,\"ticks\":\"\"}},\"type\":\"scatterternary\"}],\"surface\":[{\"colorbar\":{\"outlinewidth\":0,\"ticks\":\"\"},\"colorscale\":[[0.0,\"#0d0887\"],[0.1111111111111111,\"#46039f\"],[0.2222222222222222,\"#7201a8\"],[0.3333333333333333,\"#9c179e\"],[0.4444444444444444,\"#bd3786\"],[0.5555555555555556,\"#d8576b\"],[0.6666666666666666,\"#ed7953\"],[0.7777777777777778,\"#fb9f3a\"],[0.8888888888888888,\"#fdca26\"],[1.0,\"#f0f921\"]],\"type\":\"surface\"}],\"table\":[{\"cells\":{\"fill\":{\"color\":\"#506784\"},\"line\":{\"color\":\"rgb(17,17,17)\"}},\"header\":{\"fill\":{\"color\":\"#2a3f5f\"},\"line\":{\"color\":\"rgb(17,17,17)\"}},\"type\":\"table\"}]},\"layout\":{\"annotationdefaults\":{\"arrowcolor\":\"#f2f5fa\",\"arrowhead\":0,\"arrowwidth\":1},\"autotypenumbers\":\"strict\",\"coloraxis\":{\"colorbar\":{\"outlinewidth\":0,\"ticks\":\"\"}},\"colorscale\":{\"diverging\":[[0,\"#8e0152\"],[0.1,\"#c51b7d\"],[0.2,\"#de77ae\"],[0.3,\"#f1b6da\"],[0.4,\"#fde0ef\"],[0.5,\"#f7f7f7\"],[0.6,\"#e6f5d0\"],[0.7,\"#b8e186\"],[0.8,\"#7fbc41\"],[0.9,\"#4d9221\"],[1,\"#276419\"]],\"sequential\":[[0.0,\"#0d0887\"],[0.1111111111111111,\"#46039f\"],[0.2222222222222222,\"#7201a8\"],[0.3333333333333333,\"#9c179e\"],[0.4444444444444444,\"#bd3786\"],[0.5555555555555556,\"#d8576b\"],[0.6666666666666666,\"#ed7953\"],[0.7777777777777778,\"#fb9f3a\"],[0.8888888888888888,\"#fdca26\"],[1.0,\"#f0f921\"]],\"sequentialminus\":[[0.0,\"#0d0887\"],[0.1111111111111111,\"#46039f\"],[0.2222222222222222,\"#7201a8\"],[0.3333333333333333,\"#9c179e\"],[0.4444444444444444,\"#bd3786\"],[0.5555555555555556,\"#d8576b\"],[0.6666666666666666,\"#ed7953\"],[0.7777777777777778,\"#fb9f3a\"],[0.8888888888888888,\"#fdca26\"],[1.0,\"#f0f921\"]]},\"colorway\":[\"#636efa\",\"#EF553B\",\"#00cc96\",\"#ab63fa\",\"#FFA15A\",\"#19d3f3\",\"#FF6692\",\"#B6E880\",\"#FF97FF\",\"#FECB52\"],\"font\":{\"color\":\"#f2f5fa\"},\"geo\":{\"bgcolor\":\"rgb(17,17,17)\",\"lakecolor\":\"rgb(17,17,17)\",\"landcolor\":\"rgb(17,17,17)\",\"showlakes\":true,\"showland\":true,\"subunitcolor\":\"#506784\"},\"hoverlabel\":{\"align\":\"left\"},\"hovermode\":\"closest\",\"mapbox\":{\"style\":\"dark\"},\"paper_bgcolor\":\"rgb(17,17,17)\",\"plot_bgcolor\":\"rgb(17,17,17)\",\"polar\":{\"angularaxis\":{\"gridcolor\":\"#506784\",\"linecolor\":\"#506784\",\"ticks\":\"\"},\"bgcolor\":\"rgb(17,17,17)\",\"radialaxis\":{\"gridcolor\":\"#506784\",\"linecolor\":\"#506784\",\"ticks\":\"\"}},\"scene\":{\"xaxis\":{\"backgroundcolor\":\"rgb(17,17,17)\",\"gridcolor\":\"#506784\",\"gridwidth\":2,\"linecolor\":\"#506784\",\"showbackground\":true,\"ticks\":\"\",\"zerolinecolor\":\"#C8D4E3\"},\"yaxis\":{\"backgroundcolor\":\"rgb(17,17,17)\",\"gridcolor\":\"#506784\",\"gridwidth\":2,\"linecolor\":\"#506784\",\"showbackground\":true,\"ticks\":\"\",\"zerolinecolor\":\"#C8D4E3\"},\"zaxis\":{\"backgroundcolor\":\"rgb(17,17,17)\",\"gridcolor\":\"#506784\",\"gridwidth\":2,\"linecolor\":\"#506784\",\"showbackground\":true,\"ticks\":\"\",\"zerolinecolor\":\"#C8D4E3\"}},\"shapedefaults\":{\"line\":{\"color\":\"#f2f5fa\"}},\"sliderdefaults\":{\"bgcolor\":\"#C8D4E3\",\"bordercolor\":\"rgb(17,17,17)\",\"borderwidth\":1,\"tickwidth\":0},\"ternary\":{\"aaxis\":{\"gridcolor\":\"#506784\",\"linecolor\":\"#506784\",\"ticks\":\"\"},\"baxis\":{\"gridcolor\":\"#506784\",\"linecolor\":\"#506784\",\"ticks\":\"\"},\"bgcolor\":\"rgb(17,17,17)\",\"caxis\":{\"gridcolor\":\"#506784\",\"linecolor\":\"#506784\",\"ticks\":\"\"}},\"title\":{\"x\":0.05},\"updatemenudefaults\":{\"bgcolor\":\"#506784\",\"borderwidth\":0},\"xaxis\":{\"automargin\":true,\"gridcolor\":\"#283442\",\"linecolor\":\"#506784\",\"ticks\":\"\",\"title\":{\"standoff\":15},\"zerolinecolor\":\"#283442\",\"zerolinewidth\":2},\"yaxis\":{\"automargin\":true,\"gridcolor\":\"#283442\",\"linecolor\":\"#506784\",\"ticks\":\"\",\"title\":{\"standoff\":15},\"zerolinecolor\":\"#283442\",\"zerolinewidth\":2}}}},                        {\"responsive\": true}                    ).then(function(){\n",
       "                            \n",
       "var gd = document.getElementById('0825eee5-44d8-43c2-837d-2c9876e2e1d2');\n",
       "var x = new MutationObserver(function (mutations, observer) {{\n",
       "        var display = window.getComputedStyle(gd).display;\n",
       "        if (!display || display === 'none') {{\n",
       "            console.log([gd, 'removed!']);\n",
       "            Plotly.purge(gd);\n",
       "            observer.disconnect();\n",
       "        }}\n",
       "}});\n",
       "\n",
       "// Listen for the removal of the full notebook cells\n",
       "var notebookContainer = gd.closest('#notebook-container');\n",
       "if (notebookContainer) {{\n",
       "    x.observe(notebookContainer, {childList: true});\n",
       "}}\n",
       "\n",
       "// Listen for the clearing of the current output cell\n",
       "var outputEl = gd.closest('.output');\n",
       "if (outputEl) {{\n",
       "    x.observe(outputEl, {childList: true});\n",
       "}}\n",
       "\n",
       "                        })                };                });            </script>        </div>"
      ]
     },
     "metadata": {},
     "output_type": "display_data"
    }
   ],
   "source": [
    "fig = optuna.visualization.plot_param_importances(study)\n",
    "fig.update_layout(template='plotly_dark', title='<b>Optimization History Plot', title_x=0.5)"
   ]
  },
  {
   "cell_type": "markdown",
   "id": "87582459-cba2-494e-b913-e99fb8d47f11",
   "metadata": {},
   "source": [
    "## Previsao No test(fazer as mesmas transformações do treino)"
   ]
  },
  {
   "cell_type": "code",
   "execution_count": 514,
   "id": "73df7fb8-9d79-47c3-bcac-9491f0a0f166",
   "metadata": {},
   "outputs": [],
   "source": [
    "X_test = pd.read_json(path + 'test.json', orient='split')"
   ]
  },
  {
   "cell_type": "code",
   "execution_count": 515,
   "id": "fd608848-b39d-44f6-a2a7-341fbe588ef5",
   "metadata": {},
   "outputs": [],
   "source": [
    "X_test['product_details_count'] = X_test['product_details'].apply(lambda x: len(ast.literal_eval(x)) )"
   ]
  },
  {
   "cell_type": "code",
   "execution_count": 516,
   "id": "08008734-8602-44db-8eb0-cbe04e578c07",
   "metadata": {},
   "outputs": [],
   "source": [
    "X_test['product_details'] = X_test['product_details'].apply(lambda x: ast.literal_eval(x))"
   ]
  },
  {
   "cell_type": "code",
   "execution_count": 517,
   "id": "b81d14a4-37f9-458c-ad9f-a5c6e18758cd",
   "metadata": {},
   "outputs": [],
   "source": [
    "all_keys = set()\n",
    "for data in X_test['product_details']:\n",
    "    for item in data:\n",
    "        all_keys.update(item.keys())\n",
    "\n",
    "# Para cada chave no conjunto, crie uma coluna no DataFrame e preencha com os valores correspondentes\n",
    "for key in all_keys:\n",
    "    X_test[key] = X_test['product_details'].apply(lambda x: next((item[key] for item in x if key in item), np.nan))\n",
    "\n",
    "# Remova a coluna 'product_details' original\n",
    "X_test.drop('product_details', axis=1, inplace=True)"
   ]
  },
  {
   "cell_type": "code",
   "execution_count": 518,
   "id": "46add8d0-7458-4df1-ab31-13faf5dc28eb",
   "metadata": {},
   "outputs": [],
   "source": [
    "X_test.rename(columns={'Pack of': 'Pack Of 2'}, inplace=True)\n",
    "# Preencha os valores NaN na coluna 'Pack Of' com os valores da coluna 'Pack Of' 2\n",
    "X_test['Pack Of'].fillna(X_test['Pack Of 2'], inplace=True)\n",
    "\n",
    "# Agora você pode descartar a coluna 'Pack Of 2' se desejar\n",
    "X_test.drop('Pack Of 2', axis=1, inplace=True)"
   ]
  },
  {
   "cell_type": "code",
   "execution_count": 519,
   "id": "81398222-0085-4bb1-81d9-135583a58e4e",
   "metadata": {},
   "outputs": [],
   "source": [
    "X_test['images'] = X_test['images'].apply(lambda x: ast.literal_eval(x))"
   ]
  },
  {
   "cell_type": "code",
   "execution_count": 520,
   "id": "15da41c5-5d98-478d-9963-c2dfcebc261a",
   "metadata": {},
   "outputs": [],
   "source": [
    "X_test['number_images'] = X_test['images'].apply(lambda x: len(x))"
   ]
  },
  {
   "cell_type": "code",
   "execution_count": 521,
   "id": "1a23a98b-a263-476b-a032-29035a8a9084",
   "metadata": {},
   "outputs": [],
   "source": [
    "details_to_maintain_test = ['_id',\n",
    "                       'average_rating',\n",
    "                       'number_of_reviews',\n",
    "                       'brand',\n",
    "                       'category',\n",
    "                       'crawled_at',\n",
    "                       'description',\n",
    "                       'images',\n",
    "                       'out_of_stock',\n",
    "                       'avg_delivery_time_days',\n",
    "                       'pid',\n",
    "                       'seller',\n",
    "                       'sub_category',\n",
    "                       'fabrication_time',\n",
    "                       'title',\n",
    "                       #'actual_price',\n",
    "                       'Sleeve',\n",
    "                       'Pack Of',\n",
    "                       'Brand Color',\n",
    "                       'Size',\n",
    "                       'Fit',\n",
    "                       'Pattern',\n",
    "                       'Ideal For',\n",
    "                       'Suitable For',\n",
    "                       'Fabric',\n",
    "                       'Type',\n",
    "                       'product_details_count',\n",
    "                       'number_images',\n",
    "                       #'Shade',\n",
    "                           ]"
   ]
  },
  {
   "cell_type": "code",
   "execution_count": 522,
   "id": "08f55db0-446e-46b9-aea4-ce4b5f3deacf",
   "metadata": {},
   "outputs": [],
   "source": [
    "X_test = X_test[details_to_maintain_test]"
   ]
  },
  {
   "cell_type": "code",
   "execution_count": 523,
   "id": "39365c3f-6612-426c-af48-6f8f70d4c711",
   "metadata": {},
   "outputs": [
    {
     "data": {
      "text/html": [
       "<div>\n",
       "<style scoped>\n",
       "    .dataframe tbody tr th:only-of-type {\n",
       "        vertical-align: middle;\n",
       "    }\n",
       "\n",
       "    .dataframe tbody tr th {\n",
       "        vertical-align: top;\n",
       "    }\n",
       "\n",
       "    .dataframe thead th {\n",
       "        text-align: right;\n",
       "    }\n",
       "</style>\n",
       "<table border=\"1\" class=\"dataframe\">\n",
       "  <thead>\n",
       "    <tr style=\"text-align: right;\">\n",
       "      <th></th>\n",
       "      <th>_id</th>\n",
       "      <th>average_rating</th>\n",
       "      <th>number_of_reviews</th>\n",
       "      <th>brand</th>\n",
       "      <th>category</th>\n",
       "      <th>crawled_at</th>\n",
       "      <th>description</th>\n",
       "      <th>images</th>\n",
       "      <th>out_of_stock</th>\n",
       "      <th>avg_delivery_time_days</th>\n",
       "      <th>pid</th>\n",
       "      <th>seller</th>\n",
       "      <th>sub_category</th>\n",
       "      <th>fabrication_time</th>\n",
       "      <th>title</th>\n",
       "      <th>Sleeve</th>\n",
       "      <th>Pack Of</th>\n",
       "      <th>Brand Color</th>\n",
       "      <th>Size</th>\n",
       "      <th>Fit</th>\n",
       "      <th>Pattern</th>\n",
       "      <th>Ideal For</th>\n",
       "      <th>Suitable For</th>\n",
       "      <th>Fabric</th>\n",
       "      <th>Type</th>\n",
       "      <th>product_details_count</th>\n",
       "      <th>number_images</th>\n",
       "    </tr>\n",
       "  </thead>\n",
       "  <tbody>\n",
       "    <tr>\n",
       "      <th>0</th>\n",
       "      <td>35d28961-170f-515d-90d4-55ee978a8afa</td>\n",
       "      <td>4.8</td>\n",
       "      <td>40</td>\n",
       "      <td>Mo</td>\n",
       "      <td>Clothing and Accessories</td>\n",
       "      <td>2021-02-10 21:18:47</td>\n",
       "      <td>Accentuate your formal wardrobe by buying this...</td>\n",
       "      <td>[https://rukminim1.flixcart.com/image/128/128/...</td>\n",
       "      <td>False</td>\n",
       "      <td>17</td>\n",
       "      <td>SHTFDYZGEXPED7YS</td>\n",
       "      <td>KKSONS</td>\n",
       "      <td>Topwear</td>\n",
       "      <td>32</td>\n",
       "      <td>Men Slim Fit Printed Button Down Collar Casual...</td>\n",
       "      <td>Full Sleeve</td>\n",
       "      <td>1</td>\n",
       "      <td>NaN</td>\n",
       "      <td>NaN</td>\n",
       "      <td>Slim</td>\n",
       "      <td>Printed</td>\n",
       "      <td>NaN</td>\n",
       "      <td>Western Wear</td>\n",
       "      <td>Cotton Blend</td>\n",
       "      <td>NaN</td>\n",
       "      <td>14</td>\n",
       "      <td>4</td>\n",
       "    </tr>\n",
       "    <tr>\n",
       "      <th>1</th>\n",
       "      <td>5089618f-7eec-571b-84b6-41c3b43a2ed4</td>\n",
       "      <td>3.7</td>\n",
       "      <td>31</td>\n",
       "      <td>True Bl</td>\n",
       "      <td>Clothing and Accessories</td>\n",
       "      <td>2021-02-10 22:12:20</td>\n",
       "      <td>undefined</td>\n",
       "      <td>[https://rukminim1.flixcart.com/image/128/128/...</td>\n",
       "      <td>False</td>\n",
       "      <td>10</td>\n",
       "      <td>TROFM47EVWRYK7ZU</td>\n",
       "      <td>KAPSONSRETAILPVTLTD</td>\n",
       "      <td>Bottomwear</td>\n",
       "      <td>318</td>\n",
       "      <td>Slim Fit Men Brown Cotton Blend Trousers</td>\n",
       "      <td>NaN</td>\n",
       "      <td>1</td>\n",
       "      <td>NaN</td>\n",
       "      <td>NaN</td>\n",
       "      <td>Slim Fit</td>\n",
       "      <td>Solid</td>\n",
       "      <td>NaN</td>\n",
       "      <td>Western Wear</td>\n",
       "      <td>Cotton Blend</td>\n",
       "      <td>Casual Trousers</td>\n",
       "      <td>14</td>\n",
       "      <td>5</td>\n",
       "    </tr>\n",
       "    <tr>\n",
       "      <th>2</th>\n",
       "      <td>84716375-2ea3-5376-bca1-ecef76b0aa87</td>\n",
       "      <td>3.2</td>\n",
       "      <td>26</td>\n",
       "      <td>vims rai</td>\n",
       "      <td>Clothing and Accessories</td>\n",
       "      <td>2021-02-11 01:16:36</td>\n",
       "      <td>undefined</td>\n",
       "      <td>[https://rukminim1.flixcart.com/image/128/128/...</td>\n",
       "      <td>False</td>\n",
       "      <td>8</td>\n",
       "      <td>FABFZAMPGDW3BKGX</td>\n",
       "      <td>WHITE SKY</td>\n",
       "      <td>Fabrics</td>\n",
       "      <td>411</td>\n",
       "      <td>Rayon Printed Shirt Fabric  (Unstitched)</td>\n",
       "      <td>NaN</td>\n",
       "      <td>NaN</td>\n",
       "      <td>NaN</td>\n",
       "      <td>NaN</td>\n",
       "      <td>NaN</td>\n",
       "      <td>Printed</td>\n",
       "      <td>Men</td>\n",
       "      <td>NaN</td>\n",
       "      <td>Rayon</td>\n",
       "      <td>Shirt Fabric</td>\n",
       "      <td>15</td>\n",
       "      <td>4</td>\n",
       "    </tr>\n",
       "    <tr>\n",
       "      <th>3</th>\n",
       "      <td>84120873-2b67-5f2c-9074-803e52e278f7</td>\n",
       "      <td>3.6</td>\n",
       "      <td>30</td>\n",
       "      <td>True Bl</td>\n",
       "      <td>Clothing and Accessories</td>\n",
       "      <td>2021-02-10 22:21:32</td>\n",
       "      <td>undefined</td>\n",
       "      <td>[https://rukminim1.flixcart.com/image/128/128/...</td>\n",
       "      <td>False</td>\n",
       "      <td>10</td>\n",
       "      <td>BZRFNMGPNBQTYHMG</td>\n",
       "      <td>KAPSONSRETAILPVTLTD</td>\n",
       "      <td>Blazers, Waistcoats and Suits</td>\n",
       "      <td>431</td>\n",
       "      <td>Solid Single Breasted Formal Men Full Sleeve B...</td>\n",
       "      <td>Full Sleeve</td>\n",
       "      <td>1</td>\n",
       "      <td>NaN</td>\n",
       "      <td>NaN</td>\n",
       "      <td>NaN</td>\n",
       "      <td>Solid</td>\n",
       "      <td>NaN</td>\n",
       "      <td>NaN</td>\n",
       "      <td>Polyester</td>\n",
       "      <td>Single Breasted</td>\n",
       "      <td>11</td>\n",
       "      <td>5</td>\n",
       "    </tr>\n",
       "    <tr>\n",
       "      <th>4</th>\n",
       "      <td>96238f84-3bb8-5ec1-b2f4-fe481ba35faa</td>\n",
       "      <td>2.5</td>\n",
       "      <td>21</td>\n",
       "      <td>ECKO Unl</td>\n",
       "      <td>Clothing and Accessories</td>\n",
       "      <td>2021-02-10 22:32:00</td>\n",
       "      <td>ECKO Unltd YD CHECK  Cotton Woven Slim Fit IND...</td>\n",
       "      <td>[https://rukminim1.flixcart.com/image/128/128/...</td>\n",
       "      <td>False</td>\n",
       "      <td>5</td>\n",
       "      <td>SHTFV5G6PZDQZEVZ</td>\n",
       "      <td>SandSMarketing</td>\n",
       "      <td>Topwear</td>\n",
       "      <td>512</td>\n",
       "      <td>Men Slim Fit Checkered Cut Away Collar Casual ...</td>\n",
       "      <td>Full Sleeve</td>\n",
       "      <td>1</td>\n",
       "      <td>NaN</td>\n",
       "      <td>NaN</td>\n",
       "      <td>Slim</td>\n",
       "      <td>Checkered</td>\n",
       "      <td>NaN</td>\n",
       "      <td>Western Wear</td>\n",
       "      <td>Cotton Blend</td>\n",
       "      <td>NaN</td>\n",
       "      <td>13</td>\n",
       "      <td>5</td>\n",
       "    </tr>\n",
       "  </tbody>\n",
       "</table>\n",
       "</div>"
      ],
      "text/plain": [
       "                                    _id  average_rating  number_of_reviews  \\\n",
       "0  35d28961-170f-515d-90d4-55ee978a8afa             4.8                 40   \n",
       "1  5089618f-7eec-571b-84b6-41c3b43a2ed4             3.7                 31   \n",
       "2  84716375-2ea3-5376-bca1-ecef76b0aa87             3.2                 26   \n",
       "3  84120873-2b67-5f2c-9074-803e52e278f7             3.6                 30   \n",
       "4  96238f84-3bb8-5ec1-b2f4-fe481ba35faa             2.5                 21   \n",
       "\n",
       "      brand                  category          crawled_at  \\\n",
       "0        Mo  Clothing and Accessories 2021-02-10 21:18:47   \n",
       "1   True Bl  Clothing and Accessories 2021-02-10 22:12:20   \n",
       "2  vims rai  Clothing and Accessories 2021-02-11 01:16:36   \n",
       "3   True Bl  Clothing and Accessories 2021-02-10 22:21:32   \n",
       "4  ECKO Unl  Clothing and Accessories 2021-02-10 22:32:00   \n",
       "\n",
       "                                         description  \\\n",
       "0  Accentuate your formal wardrobe by buying this...   \n",
       "1                                          undefined   \n",
       "2                                          undefined   \n",
       "3                                          undefined   \n",
       "4  ECKO Unltd YD CHECK  Cotton Woven Slim Fit IND...   \n",
       "\n",
       "                                              images  out_of_stock  \\\n",
       "0  [https://rukminim1.flixcart.com/image/128/128/...         False   \n",
       "1  [https://rukminim1.flixcart.com/image/128/128/...         False   \n",
       "2  [https://rukminim1.flixcart.com/image/128/128/...         False   \n",
       "3  [https://rukminim1.flixcart.com/image/128/128/...         False   \n",
       "4  [https://rukminim1.flixcart.com/image/128/128/...         False   \n",
       "\n",
       "   avg_delivery_time_days               pid               seller  \\\n",
       "0                      17  SHTFDYZGEXPED7YS               KKSONS   \n",
       "1                      10  TROFM47EVWRYK7ZU  KAPSONSRETAILPVTLTD   \n",
       "2                       8  FABFZAMPGDW3BKGX            WHITE SKY   \n",
       "3                      10  BZRFNMGPNBQTYHMG  KAPSONSRETAILPVTLTD   \n",
       "4                       5  SHTFV5G6PZDQZEVZ       SandSMarketing   \n",
       "\n",
       "                    sub_category  fabrication_time  \\\n",
       "0                        Topwear                32   \n",
       "1                     Bottomwear               318   \n",
       "2                        Fabrics               411   \n",
       "3  Blazers, Waistcoats and Suits               431   \n",
       "4                        Topwear               512   \n",
       "\n",
       "                                               title       Sleeve Pack Of  \\\n",
       "0  Men Slim Fit Printed Button Down Collar Casual...  Full Sleeve       1   \n",
       "1           Slim Fit Men Brown Cotton Blend Trousers          NaN       1   \n",
       "2           Rayon Printed Shirt Fabric  (Unstitched)          NaN     NaN   \n",
       "3  Solid Single Breasted Formal Men Full Sleeve B...  Full Sleeve       1   \n",
       "4  Men Slim Fit Checkered Cut Away Collar Casual ...  Full Sleeve       1   \n",
       "\n",
       "  Brand Color Size       Fit    Pattern Ideal For  Suitable For        Fabric  \\\n",
       "0         NaN  NaN      Slim    Printed       NaN  Western Wear  Cotton Blend   \n",
       "1         NaN  NaN  Slim Fit      Solid       NaN  Western Wear  Cotton Blend   \n",
       "2         NaN  NaN       NaN    Printed       Men           NaN         Rayon   \n",
       "3         NaN  NaN       NaN      Solid       NaN           NaN     Polyester   \n",
       "4         NaN  NaN      Slim  Checkered       NaN  Western Wear  Cotton Blend   \n",
       "\n",
       "              Type  product_details_count  number_images  \n",
       "0              NaN                     14              4  \n",
       "1  Casual Trousers                     14              5  \n",
       "2     Shirt Fabric                     15              4  \n",
       "3  Single Breasted                     11              5  \n",
       "4              NaN                     13              5  "
      ]
     },
     "execution_count": 523,
     "metadata": {},
     "output_type": "execute_result"
    }
   ],
   "source": [
    "X_test.head()"
   ]
  },
  {
   "cell_type": "code",
   "execution_count": 524,
   "id": "d4d2589f-c0ee-4231-a42c-89f9a5f6763d",
   "metadata": {},
   "outputs": [],
   "source": [
    "X_test = pd.get_dummies(X_test, columns=onehot)\n",
    "X_test[te_cols] = te.transform(X_test[te_cols])"
   ]
  },
  {
   "cell_type": "code",
   "execution_count": 525,
   "id": "b38e399c-b854-4acf-abcb-edeed3782d3e",
   "metadata": {},
   "outputs": [],
   "source": [
    "X_test = X_test.drop(cols_drop, axis=1)\n",
    "X_test = X_test.drop('pid', axis=1)"
   ]
  },
  {
   "cell_type": "code",
   "execution_count": 526,
   "id": "007b49ee-3dbc-436b-a893-6dabe6f0c55f",
   "metadata": {},
   "outputs": [
    {
     "data": {
      "text/html": [
       "<div>\n",
       "<style scoped>\n",
       "    .dataframe tbody tr th:only-of-type {\n",
       "        vertical-align: middle;\n",
       "    }\n",
       "\n",
       "    .dataframe tbody tr th {\n",
       "        vertical-align: top;\n",
       "    }\n",
       "\n",
       "    .dataframe thead th {\n",
       "        text-align: right;\n",
       "    }\n",
       "</style>\n",
       "<table border=\"1\" class=\"dataframe\">\n",
       "  <thead>\n",
       "    <tr style=\"text-align: right;\">\n",
       "      <th></th>\n",
       "      <th>average_rating</th>\n",
       "      <th>number_of_reviews</th>\n",
       "      <th>brand</th>\n",
       "      <th>avg_delivery_time_days</th>\n",
       "      <th>seller</th>\n",
       "      <th>sub_category</th>\n",
       "      <th>fabrication_time</th>\n",
       "      <th>Sleeve</th>\n",
       "      <th>Pack Of</th>\n",
       "      <th>Brand Color</th>\n",
       "      <th>Size</th>\n",
       "      <th>Fit</th>\n",
       "      <th>Pattern</th>\n",
       "      <th>Ideal For</th>\n",
       "      <th>Suitable For</th>\n",
       "      <th>Fabric</th>\n",
       "      <th>Type</th>\n",
       "      <th>product_details_count</th>\n",
       "      <th>number_images</th>\n",
       "      <th>category_Bags, Wallets &amp; Belts</th>\n",
       "      <th>category_Clothing and Accessories</th>\n",
       "      <th>category_Footwear</th>\n",
       "      <th>out_of_stock_False</th>\n",
       "      <th>out_of_stock_True</th>\n",
       "    </tr>\n",
       "  </thead>\n",
       "  <tbody>\n",
       "    <tr>\n",
       "      <th>0</th>\n",
       "      <td>4.8</td>\n",
       "      <td>40</td>\n",
       "      <td>1444.867614</td>\n",
       "      <td>17</td>\n",
       "      <td>1484.968130</td>\n",
       "      <td>1299.049885</td>\n",
       "      <td>32</td>\n",
       "      <td>1976.394231</td>\n",
       "      <td>1431.158920</td>\n",
       "      <td>1480.980568</td>\n",
       "      <td>1480.980568</td>\n",
       "      <td>1411.139804</td>\n",
       "      <td>1283.628944</td>\n",
       "      <td>1480.980568</td>\n",
       "      <td>1552.498280</td>\n",
       "      <td>1496.650804</td>\n",
       "      <td>1480.980568</td>\n",
       "      <td>14</td>\n",
       "      <td>4</td>\n",
       "      <td>False</td>\n",
       "      <td>True</td>\n",
       "      <td>False</td>\n",
       "      <td>True</td>\n",
       "      <td>False</td>\n",
       "    </tr>\n",
       "    <tr>\n",
       "      <th>1</th>\n",
       "      <td>3.7</td>\n",
       "      <td>31</td>\n",
       "      <td>2625.158350</td>\n",
       "      <td>10</td>\n",
       "      <td>2845.184491</td>\n",
       "      <td>1996.485795</td>\n",
       "      <td>318</td>\n",
       "      <td>1480.980568</td>\n",
       "      <td>1431.158920</td>\n",
       "      <td>1480.980568</td>\n",
       "      <td>1480.980568</td>\n",
       "      <td>2160.091736</td>\n",
       "      <td>1629.287467</td>\n",
       "      <td>1480.980568</td>\n",
       "      <td>1552.498280</td>\n",
       "      <td>1496.650804</td>\n",
       "      <td>2270.457512</td>\n",
       "      <td>14</td>\n",
       "      <td>5</td>\n",
       "      <td>False</td>\n",
       "      <td>True</td>\n",
       "      <td>False</td>\n",
       "      <td>True</td>\n",
       "      <td>False</td>\n",
       "    </tr>\n",
       "    <tr>\n",
       "      <th>2</th>\n",
       "      <td>3.2</td>\n",
       "      <td>26</td>\n",
       "      <td>1203.601184</td>\n",
       "      <td>8</td>\n",
       "      <td>1219.220717</td>\n",
       "      <td>1197.636572</td>\n",
       "      <td>411</td>\n",
       "      <td>1480.980568</td>\n",
       "      <td>1480.980568</td>\n",
       "      <td>1480.980568</td>\n",
       "      <td>1480.980568</td>\n",
       "      <td>1480.980568</td>\n",
       "      <td>1283.628944</td>\n",
       "      <td>1386.974560</td>\n",
       "      <td>1480.980568</td>\n",
       "      <td>1256.351490</td>\n",
       "      <td>1206.847489</td>\n",
       "      <td>15</td>\n",
       "      <td>4</td>\n",
       "      <td>False</td>\n",
       "      <td>True</td>\n",
       "      <td>False</td>\n",
       "      <td>True</td>\n",
       "      <td>False</td>\n",
       "    </tr>\n",
       "    <tr>\n",
       "      <th>3</th>\n",
       "      <td>3.6</td>\n",
       "      <td>30</td>\n",
       "      <td>2625.158350</td>\n",
       "      <td>10</td>\n",
       "      <td>2845.184491</td>\n",
       "      <td>4129.189314</td>\n",
       "      <td>431</td>\n",
       "      <td>1976.394231</td>\n",
       "      <td>1431.158920</td>\n",
       "      <td>1480.980568</td>\n",
       "      <td>1480.980568</td>\n",
       "      <td>1480.980568</td>\n",
       "      <td>1629.287467</td>\n",
       "      <td>1480.980568</td>\n",
       "      <td>1480.980568</td>\n",
       "      <td>2263.556790</td>\n",
       "      <td>5657.115926</td>\n",
       "      <td>11</td>\n",
       "      <td>5</td>\n",
       "      <td>False</td>\n",
       "      <td>True</td>\n",
       "      <td>False</td>\n",
       "      <td>True</td>\n",
       "      <td>False</td>\n",
       "    </tr>\n",
       "    <tr>\n",
       "      <th>4</th>\n",
       "      <td>2.5</td>\n",
       "      <td>21</td>\n",
       "      <td>1281.544466</td>\n",
       "      <td>5</td>\n",
       "      <td>1271.418787</td>\n",
       "      <td>1299.049885</td>\n",
       "      <td>512</td>\n",
       "      <td>1976.394231</td>\n",
       "      <td>1431.158920</td>\n",
       "      <td>1480.980568</td>\n",
       "      <td>1480.980568</td>\n",
       "      <td>1411.139804</td>\n",
       "      <td>1483.169153</td>\n",
       "      <td>1480.980568</td>\n",
       "      <td>1552.498280</td>\n",
       "      <td>1496.650804</td>\n",
       "      <td>1480.980568</td>\n",
       "      <td>13</td>\n",
       "      <td>5</td>\n",
       "      <td>False</td>\n",
       "      <td>True</td>\n",
       "      <td>False</td>\n",
       "      <td>True</td>\n",
       "      <td>False</td>\n",
       "    </tr>\n",
       "  </tbody>\n",
       "</table>\n",
       "</div>"
      ],
      "text/plain": [
       "   average_rating  number_of_reviews        brand  avg_delivery_time_days  \\\n",
       "0             4.8                 40  1444.867614                      17   \n",
       "1             3.7                 31  2625.158350                      10   \n",
       "2             3.2                 26  1203.601184                       8   \n",
       "3             3.6                 30  2625.158350                      10   \n",
       "4             2.5                 21  1281.544466                       5   \n",
       "\n",
       "        seller  sub_category  fabrication_time       Sleeve      Pack Of  \\\n",
       "0  1484.968130   1299.049885                32  1976.394231  1431.158920   \n",
       "1  2845.184491   1996.485795               318  1480.980568  1431.158920   \n",
       "2  1219.220717   1197.636572               411  1480.980568  1480.980568   \n",
       "3  2845.184491   4129.189314               431  1976.394231  1431.158920   \n",
       "4  1271.418787   1299.049885               512  1976.394231  1431.158920   \n",
       "\n",
       "   Brand Color         Size          Fit      Pattern    Ideal For  \\\n",
       "0  1480.980568  1480.980568  1411.139804  1283.628944  1480.980568   \n",
       "1  1480.980568  1480.980568  2160.091736  1629.287467  1480.980568   \n",
       "2  1480.980568  1480.980568  1480.980568  1283.628944  1386.974560   \n",
       "3  1480.980568  1480.980568  1480.980568  1629.287467  1480.980568   \n",
       "4  1480.980568  1480.980568  1411.139804  1483.169153  1480.980568   \n",
       "\n",
       "   Suitable For       Fabric         Type  product_details_count  \\\n",
       "0   1552.498280  1496.650804  1480.980568                     14   \n",
       "1   1552.498280  1496.650804  2270.457512                     14   \n",
       "2   1480.980568  1256.351490  1206.847489                     15   \n",
       "3   1480.980568  2263.556790  5657.115926                     11   \n",
       "4   1552.498280  1496.650804  1480.980568                     13   \n",
       "\n",
       "   number_images  category_Bags, Wallets & Belts  \\\n",
       "0              4                           False   \n",
       "1              5                           False   \n",
       "2              4                           False   \n",
       "3              5                           False   \n",
       "4              5                           False   \n",
       "\n",
       "   category_Clothing and Accessories  category_Footwear  out_of_stock_False  \\\n",
       "0                               True              False                True   \n",
       "1                               True              False                True   \n",
       "2                               True              False                True   \n",
       "3                               True              False                True   \n",
       "4                               True              False                True   \n",
       "\n",
       "   out_of_stock_True  \n",
       "0              False  \n",
       "1              False  \n",
       "2              False  \n",
       "3              False  \n",
       "4              False  "
      ]
     },
     "execution_count": 526,
     "metadata": {},
     "output_type": "execute_result"
    }
   ],
   "source": [
    "X_test.head()"
   ]
  },
  {
   "cell_type": "code",
   "execution_count": 528,
   "id": "fa6fae4c-9e6e-4c42-98d3-2f476c2c863a",
   "metadata": {},
   "outputs": [],
   "source": [
    "X_test.columns = X_test.columns.map(lambda x: inflection.parameterize(x, separator='_'))"
   ]
  },
  {
   "cell_type": "markdown",
   "id": "a9c22056-c86b-4107-b13c-51f43e6a0188",
   "metadata": {},
   "source": [
    "## Predict"
   ]
  },
  {
   "cell_type": "code",
   "execution_count": 529,
   "id": "b759347e-6685-4a5b-a8b3-74a5dd868ca9",
   "metadata": {},
   "outputs": [],
   "source": [
    "y_pred = rf.predict(X_test)\n"
   ]
  },
  {
   "cell_type": "markdown",
   "id": "4618e920-e8ae-4c6a-956d-3346b5379241",
   "metadata": {},
   "source": [
    "## submissao"
   ]
  },
  {
   "cell_type": "code",
   "execution_count": 530,
   "id": "be1e1964-6900-4a3d-b2e0-b69340d0a3a0",
   "metadata": {},
   "outputs": [],
   "source": [
    "X_test = pd.read_json(path + 'test.json', orient='split')"
   ]
  },
  {
   "cell_type": "code",
   "execution_count": 531,
   "id": "0b41af49-2c87-4712-ac28-6413af1281f6",
   "metadata": {},
   "outputs": [],
   "source": [
    "X_test['actual_price'] = y_pred"
   ]
  },
  {
   "cell_type": "code",
   "execution_count": 532,
   "id": "53e5e80a-e47b-4830-b77d-6168a1fc5d47",
   "metadata": {},
   "outputs": [],
   "source": [
    "cols_sub = ['pid','actual_price']\n",
    "df_submission = X_test[cols_sub]"
   ]
  },
  {
   "cell_type": "code",
   "execution_count": 533,
   "id": "ce08685b-8d45-477e-8eb7-2a1cad2835dd",
   "metadata": {},
   "outputs": [],
   "source": [
    "df_submission.to_csv('quarta_submissao.csv', index=False)"
   ]
  }
 ],
 "metadata": {
  "kernelspec": {
   "display_name": "Python 3 (ipykernel)",
   "language": "python",
   "name": "python3"
  },
  "language_info": {
   "codemirror_mode": {
    "name": "ipython",
    "version": 3
   },
   "file_extension": ".py",
   "mimetype": "text/x-python",
   "name": "python",
   "nbconvert_exporter": "python",
   "pygments_lexer": "ipython3",
   "version": "3.10.11"
  }
 },
 "nbformat": 4,
 "nbformat_minor": 5
}
