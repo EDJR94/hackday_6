{
 "cells": [
  {
   "cell_type": "markdown",
   "id": "54217ca5-d090-4212-ab5f-3ca859e9e963",
   "metadata": {},
   "source": [
    "# Imports"
   ]
  },
  {
   "cell_type": "code",
   "execution_count": 1,
   "id": "205137f3-f697-4e84-8afa-7074f3cf8dc1",
   "metadata": {},
   "outputs": [],
   "source": [
    "import pandas as pd\n",
    "import numpy as np\n",
    "import ast\n",
    "\n",
    "import matplotlib.pyplot as plt\n",
    "\n",
    "from sklearn.preprocessing import TargetEncoder\n",
    "from sklearn.model_selection import train_test_split\n",
    "\n",
    "plt.style.use('ggplot')\n",
    "\n",
    "pd.options.display.max_columns = 999\n",
    "\n",
    "import warnings\n",
    "\n",
    "warnings.filterwarnings('ignore')"
   ]
  },
  {
   "cell_type": "markdown",
   "id": "87775013-7377-4051-b5c4-44465c13177f",
   "metadata": {},
   "source": [
    "Retirar number of reviews = 0"
   ]
  },
  {
   "cell_type": "markdown",
   "id": "c8f001c8-2eab-4278-8fe6-2a851b413c2c",
   "metadata": {},
   "source": [
    "## Load Data"
   ]
  },
  {
   "cell_type": "code",
   "execution_count": 2,
   "id": "04db2f9e-262f-470e-bbf9-011fa2a3c5d9",
   "metadata": {},
   "outputs": [],
   "source": [
    "path = '/home/edilson07/projects/hackday_6/datasets/'\n",
    "\n",
    "df_raw = pd.read_json(path + 'train.json', orient='split')"
   ]
  },
  {
   "cell_type": "markdown",
   "id": "ea0a24da-d5e4-4693-a55d-6fa61753733b",
   "metadata": {},
   "source": [
    "## Criar numero de caracteristicas"
   ]
  },
  {
   "cell_type": "code",
   "execution_count": 3,
   "id": "970b300f-7aee-4202-9578-4115c8e672f5",
   "metadata": {},
   "outputs": [],
   "source": [
    "df_raw['product_details_count'] = df_raw['product_details'].apply(lambda x: len(ast.literal_eval(x)) )"
   ]
  },
  {
   "cell_type": "markdown",
   "id": "5d1cdcc2-7157-4e06-9944-14b1f8373944",
   "metadata": {},
   "source": [
    "## Transformar detalhes dos produtos em colunas"
   ]
  },
  {
   "cell_type": "code",
   "execution_count": 4,
   "id": "edab8afd-4602-4e2e-84bb-82515421a4e3",
   "metadata": {},
   "outputs": [],
   "source": [
    "df_raw['product_details'] = df_raw['product_details'].apply(lambda x: ast.literal_eval(x))"
   ]
  },
  {
   "cell_type": "code",
   "execution_count": 5,
   "id": "dca5dfdd-c582-48b4-9a1b-13574fcf1203",
   "metadata": {},
   "outputs": [],
   "source": [
    "all_keys = set()\n",
    "for data in df_raw['product_details']:\n",
    "    for item in data:\n",
    "        all_keys.update(item.keys())\n",
    "\n",
    "# Para cada chave no conjunto, crie uma coluna no DataFrame e preencha com os valores correspondentes\n",
    "for key in all_keys:\n",
    "    df_raw[key] = df_raw['product_details'].apply(lambda x: next((item[key] for item in x if key in item), np.nan))\n",
    "\n",
    "# Remova a coluna 'product_details' original\n",
    "df_raw.drop('product_details', axis=1, inplace=True)"
   ]
  },
  {
   "cell_type": "code",
   "execution_count": 6,
   "id": "62ff0a66-1f82-4c42-b403-e29cb016fcae",
   "metadata": {},
   "outputs": [],
   "source": [
    "df_raw.rename(columns={'Pack of': 'Pack Of 2'}, inplace=True)\n",
    "\n",
    "# Preencha os valores NaN na coluna 'Pack Of' com os valores da coluna 'Pack Of' 2\n",
    "df_raw['Pack Of'].fillna(df_raw['Pack Of 2'], inplace=True)\n",
    "\n",
    "df_raw.drop('Pack Of 2', axis=1, inplace=True)"
   ]
  },
  {
   "cell_type": "markdown",
   "id": "e1652605-6f2f-4915-ad92-0806b4328f9e",
   "metadata": {},
   "source": [
    "## Escolher as colunas com menos NaN"
   ]
  },
  {
   "cell_type": "code",
   "execution_count": 7,
   "id": "95fdfef2-223e-4450-9ec1-ea10ef79b58e",
   "metadata": {},
   "outputs": [],
   "source": [
    "details_to_maintain = ['_id',\n",
    "                       'average_rating',\n",
    "                       'number_of_reviews',\n",
    "                       'brand',\n",
    "                       'category',\n",
    "                       'crawled_at',\n",
    "                       'description',\n",
    "                       'images',\n",
    "                       'out_of_stock',\n",
    "                       'avg_delivery_time_days',\n",
    "                       'pid',\n",
    "                       'seller',\n",
    "                       'sub_category',\n",
    "                       'fabrication_time',\n",
    "                       'title',\n",
    "                       'actual_price',\n",
    "                       'Sleeve',\n",
    "                       'Pack Of',\n",
    "                       'Brand Color',\n",
    "                       'Size',\n",
    "                       'Fit',\n",
    "                       'Pattern',\n",
    "                       'Ideal For',\n",
    "                       'Suitable For',\n",
    "                       'Fabric',\n",
    "                       'Type',\n",
    "                       'product_details_count',]\n",
    "                       #'Shade',\n",
    "                       #'Pack Of 2']\n",
    "\n",
    "df_raw = df_raw[details_to_maintain]"
   ]
  },
  {
   "cell_type": "markdown",
   "id": "39b4c900-ccce-4f2e-ac1e-946d1c4c15e9",
   "metadata": {},
   "source": [
    "# Data Description"
   ]
  },
  {
   "cell_type": "code",
   "execution_count": 8,
   "id": "44c1211d-d921-4a97-b7b1-d162b76a1074",
   "metadata": {},
   "outputs": [],
   "source": [
    "df1 = df_raw.copy()"
   ]
  },
  {
   "cell_type": "code",
   "execution_count": 9,
   "id": "dc7e138f-e879-4895-a07d-0f2b1c9b165d",
   "metadata": {},
   "outputs": [
    {
     "name": "stdout",
     "output_type": "stream",
     "text": [
      "<class 'pandas.core.frame.DataFrame'>\n",
      "Index: 23309 entries, 0 to 23308\n",
      "Data columns (total 27 columns):\n",
      " #   Column                  Non-Null Count  Dtype         \n",
      "---  ------                  --------------  -----         \n",
      " 0   _id                     23309 non-null  object        \n",
      " 1   average_rating          23309 non-null  float64       \n",
      " 2   number_of_reviews       23309 non-null  int64         \n",
      " 3   brand                   23309 non-null  object        \n",
      " 4   category                23309 non-null  object        \n",
      " 5   crawled_at              23309 non-null  datetime64[ns]\n",
      " 6   description             23309 non-null  object        \n",
      " 7   images                  23309 non-null  object        \n",
      " 8   out_of_stock            23309 non-null  bool          \n",
      " 9   avg_delivery_time_days  23309 non-null  int64         \n",
      " 10  pid                     23309 non-null  object        \n",
      " 11  seller                  23309 non-null  object        \n",
      " 12  sub_category            23309 non-null  object        \n",
      " 13  fabrication_time        23309 non-null  int64         \n",
      " 14  title                   23309 non-null  object        \n",
      " 15  actual_price            19813 non-null  float64       \n",
      " 16  Sleeve                  15858 non-null  object        \n",
      " 17  Pack Of                 15842 non-null  object        \n",
      " 18  Brand Color             10852 non-null  object        \n",
      " 19  Size                    10374 non-null  object        \n",
      " 20  Fit                     14097 non-null  object        \n",
      " 21  Pattern                 21361 non-null  object        \n",
      " 22  Ideal For               14342 non-null  object        \n",
      " 23  Suitable For            16141 non-null  object        \n",
      " 24  Fabric                  21576 non-null  object        \n",
      " 25  Type                    14570 non-null  object        \n",
      " 26  product_details_count   23309 non-null  int64         \n",
      "dtypes: bool(1), datetime64[ns](1), float64(2), int64(4), object(19)\n",
      "memory usage: 4.8+ MB\n"
     ]
    }
   ],
   "source": [
    "df1.info()"
   ]
  },
  {
   "cell_type": "code",
   "execution_count": 10,
   "id": "04dc4f51-617b-4fa0-a819-fcee7dd7525f",
   "metadata": {},
   "outputs": [
    {
     "data": {
      "text/html": [
       "<div>\n",
       "<style scoped>\n",
       "    .dataframe tbody tr th:only-of-type {\n",
       "        vertical-align: middle;\n",
       "    }\n",
       "\n",
       "    .dataframe tbody tr th {\n",
       "        vertical-align: top;\n",
       "    }\n",
       "\n",
       "    .dataframe thead th {\n",
       "        text-align: right;\n",
       "    }\n",
       "</style>\n",
       "<table border=\"1\" class=\"dataframe\">\n",
       "  <thead>\n",
       "    <tr style=\"text-align: right;\">\n",
       "      <th></th>\n",
       "      <th>average_rating</th>\n",
       "      <th>number_of_reviews</th>\n",
       "      <th>crawled_at</th>\n",
       "      <th>avg_delivery_time_days</th>\n",
       "      <th>fabrication_time</th>\n",
       "      <th>actual_price</th>\n",
       "      <th>product_details_count</th>\n",
       "    </tr>\n",
       "  </thead>\n",
       "  <tbody>\n",
       "    <tr>\n",
       "      <th>count</th>\n",
       "      <td>23309.000000</td>\n",
       "      <td>23309.000000</td>\n",
       "      <td>23309</td>\n",
       "      <td>23309.000000</td>\n",
       "      <td>23309.000000</td>\n",
       "      <td>19813.000000</td>\n",
       "      <td>23309.000000</td>\n",
       "    </tr>\n",
       "    <tr>\n",
       "      <th>mean</th>\n",
       "      <td>3.367322</td>\n",
       "      <td>27.767386</td>\n",
       "      <td>2021-02-10 22:55:49.561242624</td>\n",
       "      <td>9.933502</td>\n",
       "      <td>366.663563</td>\n",
       "      <td>1480.980568</td>\n",
       "      <td>13.438500</td>\n",
       "    </tr>\n",
       "    <tr>\n",
       "      <th>min</th>\n",
       "      <td>0.000000</td>\n",
       "      <td>0.000000</td>\n",
       "      <td>2021-02-10 20:11:51</td>\n",
       "      <td>3.000000</td>\n",
       "      <td>1.000000</td>\n",
       "      <td>150.000000</td>\n",
       "      <td>1.000000</td>\n",
       "    </tr>\n",
       "    <tr>\n",
       "      <th>25%</th>\n",
       "      <td>3.100000</td>\n",
       "      <td>26.000000</td>\n",
       "      <td>2021-02-10 21:30:50</td>\n",
       "      <td>7.000000</td>\n",
       "      <td>184.000000</td>\n",
       "      <td>895.000000</td>\n",
       "      <td>11.000000</td>\n",
       "    </tr>\n",
       "    <tr>\n",
       "      <th>50%</th>\n",
       "      <td>3.700000</td>\n",
       "      <td>31.000000</td>\n",
       "      <td>2021-02-10 23:01:37</td>\n",
       "      <td>10.000000</td>\n",
       "      <td>369.000000</td>\n",
       "      <td>1256.000000</td>\n",
       "      <td>14.000000</td>\n",
       "    </tr>\n",
       "    <tr>\n",
       "      <th>75%</th>\n",
       "      <td>4.100000</td>\n",
       "      <td>34.000000</td>\n",
       "      <td>2021-02-11 00:17:54</td>\n",
       "      <td>13.000000</td>\n",
       "      <td>550.000000</td>\n",
       "      <td>1799.000000</td>\n",
       "      <td>17.000000</td>\n",
       "    </tr>\n",
       "    <tr>\n",
       "      <th>max</th>\n",
       "      <td>5.000000</td>\n",
       "      <td>41.000000</td>\n",
       "      <td>2021-02-11 01:31:55</td>\n",
       "      <td>19.000000</td>\n",
       "      <td>729.000000</td>\n",
       "      <td>12999.000000</td>\n",
       "      <td>25.000000</td>\n",
       "    </tr>\n",
       "    <tr>\n",
       "      <th>std</th>\n",
       "      <td>1.157570</td>\n",
       "      <td>9.555809</td>\n",
       "      <td>NaN</td>\n",
       "      <td>3.568971</td>\n",
       "      <td>210.255811</td>\n",
       "      <td>967.824650</td>\n",
       "      <td>4.517272</td>\n",
       "    </tr>\n",
       "  </tbody>\n",
       "</table>\n",
       "</div>"
      ],
      "text/plain": [
       "       average_rating  number_of_reviews                     crawled_at  \\\n",
       "count    23309.000000       23309.000000                          23309   \n",
       "mean         3.367322          27.767386  2021-02-10 22:55:49.561242624   \n",
       "min          0.000000           0.000000            2021-02-10 20:11:51   \n",
       "25%          3.100000          26.000000            2021-02-10 21:30:50   \n",
       "50%          3.700000          31.000000            2021-02-10 23:01:37   \n",
       "75%          4.100000          34.000000            2021-02-11 00:17:54   \n",
       "max          5.000000          41.000000            2021-02-11 01:31:55   \n",
       "std          1.157570           9.555809                            NaN   \n",
       "\n",
       "       avg_delivery_time_days  fabrication_time  actual_price  \\\n",
       "count            23309.000000      23309.000000  19813.000000   \n",
       "mean                 9.933502        366.663563   1480.980568   \n",
       "min                  3.000000          1.000000    150.000000   \n",
       "25%                  7.000000        184.000000    895.000000   \n",
       "50%                 10.000000        369.000000   1256.000000   \n",
       "75%                 13.000000        550.000000   1799.000000   \n",
       "max                 19.000000        729.000000  12999.000000   \n",
       "std                  3.568971        210.255811    967.824650   \n",
       "\n",
       "       product_details_count  \n",
       "count           23309.000000  \n",
       "mean               13.438500  \n",
       "min                 1.000000  \n",
       "25%                11.000000  \n",
       "50%                14.000000  \n",
       "75%                17.000000  \n",
       "max                25.000000  \n",
       "std                 4.517272  "
      ]
     },
     "execution_count": 10,
     "metadata": {},
     "output_type": "execute_result"
    }
   ],
   "source": [
    "df1.describe()"
   ]
  },
  {
   "cell_type": "markdown",
   "id": "ee80ea99-5783-448b-bacd-932cd8bb0493",
   "metadata": {},
   "source": [
    "## Criar colunas Numero de Imagens"
   ]
  },
  {
   "cell_type": "code",
   "execution_count": 11,
   "id": "ebbb09c8-2603-4222-9907-ad6b5861595f",
   "metadata": {},
   "outputs": [],
   "source": [
    "df1['images'] = df1['images'].apply(lambda x: ast.literal_eval(x))"
   ]
  },
  {
   "cell_type": "code",
   "execution_count": 12,
   "id": "35611077-73ff-4464-bb1f-009fb215cd9a",
   "metadata": {},
   "outputs": [],
   "source": [
    "df1['number_images'] = df1['images'].apply(lambda x: len(x))"
   ]
  },
  {
   "cell_type": "markdown",
   "id": "a1ea996b-8a4b-4183-8882-97812f964b7d",
   "metadata": {},
   "source": [
    "## Dropar colunas complicadas/descessarias"
   ]
  },
  {
   "cell_type": "code",
   "execution_count": 13,
   "id": "ee33fc92-2b42-4e8b-9403-57c4c7852df0",
   "metadata": {},
   "outputs": [],
   "source": [
    "cols_drop = ['_id','crawled_at','description','title','images']"
   ]
  },
  {
   "cell_type": "code",
   "execution_count": 14,
   "id": "475f53f0-07c6-4be7-96a9-7a3e5e44f2a5",
   "metadata": {},
   "outputs": [],
   "source": [
    "df1 = df1.drop(cols_drop, axis=1)"
   ]
  },
  {
   "cell_type": "code",
   "execution_count": 15,
   "id": "da1520d1-4dca-4495-a696-aaaa1631f8a7",
   "metadata": {},
   "outputs": [],
   "source": [
    "df1 = df1.dropna(subset='actual_price')"
   ]
  },
  {
   "cell_type": "code",
   "execution_count": 16,
   "id": "7e9198ad-089d-49cc-b5d0-2df85497a8f5",
   "metadata": {},
   "outputs": [],
   "source": [
    "df1 = df1.fillna(0)"
   ]
  },
  {
   "cell_type": "code",
   "execution_count": 17,
   "id": "cb51d3f2-388a-4063-9f4f-33b05945e8f6",
   "metadata": {},
   "outputs": [
    {
     "data": {
      "text/plain": [
       "average_rating            0\n",
       "number_of_reviews         0\n",
       "brand                     0\n",
       "category                  0\n",
       "out_of_stock              0\n",
       "avg_delivery_time_days    0\n",
       "pid                       0\n",
       "seller                    0\n",
       "sub_category              0\n",
       "fabrication_time          0\n",
       "actual_price              0\n",
       "Sleeve                    0\n",
       "Pack Of                   0\n",
       "Brand Color               0\n",
       "Size                      0\n",
       "Fit                       0\n",
       "Pattern                   0\n",
       "Ideal For                 0\n",
       "Suitable For              0\n",
       "Fabric                    0\n",
       "Type                      0\n",
       "product_details_count     0\n",
       "number_images             0\n",
       "dtype: int64"
      ]
     },
     "execution_count": 17,
     "metadata": {},
     "output_type": "execute_result"
    }
   ],
   "source": [
    "df1.isna().sum()"
   ]
  },
  {
   "cell_type": "markdown",
   "id": "e8b77fdb-0a07-411b-abb7-692bba51a844",
   "metadata": {},
   "source": [
    "## Encoders"
   ]
  },
  {
   "cell_type": "code",
   "execution_count": 18,
   "id": "03e301e3-c3c2-49ad-b803-69db0af4d6b2",
   "metadata": {},
   "outputs": [
    {
     "data": {
      "text/plain": [
       "average_rating               38\n",
       "number_of_reviews            32\n",
       "brand                       301\n",
       "category                      3\n",
       "out_of_stock                  2\n",
       "avg_delivery_time_days       17\n",
       "pid                       18718\n",
       "seller                      460\n",
       "sub_category                 23\n",
       "fabrication_time            729\n",
       "actual_price                636\n",
       "Sleeve                       20\n",
       "Pack Of                      14\n",
       "Brand Color                1611\n",
       "Size                         15\n",
       "Fit                          44\n",
       "Pattern                     107\n",
       "Ideal For                     6\n",
       "Suitable For                  5\n",
       "Fabric                      198\n",
       "Type                        143\n",
       "product_details_count        25\n",
       "number_images                22\n",
       "dtype: int64"
      ]
     },
     "execution_count": 18,
     "metadata": {},
     "output_type": "execute_result"
    }
   ],
   "source": [
    "df1.nunique()"
   ]
  },
  {
   "cell_type": "code",
   "execution_count": 19,
   "id": "98b2a551-6fb1-444d-8626-d86dab04bb3a",
   "metadata": {},
   "outputs": [
    {
     "data": {
      "text/plain": [
       "Index(['average_rating', 'number_of_reviews', 'brand', 'category',\n",
       "       'out_of_stock', 'avg_delivery_time_days', 'pid', 'seller',\n",
       "       'sub_category', 'fabrication_time', 'actual_price', 'Sleeve', 'Pack Of',\n",
       "       'Brand Color', 'Size', 'Fit', 'Pattern', 'Ideal For', 'Suitable For',\n",
       "       'Fabric', 'Type', 'product_details_count', 'number_images'],\n",
       "      dtype='object')"
      ]
     },
     "execution_count": 19,
     "metadata": {},
     "output_type": "execute_result"
    }
   ],
   "source": [
    "df1.columns"
   ]
  },
  {
   "cell_type": "code",
   "execution_count": 20,
   "id": "2b3cfe7c-e487-4aed-8658-06ae6ea3b320",
   "metadata": {},
   "outputs": [
    {
     "data": {
      "text/plain": [
       "average_rating            float64\n",
       "number_of_reviews           int64\n",
       "brand                      object\n",
       "category                   object\n",
       "out_of_stock                 bool\n",
       "avg_delivery_time_days      int64\n",
       "pid                        object\n",
       "seller                     object\n",
       "sub_category               object\n",
       "fabrication_time            int64\n",
       "actual_price              float64\n",
       "Sleeve                     object\n",
       "Pack Of                    object\n",
       "Brand Color                object\n",
       "Size                       object\n",
       "Fit                        object\n",
       "Pattern                    object\n",
       "Ideal For                  object\n",
       "Suitable For               object\n",
       "Fabric                     object\n",
       "Type                       object\n",
       "product_details_count       int64\n",
       "number_images               int64\n",
       "dtype: object"
      ]
     },
     "execution_count": 20,
     "metadata": {},
     "output_type": "execute_result"
    }
   ],
   "source": [
    "df1.dtypes"
   ]
  },
  {
   "cell_type": "code",
   "execution_count": 21,
   "id": "e711f57d-95bd-4345-a11d-3eb1a6c4a038",
   "metadata": {},
   "outputs": [],
   "source": [
    "#ONE HOT ENCODER\n",
    "onehot = ['category','out_of_stock']\n",
    "df1 = pd.get_dummies(df1, columns=onehot)"
   ]
  },
  {
   "cell_type": "code",
   "execution_count": 22,
   "id": "2357302d-1406-485f-998f-d5e335f7c4f4",
   "metadata": {},
   "outputs": [],
   "source": [
    "\n",
    "\n",
    "#TARGET ENCODER\n",
    "te_cols = ['brand','seller','sub_category','Sleeve', 'Pack Of',\n",
    "       'Brand Color', 'Size', 'Fit', 'Pattern', 'Ideal For', 'Suitable For',\n",
    "       'Fabric', 'Type']\n",
    "\n",
    "\n",
    "df1[te_cols] = df1[te_cols].astype(str)\n",
    "\n",
    "te = TargetEncoder(target_type='continuous')\n",
    "df1[te_cols] = te.fit_transform(df1[te_cols], df1['actual_price'])\n",
    "\n"
   ]
  },
  {
   "cell_type": "markdown",
   "id": "8bad1c59-d33d-4e2f-b2f2-d6ea772e6113",
   "metadata": {},
   "source": [
    "## Dropar ID E variável resposta"
   ]
  },
  {
   "cell_type": "code",
   "execution_count": 111,
   "id": "d2bd4845-03fb-45e9-b66d-06ecbc804d3e",
   "metadata": {},
   "outputs": [],
   "source": [
    "X = df1.drop(['pid','actual_price'], axis=1).copy()\n",
    "y = df1['actual_price'].copy()"
   ]
  },
  {
   "cell_type": "code",
   "execution_count": 112,
   "id": "cf7459b7-9b82-469e-a019-1dea2ccf9348",
   "metadata": {},
   "outputs": [
    {
     "data": {
      "image/png": "[encoded data removed]",
      "text/plain": [
       "<Figure size 1000x600 with 1 Axes>"
      ]
     },
     "metadata": {},
     "output_type": "display_data"
    }
   ],
   "source": [
    "from sklearn.ensemble import RandomForestRegressor\n",
    "\n",
    "# Crie o modelo Random Forest\n",
    "rf = RandomForestRegressor(n_estimators=100, random_state=42, n_jobs=1) \n",
    "\n",
    "# Treine o modelo\n",
    "rf.fit(X, y)\n",
    "\n",
    "# Obtenha a importância das características\n",
    "feature_importance = rf.feature_importances_\n",
    "\n",
    "# Crie um DataFrame para facilitar a visualização\n",
    "feature_importance_df = pd.DataFrame({'Feature': X.columns, 'Importance': feature_importance})\n",
    "\n",
    "# Classifique as características com base na importância\n",
    "feature_importance_df = feature_importance_df.sort_values(by='Importance', ascending=False)\n",
    "\n",
    "# Crie o gráfico de barras\n",
    "plt.figure(figsize=(10, 6))\n",
    "plt.barh(feature_importance_df['Feature'], feature_importance_df['Importance'])\n",
    "plt.xlabel('Importância da Característica')\n",
    "plt.ylabel('Característica')\n",
    "plt.title('Importância das Características - Random Forest')\n",
    "plt.show()"
   ]
  },
  {
   "cell_type": "markdown",
   "id": "487f1205-b9ae-4652-8a1d-cd37119942f9",
   "metadata": {},
   "source": [
    "# Machine Learning"
   ]
  },
  {
   "cell_type": "code",
   "execution_count": 113,
   "id": "4dc8e0f3-161d-40a9-a85f-b719e3e0a729",
   "metadata": {},
   "outputs": [],
   "source": [
    "X_train, X_val, y_train, y_val = train_test_split(X, y, test_size=0.2, random_state=42)"
   ]
  },
  {
   "cell_type": "code",
   "execution_count": 114,
   "id": "d581bd71-028b-4ff9-abea-2b566201097d",
   "metadata": {},
   "outputs": [
    {
     "data": {
      "text/plain": [
       "((15850, 24), (3963, 24))"
      ]
     },
     "execution_count": 114,
     "metadata": {},
     "output_type": "execute_result"
    }
   ],
   "source": [
    "X_train.shape, X_val.shape"
   ]
  },
  {
   "cell_type": "code",
   "execution_count": 115,
   "id": "2f8142d5-dcb9-498d-b088-9347bbf2beda",
   "metadata": {},
   "outputs": [],
   "source": [
    "# X_train.to_csv('X_train.csv', index=False)\n",
    "# y_train.to_csv('y_train.csv', index=False)\n",
    "# X_val.to_csv('X_val.csv', index=False)\n",
    "# y_val.to_csv('y_val.csv', index=False)\n"
   ]
  },
  {
   "cell_type": "markdown",
   "id": "bee34e95-a3f5-4f93-a0a5-9bfe636b57e8",
   "metadata": {},
   "source": [
    "## XGBoost"
   ]
  },
  {
   "cell_type": "code",
   "execution_count": 28,
   "id": "cb5a58a6-032a-4e91-a251-e9c23ffaf607",
   "metadata": {},
   "outputs": [
    {
     "data": {
      "text/html": [
       "<style>#sk-container-id-1 {color: black;}#sk-container-id-1 pre{padding: 0;}#sk-container-id-1 div.sk-toggleable {background-color: white;}#sk-container-id-1 label.sk-toggleable__label {cursor: pointer;display: block;width: 100%;margin-bottom: 0;padding: 0.3em;box-sizing: border-box;text-align: center;}#sk-container-id-1 label.sk-toggleable__label-arrow:before {content: \"▸\";float: left;margin-right: 0.25em;color: #696969;}#sk-container-id-1 label.sk-toggleable__label-arrow:hover:before {color: black;}#sk-container-id-1 div.sk-estimator:hover label.sk-toggleable__label-arrow:before {color: black;}#sk-container-id-1 div.sk-toggleable__content {max-height: 0;max-width: 0;overflow: hidden;text-align: left;background-color: #f0f8ff;}#sk-container-id-1 div.sk-toggleable__content pre {margin: 0.2em;color: black;border-radius: 0.25em;background-color: #f0f8ff;}#sk-container-id-1 input.sk-toggleable__control:checked~div.sk-toggleable__content {max-height: 200px;max-width: 100%;overflow: auto;}#sk-container-id-1 input.sk-toggleable__control:checked~label.sk-toggleable__label-arrow:before {content: \"▾\";}#sk-container-id-1 div.sk-estimator input.sk-toggleable__control:checked~label.sk-toggleable__label {background-color: #d4ebff;}#sk-container-id-1 div.sk-label input.sk-toggleable__control:checked~label.sk-toggleable__label {background-color: #d4ebff;}#sk-container-id-1 input.sk-hidden--visually {border: 0;clip: rect(1px 1px 1px 1px);clip: rect(1px, 1px, 1px, 1px);height: 1px;margin: -1px;overflow: hidden;padding: 0;position: absolute;width: 1px;}#sk-container-id-1 div.sk-estimator {font-family: monospace;background-color: #f0f8ff;border: 1px dotted black;border-radius: 0.25em;box-sizing: border-box;margin-bottom: 0.5em;}#sk-container-id-1 div.sk-estimator:hover {background-color: #d4ebff;}#sk-container-id-1 div.sk-parallel-item::after {content: \"\";width: 100%;border-bottom: 1px solid gray;flex-grow: 1;}#sk-container-id-1 div.sk-label:hover label.sk-toggleable__label {background-color: #d4ebff;}#sk-container-id-1 div.sk-serial::before {content: \"\";position: absolute;border-left: 1px solid gray;box-sizing: border-box;top: 0;bottom: 0;left: 50%;z-index: 0;}#sk-container-id-1 div.sk-serial {display: flex;flex-direction: column;align-items: center;background-color: white;padding-right: 0.2em;padding-left: 0.2em;position: relative;}#sk-container-id-1 div.sk-item {position: relative;z-index: 1;}#sk-container-id-1 div.sk-parallel {display: flex;align-items: stretch;justify-content: center;background-color: white;position: relative;}#sk-container-id-1 div.sk-item::before, #sk-container-id-1 div.sk-parallel-item::before {content: \"\";position: absolute;border-left: 1px solid gray;box-sizing: border-box;top: 0;bottom: 0;left: 50%;z-index: -1;}#sk-container-id-1 div.sk-parallel-item {display: flex;flex-direction: column;z-index: 1;position: relative;background-color: white;}#sk-container-id-1 div.sk-parallel-item:first-child::after {align-self: flex-end;width: 50%;}#sk-container-id-1 div.sk-parallel-item:last-child::after {align-self: flex-start;width: 50%;}#sk-container-id-1 div.sk-parallel-item:only-child::after {width: 0;}#sk-container-id-1 div.sk-dashed-wrapped {border: 1px dashed gray;margin: 0 0.4em 0.5em 0.4em;box-sizing: border-box;padding-bottom: 0.4em;background-color: white;}#sk-container-id-1 div.sk-label label {font-family: monospace;font-weight: bold;display: inline-block;line-height: 1.2em;}#sk-container-id-1 div.sk-label-container {text-align: center;}#sk-container-id-1 div.sk-container {/* jupyter's `normalize.less` sets `[hidden] { display: none; }` but bootstrap.min.css set `[hidden] { display: none !important; }` so we also need the `!important` here to be able to override the default hidden behavior on the sphinx rendered scikit-learn.org. See: https://github.com/scikit-learn/scikit-learn/issues/21755 */display: inline-block !important;position: relative;}#sk-container-id-1 div.sk-text-repr-fallback {display: none;}</style><div id=\"sk-container-id-1\" class=\"sk-top-container\"><div class=\"sk-text-repr-fallback\"><pre>XGBRegressor(base_score=None, booster=None, callbacks=None,\n",
       "             colsample_bylevel=None, colsample_bynode=None,\n",
       "             colsample_bytree=None, device=None, early_stopping_rounds=None,\n",
       "             enable_categorical=False, eval_metric=None, feature_types=None,\n",
       "             gamma=None, grow_policy=None, importance_type=None,\n",
       "             interaction_constraints=None, learning_rate=None, max_bin=None,\n",
       "             max_cat_threshold=None, max_cat_to_onehot=None,\n",
       "             max_delta_step=None, max_depth=None, max_leaves=None,\n",
       "             min_child_weight=None, missing=nan, monotone_constraints=None,\n",
       "             multi_strategy=None, n_estimators=None, n_jobs=None,\n",
       "             num_parallel_tree=None, random_state=None, ...)</pre><b>In a Jupyter environment, please rerun this cell to show the HTML representation or trust the notebook. <br />On GitHub, the HTML representation is unable to render, please try loading this page with nbviewer.org.</b></div><div class=\"sk-container\" hidden><div class=\"sk-item\"><div class=\"sk-estimator sk-toggleable\"><input class=\"sk-toggleable__control sk-hidden--visually\" id=\"sk-estimator-id-1\" type=\"checkbox\" checked><label for=\"sk-estimator-id-1\" class=\"sk-toggleable__label sk-toggleable__label-arrow\">XGBRegressor</label><div class=\"sk-toggleable__content\"><pre>XGBRegressor(base_score=None, booster=None, callbacks=None,\n",
       "             colsample_bylevel=None, colsample_bynode=None,\n",
       "             colsample_bytree=None, device=None, early_stopping_rounds=None,\n",
       "             enable_categorical=False, eval_metric=None, feature_types=None,\n",
       "             gamma=None, grow_policy=None, importance_type=None,\n",
       "             interaction_constraints=None, learning_rate=None, max_bin=None,\n",
       "             max_cat_threshold=None, max_cat_to_onehot=None,\n",
       "             max_delta_step=None, max_depth=None, max_leaves=None,\n",
       "             min_child_weight=None, missing=nan, monotone_constraints=None,\n",
       "             multi_strategy=None, n_estimators=None, n_jobs=None,\n",
       "             num_parallel_tree=None, random_state=None, ...)</pre></div></div></div></div></div>"
      ],
      "text/plain": [
       "XGBRegressor(base_score=None, booster=None, callbacks=None,\n",
       "             colsample_bylevel=None, colsample_bynode=None,\n",
       "             colsample_bytree=None, device=None, early_stopping_rounds=None,\n",
       "             enable_categorical=False, eval_metric=None, feature_types=None,\n",
       "             gamma=None, grow_policy=None, importance_type=None,\n",
       "             interaction_constraints=None, learning_rate=None, max_bin=None,\n",
       "             max_cat_threshold=None, max_cat_to_onehot=None,\n",
       "             max_delta_step=None, max_depth=None, max_leaves=None,\n",
       "             min_child_weight=None, missing=nan, monotone_constraints=None,\n",
       "             multi_strategy=None, n_estimators=None, n_jobs=None,\n",
       "             num_parallel_tree=None, random_state=None, ...)"
      ]
     },
     "execution_count": 28,
     "metadata": {},
     "output_type": "execute_result"
    }
   ],
   "source": [
    "from xgboost import XGBRegressor\n",
    "\n",
    "xgb = XGBRegressor()\n",
    "\n",
    "xgb.fit(X_train, y_train)"
   ]
  },
  {
   "cell_type": "code",
   "execution_count": 29,
   "id": "c9057ff5-f807-418f-af46-9af6900489d2",
   "metadata": {},
   "outputs": [],
   "source": [
    "y_pred_val = xgb.predict(X_val)"
   ]
  },
  {
   "cell_type": "code",
   "execution_count": 30,
   "id": "1db0adf2-31e5-4776-a884-0687e2877fa5",
   "metadata": {},
   "outputs": [],
   "source": [
    "from sklearn.metrics import mean_absolute_error, mean_absolute_percentage_error, mean_squared_error \n",
    "\n",
    "def smape(y_pred, y_test):\n",
    "\n",
    "    smape = 100 / len(y_test) * np.sum(2 * np.abs(y_pred - y_test) / (np.abs(y_test) + np.abs(y_pred)))\n",
    "    return smape"
   ]
  },
  {
   "cell_type": "code",
   "execution_count": 31,
   "id": "bf9674e0-cbe8-4c63-a699-c4240fa09e63",
   "metadata": {},
   "outputs": [
    {
     "name": "stdout",
     "output_type": "stream",
     "text": [
      "MAE: 228.37279318559962\n",
      "MAPE: 0.1475981181543136\n",
      "RMSE: 435.428790091591\n",
      "SMAPE: 14.759596644913918\n"
     ]
    }
   ],
   "source": [
    "print(f'MAE: {mean_absolute_error(y_pred_val, y_val)}')\n",
    "print(f'MAPE: {mean_absolute_percentage_error(y_pred_val, y_val)}')\n",
    "print(f'RMSE: {mean_squared_error(y_pred_val, y_val, squared=False)}')\n",
    "print(f'SMAPE: {smape(y_pred_val, y_val)}')\n"
   ]
  },
  {
   "cell_type": "markdown",
   "id": "2b9e2b39-77a6-438c-9a70-b71c9dd4af02",
   "metadata": {},
   "source": [
    "## Catboost"
   ]
  },
  {
   "cell_type": "code",
   "execution_count": 32,
   "id": "01b077f7-aa4f-4aee-8945-543a8377a8c0",
   "metadata": {
    "scrolled": true
   },
   "outputs": [],
   "source": [
    "from catboost import CatBoostRegressor\n",
    "\n",
    "cat = CatBoostRegressor(verbose=False)\n",
    "\n",
    "cat.fit(X_train, y_train)\n",
    "y_pred_cat = cat.predict(X_val)"
   ]
  },
  {
   "cell_type": "code",
   "execution_count": 33,
   "id": "e73428d5-81d8-4395-9baa-5faa33c1c0e2",
   "metadata": {},
   "outputs": [
    {
     "name": "stdout",
     "output_type": "stream",
     "text": [
      "MAE: 236.4899507461888\n",
      "MAPE: 0.15622223032512214\n",
      "RMSE: 413.874108935019\n",
      "SMAPE: 15.74831294488091\n"
     ]
    }
   ],
   "source": [
    "print(f'MAE: {mean_absolute_error(y_pred_cat, y_val)}')\n",
    "print(f'MAPE: {mean_absolute_percentage_error(y_pred_cat, y_val)}')\n",
    "print(f'RMSE: {mean_squared_error(y_pred_cat, y_val, squared=False)}')\n",
    "print(f'SMAPE: {smape(y_pred_cat, y_val)}')"
   ]
  },
  {
   "cell_type": "code",
   "execution_count": 34,
   "id": "ed7f69ff-bb2a-4977-8f37-0f54f59735e0",
   "metadata": {},
   "outputs": [
    {
     "data": {
      "text/plain": [
       "average_rating                       float64\n",
       "number_of_reviews                      int64\n",
       "brand                                float64\n",
       "avg_delivery_time_days                 int64\n",
       "seller                               float64\n",
       "sub_category                         float64\n",
       "fabrication_time                       int64\n",
       "Sleeve                               float64\n",
       "Pack Of                              float64\n",
       "Brand Color                          float64\n",
       "Size                                 float64\n",
       "Fit                                  float64\n",
       "Pattern                              float64\n",
       "Ideal For                            float64\n",
       "Suitable For                         float64\n",
       "Fabric                               float64\n",
       "Type                                 float64\n",
       "product_details_count                  int64\n",
       "number_images                          int64\n",
       "category_Bags, Wallets & Belts          bool\n",
       "category_Clothing and Accessories       bool\n",
       "category_Footwear                       bool\n",
       "out_of_stock_False                      bool\n",
       "out_of_stock_True                       bool\n",
       "dtype: object"
      ]
     },
     "execution_count": 34,
     "metadata": {},
     "output_type": "execute_result"
    }
   ],
   "source": [
    "X_train.dtypes"
   ]
  },
  {
   "cell_type": "code",
   "execution_count": 139,
   "id": "8cab7f82-9ea9-4a35-b6b4-73f05c804992",
   "metadata": {},
   "outputs": [],
   "source": [
    "import inflection\n",
    "\n",
    "X_train.columns = X_train.columns.map(lambda x: inflection.parameterize(x, separator='_'))\n",
    "X_val.columns = X_val.columns.map(lambda x: inflection.parameterize(x, separator='_'))\n",
    "X.columns = X.columns.map(lambda x: inflection.parameterize(x, separator='_'))"
   ]
  },
  {
   "cell_type": "code",
   "execution_count": 36,
   "id": "b77ee194-35c2-4906-b241-405fa3c80dec",
   "metadata": {},
   "outputs": [
    {
     "data": {
      "text/plain": [
       "average_rating                       float64\n",
       "number_of_reviews                      int64\n",
       "brand                                float64\n",
       "avg_delivery_time_days                 int64\n",
       "seller                               float64\n",
       "sub_category                         float64\n",
       "fabrication_time                       int64\n",
       "sleeve                               float64\n",
       "pack_of                              float64\n",
       "brand_color                          float64\n",
       "size                                 float64\n",
       "fit                                  float64\n",
       "pattern                              float64\n",
       "ideal_for                            float64\n",
       "suitable_for                         float64\n",
       "fabric                               float64\n",
       "type                                 float64\n",
       "product_details_count                  int64\n",
       "number_images                          int64\n",
       "category_bags_wallets_belts             bool\n",
       "category_clothing_and_accessories       bool\n",
       "category_footwear                       bool\n",
       "out_of_stock_false                      bool\n",
       "out_of_stock_true                       bool\n",
       "dtype: object"
      ]
     },
     "execution_count": 36,
     "metadata": {},
     "output_type": "execute_result"
    }
   ],
   "source": [
    "X_train.dtypes"
   ]
  },
  {
   "cell_type": "markdown",
   "id": "8e0dd14d-f4ed-4d15-8ab4-b4d81fc6509d",
   "metadata": {},
   "source": [
    "## LightGBM"
   ]
  },
  {
   "cell_type": "code",
   "execution_count": 37,
   "id": "d42ed18a-d073-439b-91c0-e4f39ac732be",
   "metadata": {},
   "outputs": [
    {
     "name": "stdout",
     "output_type": "stream",
     "text": [
      "[LightGBM] [Info] Auto-choosing row-wise multi-threading, the overhead of testing was 0.000727 seconds.\n",
      "You can set `force_row_wise=true` to remove the overhead.\n",
      "And if memory is not enough, you can set `force_col_wise=true`.\n",
      "[LightGBM] [Info] Total Bins 1982\n",
      "[LightGBM] [Info] Number of data points in the train set: 15850, number of used features: 23\n",
      "[LightGBM] [Info] Start training from score 1475.283722\n"
     ]
    }
   ],
   "source": [
    "from lightgbm import LGBMRegressor\n",
    "\n",
    "lgb = LGBMRegressor()\n",
    "\n",
    "lgb.fit(X_train, y_train)\n",
    "\n",
    "y_pred_lgb = lgb.predict(X_val)"
   ]
  },
  {
   "cell_type": "code",
   "execution_count": 38,
   "id": "db34bdf2-5c31-4006-99b3-cf6838d2806f",
   "metadata": {},
   "outputs": [
    {
     "name": "stdout",
     "output_type": "stream",
     "text": [
      "MAE: 244.69682035621267\n",
      "MAPE: 0.16225639854822227\n",
      "RMSE: 426.60651245218617\n",
      "SMAPE: 16.34037084253946\n"
     ]
    }
   ],
   "source": [
    "print(f'MAE: {mean_absolute_error(y_pred_lgb, y_val)}')\n",
    "print(f'MAPE: {mean_absolute_percentage_error(y_pred_lgb, y_val)}')\n",
    "print(f'RMSE: {mean_squared_error(y_pred_lgb, y_val, squared=False)}')\n",
    "print(f'SMAPE: {smape(y_pred_lgb, y_val)}')"
   ]
  },
  {
   "cell_type": "markdown",
   "id": "882fbe3f-0a75-40b6-8964-c5afccbff413",
   "metadata": {},
   "source": [
    "## Random Forest"
   ]
  },
  {
   "cell_type": "code",
   "execution_count": 140,
   "id": "4801bc39-dcc4-4202-ab14-87b87b75c341",
   "metadata": {},
   "outputs": [],
   "source": [
    "from sklearn.ensemble import RandomForestRegressor\n",
    "\n",
    "rf = RandomForestRegressor(n_jobs=-1)\n",
    "\n",
    "rf.fit(X_train, y_train)\n",
    "\n",
    "y_pred_rf = rf.predict(X_val)"
   ]
  },
  {
   "cell_type": "code",
   "execution_count": 141,
   "id": "871835b1-b68d-4186-a6d7-aa89dd8527e4",
   "metadata": {},
   "outputs": [
    {
     "name": "stdout",
     "output_type": "stream",
     "text": [
      "MAE: 187.906826898814\n",
      "MAPE: 0.11430953117124092\n",
      "RMSE: 408.67300210578844\n",
      "SMAPE: 11.476415469286373\n"
     ]
    }
   ],
   "source": [
    "print(f'MAE: {mean_absolute_error(y_pred_rf, y_val)}')\n",
    "print(f'MAPE: {mean_absolute_percentage_error(y_pred_rf, y_val)}')\n",
    "print(f'RMSE: {mean_squared_error(y_pred_rf, y_val, squared=False)}')\n",
    "print(f'SMAPE: {smape(y_pred_rf, y_val)}')"
   ]
  },
  {
   "cell_type": "code",
   "execution_count": 118,
   "id": "79096276-0ab5-4f86-88eb-6a39f7dc421b",
   "metadata": {},
   "outputs": [
    {
     "data": {
      "text/plain": [
       "{'bootstrap': True,\n",
       " 'ccp_alpha': 0.0,\n",
       " 'criterion': 'squared_error',\n",
       " 'max_depth': None,\n",
       " 'max_features': 1.0,\n",
       " 'max_leaf_nodes': None,\n",
       " 'max_samples': None,\n",
       " 'min_impurity_decrease': 0.0,\n",
       " 'min_samples_leaf': 1,\n",
       " 'min_samples_split': 2,\n",
       " 'min_weight_fraction_leaf': 0.0,\n",
       " 'n_estimators': 100,\n",
       " 'n_jobs': -1,\n",
       " 'oob_score': False,\n",
       " 'random_state': None,\n",
       " 'verbose': 0,\n",
       " 'warm_start': False}"
      ]
     },
     "execution_count": 118,
     "metadata": {},
     "output_type": "execute_result"
    }
   ],
   "source": [
    "rf.get_params()"
   ]
  },
  {
   "cell_type": "code",
   "execution_count": 138,
   "id": "fb8a0a0b-9e9a-4364-b519-ba3a917950c5",
   "metadata": {},
   "outputs": [
    {
     "data": {
      "text/html": [
       "<div>\n",
       "<style scoped>\n",
       "    .dataframe tbody tr th:only-of-type {\n",
       "        vertical-align: middle;\n",
       "    }\n",
       "\n",
       "    .dataframe tbody tr th {\n",
       "        vertical-align: top;\n",
       "    }\n",
       "\n",
       "    .dataframe thead th {\n",
       "        text-align: right;\n",
       "    }\n",
       "</style>\n",
       "<table border=\"1\" class=\"dataframe\">\n",
       "  <thead>\n",
       "    <tr style=\"text-align: right;\">\n",
       "      <th></th>\n",
       "      <th>average_rating</th>\n",
       "      <th>number_of_reviews</th>\n",
       "      <th>brand</th>\n",
       "      <th>avg_delivery_time_days</th>\n",
       "      <th>seller</th>\n",
       "      <th>sub_category</th>\n",
       "      <th>fabrication_time</th>\n",
       "      <th>Sleeve</th>\n",
       "      <th>Pack Of</th>\n",
       "      <th>Brand Color</th>\n",
       "      <th>Size</th>\n",
       "      <th>Fit</th>\n",
       "      <th>Pattern</th>\n",
       "      <th>Ideal For</th>\n",
       "      <th>Suitable For</th>\n",
       "      <th>Fabric</th>\n",
       "      <th>Type</th>\n",
       "      <th>product_details_count</th>\n",
       "      <th>number_images</th>\n",
       "      <th>category_Bags, Wallets &amp; Belts</th>\n",
       "      <th>category_Clothing and Accessories</th>\n",
       "      <th>category_Footwear</th>\n",
       "      <th>out_of_stock_False</th>\n",
       "      <th>out_of_stock_True</th>\n",
       "    </tr>\n",
       "  </thead>\n",
       "  <tbody>\n",
       "    <tr>\n",
       "      <th>21651</th>\n",
       "      <td>3.7</td>\n",
       "      <td>31</td>\n",
       "      <td>1117.921028</td>\n",
       "      <td>10</td>\n",
       "      <td>958.473703</td>\n",
       "      <td>2536.332007</td>\n",
       "      <td>487</td>\n",
       "      <td>1487.483433</td>\n",
       "      <td>1458.203630</td>\n",
       "      <td>1709.306289</td>\n",
       "      <td>1711.481488</td>\n",
       "      <td>1618.465506</td>\n",
       "      <td>1626.712066</td>\n",
       "      <td>1628.458355</td>\n",
       "      <td>1320.149935</td>\n",
       "      <td>1500.661285</td>\n",
       "      <td>1689.752954</td>\n",
       "      <td>6</td>\n",
       "      <td>4</td>\n",
       "      <td>False</td>\n",
       "      <td>True</td>\n",
       "      <td>False</td>\n",
       "      <td>True</td>\n",
       "      <td>False</td>\n",
       "    </tr>\n",
       "    <tr>\n",
       "      <th>20460</th>\n",
       "      <td>4.2</td>\n",
       "      <td>35</td>\n",
       "      <td>2688.747174</td>\n",
       "      <td>13</td>\n",
       "      <td>2366.384397</td>\n",
       "      <td>1297.629320</td>\n",
       "      <td>456</td>\n",
       "      <td>1173.873680</td>\n",
       "      <td>1431.697045</td>\n",
       "      <td>883.147871</td>\n",
       "      <td>1181.609671</td>\n",
       "      <td>1296.860070</td>\n",
       "      <td>1275.565616</td>\n",
       "      <td>1383.898351</td>\n",
       "      <td>1549.183185</td>\n",
       "      <td>1368.340557</td>\n",
       "      <td>1131.836403</td>\n",
       "      <td>18</td>\n",
       "      <td>6</td>\n",
       "      <td>False</td>\n",
       "      <td>True</td>\n",
       "      <td>False</td>\n",
       "      <td>True</td>\n",
       "      <td>False</td>\n",
       "    </tr>\n",
       "    <tr>\n",
       "      <th>11783</th>\n",
       "      <td>4.5</td>\n",
       "      <td>37</td>\n",
       "      <td>994.784365</td>\n",
       "      <td>15</td>\n",
       "      <td>994.765589</td>\n",
       "      <td>954.127172</td>\n",
       "      <td>163</td>\n",
       "      <td>1484.533563</td>\n",
       "      <td>1466.876071</td>\n",
       "      <td>1710.351795</td>\n",
       "      <td>1712.744425</td>\n",
       "      <td>1618.451191</td>\n",
       "      <td>1588.341060</td>\n",
       "      <td>1630.999146</td>\n",
       "      <td>1318.437388</td>\n",
       "      <td>1077.067714</td>\n",
       "      <td>1694.581381</td>\n",
       "      <td>5</td>\n",
       "      <td>0</td>\n",
       "      <td>False</td>\n",
       "      <td>True</td>\n",
       "      <td>False</td>\n",
       "      <td>True</td>\n",
       "      <td>False</td>\n",
       "    </tr>\n",
       "    <tr>\n",
       "      <th>5488</th>\n",
       "      <td>4.0</td>\n",
       "      <td>33</td>\n",
       "      <td>2419.445643</td>\n",
       "      <td>12</td>\n",
       "      <td>2433.351723</td>\n",
       "      <td>1992.348912</td>\n",
       "      <td>541</td>\n",
       "      <td>1484.533563</td>\n",
       "      <td>1466.876071</td>\n",
       "      <td>1710.351795</td>\n",
       "      <td>1712.744425</td>\n",
       "      <td>1618.451191</td>\n",
       "      <td>1588.341060</td>\n",
       "      <td>1630.999146</td>\n",
       "      <td>1318.437388</td>\n",
       "      <td>2278.849494</td>\n",
       "      <td>1940.080374</td>\n",
       "      <td>6</td>\n",
       "      <td>6</td>\n",
       "      <td>False</td>\n",
       "      <td>True</td>\n",
       "      <td>False</td>\n",
       "      <td>True</td>\n",
       "      <td>False</td>\n",
       "    </tr>\n",
       "    <tr>\n",
       "      <th>19484</th>\n",
       "      <td>4.1</td>\n",
       "      <td>34</td>\n",
       "      <td>1502.877623</td>\n",
       "      <td>13</td>\n",
       "      <td>1502.877623</td>\n",
       "      <td>1296.724832</td>\n",
       "      <td>387</td>\n",
       "      <td>1175.220231</td>\n",
       "      <td>1427.855411</td>\n",
       "      <td>1712.967593</td>\n",
       "      <td>1715.010047</td>\n",
       "      <td>999.000000</td>\n",
       "      <td>1486.702007</td>\n",
       "      <td>1629.711641</td>\n",
       "      <td>1547.554396</td>\n",
       "      <td>1484.430353</td>\n",
       "      <td>1694.869493</td>\n",
       "      <td>15</td>\n",
       "      <td>4</td>\n",
       "      <td>False</td>\n",
       "      <td>True</td>\n",
       "      <td>False</td>\n",
       "      <td>True</td>\n",
       "      <td>False</td>\n",
       "    </tr>\n",
       "    <tr>\n",
       "      <th>...</th>\n",
       "      <td>...</td>\n",
       "      <td>...</td>\n",
       "      <td>...</td>\n",
       "      <td>...</td>\n",
       "      <td>...</td>\n",
       "      <td>...</td>\n",
       "      <td>...</td>\n",
       "      <td>...</td>\n",
       "      <td>...</td>\n",
       "      <td>...</td>\n",
       "      <td>...</td>\n",
       "      <td>...</td>\n",
       "      <td>...</td>\n",
       "      <td>...</td>\n",
       "      <td>...</td>\n",
       "      <td>...</td>\n",
       "      <td>...</td>\n",
       "      <td>...</td>\n",
       "      <td>...</td>\n",
       "      <td>...</td>\n",
       "      <td>...</td>\n",
       "      <td>...</td>\n",
       "      <td>...</td>\n",
       "      <td>...</td>\n",
       "    </tr>\n",
       "    <tr>\n",
       "      <th>13278</th>\n",
       "      <td>3.4</td>\n",
       "      <td>28</td>\n",
       "      <td>1617.869230</td>\n",
       "      <td>9</td>\n",
       "      <td>1617.869230</td>\n",
       "      <td>1302.903611</td>\n",
       "      <td>263</td>\n",
       "      <td>1267.960060</td>\n",
       "      <td>1618.095233</td>\n",
       "      <td>1377.120232</td>\n",
       "      <td>1162.423519</td>\n",
       "      <td>1308.869578</td>\n",
       "      <td>1587.541872</td>\n",
       "      <td>1388.399620</td>\n",
       "      <td>1557.084778</td>\n",
       "      <td>1498.137999</td>\n",
       "      <td>1139.188058</td>\n",
       "      <td>20</td>\n",
       "      <td>5</td>\n",
       "      <td>False</td>\n",
       "      <td>True</td>\n",
       "      <td>False</td>\n",
       "      <td>True</td>\n",
       "      <td>False</td>\n",
       "    </tr>\n",
       "    <tr>\n",
       "      <th>14078</th>\n",
       "      <td>3.9</td>\n",
       "      <td>32</td>\n",
       "      <td>1199.000000</td>\n",
       "      <td>11</td>\n",
       "      <td>1199.000000</td>\n",
       "      <td>1297.629320</td>\n",
       "      <td>401</td>\n",
       "      <td>1173.873680</td>\n",
       "      <td>1431.697045</td>\n",
       "      <td>976.990845</td>\n",
       "      <td>1230.381847</td>\n",
       "      <td>1296.860070</td>\n",
       "      <td>1275.565616</td>\n",
       "      <td>1383.898351</td>\n",
       "      <td>1549.183185</td>\n",
       "      <td>1368.340557</td>\n",
       "      <td>1131.836403</td>\n",
       "      <td>18</td>\n",
       "      <td>2</td>\n",
       "      <td>False</td>\n",
       "      <td>True</td>\n",
       "      <td>False</td>\n",
       "      <td>True</td>\n",
       "      <td>False</td>\n",
       "    </tr>\n",
       "    <tr>\n",
       "      <th>6357</th>\n",
       "      <td>3.2</td>\n",
       "      <td>26</td>\n",
       "      <td>1237.137730</td>\n",
       "      <td>8</td>\n",
       "      <td>1240.664364</td>\n",
       "      <td>1302.903611</td>\n",
       "      <td>637</td>\n",
       "      <td>1267.960060</td>\n",
       "      <td>1431.477104</td>\n",
       "      <td>1134.819419</td>\n",
       "      <td>1177.608424</td>\n",
       "      <td>1415.218642</td>\n",
       "      <td>1290.807402</td>\n",
       "      <td>1388.399620</td>\n",
       "      <td>1557.084778</td>\n",
       "      <td>1498.137999</td>\n",
       "      <td>1139.188058</td>\n",
       "      <td>17</td>\n",
       "      <td>6</td>\n",
       "      <td>False</td>\n",
       "      <td>True</td>\n",
       "      <td>False</td>\n",
       "      <td>True</td>\n",
       "      <td>False</td>\n",
       "    </tr>\n",
       "    <tr>\n",
       "      <th>1003</th>\n",
       "      <td>3.4</td>\n",
       "      <td>28</td>\n",
       "      <td>992.383159</td>\n",
       "      <td>9</td>\n",
       "      <td>858.240866</td>\n",
       "      <td>1300.285269</td>\n",
       "      <td>315</td>\n",
       "      <td>1169.419281</td>\n",
       "      <td>1439.663142</td>\n",
       "      <td>1537.925306</td>\n",
       "      <td>1131.619142</td>\n",
       "      <td>1307.592591</td>\n",
       "      <td>1636.641186</td>\n",
       "      <td>1394.748519</td>\n",
       "      <td>1560.163921</td>\n",
       "      <td>1385.270677</td>\n",
       "      <td>1133.353843</td>\n",
       "      <td>18</td>\n",
       "      <td>4</td>\n",
       "      <td>False</td>\n",
       "      <td>True</td>\n",
       "      <td>False</td>\n",
       "      <td>True</td>\n",
       "      <td>False</td>\n",
       "    </tr>\n",
       "    <tr>\n",
       "      <th>18565</th>\n",
       "      <td>3.4</td>\n",
       "      <td>28</td>\n",
       "      <td>1617.869230</td>\n",
       "      <td>9</td>\n",
       "      <td>1617.869230</td>\n",
       "      <td>1302.903611</td>\n",
       "      <td>468</td>\n",
       "      <td>1267.960060</td>\n",
       "      <td>1893.329389</td>\n",
       "      <td>1894.308096</td>\n",
       "      <td>1226.288002</td>\n",
       "      <td>1308.869578</td>\n",
       "      <td>1804.750815</td>\n",
       "      <td>1388.399620</td>\n",
       "      <td>1557.084778</td>\n",
       "      <td>1498.137999</td>\n",
       "      <td>1139.188058</td>\n",
       "      <td>18</td>\n",
       "      <td>8</td>\n",
       "      <td>False</td>\n",
       "      <td>True</td>\n",
       "      <td>False</td>\n",
       "      <td>True</td>\n",
       "      <td>False</td>\n",
       "    </tr>\n",
       "  </tbody>\n",
       "</table>\n",
       "<p>15850 rows × 24 columns</p>\n",
       "</div>"
      ],
      "text/plain": [
       "       average_rating  number_of_reviews        brand  avg_delivery_time_days  \\\n",
       "21651             3.7                 31  1117.921028                      10   \n",
       "20460             4.2                 35  2688.747174                      13   \n",
       "11783             4.5                 37   994.784365                      15   \n",
       "5488              4.0                 33  2419.445643                      12   \n",
       "19484             4.1                 34  1502.877623                      13   \n",
       "...               ...                ...          ...                     ...   \n",
       "13278             3.4                 28  1617.869230                       9   \n",
       "14078             3.9                 32  1199.000000                      11   \n",
       "6357              3.2                 26  1237.137730                       8   \n",
       "1003              3.4                 28   992.383159                       9   \n",
       "18565             3.4                 28  1617.869230                       9   \n",
       "\n",
       "            seller  sub_category  fabrication_time       Sleeve      Pack Of  \\\n",
       "21651   958.473703   2536.332007               487  1487.483433  1458.203630   \n",
       "20460  2366.384397   1297.629320               456  1173.873680  1431.697045   \n",
       "11783   994.765589    954.127172               163  1484.533563  1466.876071   \n",
       "5488   2433.351723   1992.348912               541  1484.533563  1466.876071   \n",
       "19484  1502.877623   1296.724832               387  1175.220231  1427.855411   \n",
       "...            ...           ...               ...          ...          ...   \n",
       "13278  1617.869230   1302.903611               263  1267.960060  1618.095233   \n",
       "14078  1199.000000   1297.629320               401  1173.873680  1431.697045   \n",
       "6357   1240.664364   1302.903611               637  1267.960060  1431.477104   \n",
       "1003    858.240866   1300.285269               315  1169.419281  1439.663142   \n",
       "18565  1617.869230   1302.903611               468  1267.960060  1893.329389   \n",
       "\n",
       "       Brand Color         Size          Fit      Pattern    Ideal For  \\\n",
       "21651  1709.306289  1711.481488  1618.465506  1626.712066  1628.458355   \n",
       "20460   883.147871  1181.609671  1296.860070  1275.565616  1383.898351   \n",
       "11783  1710.351795  1712.744425  1618.451191  1588.341060  1630.999146   \n",
       "5488   1710.351795  1712.744425  1618.451191  1588.341060  1630.999146   \n",
       "19484  1712.967593  1715.010047   999.000000  1486.702007  1629.711641   \n",
       "...            ...          ...          ...          ...          ...   \n",
       "13278  1377.120232  1162.423519  1308.869578  1587.541872  1388.399620   \n",
       "14078   976.990845  1230.381847  1296.860070  1275.565616  1383.898351   \n",
       "6357   1134.819419  1177.608424  1415.218642  1290.807402  1388.399620   \n",
       "1003   1537.925306  1131.619142  1307.592591  1636.641186  1394.748519   \n",
       "18565  1894.308096  1226.288002  1308.869578  1804.750815  1388.399620   \n",
       "\n",
       "       Suitable For       Fabric         Type  product_details_count  \\\n",
       "21651   1320.149935  1500.661285  1689.752954                      6   \n",
       "20460   1549.183185  1368.340557  1131.836403                     18   \n",
       "11783   1318.437388  1077.067714  1694.581381                      5   \n",
       "5488    1318.437388  2278.849494  1940.080374                      6   \n",
       "19484   1547.554396  1484.430353  1694.869493                     15   \n",
       "...             ...          ...          ...                    ...   \n",
       "13278   1557.084778  1498.137999  1139.188058                     20   \n",
       "14078   1549.183185  1368.340557  1131.836403                     18   \n",
       "6357    1557.084778  1498.137999  1139.188058                     17   \n",
       "1003    1560.163921  1385.270677  1133.353843                     18   \n",
       "18565   1557.084778  1498.137999  1139.188058                     18   \n",
       "\n",
       "       number_images  category_Bags, Wallets & Belts  \\\n",
       "21651              4                           False   \n",
       "20460              6                           False   \n",
       "11783              0                           False   \n",
       "5488               6                           False   \n",
       "19484              4                           False   \n",
       "...              ...                             ...   \n",
       "13278              5                           False   \n",
       "14078              2                           False   \n",
       "6357               6                           False   \n",
       "1003               4                           False   \n",
       "18565              8                           False   \n",
       "\n",
       "       category_Clothing and Accessories  category_Footwear  \\\n",
       "21651                               True              False   \n",
       "20460                               True              False   \n",
       "11783                               True              False   \n",
       "5488                                True              False   \n",
       "19484                               True              False   \n",
       "...                                  ...                ...   \n",
       "13278                               True              False   \n",
       "14078                               True              False   \n",
       "6357                                True              False   \n",
       "1003                                True              False   \n",
       "18565                               True              False   \n",
       "\n",
       "       out_of_stock_False  out_of_stock_True  \n",
       "21651                True              False  \n",
       "20460                True              False  \n",
       "11783                True              False  \n",
       "5488                 True              False  \n",
       "19484                True              False  \n",
       "...                   ...                ...  \n",
       "13278                True              False  \n",
       "14078                True              False  \n",
       "6357                 True              False  \n",
       "1003                 True              False  \n",
       "18565                True              False  \n",
       "\n",
       "[15850 rows x 24 columns]"
      ]
     },
     "execution_count": 138,
     "metadata": {},
     "output_type": "execute_result"
    }
   ],
   "source": [
    "X_train"
   ]
  },
  {
   "cell_type": "markdown",
   "id": "223be484-bce5-41f0-b5d5-40e16870c00d",
   "metadata": {},
   "source": [
    "## Fine Tuning Optuna"
   ]
  },
  {
   "cell_type": "code",
   "execution_count": 42,
   "id": "6f1139b2-472e-40bd-859b-663389137d4e",
   "metadata": {},
   "outputs": [],
   "source": [
    "import optuna"
   ]
  },
  {
   "cell_type": "code",
   "execution_count": 57,
   "id": "160d4be9-a210-49a3-b705-c37e750e395b",
   "metadata": {},
   "outputs": [],
   "source": [
    "def objective(trial):\n",
    "    # Defina os parâmetros que você deseja otimizar\n",
    "    n_estimators = trial.suggest_int('n_estimators', 500, 1000, 100)\n",
    "    max_depth = trial.suggest_int('max_depth', 60, 120)\n",
    "    #min_samples_split = trial.suggest_float('min_samples_split', 2,3)\n",
    "   # min_samples_leaf = trial.suggest_float('min_samples_leaf', 1, 2)\n",
    "    max_features = trial.suggest_int('max_features', 15, 45)\n",
    "\n",
    "    # Crie o modelo Random Forest com os parâmetros otimizados\n",
    "    model = RandomForestRegressor(\n",
    "        n_estimators=n_estimators,\n",
    "        max_depth=max_depth,\n",
    "        min_samples_split=2,\n",
    "        min_samples_leaf=1,\n",
    "        max_features=max_features,\n",
    "        bootstrap=True,  # Mantenha os outros parâmetros inalterados\n",
    "        ccp_alpha=0.0,\n",
    "        criterion='squared_error',\n",
    "        max_leaf_nodes=None,\n",
    "        max_samples=None,\n",
    "        min_impurity_decrease=0.0,\n",
    "        min_weight_fraction_leaf=0.0,\n",
    "        n_jobs=-1,\n",
    "        oob_score=False,\n",
    "        random_state=None,\n",
    "        verbose=0,\n",
    "        warm_start=False\n",
    "    )\n",
    "    \n",
    "    model.fit(X_train, y_train)\n",
    "    \n",
    "    y_pred = model.predict(X_val)\n",
    "    \n",
    "    smape_error = smape(y_pred, y_val)\n",
    "    \n",
    "    return smape_error"
   ]
  },
  {
   "cell_type": "code",
   "execution_count": 58,
   "id": "5d01da43-767c-49e5-98ce-39c2f8ccdac6",
   "metadata": {},
   "outputs": [
    {
     "name": "stderr",
     "output_type": "stream",
     "text": [
      "[I 2023-10-21 16:52:01,086] A new study created in memory with name: no-name-b991d37a-9929-44a1-baca-472fc2d1ee1c\n",
      "[I 2023-10-21 16:52:09,986] Trial 0 finished with value: 11.321444200087477 and parameters: {'n_estimators': 600, 'max_depth': 87, 'max_features': 18}. Best is trial 0 with value: 11.321444200087477.\n",
      "[I 2023-10-21 16:52:21,380] Trial 1 finished with value: 11.311211658434589 and parameters: {'n_estimators': 600, 'max_depth': 68, 'max_features': 25}. Best is trial 1 with value: 11.311211658434589.\n",
      "[I 2023-10-21 16:52:28,408] Trial 2 finished with value: 11.358593197504522 and parameters: {'n_estimators': 500, 'max_depth': 111, 'max_features': 16}. Best is trial 1 with value: 11.311211658434589.\n",
      "[I 2023-10-21 16:52:42,235] Trial 3 finished with value: 11.316928503046725 and parameters: {'n_estimators': 700, 'max_depth': 104, 'max_features': 36}. Best is trial 1 with value: 11.311211658434589.\n",
      "[I 2023-10-21 16:52:56,946] Trial 4 finished with value: 11.33763117885309 and parameters: {'n_estimators': 900, 'max_depth': 72, 'max_features': 18}. Best is trial 1 with value: 11.311211658434589.\n",
      "[I 2023-10-21 16:53:14,885] Trial 5 finished with value: 11.292298963227335 and parameters: {'n_estimators': 900, 'max_depth': 66, 'max_features': 43}. Best is trial 5 with value: 11.292298963227335.\n",
      "[I 2023-10-21 16:53:34,526] Trial 6 finished with value: 11.31403527926259 and parameters: {'n_estimators': 1000, 'max_depth': 92, 'max_features': 45}. Best is trial 5 with value: 11.292298963227335.\n",
      "[I 2023-10-21 16:53:44,334] Trial 7 finished with value: 11.318451156375563 and parameters: {'n_estimators': 500, 'max_depth': 104, 'max_features': 44}. Best is trial 5 with value: 11.292298963227335.\n",
      "[I 2023-10-21 16:53:53,018] Trial 8 finished with value: 11.345493186430897 and parameters: {'n_estimators': 600, 'max_depth': 93, 'max_features': 17}. Best is trial 5 with value: 11.292298963227335.\n",
      "[I 2023-10-21 16:54:02,646] Trial 9 finished with value: 11.3198946781844 and parameters: {'n_estimators': 600, 'max_depth': 109, 'max_features': 19}. Best is trial 5 with value: 11.292298963227335.\n",
      "[I 2023-10-21 16:54:20,044] Trial 10 finished with value: 11.325693289472204 and parameters: {'n_estimators': 900, 'max_depth': 63, 'max_features': 36}. Best is trial 5 with value: 11.292298963227335.\n",
      "[I 2023-10-21 16:54:35,892] Trial 11 finished with value: 11.300916768776489 and parameters: {'n_estimators': 800, 'max_depth': 73, 'max_features': 26}. Best is trial 5 with value: 11.292298963227335.\n",
      "[W 2023-10-21 16:54:51,152] Trial 12 failed with parameters: {'n_estimators': 800, 'max_depth': 78, 'max_features': 27} because of the following error: KeyboardInterrupt().\n",
      "Traceback (most recent call last):\n",
      "  File \"/home/edilson07/.pyenv/versions/3.10.11/envs/hackday_6/lib/python3.10/site-packages/optuna/study/_optimize.py\", line 200, in _run_trial\n",
      "    value_or_values = func(trial)\n",
      "  File \"/tmp/ipykernel_39371/750063592.py\", line 30, in objective\n",
      "    model.fit(X_train, y_train)\n",
      "  File \"/home/edilson07/.pyenv/versions/3.10.11/envs/hackday_6/lib/python3.10/site-packages/sklearn/base.py\", line 1152, in wrapper\n",
      "    return fit_method(estimator, *args, **kwargs)\n",
      "  File \"/home/edilson07/.pyenv/versions/3.10.11/envs/hackday_6/lib/python3.10/site-packages/sklearn/ensemble/_forest.py\", line 456, in fit\n",
      "    trees = Parallel(\n",
      "  File \"/home/edilson07/.pyenv/versions/3.10.11/envs/hackday_6/lib/python3.10/site-packages/sklearn/utils/parallel.py\", line 65, in __call__\n",
      "    return super().__call__(iterable_with_config)\n",
      "  File \"/home/edilson07/.pyenv/versions/3.10.11/envs/hackday_6/lib/python3.10/site-packages/joblib/parallel.py\", line 1952, in __call__\n",
      "    return output if self.return_generator else list(output)\n",
      "  File \"/home/edilson07/.pyenv/versions/3.10.11/envs/hackday_6/lib/python3.10/site-packages/joblib/parallel.py\", line 1595, in _get_outputs\n",
      "    yield from self._retrieve()\n",
      "  File \"/home/edilson07/.pyenv/versions/3.10.11/envs/hackday_6/lib/python3.10/site-packages/joblib/parallel.py\", line 1707, in _retrieve\n",
      "    time.sleep(0.01)\n",
      "KeyboardInterrupt\n",
      "[W 2023-10-21 16:54:51,155] Trial 12 failed with value None.\n"
     ]
    },
    {
     "ename": "KeyboardInterrupt",
     "evalue": "",
     "output_type": "error",
     "traceback": [
      "\u001b[0;31m---------------------------------------------------------------------------\u001b[0m",
      "\u001b[0;31mKeyboardInterrupt\u001b[0m                         Traceback (most recent call last)",
      "Cell \u001b[0;32mIn[58], line 3\u001b[0m\n\u001b[1;32m      1\u001b[0m study \u001b[38;5;241m=\u001b[39m optuna\u001b[38;5;241m.\u001b[39mcreate_study(direction\u001b[38;5;241m=\u001b[39m\u001b[38;5;124m'\u001b[39m\u001b[38;5;124mminimize\u001b[39m\u001b[38;5;124m'\u001b[39m)\n\u001b[0;32m----> 3\u001b[0m \u001b[43mstudy\u001b[49m\u001b[38;5;241;43m.\u001b[39;49m\u001b[43moptimize\u001b[49m\u001b[43m(\u001b[49m\u001b[43mobjective\u001b[49m\u001b[43m,\u001b[49m\u001b[43m \u001b[49m\u001b[43mn_trials\u001b[49m\u001b[38;5;241;43m=\u001b[39;49m\u001b[38;5;241;43m100\u001b[39;49m\u001b[43m)\u001b[49m\n",
      "File \u001b[0;32m~/.pyenv/versions/3.10.11/envs/hackday_6/lib/python3.10/site-packages/optuna/study/study.py:451\u001b[0m, in \u001b[0;36mStudy.optimize\u001b[0;34m(self, func, n_trials, timeout, n_jobs, catch, callbacks, gc_after_trial, show_progress_bar)\u001b[0m\n\u001b[1;32m    348\u001b[0m \u001b[38;5;28;01mdef\u001b[39;00m \u001b[38;5;21moptimize\u001b[39m(\n\u001b[1;32m    349\u001b[0m     \u001b[38;5;28mself\u001b[39m,\n\u001b[1;32m    350\u001b[0m     func: ObjectiveFuncType,\n\u001b[0;32m   (...)\u001b[0m\n\u001b[1;32m    357\u001b[0m     show_progress_bar: \u001b[38;5;28mbool\u001b[39m \u001b[38;5;241m=\u001b[39m \u001b[38;5;28;01mFalse\u001b[39;00m,\n\u001b[1;32m    358\u001b[0m ) \u001b[38;5;241m-\u001b[39m\u001b[38;5;241m>\u001b[39m \u001b[38;5;28;01mNone\u001b[39;00m:\n\u001b[1;32m    359\u001b[0m \u001b[38;5;250m    \u001b[39m\u001b[38;5;124;03m\"\"\"Optimize an objective function.\u001b[39;00m\n\u001b[1;32m    360\u001b[0m \n\u001b[1;32m    361\u001b[0m \u001b[38;5;124;03m    Optimization is done by choosing a suitable set of hyperparameter values from a given\u001b[39;00m\n\u001b[0;32m   (...)\u001b[0m\n\u001b[1;32m    449\u001b[0m \u001b[38;5;124;03m            If nested invocation of this method occurs.\u001b[39;00m\n\u001b[1;32m    450\u001b[0m \u001b[38;5;124;03m    \"\"\"\u001b[39;00m\n\u001b[0;32m--> 451\u001b[0m     \u001b[43m_optimize\u001b[49m\u001b[43m(\u001b[49m\n\u001b[1;32m    452\u001b[0m \u001b[43m        \u001b[49m\u001b[43mstudy\u001b[49m\u001b[38;5;241;43m=\u001b[39;49m\u001b[38;5;28;43mself\u001b[39;49m\u001b[43m,\u001b[49m\n\u001b[1;32m    453\u001b[0m \u001b[43m        \u001b[49m\u001b[43mfunc\u001b[49m\u001b[38;5;241;43m=\u001b[39;49m\u001b[43mfunc\u001b[49m\u001b[43m,\u001b[49m\n\u001b[1;32m    454\u001b[0m \u001b[43m        \u001b[49m\u001b[43mn_trials\u001b[49m\u001b[38;5;241;43m=\u001b[39;49m\u001b[43mn_trials\u001b[49m\u001b[43m,\u001b[49m\n\u001b[1;32m    455\u001b[0m \u001b[43m        \u001b[49m\u001b[43mtimeout\u001b[49m\u001b[38;5;241;43m=\u001b[39;49m\u001b[43mtimeout\u001b[49m\u001b[43m,\u001b[49m\n\u001b[1;32m    456\u001b[0m \u001b[43m        \u001b[49m\u001b[43mn_jobs\u001b[49m\u001b[38;5;241;43m=\u001b[39;49m\u001b[43mn_jobs\u001b[49m\u001b[43m,\u001b[49m\n\u001b[1;32m    457\u001b[0m \u001b[43m        \u001b[49m\u001b[43mcatch\u001b[49m\u001b[38;5;241;43m=\u001b[39;49m\u001b[38;5;28;43mtuple\u001b[39;49m\u001b[43m(\u001b[49m\u001b[43mcatch\u001b[49m\u001b[43m)\u001b[49m\u001b[43m \u001b[49m\u001b[38;5;28;43;01mif\u001b[39;49;00m\u001b[43m \u001b[49m\u001b[38;5;28;43misinstance\u001b[39;49m\u001b[43m(\u001b[49m\u001b[43mcatch\u001b[49m\u001b[43m,\u001b[49m\u001b[43m \u001b[49m\u001b[43mIterable\u001b[49m\u001b[43m)\u001b[49m\u001b[43m \u001b[49m\u001b[38;5;28;43;01melse\u001b[39;49;00m\u001b[43m \u001b[49m\u001b[43m(\u001b[49m\u001b[43mcatch\u001b[49m\u001b[43m,\u001b[49m\u001b[43m)\u001b[49m\u001b[43m,\u001b[49m\n\u001b[1;32m    458\u001b[0m \u001b[43m        \u001b[49m\u001b[43mcallbacks\u001b[49m\u001b[38;5;241;43m=\u001b[39;49m\u001b[43mcallbacks\u001b[49m\u001b[43m,\u001b[49m\n\u001b[1;32m    459\u001b[0m \u001b[43m        \u001b[49m\u001b[43mgc_after_trial\u001b[49m\u001b[38;5;241;43m=\u001b[39;49m\u001b[43mgc_after_trial\u001b[49m\u001b[43m,\u001b[49m\n\u001b[1;32m    460\u001b[0m \u001b[43m        \u001b[49m\u001b[43mshow_progress_bar\u001b[49m\u001b[38;5;241;43m=\u001b[39;49m\u001b[43mshow_progress_bar\u001b[49m\u001b[43m,\u001b[49m\n\u001b[1;32m    461\u001b[0m \u001b[43m    \u001b[49m\u001b[43m)\u001b[49m\n",
      "File \u001b[0;32m~/.pyenv/versions/3.10.11/envs/hackday_6/lib/python3.10/site-packages/optuna/study/_optimize.py:66\u001b[0m, in \u001b[0;36m_optimize\u001b[0;34m(study, func, n_trials, timeout, n_jobs, catch, callbacks, gc_after_trial, show_progress_bar)\u001b[0m\n\u001b[1;32m     64\u001b[0m \u001b[38;5;28;01mtry\u001b[39;00m:\n\u001b[1;32m     65\u001b[0m     \u001b[38;5;28;01mif\u001b[39;00m n_jobs \u001b[38;5;241m==\u001b[39m \u001b[38;5;241m1\u001b[39m:\n\u001b[0;32m---> 66\u001b[0m         \u001b[43m_optimize_sequential\u001b[49m\u001b[43m(\u001b[49m\n\u001b[1;32m     67\u001b[0m \u001b[43m            \u001b[49m\u001b[43mstudy\u001b[49m\u001b[43m,\u001b[49m\n\u001b[1;32m     68\u001b[0m \u001b[43m            \u001b[49m\u001b[43mfunc\u001b[49m\u001b[43m,\u001b[49m\n\u001b[1;32m     69\u001b[0m \u001b[43m            \u001b[49m\u001b[43mn_trials\u001b[49m\u001b[43m,\u001b[49m\n\u001b[1;32m     70\u001b[0m \u001b[43m            \u001b[49m\u001b[43mtimeout\u001b[49m\u001b[43m,\u001b[49m\n\u001b[1;32m     71\u001b[0m \u001b[43m            \u001b[49m\u001b[43mcatch\u001b[49m\u001b[43m,\u001b[49m\n\u001b[1;32m     72\u001b[0m \u001b[43m            \u001b[49m\u001b[43mcallbacks\u001b[49m\u001b[43m,\u001b[49m\n\u001b[1;32m     73\u001b[0m \u001b[43m            \u001b[49m\u001b[43mgc_after_trial\u001b[49m\u001b[43m,\u001b[49m\n\u001b[1;32m     74\u001b[0m \u001b[43m            \u001b[49m\u001b[43mreseed_sampler_rng\u001b[49m\u001b[38;5;241;43m=\u001b[39;49m\u001b[38;5;28;43;01mFalse\u001b[39;49;00m\u001b[43m,\u001b[49m\n\u001b[1;32m     75\u001b[0m \u001b[43m            \u001b[49m\u001b[43mtime_start\u001b[49m\u001b[38;5;241;43m=\u001b[39;49m\u001b[38;5;28;43;01mNone\u001b[39;49;00m\u001b[43m,\u001b[49m\n\u001b[1;32m     76\u001b[0m \u001b[43m            \u001b[49m\u001b[43mprogress_bar\u001b[49m\u001b[38;5;241;43m=\u001b[39;49m\u001b[43mprogress_bar\u001b[49m\u001b[43m,\u001b[49m\n\u001b[1;32m     77\u001b[0m \u001b[43m        \u001b[49m\u001b[43m)\u001b[49m\n\u001b[1;32m     78\u001b[0m     \u001b[38;5;28;01melse\u001b[39;00m:\n\u001b[1;32m     79\u001b[0m         \u001b[38;5;28;01mif\u001b[39;00m n_jobs \u001b[38;5;241m==\u001b[39m \u001b[38;5;241m-\u001b[39m\u001b[38;5;241m1\u001b[39m:\n",
      "File \u001b[0;32m~/.pyenv/versions/3.10.11/envs/hackday_6/lib/python3.10/site-packages/optuna/study/_optimize.py:163\u001b[0m, in \u001b[0;36m_optimize_sequential\u001b[0;34m(study, func, n_trials, timeout, catch, callbacks, gc_after_trial, reseed_sampler_rng, time_start, progress_bar)\u001b[0m\n\u001b[1;32m    160\u001b[0m         \u001b[38;5;28;01mbreak\u001b[39;00m\n\u001b[1;32m    162\u001b[0m \u001b[38;5;28;01mtry\u001b[39;00m:\n\u001b[0;32m--> 163\u001b[0m     frozen_trial \u001b[38;5;241m=\u001b[39m \u001b[43m_run_trial\u001b[49m\u001b[43m(\u001b[49m\u001b[43mstudy\u001b[49m\u001b[43m,\u001b[49m\u001b[43m \u001b[49m\u001b[43mfunc\u001b[49m\u001b[43m,\u001b[49m\u001b[43m \u001b[49m\u001b[43mcatch\u001b[49m\u001b[43m)\u001b[49m\n\u001b[1;32m    164\u001b[0m \u001b[38;5;28;01mfinally\u001b[39;00m:\n\u001b[1;32m    165\u001b[0m     \u001b[38;5;66;03m# The following line mitigates memory problems that can be occurred in some\u001b[39;00m\n\u001b[1;32m    166\u001b[0m     \u001b[38;5;66;03m# environments (e.g., services that use computing containers such as GitHub Actions).\u001b[39;00m\n\u001b[1;32m    167\u001b[0m     \u001b[38;5;66;03m# Please refer to the following PR for further details:\u001b[39;00m\n\u001b[1;32m    168\u001b[0m     \u001b[38;5;66;03m# https://github.com/optuna/optuna/pull/325.\u001b[39;00m\n\u001b[1;32m    169\u001b[0m     \u001b[38;5;28;01mif\u001b[39;00m gc_after_trial:\n",
      "File \u001b[0;32m~/.pyenv/versions/3.10.11/envs/hackday_6/lib/python3.10/site-packages/optuna/study/_optimize.py:251\u001b[0m, in \u001b[0;36m_run_trial\u001b[0;34m(study, func, catch)\u001b[0m\n\u001b[1;32m    244\u001b[0m         \u001b[38;5;28;01massert\u001b[39;00m \u001b[38;5;28;01mFalse\u001b[39;00m, \u001b[38;5;124m\"\u001b[39m\u001b[38;5;124mShould not reach.\u001b[39m\u001b[38;5;124m\"\u001b[39m\n\u001b[1;32m    246\u001b[0m \u001b[38;5;28;01mif\u001b[39;00m (\n\u001b[1;32m    247\u001b[0m     frozen_trial\u001b[38;5;241m.\u001b[39mstate \u001b[38;5;241m==\u001b[39m TrialState\u001b[38;5;241m.\u001b[39mFAIL\n\u001b[1;32m    248\u001b[0m     \u001b[38;5;129;01mand\u001b[39;00m func_err \u001b[38;5;129;01mis\u001b[39;00m \u001b[38;5;129;01mnot\u001b[39;00m \u001b[38;5;28;01mNone\u001b[39;00m\n\u001b[1;32m    249\u001b[0m     \u001b[38;5;129;01mand\u001b[39;00m \u001b[38;5;129;01mnot\u001b[39;00m \u001b[38;5;28misinstance\u001b[39m(func_err, catch)\n\u001b[1;32m    250\u001b[0m ):\n\u001b[0;32m--> 251\u001b[0m     \u001b[38;5;28;01mraise\u001b[39;00m func_err\n\u001b[1;32m    252\u001b[0m \u001b[38;5;28;01mreturn\u001b[39;00m frozen_trial\n",
      "File \u001b[0;32m~/.pyenv/versions/3.10.11/envs/hackday_6/lib/python3.10/site-packages/optuna/study/_optimize.py:200\u001b[0m, in \u001b[0;36m_run_trial\u001b[0;34m(study, func, catch)\u001b[0m\n\u001b[1;32m    198\u001b[0m \u001b[38;5;28;01mwith\u001b[39;00m get_heartbeat_thread(trial\u001b[38;5;241m.\u001b[39m_trial_id, study\u001b[38;5;241m.\u001b[39m_storage):\n\u001b[1;32m    199\u001b[0m     \u001b[38;5;28;01mtry\u001b[39;00m:\n\u001b[0;32m--> 200\u001b[0m         value_or_values \u001b[38;5;241m=\u001b[39m \u001b[43mfunc\u001b[49m\u001b[43m(\u001b[49m\u001b[43mtrial\u001b[49m\u001b[43m)\u001b[49m\n\u001b[1;32m    201\u001b[0m     \u001b[38;5;28;01mexcept\u001b[39;00m exceptions\u001b[38;5;241m.\u001b[39mTrialPruned \u001b[38;5;28;01mas\u001b[39;00m e:\n\u001b[1;32m    202\u001b[0m         \u001b[38;5;66;03m# TODO(mamu): Handle multi-objective cases.\u001b[39;00m\n\u001b[1;32m    203\u001b[0m         state \u001b[38;5;241m=\u001b[39m TrialState\u001b[38;5;241m.\u001b[39mPRUNED\n",
      "Cell \u001b[0;32mIn[57], line 30\u001b[0m, in \u001b[0;36mobjective\u001b[0;34m(trial)\u001b[0m\n\u001b[1;32m      9\u001b[0m \u001b[38;5;66;03m# Crie o modelo Random Forest com os parâmetros otimizados\u001b[39;00m\n\u001b[1;32m     10\u001b[0m model \u001b[38;5;241m=\u001b[39m RandomForestRegressor(\n\u001b[1;32m     11\u001b[0m     n_estimators\u001b[38;5;241m=\u001b[39mn_estimators,\n\u001b[1;32m     12\u001b[0m     max_depth\u001b[38;5;241m=\u001b[39mmax_depth,\n\u001b[0;32m   (...)\u001b[0m\n\u001b[1;32m     27\u001b[0m     warm_start\u001b[38;5;241m=\u001b[39m\u001b[38;5;28;01mFalse\u001b[39;00m\n\u001b[1;32m     28\u001b[0m )\n\u001b[0;32m---> 30\u001b[0m \u001b[43mmodel\u001b[49m\u001b[38;5;241;43m.\u001b[39;49m\u001b[43mfit\u001b[49m\u001b[43m(\u001b[49m\u001b[43mX_train\u001b[49m\u001b[43m,\u001b[49m\u001b[43m \u001b[49m\u001b[43my_train\u001b[49m\u001b[43m)\u001b[49m\n\u001b[1;32m     32\u001b[0m y_pred \u001b[38;5;241m=\u001b[39m model\u001b[38;5;241m.\u001b[39mpredict(X_val)\n\u001b[1;32m     34\u001b[0m smape_error \u001b[38;5;241m=\u001b[39m smape(y_pred, y_val)\n",
      "File \u001b[0;32m~/.pyenv/versions/3.10.11/envs/hackday_6/lib/python3.10/site-packages/sklearn/base.py:1152\u001b[0m, in \u001b[0;36m_fit_context.<locals>.decorator.<locals>.wrapper\u001b[0;34m(estimator, *args, **kwargs)\u001b[0m\n\u001b[1;32m   1145\u001b[0m     estimator\u001b[38;5;241m.\u001b[39m_validate_params()\n\u001b[1;32m   1147\u001b[0m \u001b[38;5;28;01mwith\u001b[39;00m config_context(\n\u001b[1;32m   1148\u001b[0m     skip_parameter_validation\u001b[38;5;241m=\u001b[39m(\n\u001b[1;32m   1149\u001b[0m         prefer_skip_nested_validation \u001b[38;5;129;01mor\u001b[39;00m global_skip_validation\n\u001b[1;32m   1150\u001b[0m     )\n\u001b[1;32m   1151\u001b[0m ):\n\u001b[0;32m-> 1152\u001b[0m     \u001b[38;5;28;01mreturn\u001b[39;00m \u001b[43mfit_method\u001b[49m\u001b[43m(\u001b[49m\u001b[43mestimator\u001b[49m\u001b[43m,\u001b[49m\u001b[43m \u001b[49m\u001b[38;5;241;43m*\u001b[39;49m\u001b[43margs\u001b[49m\u001b[43m,\u001b[49m\u001b[43m \u001b[49m\u001b[38;5;241;43m*\u001b[39;49m\u001b[38;5;241;43m*\u001b[39;49m\u001b[43mkwargs\u001b[49m\u001b[43m)\u001b[49m\n",
      "File \u001b[0;32m~/.pyenv/versions/3.10.11/envs/hackday_6/lib/python3.10/site-packages/sklearn/ensemble/_forest.py:456\u001b[0m, in \u001b[0;36mBaseForest.fit\u001b[0;34m(self, X, y, sample_weight)\u001b[0m\n\u001b[1;32m    445\u001b[0m trees \u001b[38;5;241m=\u001b[39m [\n\u001b[1;32m    446\u001b[0m     \u001b[38;5;28mself\u001b[39m\u001b[38;5;241m.\u001b[39m_make_estimator(append\u001b[38;5;241m=\u001b[39m\u001b[38;5;28;01mFalse\u001b[39;00m, random_state\u001b[38;5;241m=\u001b[39mrandom_state)\n\u001b[1;32m    447\u001b[0m     \u001b[38;5;28;01mfor\u001b[39;00m i \u001b[38;5;129;01min\u001b[39;00m \u001b[38;5;28mrange\u001b[39m(n_more_estimators)\n\u001b[1;32m    448\u001b[0m ]\n\u001b[1;32m    450\u001b[0m \u001b[38;5;66;03m# Parallel loop: we prefer the threading backend as the Cython code\u001b[39;00m\n\u001b[1;32m    451\u001b[0m \u001b[38;5;66;03m# for fitting the trees is internally releasing the Python GIL\u001b[39;00m\n\u001b[1;32m    452\u001b[0m \u001b[38;5;66;03m# making threading more efficient than multiprocessing in\u001b[39;00m\n\u001b[1;32m    453\u001b[0m \u001b[38;5;66;03m# that case. However, for joblib 0.12+ we respect any\u001b[39;00m\n\u001b[1;32m    454\u001b[0m \u001b[38;5;66;03m# parallel_backend contexts set at a higher level,\u001b[39;00m\n\u001b[1;32m    455\u001b[0m \u001b[38;5;66;03m# since correctness does not rely on using threads.\u001b[39;00m\n\u001b[0;32m--> 456\u001b[0m trees \u001b[38;5;241m=\u001b[39m \u001b[43mParallel\u001b[49m\u001b[43m(\u001b[49m\n\u001b[1;32m    457\u001b[0m \u001b[43m    \u001b[49m\u001b[43mn_jobs\u001b[49m\u001b[38;5;241;43m=\u001b[39;49m\u001b[38;5;28;43mself\u001b[39;49m\u001b[38;5;241;43m.\u001b[39;49m\u001b[43mn_jobs\u001b[49m\u001b[43m,\u001b[49m\n\u001b[1;32m    458\u001b[0m \u001b[43m    \u001b[49m\u001b[43mverbose\u001b[49m\u001b[38;5;241;43m=\u001b[39;49m\u001b[38;5;28;43mself\u001b[39;49m\u001b[38;5;241;43m.\u001b[39;49m\u001b[43mverbose\u001b[49m\u001b[43m,\u001b[49m\n\u001b[1;32m    459\u001b[0m \u001b[43m    \u001b[49m\u001b[43mprefer\u001b[49m\u001b[38;5;241;43m=\u001b[39;49m\u001b[38;5;124;43m\"\u001b[39;49m\u001b[38;5;124;43mthreads\u001b[39;49m\u001b[38;5;124;43m\"\u001b[39;49m\u001b[43m,\u001b[49m\n\u001b[1;32m    460\u001b[0m \u001b[43m\u001b[49m\u001b[43m)\u001b[49m\u001b[43m(\u001b[49m\n\u001b[1;32m    461\u001b[0m \u001b[43m    \u001b[49m\u001b[43mdelayed\u001b[49m\u001b[43m(\u001b[49m\u001b[43m_parallel_build_trees\u001b[49m\u001b[43m)\u001b[49m\u001b[43m(\u001b[49m\n\u001b[1;32m    462\u001b[0m \u001b[43m        \u001b[49m\u001b[43mt\u001b[49m\u001b[43m,\u001b[49m\n\u001b[1;32m    463\u001b[0m \u001b[43m        \u001b[49m\u001b[38;5;28;43mself\u001b[39;49m\u001b[38;5;241;43m.\u001b[39;49m\u001b[43mbootstrap\u001b[49m\u001b[43m,\u001b[49m\n\u001b[1;32m    464\u001b[0m \u001b[43m        \u001b[49m\u001b[43mX\u001b[49m\u001b[43m,\u001b[49m\n\u001b[1;32m    465\u001b[0m \u001b[43m        \u001b[49m\u001b[43my\u001b[49m\u001b[43m,\u001b[49m\n\u001b[1;32m    466\u001b[0m \u001b[43m        \u001b[49m\u001b[43msample_weight\u001b[49m\u001b[43m,\u001b[49m\n\u001b[1;32m    467\u001b[0m \u001b[43m        \u001b[49m\u001b[43mi\u001b[49m\u001b[43m,\u001b[49m\n\u001b[1;32m    468\u001b[0m \u001b[43m        \u001b[49m\u001b[38;5;28;43mlen\u001b[39;49m\u001b[43m(\u001b[49m\u001b[43mtrees\u001b[49m\u001b[43m)\u001b[49m\u001b[43m,\u001b[49m\n\u001b[1;32m    469\u001b[0m \u001b[43m        \u001b[49m\u001b[43mverbose\u001b[49m\u001b[38;5;241;43m=\u001b[39;49m\u001b[38;5;28;43mself\u001b[39;49m\u001b[38;5;241;43m.\u001b[39;49m\u001b[43mverbose\u001b[49m\u001b[43m,\u001b[49m\n\u001b[1;32m    470\u001b[0m \u001b[43m        \u001b[49m\u001b[43mclass_weight\u001b[49m\u001b[38;5;241;43m=\u001b[39;49m\u001b[38;5;28;43mself\u001b[39;49m\u001b[38;5;241;43m.\u001b[39;49m\u001b[43mclass_weight\u001b[49m\u001b[43m,\u001b[49m\n\u001b[1;32m    471\u001b[0m \u001b[43m        \u001b[49m\u001b[43mn_samples_bootstrap\u001b[49m\u001b[38;5;241;43m=\u001b[39;49m\u001b[43mn_samples_bootstrap\u001b[49m\u001b[43m,\u001b[49m\n\u001b[1;32m    472\u001b[0m \u001b[43m    \u001b[49m\u001b[43m)\u001b[49m\n\u001b[1;32m    473\u001b[0m \u001b[43m    \u001b[49m\u001b[38;5;28;43;01mfor\u001b[39;49;00m\u001b[43m \u001b[49m\u001b[43mi\u001b[49m\u001b[43m,\u001b[49m\u001b[43m \u001b[49m\u001b[43mt\u001b[49m\u001b[43m \u001b[49m\u001b[38;5;129;43;01min\u001b[39;49;00m\u001b[43m \u001b[49m\u001b[38;5;28;43menumerate\u001b[39;49m\u001b[43m(\u001b[49m\u001b[43mtrees\u001b[49m\u001b[43m)\u001b[49m\n\u001b[1;32m    474\u001b[0m \u001b[43m\u001b[49m\u001b[43m)\u001b[49m\n\u001b[1;32m    476\u001b[0m \u001b[38;5;66;03m# Collect newly grown trees\u001b[39;00m\n\u001b[1;32m    477\u001b[0m \u001b[38;5;28mself\u001b[39m\u001b[38;5;241m.\u001b[39mestimators_\u001b[38;5;241m.\u001b[39mextend(trees)\n",
      "File \u001b[0;32m~/.pyenv/versions/3.10.11/envs/hackday_6/lib/python3.10/site-packages/sklearn/utils/parallel.py:65\u001b[0m, in \u001b[0;36mParallel.__call__\u001b[0;34m(self, iterable)\u001b[0m\n\u001b[1;32m     60\u001b[0m config \u001b[38;5;241m=\u001b[39m get_config()\n\u001b[1;32m     61\u001b[0m iterable_with_config \u001b[38;5;241m=\u001b[39m (\n\u001b[1;32m     62\u001b[0m     (_with_config(delayed_func, config), args, kwargs)\n\u001b[1;32m     63\u001b[0m     \u001b[38;5;28;01mfor\u001b[39;00m delayed_func, args, kwargs \u001b[38;5;129;01min\u001b[39;00m iterable\n\u001b[1;32m     64\u001b[0m )\n\u001b[0;32m---> 65\u001b[0m \u001b[38;5;28;01mreturn\u001b[39;00m \u001b[38;5;28;43msuper\u001b[39;49m\u001b[43m(\u001b[49m\u001b[43m)\u001b[49m\u001b[38;5;241;43m.\u001b[39;49m\u001b[38;5;21;43m__call__\u001b[39;49m\u001b[43m(\u001b[49m\u001b[43miterable_with_config\u001b[49m\u001b[43m)\u001b[49m\n",
      "File \u001b[0;32m~/.pyenv/versions/3.10.11/envs/hackday_6/lib/python3.10/site-packages/joblib/parallel.py:1952\u001b[0m, in \u001b[0;36mParallel.__call__\u001b[0;34m(self, iterable)\u001b[0m\n\u001b[1;32m   1946\u001b[0m \u001b[38;5;66;03m# The first item from the output is blank, but it makes the interpreter\u001b[39;00m\n\u001b[1;32m   1947\u001b[0m \u001b[38;5;66;03m# progress until it enters the Try/Except block of the generator and\u001b[39;00m\n\u001b[1;32m   1948\u001b[0m \u001b[38;5;66;03m# reach the first `yield` statement. This starts the aynchronous\u001b[39;00m\n\u001b[1;32m   1949\u001b[0m \u001b[38;5;66;03m# dispatch of the tasks to the workers.\u001b[39;00m\n\u001b[1;32m   1950\u001b[0m \u001b[38;5;28mnext\u001b[39m(output)\n\u001b[0;32m-> 1952\u001b[0m \u001b[38;5;28;01mreturn\u001b[39;00m output \u001b[38;5;28;01mif\u001b[39;00m \u001b[38;5;28mself\u001b[39m\u001b[38;5;241m.\u001b[39mreturn_generator \u001b[38;5;28;01melse\u001b[39;00m \u001b[38;5;28;43mlist\u001b[39;49m\u001b[43m(\u001b[49m\u001b[43moutput\u001b[49m\u001b[43m)\u001b[49m\n",
      "File \u001b[0;32m~/.pyenv/versions/3.10.11/envs/hackday_6/lib/python3.10/site-packages/joblib/parallel.py:1595\u001b[0m, in \u001b[0;36mParallel._get_outputs\u001b[0;34m(self, iterator, pre_dispatch)\u001b[0m\n\u001b[1;32m   1592\u001b[0m     \u001b[38;5;28;01myield\u001b[39;00m\n\u001b[1;32m   1594\u001b[0m     \u001b[38;5;28;01mwith\u001b[39;00m \u001b[38;5;28mself\u001b[39m\u001b[38;5;241m.\u001b[39m_backend\u001b[38;5;241m.\u001b[39mretrieval_context():\n\u001b[0;32m-> 1595\u001b[0m         \u001b[38;5;28;01myield from\u001b[39;00m \u001b[38;5;28mself\u001b[39m\u001b[38;5;241m.\u001b[39m_retrieve()\n\u001b[1;32m   1597\u001b[0m \u001b[38;5;28;01mexcept\u001b[39;00m \u001b[38;5;167;01mGeneratorExit\u001b[39;00m:\n\u001b[1;32m   1598\u001b[0m     \u001b[38;5;66;03m# The generator has been garbage collected before being fully\u001b[39;00m\n\u001b[1;32m   1599\u001b[0m     \u001b[38;5;66;03m# consumed. This aborts the remaining tasks if possible and warn\u001b[39;00m\n\u001b[1;32m   1600\u001b[0m     \u001b[38;5;66;03m# the user if necessary.\u001b[39;00m\n\u001b[1;32m   1601\u001b[0m     \u001b[38;5;28mself\u001b[39m\u001b[38;5;241m.\u001b[39m_exception \u001b[38;5;241m=\u001b[39m \u001b[38;5;28;01mTrue\u001b[39;00m\n",
      "File \u001b[0;32m~/.pyenv/versions/3.10.11/envs/hackday_6/lib/python3.10/site-packages/joblib/parallel.py:1707\u001b[0m, in \u001b[0;36mParallel._retrieve\u001b[0;34m(self)\u001b[0m\n\u001b[1;32m   1702\u001b[0m \u001b[38;5;66;03m# If the next job is not ready for retrieval yet, we just wait for\u001b[39;00m\n\u001b[1;32m   1703\u001b[0m \u001b[38;5;66;03m# async callbacks to progress.\u001b[39;00m\n\u001b[1;32m   1704\u001b[0m \u001b[38;5;28;01mif\u001b[39;00m ((\u001b[38;5;28mlen\u001b[39m(\u001b[38;5;28mself\u001b[39m\u001b[38;5;241m.\u001b[39m_jobs) \u001b[38;5;241m==\u001b[39m \u001b[38;5;241m0\u001b[39m) \u001b[38;5;129;01mor\u001b[39;00m\n\u001b[1;32m   1705\u001b[0m     (\u001b[38;5;28mself\u001b[39m\u001b[38;5;241m.\u001b[39m_jobs[\u001b[38;5;241m0\u001b[39m]\u001b[38;5;241m.\u001b[39mget_status(\n\u001b[1;32m   1706\u001b[0m         timeout\u001b[38;5;241m=\u001b[39m\u001b[38;5;28mself\u001b[39m\u001b[38;5;241m.\u001b[39mtimeout) \u001b[38;5;241m==\u001b[39m TASK_PENDING)):\n\u001b[0;32m-> 1707\u001b[0m     \u001b[43mtime\u001b[49m\u001b[38;5;241;43m.\u001b[39;49m\u001b[43msleep\u001b[49m\u001b[43m(\u001b[49m\u001b[38;5;241;43m0.01\u001b[39;49m\u001b[43m)\u001b[49m\n\u001b[1;32m   1708\u001b[0m     \u001b[38;5;28;01mcontinue\u001b[39;00m\n\u001b[1;32m   1710\u001b[0m \u001b[38;5;66;03m# We need to be careful: the job list can be filling up as\u001b[39;00m\n\u001b[1;32m   1711\u001b[0m \u001b[38;5;66;03m# we empty it and Python list are not thread-safe by\u001b[39;00m\n\u001b[1;32m   1712\u001b[0m \u001b[38;5;66;03m# default hence the use of the lock\u001b[39;00m\n",
      "\u001b[0;31mKeyboardInterrupt\u001b[0m: "
     ]
    }
   ],
   "source": [
    "study = optuna.create_study(direction='minimize')\n",
    "\n",
    "study.optimize(objective, n_trials=100)"
   ]
  },
  {
   "cell_type": "code",
   "execution_count": 59,
   "id": "31d2164e-40cf-4ddd-a065-43db31920a12",
   "metadata": {},
   "outputs": [
    {
     "data": {
      "text/plain": [
       "{'n_estimators': 900, 'max_depth': 66, 'max_features': 43}"
      ]
     },
     "execution_count": 59,
     "metadata": {},
     "output_type": "execute_result"
    }
   ],
   "source": [
    "best_params = study.best_params\n",
    "best_params"
   ]
  },
  {
   "cell_type": "code",
   "execution_count": 60,
   "id": "7d37bc19-020e-431b-a8e2-d82010c1fdeb",
   "metadata": {},
   "outputs": [
    {
     "data": {
      "application/vnd.plotly.v1+json": {
       "config": {
        "plotlyServerURL": "https://plot.ly"
       },
       "data": [
        {
         "mode": "markers",
         "name": "Objective Value",
         "type": "scatter",
         "x": [
          0,
          1,
          2,
          3,
          4,
          5,
          6,
          7,
          8,
          9,
          10,
          11
         ],
         "y": [
          11.321444200087477,
          11.311211658434589,
          11.358593197504522,
          11.316928503046725,
          11.33763117885309,
          11.292298963227335,
          11.31403527926259,
          11.318451156375563,
          11.345493186430897,
          11.3198946781844,
          11.325693289472204,
          11.300916768776489
         ]
        },
        {
         "mode": "lines",
         "name": "Best Value",
         "type": "scatter",
         "x": [
          0,
          1,
          2,
          3,
          4,
          5,
          6,
          7,
          8,
          9,
          10,
          11,
          12
         ],
         "y": [
          11.321444200087477,
          11.311211658434589,
          11.311211658434589,
          11.311211658434589,
          11.311211658434589,
          11.292298963227335,
          11.292298963227335,
          11.292298963227335,
          11.292298963227335,
          11.292298963227335,
          11.292298963227335,
          11.292298963227335,
          11.292298963227335
         ]
        },
        {
         "marker": {
          "color": "#cccccc"
         },
         "mode": "markers",
         "name": "Infeasible Trial",
         "showlegend": false,
         "type": "scatter",
         "x": [],
         "y": []
        }
       ],
       "layout": {
        "autosize": true,
        "template": {
         "data": {
          "bar": [
           {
            "error_x": {
             "color": "#2a3f5f"
            },
            "error_y": {
             "color": "#2a3f5f"
            },
            "marker": {
             "line": {
              "color": "#E5ECF6",
              "width": 0.5
             },
             "pattern": {
              "fillmode": "overlay",
              "size": 10,
              "solidity": 0.2
             }
            },
            "type": "bar"
           }
          ],
          "barpolar": [
           {
            "marker": {
             "line": {
              "color": "#E5ECF6",
              "width": 0.5
             },
             "pattern": {
              "fillmode": "overlay",
              "size": 10,
              "solidity": 0.2
             }
            },
            "type": "barpolar"
           }
          ],
          "carpet": [
           {
            "aaxis": {
             "endlinecolor": "#2a3f5f",
             "gridcolor": "white",
             "linecolor": "white",
             "minorgridcolor": "white",
             "startlinecolor": "#2a3f5f"
            },
            "baxis": {
             "endlinecolor": "#2a3f5f",
             "gridcolor": "white",
             "linecolor": "white",
             "minorgridcolor": "white",
             "startlinecolor": "#2a3f5f"
            },
            "type": "carpet"
           }
          ],
          "choropleth": [
           {
            "colorbar": {
             "outlinewidth": 0,
             "ticks": ""
            },
            "type": "choropleth"
           }
          ],
          "contour": [
           {
            "colorbar": {
             "outlinewidth": 0,
             "ticks": ""
            },
            "colorscale": [
             [
              0,
              "#0d0887"
             ],
             [
              0.1111111111111111,
              "#46039f"
             ],
             [
              0.2222222222222222,
              "#7201a8"
             ],
             [
              0.3333333333333333,
              "#9c179e"
             ],
             [
              0.4444444444444444,
              "#bd3786"
             ],
             [
              0.5555555555555556,
              "#d8576b"
             ],
             [
              0.6666666666666666,
              "#ed7953"
             ],
             [
              0.7777777777777778,
              "#fb9f3a"
             ],
             [
              0.8888888888888888,
              "#fdca26"
             ],
             [
              1,
              "#f0f921"
             ]
            ],
            "type": "contour"
           }
          ],
          "contourcarpet": [
           {
            "colorbar": {
             "outlinewidth": 0,
             "ticks": ""
            },
            "type": "contourcarpet"
           }
          ],
          "heatmap": [
           {
            "colorbar": {
             "outlinewidth": 0,
             "ticks": ""
            },
            "colorscale": [
             [
              0,
              "#0d0887"
             ],
             [
              0.1111111111111111,
              "#46039f"
             ],
             [
              0.2222222222222222,
              "#7201a8"
             ],
             [
              0.3333333333333333,
              "#9c179e"
             ],
             [
              0.4444444444444444,
              "#bd3786"
             ],
             [
              0.5555555555555556,
              "#d8576b"
             ],
             [
              0.6666666666666666,
              "#ed7953"
             ],
             [
              0.7777777777777778,
              "#fb9f3a"
             ],
             [
              0.8888888888888888,
              "#fdca26"
             ],
             [
              1,
              "#f0f921"
             ]
            ],
            "type": "heatmap"
           }
          ],
          "heatmapgl": [
           {
            "colorbar": {
             "outlinewidth": 0,
             "ticks": ""
            },
            "colorscale": [
             [
              0,
              "#0d0887"
             ],
             [
              0.1111111111111111,
              "#46039f"
             ],
             [
              0.2222222222222222,
              "#7201a8"
             ],
             [
              0.3333333333333333,
              "#9c179e"
             ],
             [
              0.4444444444444444,
              "#bd3786"
             ],
             [
              0.5555555555555556,
              "#d8576b"
             ],
             [
              0.6666666666666666,
              "#ed7953"
             ],
             [
              0.7777777777777778,
              "#fb9f3a"
             ],
             [
              0.8888888888888888,
              "#fdca26"
             ],
             [
              1,
              "#f0f921"
             ]
            ],
            "type": "heatmapgl"
           }
          ],
          "histogram": [
           {
            "marker": {
             "pattern": {
              "fillmode": "overlay",
              "size": 10,
              "solidity": 0.2
             }
            },
            "type": "histogram"
           }
          ],
          "histogram2d": [
           {
            "colorbar": {
             "outlinewidth": 0,
             "ticks": ""
            },
            "colorscale": [
             [
              0,
              "#0d0887"
             ],
             [
              0.1111111111111111,
              "#46039f"
             ],
             [
              0.2222222222222222,
              "#7201a8"
             ],
             [
              0.3333333333333333,
              "#9c179e"
             ],
             [
              0.4444444444444444,
              "#bd3786"
             ],
             [
              0.5555555555555556,
              "#d8576b"
             ],
             [
              0.6666666666666666,
              "#ed7953"
             ],
             [
              0.7777777777777778,
              "#fb9f3a"
             ],
             [
              0.8888888888888888,
              "#fdca26"
             ],
             [
              1,
              "#f0f921"
             ]
            ],
            "type": "histogram2d"
           }
          ],
          "histogram2dcontour": [
           {
            "colorbar": {
             "outlinewidth": 0,
             "ticks": ""
            },
            "colorscale": [
             [
              0,
              "#0d0887"
             ],
             [
              0.1111111111111111,
              "#46039f"
             ],
             [
              0.2222222222222222,
              "#7201a8"
             ],
             [
              0.3333333333333333,
              "#9c179e"
             ],
             [
              0.4444444444444444,
              "#bd3786"
             ],
             [
              0.5555555555555556,
              "#d8576b"
             ],
             [
              0.6666666666666666,
              "#ed7953"
             ],
             [
              0.7777777777777778,
              "#fb9f3a"
             ],
             [
              0.8888888888888888,
              "#fdca26"
             ],
             [
              1,
              "#f0f921"
             ]
            ],
            "type": "histogram2dcontour"
           }
          ],
          "mesh3d": [
           {
            "colorbar": {
             "outlinewidth": 0,
             "ticks": ""
            },
            "type": "mesh3d"
           }
          ],
          "parcoords": [
           {
            "line": {
             "colorbar": {
              "outlinewidth": 0,
              "ticks": ""
             }
            },
            "type": "parcoords"
           }
          ],
          "pie": [
           {
            "automargin": true,
            "type": "pie"
           }
          ],
          "scatter": [
           {
            "fillpattern": {
             "fillmode": "overlay",
             "size": 10,
             "solidity": 0.2
            },
            "type": "scatter"
           }
          ],
          "scatter3d": [
           {
            "line": {
             "colorbar": {
              "outlinewidth": 0,
              "ticks": ""
             }
            },
            "marker": {
             "colorbar": {
              "outlinewidth": 0,
              "ticks": ""
             }
            },
            "type": "scatter3d"
           }
          ],
          "scattercarpet": [
           {
            "marker": {
             "colorbar": {
              "outlinewidth": 0,
              "ticks": ""
             }
            },
            "type": "scattercarpet"
           }
          ],
          "scattergeo": [
           {
            "marker": {
             "colorbar": {
              "outlinewidth": 0,
              "ticks": ""
             }
            },
            "type": "scattergeo"
           }
          ],
          "scattergl": [
           {
            "marker": {
             "colorbar": {
              "outlinewidth": 0,
              "ticks": ""
             }
            },
            "type": "scattergl"
           }
          ],
          "scattermapbox": [
           {
            "marker": {
             "colorbar": {
              "outlinewidth": 0,
              "ticks": ""
             }
            },
            "type": "scattermapbox"
           }
          ],
          "scatterpolar": [
           {
            "marker": {
             "colorbar": {
              "outlinewidth": 0,
              "ticks": ""
             }
            },
            "type": "scatterpolar"
           }
          ],
          "scatterpolargl": [
           {
            "marker": {
             "colorbar": {
              "outlinewidth": 0,
              "ticks": ""
             }
            },
            "type": "scatterpolargl"
           }
          ],
          "scatterternary": [
           {
            "marker": {
             "colorbar": {
              "outlinewidth": 0,
              "ticks": ""
             }
            },
            "type": "scatterternary"
           }
          ],
          "surface": [
           {
            "colorbar": {
             "outlinewidth": 0,
             "ticks": ""
            },
            "colorscale": [
             [
              0,
              "#0d0887"
             ],
             [
              0.1111111111111111,
              "#46039f"
             ],
             [
              0.2222222222222222,
              "#7201a8"
             ],
             [
              0.3333333333333333,
              "#9c179e"
             ],
             [
              0.4444444444444444,
              "#bd3786"
             ],
             [
              0.5555555555555556,
              "#d8576b"
             ],
             [
              0.6666666666666666,
              "#ed7953"
             ],
             [
              0.7777777777777778,
              "#fb9f3a"
             ],
             [
              0.8888888888888888,
              "#fdca26"
             ],
             [
              1,
              "#f0f921"
             ]
            ],
            "type": "surface"
           }
          ],
          "table": [
           {
            "cells": {
             "fill": {
              "color": "#EBF0F8"
             },
             "line": {
              "color": "white"
             }
            },
            "header": {
             "fill": {
              "color": "#C8D4E3"
             },
             "line": {
              "color": "white"
             }
            },
            "type": "table"
           }
          ]
         },
         "layout": {
          "annotationdefaults": {
           "arrowcolor": "#2a3f5f",
           "arrowhead": 0,
           "arrowwidth": 1
          },
          "autotypenumbers": "strict",
          "coloraxis": {
           "colorbar": {
            "outlinewidth": 0,
            "ticks": ""
           }
          },
          "colorscale": {
           "diverging": [
            [
             0,
             "#8e0152"
            ],
            [
             0.1,
             "#c51b7d"
            ],
            [
             0.2,
             "#de77ae"
            ],
            [
             0.3,
             "#f1b6da"
            ],
            [
             0.4,
             "#fde0ef"
            ],
            [
             0.5,
             "#f7f7f7"
            ],
            [
             0.6,
             "#e6f5d0"
            ],
            [
             0.7,
             "#b8e186"
            ],
            [
             0.8,
             "#7fbc41"
            ],
            [
             0.9,
             "#4d9221"
            ],
            [
             1,
             "#276419"
            ]
           ],
           "sequential": [
            [
             0,
             "#0d0887"
            ],
            [
             0.1111111111111111,
             "#46039f"
            ],
            [
             0.2222222222222222,
             "#7201a8"
            ],
            [
             0.3333333333333333,
             "#9c179e"
            ],
            [
             0.4444444444444444,
             "#bd3786"
            ],
            [
             0.5555555555555556,
             "#d8576b"
            ],
            [
             0.6666666666666666,
             "#ed7953"
            ],
            [
             0.7777777777777778,
             "#fb9f3a"
            ],
            [
             0.8888888888888888,
             "#fdca26"
            ],
            [
             1,
             "#f0f921"
            ]
           ],
           "sequentialminus": [
            [
             0,
             "#0d0887"
            ],
            [
             0.1111111111111111,
             "#46039f"
            ],
            [
             0.2222222222222222,
             "#7201a8"
            ],
            [
             0.3333333333333333,
             "#9c179e"
            ],
            [
             0.4444444444444444,
             "#bd3786"
            ],
            [
             0.5555555555555556,
             "#d8576b"
            ],
            [
             0.6666666666666666,
             "#ed7953"
            ],
            [
             0.7777777777777778,
             "#fb9f3a"
            ],
            [
             0.8888888888888888,
             "#fdca26"
            ],
            [
             1,
             "#f0f921"
            ]
           ]
          },
          "colorway": [
           "#636efa",
           "#EF553B",
           "#00cc96",
           "#ab63fa",
           "#FFA15A",
           "#19d3f3",
           "#FF6692",
           "#B6E880",
           "#FF97FF",
           "#FECB52"
          ],
          "font": {
           "color": "#2a3f5f"
          },
          "geo": {
           "bgcolor": "white",
           "lakecolor": "white",
           "landcolor": "#E5ECF6",
           "showlakes": true,
           "showland": true,
           "subunitcolor": "white"
          },
          "hoverlabel": {
           "align": "left"
          },
          "hovermode": "closest",
          "mapbox": {
           "style": "light"
          },
          "paper_bgcolor": "white",
          "plot_bgcolor": "#E5ECF6",
          "polar": {
           "angularaxis": {
            "gridcolor": "white",
            "linecolor": "white",
            "ticks": ""
           },
           "bgcolor": "#E5ECF6",
           "radialaxis": {
            "gridcolor": "white",
            "linecolor": "white",
            "ticks": ""
           }
          },
          "scene": {
           "xaxis": {
            "backgroundcolor": "#E5ECF6",
            "gridcolor": "white",
            "gridwidth": 2,
            "linecolor": "white",
            "showbackground": true,
            "ticks": "",
            "zerolinecolor": "white"
           },
           "yaxis": {
            "backgroundcolor": "#E5ECF6",
            "gridcolor": "white",
            "gridwidth": 2,
            "linecolor": "white",
            "showbackground": true,
            "ticks": "",
            "zerolinecolor": "white"
           },
           "zaxis": {
            "backgroundcolor": "#E5ECF6",
            "gridcolor": "white",
            "gridwidth": 2,
            "linecolor": "white",
            "showbackground": true,
            "ticks": "",
            "zerolinecolor": "white"
           }
          },
          "shapedefaults": {
           "line": {
            "color": "#2a3f5f"
           }
          },
          "ternary": {
           "aaxis": {
            "gridcolor": "white",
            "linecolor": "white",
            "ticks": ""
           },
           "baxis": {
            "gridcolor": "white",
            "linecolor": "white",
            "ticks": ""
           },
           "bgcolor": "#E5ECF6",
           "caxis": {
            "gridcolor": "white",
            "linecolor": "white",
            "ticks": ""
           }
          },
          "title": {
           "x": 0.05
          },
          "xaxis": {
           "automargin": true,
           "gridcolor": "white",
           "linecolor": "white",
           "ticks": "",
           "title": {
            "standoff": 15
           },
           "zerolinecolor": "white",
           "zerolinewidth": 2
          },
          "yaxis": {
           "automargin": true,
           "gridcolor": "white",
           "linecolor": "white",
           "ticks": "",
           "title": {
            "standoff": 15
           },
           "zerolinecolor": "white",
           "zerolinewidth": 2
          }
         }
        },
        "title": {
         "text": "Optimization History Plot"
        },
        "xaxis": {
         "autorange": true,
         "range": [
          -0.7062160245804775,
          12
         ],
         "title": {
          "text": "Trial"
         },
         "type": "linear"
        },
        "yaxis": {
         "autorange": true,
         "range": [
          11.286828079816111,
          11.364064080915746
         ],
         "title": {
          "text": "Objective Value"
         },
         "type": "linear"
        }
       }
      },
      "image/png": "[encoded data removed]",
      "text/html": [
       "<div>                            <div id=\"d6c1ae0f-3a76-4a40-b1a4-fe6439799ff9\" class=\"plotly-graph-div\" style=\"height:525px; width:100%;\"></div>            <script type=\"text/javascript\">                require([\"plotly\"], function(Plotly) {                    window.PLOTLYENV=window.PLOTLYENV || {};                                    if (document.getElementById(\"d6c1ae0f-3a76-4a40-b1a4-fe6439799ff9\")) {                    Plotly.newPlot(                        \"d6c1ae0f-3a76-4a40-b1a4-fe6439799ff9\",                        [{\"mode\":\"markers\",\"name\":\"Objective Value\",\"x\":[0,1,2,3,4,5,6,7,8,9,10,11],\"y\":[11.321444200087477,11.311211658434589,11.358593197504522,11.316928503046725,11.33763117885309,11.292298963227335,11.31403527926259,11.318451156375563,11.345493186430897,11.3198946781844,11.325693289472204,11.300916768776489],\"type\":\"scatter\"},{\"mode\":\"lines\",\"name\":\"Best Value\",\"x\":[0,1,2,3,4,5,6,7,8,9,10,11,12],\"y\":[11.321444200087477,11.311211658434589,11.311211658434589,11.311211658434589,11.311211658434589,11.292298963227335,11.292298963227335,11.292298963227335,11.292298963227335,11.292298963227335,11.292298963227335,11.292298963227335,11.292298963227335],\"type\":\"scatter\"},{\"marker\":{\"color\":\"#cccccc\"},\"mode\":\"markers\",\"name\":\"Infeasible Trial\",\"showlegend\":false,\"x\":[],\"y\":[],\"type\":\"scatter\"}],                        {\"title\":{\"text\":\"Optimization History Plot\"},\"xaxis\":{\"title\":{\"text\":\"Trial\"}},\"yaxis\":{\"title\":{\"text\":\"Objective Value\"}},\"template\":{\"data\":{\"histogram2dcontour\":[{\"type\":\"histogram2dcontour\",\"colorbar\":{\"outlinewidth\":0,\"ticks\":\"\"},\"colorscale\":[[0.0,\"#0d0887\"],[0.1111111111111111,\"#46039f\"],[0.2222222222222222,\"#7201a8\"],[0.3333333333333333,\"#9c179e\"],[0.4444444444444444,\"#bd3786\"],[0.5555555555555556,\"#d8576b\"],[0.6666666666666666,\"#ed7953\"],[0.7777777777777778,\"#fb9f3a\"],[0.8888888888888888,\"#fdca26\"],[1.0,\"#f0f921\"]]}],\"choropleth\":[{\"type\":\"choropleth\",\"colorbar\":{\"outlinewidth\":0,\"ticks\":\"\"}}],\"histogram2d\":[{\"type\":\"histogram2d\",\"colorbar\":{\"outlinewidth\":0,\"ticks\":\"\"},\"colorscale\":[[0.0,\"#0d0887\"],[0.1111111111111111,\"#46039f\"],[0.2222222222222222,\"#7201a8\"],[0.3333333333333333,\"#9c179e\"],[0.4444444444444444,\"#bd3786\"],[0.5555555555555556,\"#d8576b\"],[0.6666666666666666,\"#ed7953\"],[0.7777777777777778,\"#fb9f3a\"],[0.8888888888888888,\"#fdca26\"],[1.0,\"#f0f921\"]]}],\"heatmap\":[{\"type\":\"heatmap\",\"colorbar\":{\"outlinewidth\":0,\"ticks\":\"\"},\"colorscale\":[[0.0,\"#0d0887\"],[0.1111111111111111,\"#46039f\"],[0.2222222222222222,\"#7201a8\"],[0.3333333333333333,\"#9c179e\"],[0.4444444444444444,\"#bd3786\"],[0.5555555555555556,\"#d8576b\"],[0.6666666666666666,\"#ed7953\"],[0.7777777777777778,\"#fb9f3a\"],[0.8888888888888888,\"#fdca26\"],[1.0,\"#f0f921\"]]}],\"heatmapgl\":[{\"type\":\"heatmapgl\",\"colorbar\":{\"outlinewidth\":0,\"ticks\":\"\"},\"colorscale\":[[0.0,\"#0d0887\"],[0.1111111111111111,\"#46039f\"],[0.2222222222222222,\"#7201a8\"],[0.3333333333333333,\"#9c179e\"],[0.4444444444444444,\"#bd3786\"],[0.5555555555555556,\"#d8576b\"],[0.6666666666666666,\"#ed7953\"],[0.7777777777777778,\"#fb9f3a\"],[0.8888888888888888,\"#fdca26\"],[1.0,\"#f0f921\"]]}],\"contourcarpet\":[{\"type\":\"contourcarpet\",\"colorbar\":{\"outlinewidth\":0,\"ticks\":\"\"}}],\"contour\":[{\"type\":\"contour\",\"colorbar\":{\"outlinewidth\":0,\"ticks\":\"\"},\"colorscale\":[[0.0,\"#0d0887\"],[0.1111111111111111,\"#46039f\"],[0.2222222222222222,\"#7201a8\"],[0.3333333333333333,\"#9c179e\"],[0.4444444444444444,\"#bd3786\"],[0.5555555555555556,\"#d8576b\"],[0.6666666666666666,\"#ed7953\"],[0.7777777777777778,\"#fb9f3a\"],[0.8888888888888888,\"#fdca26\"],[1.0,\"#f0f921\"]]}],\"surface\":[{\"type\":\"surface\",\"colorbar\":{\"outlinewidth\":0,\"ticks\":\"\"},\"colorscale\":[[0.0,\"#0d0887\"],[0.1111111111111111,\"#46039f\"],[0.2222222222222222,\"#7201a8\"],[0.3333333333333333,\"#9c179e\"],[0.4444444444444444,\"#bd3786\"],[0.5555555555555556,\"#d8576b\"],[0.6666666666666666,\"#ed7953\"],[0.7777777777777778,\"#fb9f3a\"],[0.8888888888888888,\"#fdca26\"],[1.0,\"#f0f921\"]]}],\"mesh3d\":[{\"type\":\"mesh3d\",\"colorbar\":{\"outlinewidth\":0,\"ticks\":\"\"}}],\"scatter\":[{\"fillpattern\":{\"fillmode\":\"overlay\",\"size\":10,\"solidity\":0.2},\"type\":\"scatter\"}],\"parcoords\":[{\"type\":\"parcoords\",\"line\":{\"colorbar\":{\"outlinewidth\":0,\"ticks\":\"\"}}}],\"scatterpolargl\":[{\"type\":\"scatterpolargl\",\"marker\":{\"colorbar\":{\"outlinewidth\":0,\"ticks\":\"\"}}}],\"bar\":[{\"error_x\":{\"color\":\"#2a3f5f\"},\"error_y\":{\"color\":\"#2a3f5f\"},\"marker\":{\"line\":{\"color\":\"#E5ECF6\",\"width\":0.5},\"pattern\":{\"fillmode\":\"overlay\",\"size\":10,\"solidity\":0.2}},\"type\":\"bar\"}],\"scattergeo\":[{\"type\":\"scattergeo\",\"marker\":{\"colorbar\":{\"outlinewidth\":0,\"ticks\":\"\"}}}],\"scatterpolar\":[{\"type\":\"scatterpolar\",\"marker\":{\"colorbar\":{\"outlinewidth\":0,\"ticks\":\"\"}}}],\"histogram\":[{\"marker\":{\"pattern\":{\"fillmode\":\"overlay\",\"size\":10,\"solidity\":0.2}},\"type\":\"histogram\"}],\"scattergl\":[{\"type\":\"scattergl\",\"marker\":{\"colorbar\":{\"outlinewidth\":0,\"ticks\":\"\"}}}],\"scatter3d\":[{\"type\":\"scatter3d\",\"line\":{\"colorbar\":{\"outlinewidth\":0,\"ticks\":\"\"}},\"marker\":{\"colorbar\":{\"outlinewidth\":0,\"ticks\":\"\"}}}],\"scattermapbox\":[{\"type\":\"scattermapbox\",\"marker\":{\"colorbar\":{\"outlinewidth\":0,\"ticks\":\"\"}}}],\"scatterternary\":[{\"type\":\"scatterternary\",\"marker\":{\"colorbar\":{\"outlinewidth\":0,\"ticks\":\"\"}}}],\"scattercarpet\":[{\"type\":\"scattercarpet\",\"marker\":{\"colorbar\":{\"outlinewidth\":0,\"ticks\":\"\"}}}],\"carpet\":[{\"aaxis\":{\"endlinecolor\":\"#2a3f5f\",\"gridcolor\":\"white\",\"linecolor\":\"white\",\"minorgridcolor\":\"white\",\"startlinecolor\":\"#2a3f5f\"},\"baxis\":{\"endlinecolor\":\"#2a3f5f\",\"gridcolor\":\"white\",\"linecolor\":\"white\",\"minorgridcolor\":\"white\",\"startlinecolor\":\"#2a3f5f\"},\"type\":\"carpet\"}],\"table\":[{\"cells\":{\"fill\":{\"color\":\"#EBF0F8\"},\"line\":{\"color\":\"white\"}},\"header\":{\"fill\":{\"color\":\"#C8D4E3\"},\"line\":{\"color\":\"white\"}},\"type\":\"table\"}],\"barpolar\":[{\"marker\":{\"line\":{\"color\":\"#E5ECF6\",\"width\":0.5},\"pattern\":{\"fillmode\":\"overlay\",\"size\":10,\"solidity\":0.2}},\"type\":\"barpolar\"}],\"pie\":[{\"automargin\":true,\"type\":\"pie\"}]},\"layout\":{\"autotypenumbers\":\"strict\",\"colorway\":[\"#636efa\",\"#EF553B\",\"#00cc96\",\"#ab63fa\",\"#FFA15A\",\"#19d3f3\",\"#FF6692\",\"#B6E880\",\"#FF97FF\",\"#FECB52\"],\"font\":{\"color\":\"#2a3f5f\"},\"hovermode\":\"closest\",\"hoverlabel\":{\"align\":\"left\"},\"paper_bgcolor\":\"white\",\"plot_bgcolor\":\"#E5ECF6\",\"polar\":{\"bgcolor\":\"#E5ECF6\",\"angularaxis\":{\"gridcolor\":\"white\",\"linecolor\":\"white\",\"ticks\":\"\"},\"radialaxis\":{\"gridcolor\":\"white\",\"linecolor\":\"white\",\"ticks\":\"\"}},\"ternary\":{\"bgcolor\":\"#E5ECF6\",\"aaxis\":{\"gridcolor\":\"white\",\"linecolor\":\"white\",\"ticks\":\"\"},\"baxis\":{\"gridcolor\":\"white\",\"linecolor\":\"white\",\"ticks\":\"\"},\"caxis\":{\"gridcolor\":\"white\",\"linecolor\":\"white\",\"ticks\":\"\"}},\"coloraxis\":{\"colorbar\":{\"outlinewidth\":0,\"ticks\":\"\"}},\"colorscale\":{\"sequential\":[[0.0,\"#0d0887\"],[0.1111111111111111,\"#46039f\"],[0.2222222222222222,\"#7201a8\"],[0.3333333333333333,\"#9c179e\"],[0.4444444444444444,\"#bd3786\"],[0.5555555555555556,\"#d8576b\"],[0.6666666666666666,\"#ed7953\"],[0.7777777777777778,\"#fb9f3a\"],[0.8888888888888888,\"#fdca26\"],[1.0,\"#f0f921\"]],\"sequentialminus\":[[0.0,\"#0d0887\"],[0.1111111111111111,\"#46039f\"],[0.2222222222222222,\"#7201a8\"],[0.3333333333333333,\"#9c179e\"],[0.4444444444444444,\"#bd3786\"],[0.5555555555555556,\"#d8576b\"],[0.6666666666666666,\"#ed7953\"],[0.7777777777777778,\"#fb9f3a\"],[0.8888888888888888,\"#fdca26\"],[1.0,\"#f0f921\"]],\"diverging\":[[0,\"#8e0152\"],[0.1,\"#c51b7d\"],[0.2,\"#de77ae\"],[0.3,\"#f1b6da\"],[0.4,\"#fde0ef\"],[0.5,\"#f7f7f7\"],[0.6,\"#e6f5d0\"],[0.7,\"#b8e186\"],[0.8,\"#7fbc41\"],[0.9,\"#4d9221\"],[1,\"#276419\"]]},\"xaxis\":{\"gridcolor\":\"white\",\"linecolor\":\"white\",\"ticks\":\"\",\"title\":{\"standoff\":15},\"zerolinecolor\":\"white\",\"automargin\":true,\"zerolinewidth\":2},\"yaxis\":{\"gridcolor\":\"white\",\"linecolor\":\"white\",\"ticks\":\"\",\"title\":{\"standoff\":15},\"zerolinecolor\":\"white\",\"automargin\":true,\"zerolinewidth\":2},\"scene\":{\"xaxis\":{\"backgroundcolor\":\"#E5ECF6\",\"gridcolor\":\"white\",\"linecolor\":\"white\",\"showbackground\":true,\"ticks\":\"\",\"zerolinecolor\":\"white\",\"gridwidth\":2},\"yaxis\":{\"backgroundcolor\":\"#E5ECF6\",\"gridcolor\":\"white\",\"linecolor\":\"white\",\"showbackground\":true,\"ticks\":\"\",\"zerolinecolor\":\"white\",\"gridwidth\":2},\"zaxis\":{\"backgroundcolor\":\"#E5ECF6\",\"gridcolor\":\"white\",\"linecolor\":\"white\",\"showbackground\":true,\"ticks\":\"\",\"zerolinecolor\":\"white\",\"gridwidth\":2}},\"shapedefaults\":{\"line\":{\"color\":\"#2a3f5f\"}},\"annotationdefaults\":{\"arrowcolor\":\"#2a3f5f\",\"arrowhead\":0,\"arrowwidth\":1},\"geo\":{\"bgcolor\":\"white\",\"landcolor\":\"#E5ECF6\",\"subunitcolor\":\"white\",\"showland\":true,\"showlakes\":true,\"lakecolor\":\"white\"},\"title\":{\"x\":0.05},\"mapbox\":{\"style\":\"light\"}}}},                        {\"responsive\": true}                    ).then(function(){\n",
       "                            \n",
       "var gd = document.getElementById('d6c1ae0f-3a76-4a40-b1a4-fe6439799ff9');\n",
       "var x = new MutationObserver(function (mutations, observer) {{\n",
       "        var display = window.getComputedStyle(gd).display;\n",
       "        if (!display || display === 'none') {{\n",
       "            console.log([gd, 'removed!']);\n",
       "            Plotly.purge(gd);\n",
       "            observer.disconnect();\n",
       "        }}\n",
       "}});\n",
       "\n",
       "// Listen for the removal of the full notebook cells\n",
       "var notebookContainer = gd.closest('#notebook-container');\n",
       "if (notebookContainer) {{\n",
       "    x.observe(notebookContainer, {childList: true});\n",
       "}}\n",
       "\n",
       "// Listen for the clearing of the current output cell\n",
       "var outputEl = gd.closest('.output');\n",
       "if (outputEl) {{\n",
       "    x.observe(outputEl, {childList: true});\n",
       "}}\n",
       "\n",
       "                        })                };                });            </script>        </div>"
      ]
     },
     "metadata": {},
     "output_type": "display_data"
    }
   ],
   "source": [
    "optuna.visualization.plot_optimization_history(study)\n",
    "#fig.write_image(\"fig.png\")\n",
    "#fig.update_layout(template='plotly_dark', title='<b>Optimization History Plot', title_x=0.5)\n",
    "#fig.show()"
   ]
  },
  {
   "cell_type": "code",
   "execution_count": 61,
   "id": "20b9dc3c-f437-4b65-8275-7e3aa4369af8",
   "metadata": {},
   "outputs": [
    {
     "data": {
      "application/vnd.plotly.v1+json": {
       "config": {
        "plotlyServerURL": "https://plot.ly"
       },
       "data": [
        {
         "cliponaxis": false,
         "hovertemplate": [
          "n_estimators (IntDistribution): 0.08887844725647541<extra></extra>",
          "max_depth (IntDistribution): 0.20931036422859814<extra></extra>",
          "max_features (IntDistribution): 0.7018111885149264<extra></extra>"
         ],
         "name": "Objective Value",
         "orientation": "h",
         "text": [
          "0.09",
          "0.21",
          "0.70"
         ],
         "textposition": "outside",
         "type": "bar",
         "x": [
          0.08887844725647541,
          0.20931036422859814,
          0.7018111885149264
         ],
         "y": [
          "n_estimators",
          "max_depth",
          "max_features"
         ]
        }
       ],
       "layout": {
        "autosize": true,
        "template": {
         "data": {
          "bar": [
           {
            "error_x": {
             "color": "#f2f5fa"
            },
            "error_y": {
             "color": "#f2f5fa"
            },
            "marker": {
             "line": {
              "color": "rgb(17,17,17)",
              "width": 0.5
             },
             "pattern": {
              "fillmode": "overlay",
              "size": 10,
              "solidity": 0.2
             }
            },
            "type": "bar"
           }
          ],
          "barpolar": [
           {
            "marker": {
             "line": {
              "color": "rgb(17,17,17)",
              "width": 0.5
             },
             "pattern": {
              "fillmode": "overlay",
              "size": 10,
              "solidity": 0.2
             }
            },
            "type": "barpolar"
           }
          ],
          "carpet": [
           {
            "aaxis": {
             "endlinecolor": "#A2B1C6",
             "gridcolor": "#506784",
             "linecolor": "#506784",
             "minorgridcolor": "#506784",
             "startlinecolor": "#A2B1C6"
            },
            "baxis": {
             "endlinecolor": "#A2B1C6",
             "gridcolor": "#506784",
             "linecolor": "#506784",
             "minorgridcolor": "#506784",
             "startlinecolor": "#A2B1C6"
            },
            "type": "carpet"
           }
          ],
          "choropleth": [
           {
            "colorbar": {
             "outlinewidth": 0,
             "ticks": ""
            },
            "type": "choropleth"
           }
          ],
          "contour": [
           {
            "colorbar": {
             "outlinewidth": 0,
             "ticks": ""
            },
            "colorscale": [
             [
              0,
              "#0d0887"
             ],
             [
              0.1111111111111111,
              "#46039f"
             ],
             [
              0.2222222222222222,
              "#7201a8"
             ],
             [
              0.3333333333333333,
              "#9c179e"
             ],
             [
              0.4444444444444444,
              "#bd3786"
             ],
             [
              0.5555555555555556,
              "#d8576b"
             ],
             [
              0.6666666666666666,
              "#ed7953"
             ],
             [
              0.7777777777777778,
              "#fb9f3a"
             ],
             [
              0.8888888888888888,
              "#fdca26"
             ],
             [
              1,
              "#f0f921"
             ]
            ],
            "type": "contour"
           }
          ],
          "contourcarpet": [
           {
            "colorbar": {
             "outlinewidth": 0,
             "ticks": ""
            },
            "type": "contourcarpet"
           }
          ],
          "heatmap": [
           {
            "colorbar": {
             "outlinewidth": 0,
             "ticks": ""
            },
            "colorscale": [
             [
              0,
              "#0d0887"
             ],
             [
              0.1111111111111111,
              "#46039f"
             ],
             [
              0.2222222222222222,
              "#7201a8"
             ],
             [
              0.3333333333333333,
              "#9c179e"
             ],
             [
              0.4444444444444444,
              "#bd3786"
             ],
             [
              0.5555555555555556,
              "#d8576b"
             ],
             [
              0.6666666666666666,
              "#ed7953"
             ],
             [
              0.7777777777777778,
              "#fb9f3a"
             ],
             [
              0.8888888888888888,
              "#fdca26"
             ],
             [
              1,
              "#f0f921"
             ]
            ],
            "type": "heatmap"
           }
          ],
          "heatmapgl": [
           {
            "colorbar": {
             "outlinewidth": 0,
             "ticks": ""
            },
            "colorscale": [
             [
              0,
              "#0d0887"
             ],
             [
              0.1111111111111111,
              "#46039f"
             ],
             [
              0.2222222222222222,
              "#7201a8"
             ],
             [
              0.3333333333333333,
              "#9c179e"
             ],
             [
              0.4444444444444444,
              "#bd3786"
             ],
             [
              0.5555555555555556,
              "#d8576b"
             ],
             [
              0.6666666666666666,
              "#ed7953"
             ],
             [
              0.7777777777777778,
              "#fb9f3a"
             ],
             [
              0.8888888888888888,
              "#fdca26"
             ],
             [
              1,
              "#f0f921"
             ]
            ],
            "type": "heatmapgl"
           }
          ],
          "histogram": [
           {
            "marker": {
             "pattern": {
              "fillmode": "overlay",
              "size": 10,
              "solidity": 0.2
             }
            },
            "type": "histogram"
           }
          ],
          "histogram2d": [
           {
            "colorbar": {
             "outlinewidth": 0,
             "ticks": ""
            },
            "colorscale": [
             [
              0,
              "#0d0887"
             ],
             [
              0.1111111111111111,
              "#46039f"
             ],
             [
              0.2222222222222222,
              "#7201a8"
             ],
             [
              0.3333333333333333,
              "#9c179e"
             ],
             [
              0.4444444444444444,
              "#bd3786"
             ],
             [
              0.5555555555555556,
              "#d8576b"
             ],
             [
              0.6666666666666666,
              "#ed7953"
             ],
             [
              0.7777777777777778,
              "#fb9f3a"
             ],
             [
              0.8888888888888888,
              "#fdca26"
             ],
             [
              1,
              "#f0f921"
             ]
            ],
            "type": "histogram2d"
           }
          ],
          "histogram2dcontour": [
           {
            "colorbar": {
             "outlinewidth": 0,
             "ticks": ""
            },
            "colorscale": [
             [
              0,
              "#0d0887"
             ],
             [
              0.1111111111111111,
              "#46039f"
             ],
             [
              0.2222222222222222,
              "#7201a8"
             ],
             [
              0.3333333333333333,
              "#9c179e"
             ],
             [
              0.4444444444444444,
              "#bd3786"
             ],
             [
              0.5555555555555556,
              "#d8576b"
             ],
             [
              0.6666666666666666,
              "#ed7953"
             ],
             [
              0.7777777777777778,
              "#fb9f3a"
             ],
             [
              0.8888888888888888,
              "#fdca26"
             ],
             [
              1,
              "#f0f921"
             ]
            ],
            "type": "histogram2dcontour"
           }
          ],
          "mesh3d": [
           {
            "colorbar": {
             "outlinewidth": 0,
             "ticks": ""
            },
            "type": "mesh3d"
           }
          ],
          "parcoords": [
           {
            "line": {
             "colorbar": {
              "outlinewidth": 0,
              "ticks": ""
             }
            },
            "type": "parcoords"
           }
          ],
          "pie": [
           {
            "automargin": true,
            "type": "pie"
           }
          ],
          "scatter": [
           {
            "marker": {
             "line": {
              "color": "#283442"
             }
            },
            "type": "scatter"
           }
          ],
          "scatter3d": [
           {
            "line": {
             "colorbar": {
              "outlinewidth": 0,
              "ticks": ""
             }
            },
            "marker": {
             "colorbar": {
              "outlinewidth": 0,
              "ticks": ""
             }
            },
            "type": "scatter3d"
           }
          ],
          "scattercarpet": [
           {
            "marker": {
             "colorbar": {
              "outlinewidth": 0,
              "ticks": ""
             }
            },
            "type": "scattercarpet"
           }
          ],
          "scattergeo": [
           {
            "marker": {
             "colorbar": {
              "outlinewidth": 0,
              "ticks": ""
             }
            },
            "type": "scattergeo"
           }
          ],
          "scattergl": [
           {
            "marker": {
             "line": {
              "color": "#283442"
             }
            },
            "type": "scattergl"
           }
          ],
          "scattermapbox": [
           {
            "marker": {
             "colorbar": {
              "outlinewidth": 0,
              "ticks": ""
             }
            },
            "type": "scattermapbox"
           }
          ],
          "scatterpolar": [
           {
            "marker": {
             "colorbar": {
              "outlinewidth": 0,
              "ticks": ""
             }
            },
            "type": "scatterpolar"
           }
          ],
          "scatterpolargl": [
           {
            "marker": {
             "colorbar": {
              "outlinewidth": 0,
              "ticks": ""
             }
            },
            "type": "scatterpolargl"
           }
          ],
          "scatterternary": [
           {
            "marker": {
             "colorbar": {
              "outlinewidth": 0,
              "ticks": ""
             }
            },
            "type": "scatterternary"
           }
          ],
          "surface": [
           {
            "colorbar": {
             "outlinewidth": 0,
             "ticks": ""
            },
            "colorscale": [
             [
              0,
              "#0d0887"
             ],
             [
              0.1111111111111111,
              "#46039f"
             ],
             [
              0.2222222222222222,
              "#7201a8"
             ],
             [
              0.3333333333333333,
              "#9c179e"
             ],
             [
              0.4444444444444444,
              "#bd3786"
             ],
             [
              0.5555555555555556,
              "#d8576b"
             ],
             [
              0.6666666666666666,
              "#ed7953"
             ],
             [
              0.7777777777777778,
              "#fb9f3a"
             ],
             [
              0.8888888888888888,
              "#fdca26"
             ],
             [
              1,
              "#f0f921"
             ]
            ],
            "type": "surface"
           }
          ],
          "table": [
           {
            "cells": {
             "fill": {
              "color": "#506784"
             },
             "line": {
              "color": "rgb(17,17,17)"
             }
            },
            "header": {
             "fill": {
              "color": "#2a3f5f"
             },
             "line": {
              "color": "rgb(17,17,17)"
             }
            },
            "type": "table"
           }
          ]
         },
         "layout": {
          "annotationdefaults": {
           "arrowcolor": "#f2f5fa",
           "arrowhead": 0,
           "arrowwidth": 1
          },
          "autotypenumbers": "strict",
          "coloraxis": {
           "colorbar": {
            "outlinewidth": 0,
            "ticks": ""
           }
          },
          "colorscale": {
           "diverging": [
            [
             0,
             "#8e0152"
            ],
            [
             0.1,
             "#c51b7d"
            ],
            [
             0.2,
             "#de77ae"
            ],
            [
             0.3,
             "#f1b6da"
            ],
            [
             0.4,
             "#fde0ef"
            ],
            [
             0.5,
             "#f7f7f7"
            ],
            [
             0.6,
             "#e6f5d0"
            ],
            [
             0.7,
             "#b8e186"
            ],
            [
             0.8,
             "#7fbc41"
            ],
            [
             0.9,
             "#4d9221"
            ],
            [
             1,
             "#276419"
            ]
           ],
           "sequential": [
            [
             0,
             "#0d0887"
            ],
            [
             0.1111111111111111,
             "#46039f"
            ],
            [
             0.2222222222222222,
             "#7201a8"
            ],
            [
             0.3333333333333333,
             "#9c179e"
            ],
            [
             0.4444444444444444,
             "#bd3786"
            ],
            [
             0.5555555555555556,
             "#d8576b"
            ],
            [
             0.6666666666666666,
             "#ed7953"
            ],
            [
             0.7777777777777778,
             "#fb9f3a"
            ],
            [
             0.8888888888888888,
             "#fdca26"
            ],
            [
             1,
             "#f0f921"
            ]
           ],
           "sequentialminus": [
            [
             0,
             "#0d0887"
            ],
            [
             0.1111111111111111,
             "#46039f"
            ],
            [
             0.2222222222222222,
             "#7201a8"
            ],
            [
             0.3333333333333333,
             "#9c179e"
            ],
            [
             0.4444444444444444,
             "#bd3786"
            ],
            [
             0.5555555555555556,
             "#d8576b"
            ],
            [
             0.6666666666666666,
             "#ed7953"
            ],
            [
             0.7777777777777778,
             "#fb9f3a"
            ],
            [
             0.8888888888888888,
             "#fdca26"
            ],
            [
             1,
             "#f0f921"
            ]
           ]
          },
          "colorway": [
           "#636efa",
           "#EF553B",
           "#00cc96",
           "#ab63fa",
           "#FFA15A",
           "#19d3f3",
           "#FF6692",
           "#B6E880",
           "#FF97FF",
           "#FECB52"
          ],
          "font": {
           "color": "#f2f5fa"
          },
          "geo": {
           "bgcolor": "rgb(17,17,17)",
           "lakecolor": "rgb(17,17,17)",
           "landcolor": "rgb(17,17,17)",
           "showlakes": true,
           "showland": true,
           "subunitcolor": "#506784"
          },
          "hoverlabel": {
           "align": "left"
          },
          "hovermode": "closest",
          "mapbox": {
           "style": "dark"
          },
          "paper_bgcolor": "rgb(17,17,17)",
          "plot_bgcolor": "rgb(17,17,17)",
          "polar": {
           "angularaxis": {
            "gridcolor": "#506784",
            "linecolor": "#506784",
            "ticks": ""
           },
           "bgcolor": "rgb(17,17,17)",
           "radialaxis": {
            "gridcolor": "#506784",
            "linecolor": "#506784",
            "ticks": ""
           }
          },
          "scene": {
           "xaxis": {
            "backgroundcolor": "rgb(17,17,17)",
            "gridcolor": "#506784",
            "gridwidth": 2,
            "linecolor": "#506784",
            "showbackground": true,
            "ticks": "",
            "zerolinecolor": "#C8D4E3"
           },
           "yaxis": {
            "backgroundcolor": "rgb(17,17,17)",
            "gridcolor": "#506784",
            "gridwidth": 2,
            "linecolor": "#506784",
            "showbackground": true,
            "ticks": "",
            "zerolinecolor": "#C8D4E3"
           },
           "zaxis": {
            "backgroundcolor": "rgb(17,17,17)",
            "gridcolor": "#506784",
            "gridwidth": 2,
            "linecolor": "#506784",
            "showbackground": true,
            "ticks": "",
            "zerolinecolor": "#C8D4E3"
           }
          },
          "shapedefaults": {
           "line": {
            "color": "#f2f5fa"
           }
          },
          "sliderdefaults": {
           "bgcolor": "#C8D4E3",
           "bordercolor": "rgb(17,17,17)",
           "borderwidth": 1,
           "tickwidth": 0
          },
          "ternary": {
           "aaxis": {
            "gridcolor": "#506784",
            "linecolor": "#506784",
            "ticks": ""
           },
           "baxis": {
            "gridcolor": "#506784",
            "linecolor": "#506784",
            "ticks": ""
           },
           "bgcolor": "rgb(17,17,17)",
           "caxis": {
            "gridcolor": "#506784",
            "linecolor": "#506784",
            "ticks": ""
           }
          },
          "title": {
           "x": 0.05
          },
          "updatemenudefaults": {
           "bgcolor": "#506784",
           "borderwidth": 0
          },
          "xaxis": {
           "automargin": true,
           "gridcolor": "#283442",
           "linecolor": "#506784",
           "ticks": "",
           "title": {
            "standoff": 15
           },
           "zerolinecolor": "#283442",
           "zerolinewidth": 2
          },
          "yaxis": {
           "automargin": true,
           "gridcolor": "#283442",
           "linecolor": "#506784",
           "ticks": "",
           "title": {
            "standoff": 15
           },
           "zerolinecolor": "#283442",
           "zerolinewidth": 2
          }
         }
        },
        "title": {
         "text": "<b>Optimization History Plot",
         "x": 0.5
        },
        "xaxis": {
         "autorange": true,
         "range": [
          0,
          0.7387486194893962
         ],
         "title": {
          "text": "Hyperparameter Importance"
         },
         "type": "linear"
        },
        "yaxis": {
         "autorange": true,
         "range": [
          -0.5,
          2.5
         ],
         "title": {
          "text": "Hyperparameter"
         },
         "type": "category"
        }
       }
      },
      "image/png": "[encoded data removed]",
      "text/html": [
       "<div>                            <div id=\"a76265be-04ec-4753-8f75-c01fa52d6219\" class=\"plotly-graph-div\" style=\"height:525px; width:100%;\"></div>            <script type=\"text/javascript\">                require([\"plotly\"], function(Plotly) {                    window.PLOTLYENV=window.PLOTLYENV || {};                                    if (document.getElementById(\"a76265be-04ec-4753-8f75-c01fa52d6219\")) {                    Plotly.newPlot(                        \"a76265be-04ec-4753-8f75-c01fa52d6219\",                        [{\"cliponaxis\":false,\"hovertemplate\":[\"n_estimators (IntDistribution): 0.08887844725647541\\u003cextra\\u003e\\u003c\\u002fextra\\u003e\",\"max_depth (IntDistribution): 0.20931036422859814\\u003cextra\\u003e\\u003c\\u002fextra\\u003e\",\"max_features (IntDistribution): 0.7018111885149264\\u003cextra\\u003e\\u003c\\u002fextra\\u003e\"],\"name\":\"Objective Value\",\"orientation\":\"h\",\"text\":[\"0.09\",\"0.21\",\"0.70\"],\"textposition\":\"outside\",\"x\":[0.08887844725647541,0.20931036422859814,0.7018111885149264],\"y\":[\"n_estimators\",\"max_depth\",\"max_features\"],\"type\":\"bar\"}],                        {\"title\":{\"text\":\"\\u003cb\\u003eOptimization History Plot\",\"x\":0.5},\"xaxis\":{\"title\":{\"text\":\"Hyperparameter Importance\"}},\"yaxis\":{\"title\":{\"text\":\"Hyperparameter\"}},\"template\":{\"data\":{\"barpolar\":[{\"marker\":{\"line\":{\"color\":\"rgb(17,17,17)\",\"width\":0.5},\"pattern\":{\"fillmode\":\"overlay\",\"size\":10,\"solidity\":0.2}},\"type\":\"barpolar\"}],\"bar\":[{\"error_x\":{\"color\":\"#f2f5fa\"},\"error_y\":{\"color\":\"#f2f5fa\"},\"marker\":{\"line\":{\"color\":\"rgb(17,17,17)\",\"width\":0.5},\"pattern\":{\"fillmode\":\"overlay\",\"size\":10,\"solidity\":0.2}},\"type\":\"bar\"}],\"carpet\":[{\"aaxis\":{\"endlinecolor\":\"#A2B1C6\",\"gridcolor\":\"#506784\",\"linecolor\":\"#506784\",\"minorgridcolor\":\"#506784\",\"startlinecolor\":\"#A2B1C6\"},\"baxis\":{\"endlinecolor\":\"#A2B1C6\",\"gridcolor\":\"#506784\",\"linecolor\":\"#506784\",\"minorgridcolor\":\"#506784\",\"startlinecolor\":\"#A2B1C6\"},\"type\":\"carpet\"}],\"choropleth\":[{\"colorbar\":{\"outlinewidth\":0,\"ticks\":\"\"},\"type\":\"choropleth\"}],\"contourcarpet\":[{\"colorbar\":{\"outlinewidth\":0,\"ticks\":\"\"},\"type\":\"contourcarpet\"}],\"contour\":[{\"colorbar\":{\"outlinewidth\":0,\"ticks\":\"\"},\"colorscale\":[[0.0,\"#0d0887\"],[0.1111111111111111,\"#46039f\"],[0.2222222222222222,\"#7201a8\"],[0.3333333333333333,\"#9c179e\"],[0.4444444444444444,\"#bd3786\"],[0.5555555555555556,\"#d8576b\"],[0.6666666666666666,\"#ed7953\"],[0.7777777777777778,\"#fb9f3a\"],[0.8888888888888888,\"#fdca26\"],[1.0,\"#f0f921\"]],\"type\":\"contour\"}],\"heatmapgl\":[{\"colorbar\":{\"outlinewidth\":0,\"ticks\":\"\"},\"colorscale\":[[0.0,\"#0d0887\"],[0.1111111111111111,\"#46039f\"],[0.2222222222222222,\"#7201a8\"],[0.3333333333333333,\"#9c179e\"],[0.4444444444444444,\"#bd3786\"],[0.5555555555555556,\"#d8576b\"],[0.6666666666666666,\"#ed7953\"],[0.7777777777777778,\"#fb9f3a\"],[0.8888888888888888,\"#fdca26\"],[1.0,\"#f0f921\"]],\"type\":\"heatmapgl\"}],\"heatmap\":[{\"colorbar\":{\"outlinewidth\":0,\"ticks\":\"\"},\"colorscale\":[[0.0,\"#0d0887\"],[0.1111111111111111,\"#46039f\"],[0.2222222222222222,\"#7201a8\"],[0.3333333333333333,\"#9c179e\"],[0.4444444444444444,\"#bd3786\"],[0.5555555555555556,\"#d8576b\"],[0.6666666666666666,\"#ed7953\"],[0.7777777777777778,\"#fb9f3a\"],[0.8888888888888888,\"#fdca26\"],[1.0,\"#f0f921\"]],\"type\":\"heatmap\"}],\"histogram2dcontour\":[{\"colorbar\":{\"outlinewidth\":0,\"ticks\":\"\"},\"colorscale\":[[0.0,\"#0d0887\"],[0.1111111111111111,\"#46039f\"],[0.2222222222222222,\"#7201a8\"],[0.3333333333333333,\"#9c179e\"],[0.4444444444444444,\"#bd3786\"],[0.5555555555555556,\"#d8576b\"],[0.6666666666666666,\"#ed7953\"],[0.7777777777777778,\"#fb9f3a\"],[0.8888888888888888,\"#fdca26\"],[1.0,\"#f0f921\"]],\"type\":\"histogram2dcontour\"}],\"histogram2d\":[{\"colorbar\":{\"outlinewidth\":0,\"ticks\":\"\"},\"colorscale\":[[0.0,\"#0d0887\"],[0.1111111111111111,\"#46039f\"],[0.2222222222222222,\"#7201a8\"],[0.3333333333333333,\"#9c179e\"],[0.4444444444444444,\"#bd3786\"],[0.5555555555555556,\"#d8576b\"],[0.6666666666666666,\"#ed7953\"],[0.7777777777777778,\"#fb9f3a\"],[0.8888888888888888,\"#fdca26\"],[1.0,\"#f0f921\"]],\"type\":\"histogram2d\"}],\"histogram\":[{\"marker\":{\"pattern\":{\"fillmode\":\"overlay\",\"size\":10,\"solidity\":0.2}},\"type\":\"histogram\"}],\"mesh3d\":[{\"colorbar\":{\"outlinewidth\":0,\"ticks\":\"\"},\"type\":\"mesh3d\"}],\"parcoords\":[{\"line\":{\"colorbar\":{\"outlinewidth\":0,\"ticks\":\"\"}},\"type\":\"parcoords\"}],\"pie\":[{\"automargin\":true,\"type\":\"pie\"}],\"scatter3d\":[{\"line\":{\"colorbar\":{\"outlinewidth\":0,\"ticks\":\"\"}},\"marker\":{\"colorbar\":{\"outlinewidth\":0,\"ticks\":\"\"}},\"type\":\"scatter3d\"}],\"scattercarpet\":[{\"marker\":{\"colorbar\":{\"outlinewidth\":0,\"ticks\":\"\"}},\"type\":\"scattercarpet\"}],\"scattergeo\":[{\"marker\":{\"colorbar\":{\"outlinewidth\":0,\"ticks\":\"\"}},\"type\":\"scattergeo\"}],\"scattergl\":[{\"marker\":{\"line\":{\"color\":\"#283442\"}},\"type\":\"scattergl\"}],\"scattermapbox\":[{\"marker\":{\"colorbar\":{\"outlinewidth\":0,\"ticks\":\"\"}},\"type\":\"scattermapbox\"}],\"scatterpolargl\":[{\"marker\":{\"colorbar\":{\"outlinewidth\":0,\"ticks\":\"\"}},\"type\":\"scatterpolargl\"}],\"scatterpolar\":[{\"marker\":{\"colorbar\":{\"outlinewidth\":0,\"ticks\":\"\"}},\"type\":\"scatterpolar\"}],\"scatter\":[{\"marker\":{\"line\":{\"color\":\"#283442\"}},\"type\":\"scatter\"}],\"scatterternary\":[{\"marker\":{\"colorbar\":{\"outlinewidth\":0,\"ticks\":\"\"}},\"type\":\"scatterternary\"}],\"surface\":[{\"colorbar\":{\"outlinewidth\":0,\"ticks\":\"\"},\"colorscale\":[[0.0,\"#0d0887\"],[0.1111111111111111,\"#46039f\"],[0.2222222222222222,\"#7201a8\"],[0.3333333333333333,\"#9c179e\"],[0.4444444444444444,\"#bd3786\"],[0.5555555555555556,\"#d8576b\"],[0.6666666666666666,\"#ed7953\"],[0.7777777777777778,\"#fb9f3a\"],[0.8888888888888888,\"#fdca26\"],[1.0,\"#f0f921\"]],\"type\":\"surface\"}],\"table\":[{\"cells\":{\"fill\":{\"color\":\"#506784\"},\"line\":{\"color\":\"rgb(17,17,17)\"}},\"header\":{\"fill\":{\"color\":\"#2a3f5f\"},\"line\":{\"color\":\"rgb(17,17,17)\"}},\"type\":\"table\"}]},\"layout\":{\"annotationdefaults\":{\"arrowcolor\":\"#f2f5fa\",\"arrowhead\":0,\"arrowwidth\":1},\"autotypenumbers\":\"strict\",\"coloraxis\":{\"colorbar\":{\"outlinewidth\":0,\"ticks\":\"\"}},\"colorscale\":{\"diverging\":[[0,\"#8e0152\"],[0.1,\"#c51b7d\"],[0.2,\"#de77ae\"],[0.3,\"#f1b6da\"],[0.4,\"#fde0ef\"],[0.5,\"#f7f7f7\"],[0.6,\"#e6f5d0\"],[0.7,\"#b8e186\"],[0.8,\"#7fbc41\"],[0.9,\"#4d9221\"],[1,\"#276419\"]],\"sequential\":[[0.0,\"#0d0887\"],[0.1111111111111111,\"#46039f\"],[0.2222222222222222,\"#7201a8\"],[0.3333333333333333,\"#9c179e\"],[0.4444444444444444,\"#bd3786\"],[0.5555555555555556,\"#d8576b\"],[0.6666666666666666,\"#ed7953\"],[0.7777777777777778,\"#fb9f3a\"],[0.8888888888888888,\"#fdca26\"],[1.0,\"#f0f921\"]],\"sequentialminus\":[[0.0,\"#0d0887\"],[0.1111111111111111,\"#46039f\"],[0.2222222222222222,\"#7201a8\"],[0.3333333333333333,\"#9c179e\"],[0.4444444444444444,\"#bd3786\"],[0.5555555555555556,\"#d8576b\"],[0.6666666666666666,\"#ed7953\"],[0.7777777777777778,\"#fb9f3a\"],[0.8888888888888888,\"#fdca26\"],[1.0,\"#f0f921\"]]},\"colorway\":[\"#636efa\",\"#EF553B\",\"#00cc96\",\"#ab63fa\",\"#FFA15A\",\"#19d3f3\",\"#FF6692\",\"#B6E880\",\"#FF97FF\",\"#FECB52\"],\"font\":{\"color\":\"#f2f5fa\"},\"geo\":{\"bgcolor\":\"rgb(17,17,17)\",\"lakecolor\":\"rgb(17,17,17)\",\"landcolor\":\"rgb(17,17,17)\",\"showlakes\":true,\"showland\":true,\"subunitcolor\":\"#506784\"},\"hoverlabel\":{\"align\":\"left\"},\"hovermode\":\"closest\",\"mapbox\":{\"style\":\"dark\"},\"paper_bgcolor\":\"rgb(17,17,17)\",\"plot_bgcolor\":\"rgb(17,17,17)\",\"polar\":{\"angularaxis\":{\"gridcolor\":\"#506784\",\"linecolor\":\"#506784\",\"ticks\":\"\"},\"bgcolor\":\"rgb(17,17,17)\",\"radialaxis\":{\"gridcolor\":\"#506784\",\"linecolor\":\"#506784\",\"ticks\":\"\"}},\"scene\":{\"xaxis\":{\"backgroundcolor\":\"rgb(17,17,17)\",\"gridcolor\":\"#506784\",\"gridwidth\":2,\"linecolor\":\"#506784\",\"showbackground\":true,\"ticks\":\"\",\"zerolinecolor\":\"#C8D4E3\"},\"yaxis\":{\"backgroundcolor\":\"rgb(17,17,17)\",\"gridcolor\":\"#506784\",\"gridwidth\":2,\"linecolor\":\"#506784\",\"showbackground\":true,\"ticks\":\"\",\"zerolinecolor\":\"#C8D4E3\"},\"zaxis\":{\"backgroundcolor\":\"rgb(17,17,17)\",\"gridcolor\":\"#506784\",\"gridwidth\":2,\"linecolor\":\"#506784\",\"showbackground\":true,\"ticks\":\"\",\"zerolinecolor\":\"#C8D4E3\"}},\"shapedefaults\":{\"line\":{\"color\":\"#f2f5fa\"}},\"sliderdefaults\":{\"bgcolor\":\"#C8D4E3\",\"bordercolor\":\"rgb(17,17,17)\",\"borderwidth\":1,\"tickwidth\":0},\"ternary\":{\"aaxis\":{\"gridcolor\":\"#506784\",\"linecolor\":\"#506784\",\"ticks\":\"\"},\"baxis\":{\"gridcolor\":\"#506784\",\"linecolor\":\"#506784\",\"ticks\":\"\"},\"bgcolor\":\"rgb(17,17,17)\",\"caxis\":{\"gridcolor\":\"#506784\",\"linecolor\":\"#506784\",\"ticks\":\"\"}},\"title\":{\"x\":0.05},\"updatemenudefaults\":{\"bgcolor\":\"#506784\",\"borderwidth\":0},\"xaxis\":{\"automargin\":true,\"gridcolor\":\"#283442\",\"linecolor\":\"#506784\",\"ticks\":\"\",\"title\":{\"standoff\":15},\"zerolinecolor\":\"#283442\",\"zerolinewidth\":2},\"yaxis\":{\"automargin\":true,\"gridcolor\":\"#283442\",\"linecolor\":\"#506784\",\"ticks\":\"\",\"title\":{\"standoff\":15},\"zerolinecolor\":\"#283442\",\"zerolinewidth\":2}}}},                        {\"responsive\": true}                    ).then(function(){\n",
       "                            \n",
       "var gd = document.getElementById('a76265be-04ec-4753-8f75-c01fa52d6219');\n",
       "var x = new MutationObserver(function (mutations, observer) {{\n",
       "        var display = window.getComputedStyle(gd).display;\n",
       "        if (!display || display === 'none') {{\n",
       "            console.log([gd, 'removed!']);\n",
       "            Plotly.purge(gd);\n",
       "            observer.disconnect();\n",
       "        }}\n",
       "}});\n",
       "\n",
       "// Listen for the removal of the full notebook cells\n",
       "var notebookContainer = gd.closest('#notebook-container');\n",
       "if (notebookContainer) {{\n",
       "    x.observe(notebookContainer, {childList: true});\n",
       "}}\n",
       "\n",
       "// Listen for the clearing of the current output cell\n",
       "var outputEl = gd.closest('.output');\n",
       "if (outputEl) {{\n",
       "    x.observe(outputEl, {childList: true});\n",
       "}}\n",
       "\n",
       "                        })                };                });            </script>        </div>"
      ]
     },
     "metadata": {},
     "output_type": "display_data"
    }
   ],
   "source": [
    "fig = optuna.visualization.plot_param_importances(study)\n",
    "fig.update_layout(template='plotly_dark', title='<b>Optimization History Plot', title_x=0.5)"
   ]
  },
  {
   "cell_type": "code",
   "execution_count": 62,
   "id": "69e07af7-16ef-484e-ac2e-c41c0e39d933",
   "metadata": {},
   "outputs": [
    {
     "data": {
      "application/vnd.plotly.v1+json": {
       "config": {
        "plotlyServerURL": "https://plot.ly"
       },
       "data": [
        {
         "marker": {
          "color": [
           0,
           1,
           2,
           3,
           4,
           5,
           6,
           7,
           8,
           9,
           10,
           11
          ],
          "colorbar": {
           "title": {
            "text": "Trial"
           },
           "x": 1,
           "xpad": 40,
           "y": 0.5
          },
          "colorscale": [
           [
            0,
            "rgb(247,251,255)"
           ],
           [
            0.125,
            "rgb(222,235,247)"
           ],
           [
            0.25,
            "rgb(198,219,239)"
           ],
           [
            0.375,
            "rgb(158,202,225)"
           ],
           [
            0.5,
            "rgb(107,174,214)"
           ],
           [
            0.625,
            "rgb(66,146,198)"
           ],
           [
            0.75,
            "rgb(33,113,181)"
           ],
           [
            0.875,
            "rgb(8,81,156)"
           ],
           [
            1,
            "rgb(8,48,107)"
           ]
          ],
          "line": {
           "color": "Grey",
           "width": 0.5
          },
          "showscale": true
         },
         "mode": "markers",
         "name": "Feasible Trial",
         "showlegend": false,
         "type": "scatter",
         "x": [
          87,
          68,
          111,
          104,
          72,
          66,
          92,
          104,
          93,
          109,
          63,
          73
         ],
         "xaxis": "x",
         "y": [
          11.321444200087477,
          11.311211658434589,
          11.358593197504522,
          11.316928503046725,
          11.33763117885309,
          11.292298963227335,
          11.31403527926259,
          11.318451156375563,
          11.345493186430897,
          11.3198946781844,
          11.325693289472204,
          11.300916768776489
         ],
         "yaxis": "y"
        },
        {
         "marker": {
          "color": [
           0,
           1,
           2,
           3,
           4,
           5,
           6,
           7,
           8,
           9,
           10,
           11
          ],
          "colorbar": {
           "title": {
            "text": "Trial"
           },
           "x": 1,
           "xpad": 40
          },
          "colorscale": [
           [
            0,
            "rgb(247,251,255)"
           ],
           [
            0.125,
            "rgb(222,235,247)"
           ],
           [
            0.25,
            "rgb(198,219,239)"
           ],
           [
            0.375,
            "rgb(158,202,225)"
           ],
           [
            0.5,
            "rgb(107,174,214)"
           ],
           [
            0.625,
            "rgb(66,146,198)"
           ],
           [
            0.75,
            "rgb(33,113,181)"
           ],
           [
            0.875,
            "rgb(8,81,156)"
           ],
           [
            1,
            "rgb(8,48,107)"
           ]
          ],
          "line": {
           "color": "Grey",
           "width": 0.5
          },
          "showscale": false
         },
         "mode": "markers",
         "name": "Feasible Trial",
         "showlegend": false,
         "type": "scatter",
         "x": [
          18,
          25,
          16,
          36,
          18,
          43,
          45,
          44,
          17,
          19,
          36,
          26
         ],
         "xaxis": "x2",
         "y": [
          11.321444200087477,
          11.311211658434589,
          11.358593197504522,
          11.316928503046725,
          11.33763117885309,
          11.292298963227335,
          11.31403527926259,
          11.318451156375563,
          11.345493186430897,
          11.3198946781844,
          11.325693289472204,
          11.300916768776489
         ],
         "yaxis": "y2"
        },
        {
         "marker": {
          "color": [
           0,
           1,
           2,
           3,
           4,
           5,
           6,
           7,
           8,
           9,
           10,
           11
          ],
          "colorbar": {
           "title": {
            "text": "Trial"
           },
           "x": 1,
           "xpad": 40
          },
          "colorscale": [
           [
            0,
            "rgb(247,251,255)"
           ],
           [
            0.125,
            "rgb(222,235,247)"
           ],
           [
            0.25,
            "rgb(198,219,239)"
           ],
           [
            0.375,
            "rgb(158,202,225)"
           ],
           [
            0.5,
            "rgb(107,174,214)"
           ],
           [
            0.625,
            "rgb(66,146,198)"
           ],
           [
            0.75,
            "rgb(33,113,181)"
           ],
           [
            0.875,
            "rgb(8,81,156)"
           ],
           [
            1,
            "rgb(8,48,107)"
           ]
          ],
          "line": {
           "color": "Grey",
           "width": 0.5
          },
          "showscale": false
         },
         "mode": "markers",
         "name": "Feasible Trial",
         "showlegend": false,
         "type": "scatter",
         "x": [
          600,
          600,
          500,
          700,
          900,
          900,
          1000,
          500,
          600,
          600,
          900,
          800
         ],
         "xaxis": "x3",
         "y": [
          11.321444200087477,
          11.311211658434589,
          11.358593197504522,
          11.316928503046725,
          11.33763117885309,
          11.292298963227335,
          11.31403527926259,
          11.318451156375563,
          11.345493186430897,
          11.3198946781844,
          11.325693289472204,
          11.300916768776489
         ],
         "yaxis": "y3"
        }
       ],
       "layout": {
        "autosize": true,
        "template": {
         "data": {
          "bar": [
           {
            "error_x": {
             "color": "#f2f5fa"
            },
            "error_y": {
             "color": "#f2f5fa"
            },
            "marker": {
             "line": {
              "color": "rgb(17,17,17)",
              "width": 0.5
             },
             "pattern": {
              "fillmode": "overlay",
              "size": 10,
              "solidity": 0.2
             }
            },
            "type": "bar"
           }
          ],
          "barpolar": [
           {
            "marker": {
             "line": {
              "color": "rgb(17,17,17)",
              "width": 0.5
             },
             "pattern": {
              "fillmode": "overlay",
              "size": 10,
              "solidity": 0.2
             }
            },
            "type": "barpolar"
           }
          ],
          "carpet": [
           {
            "aaxis": {
             "endlinecolor": "#A2B1C6",
             "gridcolor": "#506784",
             "linecolor": "#506784",
             "minorgridcolor": "#506784",
             "startlinecolor": "#A2B1C6"
            },
            "baxis": {
             "endlinecolor": "#A2B1C6",
             "gridcolor": "#506784",
             "linecolor": "#506784",
             "minorgridcolor": "#506784",
             "startlinecolor": "#A2B1C6"
            },
            "type": "carpet"
           }
          ],
          "choropleth": [
           {
            "colorbar": {
             "outlinewidth": 0,
             "ticks": ""
            },
            "type": "choropleth"
           }
          ],
          "contour": [
           {
            "colorbar": {
             "outlinewidth": 0,
             "ticks": ""
            },
            "colorscale": [
             [
              0,
              "#0d0887"
             ],
             [
              0.1111111111111111,
              "#46039f"
             ],
             [
              0.2222222222222222,
              "#7201a8"
             ],
             [
              0.3333333333333333,
              "#9c179e"
             ],
             [
              0.4444444444444444,
              "#bd3786"
             ],
             [
              0.5555555555555556,
              "#d8576b"
             ],
             [
              0.6666666666666666,
              "#ed7953"
             ],
             [
              0.7777777777777778,
              "#fb9f3a"
             ],
             [
              0.8888888888888888,
              "#fdca26"
             ],
             [
              1,
              "#f0f921"
             ]
            ],
            "type": "contour"
           }
          ],
          "contourcarpet": [
           {
            "colorbar": {
             "outlinewidth": 0,
             "ticks": ""
            },
            "type": "contourcarpet"
           }
          ],
          "heatmap": [
           {
            "colorbar": {
             "outlinewidth": 0,
             "ticks": ""
            },
            "colorscale": [
             [
              0,
              "#0d0887"
             ],
             [
              0.1111111111111111,
              "#46039f"
             ],
             [
              0.2222222222222222,
              "#7201a8"
             ],
             [
              0.3333333333333333,
              "#9c179e"
             ],
             [
              0.4444444444444444,
              "#bd3786"
             ],
             [
              0.5555555555555556,
              "#d8576b"
             ],
             [
              0.6666666666666666,
              "#ed7953"
             ],
             [
              0.7777777777777778,
              "#fb9f3a"
             ],
             [
              0.8888888888888888,
              "#fdca26"
             ],
             [
              1,
              "#f0f921"
             ]
            ],
            "type": "heatmap"
           }
          ],
          "heatmapgl": [
           {
            "colorbar": {
             "outlinewidth": 0,
             "ticks": ""
            },
            "colorscale": [
             [
              0,
              "#0d0887"
             ],
             [
              0.1111111111111111,
              "#46039f"
             ],
             [
              0.2222222222222222,
              "#7201a8"
             ],
             [
              0.3333333333333333,
              "#9c179e"
             ],
             [
              0.4444444444444444,
              "#bd3786"
             ],
             [
              0.5555555555555556,
              "#d8576b"
             ],
             [
              0.6666666666666666,
              "#ed7953"
             ],
             [
              0.7777777777777778,
              "#fb9f3a"
             ],
             [
              0.8888888888888888,
              "#fdca26"
             ],
             [
              1,
              "#f0f921"
             ]
            ],
            "type": "heatmapgl"
           }
          ],
          "histogram": [
           {
            "marker": {
             "pattern": {
              "fillmode": "overlay",
              "size": 10,
              "solidity": 0.2
             }
            },
            "type": "histogram"
           }
          ],
          "histogram2d": [
           {
            "colorbar": {
             "outlinewidth": 0,
             "ticks": ""
            },
            "colorscale": [
             [
              0,
              "#0d0887"
             ],
             [
              0.1111111111111111,
              "#46039f"
             ],
             [
              0.2222222222222222,
              "#7201a8"
             ],
             [
              0.3333333333333333,
              "#9c179e"
             ],
             [
              0.4444444444444444,
              "#bd3786"
             ],
             [
              0.5555555555555556,
              "#d8576b"
             ],
             [
              0.6666666666666666,
              "#ed7953"
             ],
             [
              0.7777777777777778,
              "#fb9f3a"
             ],
             [
              0.8888888888888888,
              "#fdca26"
             ],
             [
              1,
              "#f0f921"
             ]
            ],
            "type": "histogram2d"
           }
          ],
          "histogram2dcontour": [
           {
            "colorbar": {
             "outlinewidth": 0,
             "ticks": ""
            },
            "colorscale": [
             [
              0,
              "#0d0887"
             ],
             [
              0.1111111111111111,
              "#46039f"
             ],
             [
              0.2222222222222222,
              "#7201a8"
             ],
             [
              0.3333333333333333,
              "#9c179e"
             ],
             [
              0.4444444444444444,
              "#bd3786"
             ],
             [
              0.5555555555555556,
              "#d8576b"
             ],
             [
              0.6666666666666666,
              "#ed7953"
             ],
             [
              0.7777777777777778,
              "#fb9f3a"
             ],
             [
              0.8888888888888888,
              "#fdca26"
             ],
             [
              1,
              "#f0f921"
             ]
            ],
            "type": "histogram2dcontour"
           }
          ],
          "mesh3d": [
           {
            "colorbar": {
             "outlinewidth": 0,
             "ticks": ""
            },
            "type": "mesh3d"
           }
          ],
          "parcoords": [
           {
            "line": {
             "colorbar": {
              "outlinewidth": 0,
              "ticks": ""
             }
            },
            "type": "parcoords"
           }
          ],
          "pie": [
           {
            "automargin": true,
            "type": "pie"
           }
          ],
          "scatter": [
           {
            "marker": {
             "line": {
              "color": "#283442"
             }
            },
            "type": "scatter"
           }
          ],
          "scatter3d": [
           {
            "line": {
             "colorbar": {
              "outlinewidth": 0,
              "ticks": ""
             }
            },
            "marker": {
             "colorbar": {
              "outlinewidth": 0,
              "ticks": ""
             }
            },
            "type": "scatter3d"
           }
          ],
          "scattercarpet": [
           {
            "marker": {
             "colorbar": {
              "outlinewidth": 0,
              "ticks": ""
             }
            },
            "type": "scattercarpet"
           }
          ],
          "scattergeo": [
           {
            "marker": {
             "colorbar": {
              "outlinewidth": 0,
              "ticks": ""
             }
            },
            "type": "scattergeo"
           }
          ],
          "scattergl": [
           {
            "marker": {
             "line": {
              "color": "#283442"
             }
            },
            "type": "scattergl"
           }
          ],
          "scattermapbox": [
           {
            "marker": {
             "colorbar": {
              "outlinewidth": 0,
              "ticks": ""
             }
            },
            "type": "scattermapbox"
           }
          ],
          "scatterpolar": [
           {
            "marker": {
             "colorbar": {
              "outlinewidth": 0,
              "ticks": ""
             }
            },
            "type": "scatterpolar"
           }
          ],
          "scatterpolargl": [
           {
            "marker": {
             "colorbar": {
              "outlinewidth": 0,
              "ticks": ""
             }
            },
            "type": "scatterpolargl"
           }
          ],
          "scatterternary": [
           {
            "marker": {
             "colorbar": {
              "outlinewidth": 0,
              "ticks": ""
             }
            },
            "type": "scatterternary"
           }
          ],
          "surface": [
           {
            "colorbar": {
             "outlinewidth": 0,
             "ticks": ""
            },
            "colorscale": [
             [
              0,
              "#0d0887"
             ],
             [
              0.1111111111111111,
              "#46039f"
             ],
             [
              0.2222222222222222,
              "#7201a8"
             ],
             [
              0.3333333333333333,
              "#9c179e"
             ],
             [
              0.4444444444444444,
              "#bd3786"
             ],
             [
              0.5555555555555556,
              "#d8576b"
             ],
             [
              0.6666666666666666,
              "#ed7953"
             ],
             [
              0.7777777777777778,
              "#fb9f3a"
             ],
             [
              0.8888888888888888,
              "#fdca26"
             ],
             [
              1,
              "#f0f921"
             ]
            ],
            "type": "surface"
           }
          ],
          "table": [
           {
            "cells": {
             "fill": {
              "color": "#506784"
             },
             "line": {
              "color": "rgb(17,17,17)"
             }
            },
            "header": {
             "fill": {
              "color": "#2a3f5f"
             },
             "line": {
              "color": "rgb(17,17,17)"
             }
            },
            "type": "table"
           }
          ]
         },
         "layout": {
          "annotationdefaults": {
           "arrowcolor": "#f2f5fa",
           "arrowhead": 0,
           "arrowwidth": 1
          },
          "autotypenumbers": "strict",
          "coloraxis": {
           "colorbar": {
            "outlinewidth": 0,
            "ticks": ""
           }
          },
          "colorscale": {
           "diverging": [
            [
             0,
             "#8e0152"
            ],
            [
             0.1,
             "#c51b7d"
            ],
            [
             0.2,
             "#de77ae"
            ],
            [
             0.3,
             "#f1b6da"
            ],
            [
             0.4,
             "#fde0ef"
            ],
            [
             0.5,
             "#f7f7f7"
            ],
            [
             0.6,
             "#e6f5d0"
            ],
            [
             0.7,
             "#b8e186"
            ],
            [
             0.8,
             "#7fbc41"
            ],
            [
             0.9,
             "#4d9221"
            ],
            [
             1,
             "#276419"
            ]
           ],
           "sequential": [
            [
             0,
             "#0d0887"
            ],
            [
             0.1111111111111111,
             "#46039f"
            ],
            [
             0.2222222222222222,
             "#7201a8"
            ],
            [
             0.3333333333333333,
             "#9c179e"
            ],
            [
             0.4444444444444444,
             "#bd3786"
            ],
            [
             0.5555555555555556,
             "#d8576b"
            ],
            [
             0.6666666666666666,
             "#ed7953"
            ],
            [
             0.7777777777777778,
             "#fb9f3a"
            ],
            [
             0.8888888888888888,
             "#fdca26"
            ],
            [
             1,
             "#f0f921"
            ]
           ],
           "sequentialminus": [
            [
             0,
             "#0d0887"
            ],
            [
             0.1111111111111111,
             "#46039f"
            ],
            [
             0.2222222222222222,
             "#7201a8"
            ],
            [
             0.3333333333333333,
             "#9c179e"
            ],
            [
             0.4444444444444444,
             "#bd3786"
            ],
            [
             0.5555555555555556,
             "#d8576b"
            ],
            [
             0.6666666666666666,
             "#ed7953"
            ],
            [
             0.7777777777777778,
             "#fb9f3a"
            ],
            [
             0.8888888888888888,
             "#fdca26"
            ],
            [
             1,
             "#f0f921"
            ]
           ]
          },
          "colorway": [
           "#636efa",
           "#EF553B",
           "#00cc96",
           "#ab63fa",
           "#FFA15A",
           "#19d3f3",
           "#FF6692",
           "#B6E880",
           "#FF97FF",
           "#FECB52"
          ],
          "font": {
           "color": "#f2f5fa"
          },
          "geo": {
           "bgcolor": "rgb(17,17,17)",
           "lakecolor": "rgb(17,17,17)",
           "landcolor": "rgb(17,17,17)",
           "showlakes": true,
           "showland": true,
           "subunitcolor": "#506784"
          },
          "hoverlabel": {
           "align": "left"
          },
          "hovermode": "closest",
          "mapbox": {
           "style": "dark"
          },
          "paper_bgcolor": "rgb(17,17,17)",
          "plot_bgcolor": "rgb(17,17,17)",
          "polar": {
           "angularaxis": {
            "gridcolor": "#506784",
            "linecolor": "#506784",
            "ticks": ""
           },
           "bgcolor": "rgb(17,17,17)",
           "radialaxis": {
            "gridcolor": "#506784",
            "linecolor": "#506784",
            "ticks": ""
           }
          },
          "scene": {
           "xaxis": {
            "backgroundcolor": "rgb(17,17,17)",
            "gridcolor": "#506784",
            "gridwidth": 2,
            "linecolor": "#506784",
            "showbackground": true,
            "ticks": "",
            "zerolinecolor": "#C8D4E3"
           },
           "yaxis": {
            "backgroundcolor": "rgb(17,17,17)",
            "gridcolor": "#506784",
            "gridwidth": 2,
            "linecolor": "#506784",
            "showbackground": true,
            "ticks": "",
            "zerolinecolor": "#C8D4E3"
           },
           "zaxis": {
            "backgroundcolor": "rgb(17,17,17)",
            "gridcolor": "#506784",
            "gridwidth": 2,
            "linecolor": "#506784",
            "showbackground": true,
            "ticks": "",
            "zerolinecolor": "#C8D4E3"
           }
          },
          "shapedefaults": {
           "line": {
            "color": "#f2f5fa"
           }
          },
          "sliderdefaults": {
           "bgcolor": "#C8D4E3",
           "bordercolor": "rgb(17,17,17)",
           "borderwidth": 1,
           "tickwidth": 0
          },
          "ternary": {
           "aaxis": {
            "gridcolor": "#506784",
            "linecolor": "#506784",
            "ticks": ""
           },
           "baxis": {
            "gridcolor": "#506784",
            "linecolor": "#506784",
            "ticks": ""
           },
           "bgcolor": "rgb(17,17,17)",
           "caxis": {
            "gridcolor": "#506784",
            "linecolor": "#506784",
            "ticks": ""
           }
          },
          "title": {
           "x": 0.05
          },
          "updatemenudefaults": {
           "bgcolor": "#506784",
           "borderwidth": 0
          },
          "xaxis": {
           "automargin": true,
           "gridcolor": "#283442",
           "linecolor": "#506784",
           "ticks": "",
           "title": {
            "standoff": 15
           },
           "zerolinecolor": "#283442",
           "zerolinewidth": 2
          },
          "yaxis": {
           "automargin": true,
           "gridcolor": "#283442",
           "linecolor": "#506784",
           "ticks": "",
           "title": {
            "standoff": 15
           },
           "zerolinecolor": "#283442",
           "zerolinewidth": 2
          }
         }
        },
        "title": {
         "text": "<b>Slice Plot",
         "x": 0.2
        },
        "xaxis": {
         "anchor": "y",
         "autorange": true,
         "domain": [
          0,
          0.2888888888888889
         ],
         "range": [
          59.183775912940185,
          114.81622408705982
         ],
         "title": {
          "text": "max_depth"
         },
         "type": "linear"
        },
        "xaxis2": {
         "anchor": "y2",
         "autorange": true,
         "domain": [
          0.35555555555555557,
          0.6444444444444445
         ],
         "range": [
          13.694364614068029,
          47.30563538593197
         ],
         "title": {
          "text": "max_features"
         },
         "type": "linear"
        },
        "xaxis3": {
         "anchor": "y3",
         "autorange": true,
         "domain": [
          0.7111111111111111,
          1
         ],
         "range": [
          460.24766575979356,
          1039.7523342402064
         ],
         "title": {
          "text": "n_estimators"
         },
         "type": "linear"
        },
        "yaxis": {
         "anchor": "x",
         "autorange": true,
         "domain": [
          0,
          1
         ],
         "range": [
          11.286828079816111,
          11.364064080915746
         ],
         "title": {
          "text": "Objective Value"
         },
         "type": "linear"
        },
        "yaxis2": {
         "anchor": "x2",
         "autorange": true,
         "domain": [
          0,
          1
         ],
         "matches": "y",
         "range": [
          11.286828079816111,
          11.364064080915746
         ],
         "showticklabels": false,
         "type": "linear"
        },
        "yaxis3": {
         "anchor": "x3",
         "autorange": true,
         "domain": [
          0,
          1
         ],
         "matches": "y",
         "range": [
          11.286828079816111,
          11.364064080915746
         ],
         "showticklabels": false,
         "type": "linear"
        }
       }
      },
      "image/png": "[encoded data removed]",
      "text/html": [
       "<div>                            <div id=\"b3665261-b277-4d3e-81fe-f66ced45bfaf\" class=\"plotly-graph-div\" style=\"height:525px; width:100%;\"></div>            <script type=\"text/javascript\">                require([\"plotly\"], function(Plotly) {                    window.PLOTLYENV=window.PLOTLYENV || {};                                    if (document.getElementById(\"b3665261-b277-4d3e-81fe-f66ced45bfaf\")) {                    Plotly.newPlot(                        \"b3665261-b277-4d3e-81fe-f66ced45bfaf\",                        [{\"marker\":{\"color\":[0,1,2,3,4,5,6,7,8,9,10,11],\"colorbar\":{\"title\":{\"text\":\"Trial\"},\"x\":1.0,\"xpad\":40},\"colorscale\":[[0.0,\"rgb(247,251,255)\"],[0.125,\"rgb(222,235,247)\"],[0.25,\"rgb(198,219,239)\"],[0.375,\"rgb(158,202,225)\"],[0.5,\"rgb(107,174,214)\"],[0.625,\"rgb(66,146,198)\"],[0.75,\"rgb(33,113,181)\"],[0.875,\"rgb(8,81,156)\"],[1.0,\"rgb(8,48,107)\"]],\"line\":{\"color\":\"Grey\",\"width\":0.5},\"showscale\":true},\"mode\":\"markers\",\"name\":\"Feasible Trial\",\"showlegend\":false,\"x\":[87,68,111,104,72,66,92,104,93,109,63,73],\"y\":[11.321444200087477,11.311211658434589,11.358593197504522,11.316928503046725,11.33763117885309,11.292298963227335,11.31403527926259,11.318451156375563,11.345493186430897,11.3198946781844,11.325693289472204,11.300916768776489],\"type\":\"scatter\",\"xaxis\":\"x\",\"yaxis\":\"y\"},{\"marker\":{\"color\":[0,1,2,3,4,5,6,7,8,9,10,11],\"colorbar\":{\"title\":{\"text\":\"Trial\"},\"x\":1.0,\"xpad\":40},\"colorscale\":[[0.0,\"rgb(247,251,255)\"],[0.125,\"rgb(222,235,247)\"],[0.25,\"rgb(198,219,239)\"],[0.375,\"rgb(158,202,225)\"],[0.5,\"rgb(107,174,214)\"],[0.625,\"rgb(66,146,198)\"],[0.75,\"rgb(33,113,181)\"],[0.875,\"rgb(8,81,156)\"],[1.0,\"rgb(8,48,107)\"]],\"line\":{\"color\":\"Grey\",\"width\":0.5},\"showscale\":false},\"mode\":\"markers\",\"name\":\"Feasible Trial\",\"showlegend\":false,\"x\":[18,25,16,36,18,43,45,44,17,19,36,26],\"y\":[11.321444200087477,11.311211658434589,11.358593197504522,11.316928503046725,11.33763117885309,11.292298963227335,11.31403527926259,11.318451156375563,11.345493186430897,11.3198946781844,11.325693289472204,11.300916768776489],\"type\":\"scatter\",\"xaxis\":\"x2\",\"yaxis\":\"y2\"},{\"marker\":{\"color\":[0,1,2,3,4,5,6,7,8,9,10,11],\"colorbar\":{\"title\":{\"text\":\"Trial\"},\"x\":1.0,\"xpad\":40},\"colorscale\":[[0.0,\"rgb(247,251,255)\"],[0.125,\"rgb(222,235,247)\"],[0.25,\"rgb(198,219,239)\"],[0.375,\"rgb(158,202,225)\"],[0.5,\"rgb(107,174,214)\"],[0.625,\"rgb(66,146,198)\"],[0.75,\"rgb(33,113,181)\"],[0.875,\"rgb(8,81,156)\"],[1.0,\"rgb(8,48,107)\"]],\"line\":{\"color\":\"Grey\",\"width\":0.5},\"showscale\":false},\"mode\":\"markers\",\"name\":\"Feasible Trial\",\"showlegend\":false,\"x\":[600,600,500,700,900,900,1000,500,600,600,900,800],\"y\":[11.321444200087477,11.311211658434589,11.358593197504522,11.316928503046725,11.33763117885309,11.292298963227335,11.31403527926259,11.318451156375563,11.345493186430897,11.3198946781844,11.325693289472204,11.300916768776489],\"type\":\"scatter\",\"xaxis\":\"x3\",\"yaxis\":\"y3\"}],                        {\"template\":{\"data\":{\"barpolar\":[{\"marker\":{\"line\":{\"color\":\"rgb(17,17,17)\",\"width\":0.5},\"pattern\":{\"fillmode\":\"overlay\",\"size\":10,\"solidity\":0.2}},\"type\":\"barpolar\"}],\"bar\":[{\"error_x\":{\"color\":\"#f2f5fa\"},\"error_y\":{\"color\":\"#f2f5fa\"},\"marker\":{\"line\":{\"color\":\"rgb(17,17,17)\",\"width\":0.5},\"pattern\":{\"fillmode\":\"overlay\",\"size\":10,\"solidity\":0.2}},\"type\":\"bar\"}],\"carpet\":[{\"aaxis\":{\"endlinecolor\":\"#A2B1C6\",\"gridcolor\":\"#506784\",\"linecolor\":\"#506784\",\"minorgridcolor\":\"#506784\",\"startlinecolor\":\"#A2B1C6\"},\"baxis\":{\"endlinecolor\":\"#A2B1C6\",\"gridcolor\":\"#506784\",\"linecolor\":\"#506784\",\"minorgridcolor\":\"#506784\",\"startlinecolor\":\"#A2B1C6\"},\"type\":\"carpet\"}],\"choropleth\":[{\"colorbar\":{\"outlinewidth\":0,\"ticks\":\"\"},\"type\":\"choropleth\"}],\"contourcarpet\":[{\"colorbar\":{\"outlinewidth\":0,\"ticks\":\"\"},\"type\":\"contourcarpet\"}],\"contour\":[{\"colorbar\":{\"outlinewidth\":0,\"ticks\":\"\"},\"colorscale\":[[0.0,\"#0d0887\"],[0.1111111111111111,\"#46039f\"],[0.2222222222222222,\"#7201a8\"],[0.3333333333333333,\"#9c179e\"],[0.4444444444444444,\"#bd3786\"],[0.5555555555555556,\"#d8576b\"],[0.6666666666666666,\"#ed7953\"],[0.7777777777777778,\"#fb9f3a\"],[0.8888888888888888,\"#fdca26\"],[1.0,\"#f0f921\"]],\"type\":\"contour\"}],\"heatmapgl\":[{\"colorbar\":{\"outlinewidth\":0,\"ticks\":\"\"},\"colorscale\":[[0.0,\"#0d0887\"],[0.1111111111111111,\"#46039f\"],[0.2222222222222222,\"#7201a8\"],[0.3333333333333333,\"#9c179e\"],[0.4444444444444444,\"#bd3786\"],[0.5555555555555556,\"#d8576b\"],[0.6666666666666666,\"#ed7953\"],[0.7777777777777778,\"#fb9f3a\"],[0.8888888888888888,\"#fdca26\"],[1.0,\"#f0f921\"]],\"type\":\"heatmapgl\"}],\"heatmap\":[{\"colorbar\":{\"outlinewidth\":0,\"ticks\":\"\"},\"colorscale\":[[0.0,\"#0d0887\"],[0.1111111111111111,\"#46039f\"],[0.2222222222222222,\"#7201a8\"],[0.3333333333333333,\"#9c179e\"],[0.4444444444444444,\"#bd3786\"],[0.5555555555555556,\"#d8576b\"],[0.6666666666666666,\"#ed7953\"],[0.7777777777777778,\"#fb9f3a\"],[0.8888888888888888,\"#fdca26\"],[1.0,\"#f0f921\"]],\"type\":\"heatmap\"}],\"histogram2dcontour\":[{\"colorbar\":{\"outlinewidth\":0,\"ticks\":\"\"},\"colorscale\":[[0.0,\"#0d0887\"],[0.1111111111111111,\"#46039f\"],[0.2222222222222222,\"#7201a8\"],[0.3333333333333333,\"#9c179e\"],[0.4444444444444444,\"#bd3786\"],[0.5555555555555556,\"#d8576b\"],[0.6666666666666666,\"#ed7953\"],[0.7777777777777778,\"#fb9f3a\"],[0.8888888888888888,\"#fdca26\"],[1.0,\"#f0f921\"]],\"type\":\"histogram2dcontour\"}],\"histogram2d\":[{\"colorbar\":{\"outlinewidth\":0,\"ticks\":\"\"},\"colorscale\":[[0.0,\"#0d0887\"],[0.1111111111111111,\"#46039f\"],[0.2222222222222222,\"#7201a8\"],[0.3333333333333333,\"#9c179e\"],[0.4444444444444444,\"#bd3786\"],[0.5555555555555556,\"#d8576b\"],[0.6666666666666666,\"#ed7953\"],[0.7777777777777778,\"#fb9f3a\"],[0.8888888888888888,\"#fdca26\"],[1.0,\"#f0f921\"]],\"type\":\"histogram2d\"}],\"histogram\":[{\"marker\":{\"pattern\":{\"fillmode\":\"overlay\",\"size\":10,\"solidity\":0.2}},\"type\":\"histogram\"}],\"mesh3d\":[{\"colorbar\":{\"outlinewidth\":0,\"ticks\":\"\"},\"type\":\"mesh3d\"}],\"parcoords\":[{\"line\":{\"colorbar\":{\"outlinewidth\":0,\"ticks\":\"\"}},\"type\":\"parcoords\"}],\"pie\":[{\"automargin\":true,\"type\":\"pie\"}],\"scatter3d\":[{\"line\":{\"colorbar\":{\"outlinewidth\":0,\"ticks\":\"\"}},\"marker\":{\"colorbar\":{\"outlinewidth\":0,\"ticks\":\"\"}},\"type\":\"scatter3d\"}],\"scattercarpet\":[{\"marker\":{\"colorbar\":{\"outlinewidth\":0,\"ticks\":\"\"}},\"type\":\"scattercarpet\"}],\"scattergeo\":[{\"marker\":{\"colorbar\":{\"outlinewidth\":0,\"ticks\":\"\"}},\"type\":\"scattergeo\"}],\"scattergl\":[{\"marker\":{\"line\":{\"color\":\"#283442\"}},\"type\":\"scattergl\"}],\"scattermapbox\":[{\"marker\":{\"colorbar\":{\"outlinewidth\":0,\"ticks\":\"\"}},\"type\":\"scattermapbox\"}],\"scatterpolargl\":[{\"marker\":{\"colorbar\":{\"outlinewidth\":0,\"ticks\":\"\"}},\"type\":\"scatterpolargl\"}],\"scatterpolar\":[{\"marker\":{\"colorbar\":{\"outlinewidth\":0,\"ticks\":\"\"}},\"type\":\"scatterpolar\"}],\"scatter\":[{\"marker\":{\"line\":{\"color\":\"#283442\"}},\"type\":\"scatter\"}],\"scatterternary\":[{\"marker\":{\"colorbar\":{\"outlinewidth\":0,\"ticks\":\"\"}},\"type\":\"scatterternary\"}],\"surface\":[{\"colorbar\":{\"outlinewidth\":0,\"ticks\":\"\"},\"colorscale\":[[0.0,\"#0d0887\"],[0.1111111111111111,\"#46039f\"],[0.2222222222222222,\"#7201a8\"],[0.3333333333333333,\"#9c179e\"],[0.4444444444444444,\"#bd3786\"],[0.5555555555555556,\"#d8576b\"],[0.6666666666666666,\"#ed7953\"],[0.7777777777777778,\"#fb9f3a\"],[0.8888888888888888,\"#fdca26\"],[1.0,\"#f0f921\"]],\"type\":\"surface\"}],\"table\":[{\"cells\":{\"fill\":{\"color\":\"#506784\"},\"line\":{\"color\":\"rgb(17,17,17)\"}},\"header\":{\"fill\":{\"color\":\"#2a3f5f\"},\"line\":{\"color\":\"rgb(17,17,17)\"}},\"type\":\"table\"}]},\"layout\":{\"annotationdefaults\":{\"arrowcolor\":\"#f2f5fa\",\"arrowhead\":0,\"arrowwidth\":1},\"autotypenumbers\":\"strict\",\"coloraxis\":{\"colorbar\":{\"outlinewidth\":0,\"ticks\":\"\"}},\"colorscale\":{\"diverging\":[[0,\"#8e0152\"],[0.1,\"#c51b7d\"],[0.2,\"#de77ae\"],[0.3,\"#f1b6da\"],[0.4,\"#fde0ef\"],[0.5,\"#f7f7f7\"],[0.6,\"#e6f5d0\"],[0.7,\"#b8e186\"],[0.8,\"#7fbc41\"],[0.9,\"#4d9221\"],[1,\"#276419\"]],\"sequential\":[[0.0,\"#0d0887\"],[0.1111111111111111,\"#46039f\"],[0.2222222222222222,\"#7201a8\"],[0.3333333333333333,\"#9c179e\"],[0.4444444444444444,\"#bd3786\"],[0.5555555555555556,\"#d8576b\"],[0.6666666666666666,\"#ed7953\"],[0.7777777777777778,\"#fb9f3a\"],[0.8888888888888888,\"#fdca26\"],[1.0,\"#f0f921\"]],\"sequentialminus\":[[0.0,\"#0d0887\"],[0.1111111111111111,\"#46039f\"],[0.2222222222222222,\"#7201a8\"],[0.3333333333333333,\"#9c179e\"],[0.4444444444444444,\"#bd3786\"],[0.5555555555555556,\"#d8576b\"],[0.6666666666666666,\"#ed7953\"],[0.7777777777777778,\"#fb9f3a\"],[0.8888888888888888,\"#fdca26\"],[1.0,\"#f0f921\"]]},\"colorway\":[\"#636efa\",\"#EF553B\",\"#00cc96\",\"#ab63fa\",\"#FFA15A\",\"#19d3f3\",\"#FF6692\",\"#B6E880\",\"#FF97FF\",\"#FECB52\"],\"font\":{\"color\":\"#f2f5fa\"},\"geo\":{\"bgcolor\":\"rgb(17,17,17)\",\"lakecolor\":\"rgb(17,17,17)\",\"landcolor\":\"rgb(17,17,17)\",\"showlakes\":true,\"showland\":true,\"subunitcolor\":\"#506784\"},\"hoverlabel\":{\"align\":\"left\"},\"hovermode\":\"closest\",\"mapbox\":{\"style\":\"dark\"},\"paper_bgcolor\":\"rgb(17,17,17)\",\"plot_bgcolor\":\"rgb(17,17,17)\",\"polar\":{\"angularaxis\":{\"gridcolor\":\"#506784\",\"linecolor\":\"#506784\",\"ticks\":\"\"},\"bgcolor\":\"rgb(17,17,17)\",\"radialaxis\":{\"gridcolor\":\"#506784\",\"linecolor\":\"#506784\",\"ticks\":\"\"}},\"scene\":{\"xaxis\":{\"backgroundcolor\":\"rgb(17,17,17)\",\"gridcolor\":\"#506784\",\"gridwidth\":2,\"linecolor\":\"#506784\",\"showbackground\":true,\"ticks\":\"\",\"zerolinecolor\":\"#C8D4E3\"},\"yaxis\":{\"backgroundcolor\":\"rgb(17,17,17)\",\"gridcolor\":\"#506784\",\"gridwidth\":2,\"linecolor\":\"#506784\",\"showbackground\":true,\"ticks\":\"\",\"zerolinecolor\":\"#C8D4E3\"},\"zaxis\":{\"backgroundcolor\":\"rgb(17,17,17)\",\"gridcolor\":\"#506784\",\"gridwidth\":2,\"linecolor\":\"#506784\",\"showbackground\":true,\"ticks\":\"\",\"zerolinecolor\":\"#C8D4E3\"}},\"shapedefaults\":{\"line\":{\"color\":\"#f2f5fa\"}},\"sliderdefaults\":{\"bgcolor\":\"#C8D4E3\",\"bordercolor\":\"rgb(17,17,17)\",\"borderwidth\":1,\"tickwidth\":0},\"ternary\":{\"aaxis\":{\"gridcolor\":\"#506784\",\"linecolor\":\"#506784\",\"ticks\":\"\"},\"baxis\":{\"gridcolor\":\"#506784\",\"linecolor\":\"#506784\",\"ticks\":\"\"},\"bgcolor\":\"rgb(17,17,17)\",\"caxis\":{\"gridcolor\":\"#506784\",\"linecolor\":\"#506784\",\"ticks\":\"\"}},\"title\":{\"x\":0.05},\"updatemenudefaults\":{\"bgcolor\":\"#506784\",\"borderwidth\":0},\"xaxis\":{\"automargin\":true,\"gridcolor\":\"#283442\",\"linecolor\":\"#506784\",\"ticks\":\"\",\"title\":{\"standoff\":15},\"zerolinecolor\":\"#283442\",\"zerolinewidth\":2},\"yaxis\":{\"automargin\":true,\"gridcolor\":\"#283442\",\"linecolor\":\"#506784\",\"ticks\":\"\",\"title\":{\"standoff\":15},\"zerolinecolor\":\"#283442\",\"zerolinewidth\":2}}},\"xaxis\":{\"anchor\":\"y\",\"domain\":[0.0,0.2888888888888889],\"title\":{\"text\":\"max_depth\"}},\"yaxis\":{\"anchor\":\"x\",\"domain\":[0.0,1.0],\"title\":{\"text\":\"Objective Value\"}},\"xaxis2\":{\"anchor\":\"y2\",\"domain\":[0.35555555555555557,0.6444444444444445],\"title\":{\"text\":\"max_features\"}},\"yaxis2\":{\"anchor\":\"x2\",\"domain\":[0.0,1.0],\"matches\":\"y\",\"showticklabels\":false},\"xaxis3\":{\"anchor\":\"y3\",\"domain\":[0.7111111111111111,1.0],\"title\":{\"text\":\"n_estimators\"}},\"yaxis3\":{\"anchor\":\"x3\",\"domain\":[0.0,1.0],\"matches\":\"y\",\"showticklabels\":false},\"title\":{\"text\":\"\\u003cb\\u003eSlice Plot\",\"x\":0.2}},                        {\"responsive\": true}                    ).then(function(){\n",
       "                            \n",
       "var gd = document.getElementById('b3665261-b277-4d3e-81fe-f66ced45bfaf');\n",
       "var x = new MutationObserver(function (mutations, observer) {{\n",
       "        var display = window.getComputedStyle(gd).display;\n",
       "        if (!display || display === 'none') {{\n",
       "            console.log([gd, 'removed!']);\n",
       "            Plotly.purge(gd);\n",
       "            observer.disconnect();\n",
       "        }}\n",
       "}});\n",
       "\n",
       "// Listen for the removal of the full notebook cells\n",
       "var notebookContainer = gd.closest('#notebook-container');\n",
       "if (notebookContainer) {{\n",
       "    x.observe(notebookContainer, {childList: true});\n",
       "}}\n",
       "\n",
       "// Listen for the clearing of the current output cell\n",
       "var outputEl = gd.closest('.output');\n",
       "if (outputEl) {{\n",
       "    x.observe(outputEl, {childList: true});\n",
       "}}\n",
       "\n",
       "                        })                };                });            </script>        </div>"
      ]
     },
     "metadata": {},
     "output_type": "display_data"
    }
   ],
   "source": [
    "fig = optuna.visualization.plot_slice(study)\n",
    "fig.update_layout(template='plotly_dark', title='<b>Slice Plot', title_x=0.2)"
   ]
  },
  {
   "cell_type": "code",
   "execution_count": 65,
   "id": "4a4b65bb-1a42-4b4d-a080-1ab1cd141942",
   "metadata": {},
   "outputs": [],
   "source": [
    "best_model = RandomForestRegressor(\n",
    "n_estimators=900,\n",
    "max_depth=66,\n",
    "max_features=43,\n",
    "min_samples_split=2,\n",
    "min_samples_leaf=1,\n",
    "bootstrap=True,  # Mantenha os outros parâmetros inalterados\n",
    "ccp_alpha=0.0,\n",
    "criterion='squared_error',\n",
    "max_leaf_nodes=None,\n",
    "max_samples=None,\n",
    "min_impurity_decrease=0.0,\n",
    "min_weight_fraction_leaf=0.0,\n",
    "n_jobs=-1,\n",
    "oob_score=False,\n",
    "random_state=None,\n",
    "verbose=0,\n",
    "warm_start=False\n",
    ")"
   ]
  },
  {
   "cell_type": "code",
   "execution_count": 88,
   "id": "586a4ff9-5300-4575-ad42-6669326e353b",
   "metadata": {},
   "outputs": [
    {
     "data": {
      "text/html": [
       "<style>#sk-container-id-3 {color: black;}#sk-container-id-3 pre{padding: 0;}#sk-container-id-3 div.sk-toggleable {background-color: white;}#sk-container-id-3 label.sk-toggleable__label {cursor: pointer;display: block;width: 100%;margin-bottom: 0;padding: 0.3em;box-sizing: border-box;text-align: center;}#sk-container-id-3 label.sk-toggleable__label-arrow:before {content: \"▸\";float: left;margin-right: 0.25em;color: #696969;}#sk-container-id-3 label.sk-toggleable__label-arrow:hover:before {color: black;}#sk-container-id-3 div.sk-estimator:hover label.sk-toggleable__label-arrow:before {color: black;}#sk-container-id-3 div.sk-toggleable__content {max-height: 0;max-width: 0;overflow: hidden;text-align: left;background-color: #f0f8ff;}#sk-container-id-3 div.sk-toggleable__content pre {margin: 0.2em;color: black;border-radius: 0.25em;background-color: #f0f8ff;}#sk-container-id-3 input.sk-toggleable__control:checked~div.sk-toggleable__content {max-height: 200px;max-width: 100%;overflow: auto;}#sk-container-id-3 input.sk-toggleable__control:checked~label.sk-toggleable__label-arrow:before {content: \"▾\";}#sk-container-id-3 div.sk-estimator input.sk-toggleable__control:checked~label.sk-toggleable__label {background-color: #d4ebff;}#sk-container-id-3 div.sk-label input.sk-toggleable__control:checked~label.sk-toggleable__label {background-color: #d4ebff;}#sk-container-id-3 input.sk-hidden--visually {border: 0;clip: rect(1px 1px 1px 1px);clip: rect(1px, 1px, 1px, 1px);height: 1px;margin: -1px;overflow: hidden;padding: 0;position: absolute;width: 1px;}#sk-container-id-3 div.sk-estimator {font-family: monospace;background-color: #f0f8ff;border: 1px dotted black;border-radius: 0.25em;box-sizing: border-box;margin-bottom: 0.5em;}#sk-container-id-3 div.sk-estimator:hover {background-color: #d4ebff;}#sk-container-id-3 div.sk-parallel-item::after {content: \"\";width: 100%;border-bottom: 1px solid gray;flex-grow: 1;}#sk-container-id-3 div.sk-label:hover label.sk-toggleable__label {background-color: #d4ebff;}#sk-container-id-3 div.sk-serial::before {content: \"\";position: absolute;border-left: 1px solid gray;box-sizing: border-box;top: 0;bottom: 0;left: 50%;z-index: 0;}#sk-container-id-3 div.sk-serial {display: flex;flex-direction: column;align-items: center;background-color: white;padding-right: 0.2em;padding-left: 0.2em;position: relative;}#sk-container-id-3 div.sk-item {position: relative;z-index: 1;}#sk-container-id-3 div.sk-parallel {display: flex;align-items: stretch;justify-content: center;background-color: white;position: relative;}#sk-container-id-3 div.sk-item::before, #sk-container-id-3 div.sk-parallel-item::before {content: \"\";position: absolute;border-left: 1px solid gray;box-sizing: border-box;top: 0;bottom: 0;left: 50%;z-index: -1;}#sk-container-id-3 div.sk-parallel-item {display: flex;flex-direction: column;z-index: 1;position: relative;background-color: white;}#sk-container-id-3 div.sk-parallel-item:first-child::after {align-self: flex-end;width: 50%;}#sk-container-id-3 div.sk-parallel-item:last-child::after {align-self: flex-start;width: 50%;}#sk-container-id-3 div.sk-parallel-item:only-child::after {width: 0;}#sk-container-id-3 div.sk-dashed-wrapped {border: 1px dashed gray;margin: 0 0.4em 0.5em 0.4em;box-sizing: border-box;padding-bottom: 0.4em;background-color: white;}#sk-container-id-3 div.sk-label label {font-family: monospace;font-weight: bold;display: inline-block;line-height: 1.2em;}#sk-container-id-3 div.sk-label-container {text-align: center;}#sk-container-id-3 div.sk-container {/* jupyter's `normalize.less` sets `[hidden] { display: none; }` but bootstrap.min.css set `[hidden] { display: none !important; }` so we also need the `!important` here to be able to override the default hidden behavior on the sphinx rendered scikit-learn.org. See: https://github.com/scikit-learn/scikit-learn/issues/21755 */display: inline-block !important;position: relative;}#sk-container-id-3 div.sk-text-repr-fallback {display: none;}</style><div id=\"sk-container-id-3\" class=\"sk-top-container\"><div class=\"sk-text-repr-fallback\"><pre>RandomForestRegressor(n_jobs=-1)</pre><b>In a Jupyter environment, please rerun this cell to show the HTML representation or trust the notebook. <br />On GitHub, the HTML representation is unable to render, please try loading this page with nbviewer.org.</b></div><div class=\"sk-container\" hidden><div class=\"sk-item\"><div class=\"sk-estimator sk-toggleable\"><input class=\"sk-toggleable__control sk-hidden--visually\" id=\"sk-estimator-id-3\" type=\"checkbox\" checked><label for=\"sk-estimator-id-3\" class=\"sk-toggleable__label sk-toggleable__label-arrow\">RandomForestRegressor</label><div class=\"sk-toggleable__content\"><pre>RandomForestRegressor(n_jobs=-1)</pre></div></div></div></div></div>"
      ],
      "text/plain": [
       "RandomForestRegressor(n_jobs=-1)"
      ]
     },
     "execution_count": 88,
     "metadata": {},
     "output_type": "execute_result"
    }
   ],
   "source": [
    "rf.fit(X, y)"
   ]
  },
  {
   "cell_type": "code",
   "execution_count": 163,
   "id": "7cd28192-53b1-4452-b539-0cb058a70833",
   "metadata": {},
   "outputs": [
    {
     "data": {
      "text/html": [
       "<style>#sk-container-id-4 {color: black;}#sk-container-id-4 pre{padding: 0;}#sk-container-id-4 div.sk-toggleable {background-color: white;}#sk-container-id-4 label.sk-toggleable__label {cursor: pointer;display: block;width: 100%;margin-bottom: 0;padding: 0.3em;box-sizing: border-box;text-align: center;}#sk-container-id-4 label.sk-toggleable__label-arrow:before {content: \"▸\";float: left;margin-right: 0.25em;color: #696969;}#sk-container-id-4 label.sk-toggleable__label-arrow:hover:before {color: black;}#sk-container-id-4 div.sk-estimator:hover label.sk-toggleable__label-arrow:before {color: black;}#sk-container-id-4 div.sk-toggleable__content {max-height: 0;max-width: 0;overflow: hidden;text-align: left;background-color: #f0f8ff;}#sk-container-id-4 div.sk-toggleable__content pre {margin: 0.2em;color: black;border-radius: 0.25em;background-color: #f0f8ff;}#sk-container-id-4 input.sk-toggleable__control:checked~div.sk-toggleable__content {max-height: 200px;max-width: 100%;overflow: auto;}#sk-container-id-4 input.sk-toggleable__control:checked~label.sk-toggleable__label-arrow:before {content: \"▾\";}#sk-container-id-4 div.sk-estimator input.sk-toggleable__control:checked~label.sk-toggleable__label {background-color: #d4ebff;}#sk-container-id-4 div.sk-label input.sk-toggleable__control:checked~label.sk-toggleable__label {background-color: #d4ebff;}#sk-container-id-4 input.sk-hidden--visually {border: 0;clip: rect(1px 1px 1px 1px);clip: rect(1px, 1px, 1px, 1px);height: 1px;margin: -1px;overflow: hidden;padding: 0;position: absolute;width: 1px;}#sk-container-id-4 div.sk-estimator {font-family: monospace;background-color: #f0f8ff;border: 1px dotted black;border-radius: 0.25em;box-sizing: border-box;margin-bottom: 0.5em;}#sk-container-id-4 div.sk-estimator:hover {background-color: #d4ebff;}#sk-container-id-4 div.sk-parallel-item::after {content: \"\";width: 100%;border-bottom: 1px solid gray;flex-grow: 1;}#sk-container-id-4 div.sk-label:hover label.sk-toggleable__label {background-color: #d4ebff;}#sk-container-id-4 div.sk-serial::before {content: \"\";position: absolute;border-left: 1px solid gray;box-sizing: border-box;top: 0;bottom: 0;left: 50%;z-index: 0;}#sk-container-id-4 div.sk-serial {display: flex;flex-direction: column;align-items: center;background-color: white;padding-right: 0.2em;padding-left: 0.2em;position: relative;}#sk-container-id-4 div.sk-item {position: relative;z-index: 1;}#sk-container-id-4 div.sk-parallel {display: flex;align-items: stretch;justify-content: center;background-color: white;position: relative;}#sk-container-id-4 div.sk-item::before, #sk-container-id-4 div.sk-parallel-item::before {content: \"\";position: absolute;border-left: 1px solid gray;box-sizing: border-box;top: 0;bottom: 0;left: 50%;z-index: -1;}#sk-container-id-4 div.sk-parallel-item {display: flex;flex-direction: column;z-index: 1;position: relative;background-color: white;}#sk-container-id-4 div.sk-parallel-item:first-child::after {align-self: flex-end;width: 50%;}#sk-container-id-4 div.sk-parallel-item:last-child::after {align-self: flex-start;width: 50%;}#sk-container-id-4 div.sk-parallel-item:only-child::after {width: 0;}#sk-container-id-4 div.sk-dashed-wrapped {border: 1px dashed gray;margin: 0 0.4em 0.5em 0.4em;box-sizing: border-box;padding-bottom: 0.4em;background-color: white;}#sk-container-id-4 div.sk-label label {font-family: monospace;font-weight: bold;display: inline-block;line-height: 1.2em;}#sk-container-id-4 div.sk-label-container {text-align: center;}#sk-container-id-4 div.sk-container {/* jupyter's `normalize.less` sets `[hidden] { display: none; }` but bootstrap.min.css set `[hidden] { display: none !important; }` so we also need the `!important` here to be able to override the default hidden behavior on the sphinx rendered scikit-learn.org. See: https://github.com/scikit-learn/scikit-learn/issues/21755 */display: inline-block !important;position: relative;}#sk-container-id-4 div.sk-text-repr-fallback {display: none;}</style><div id=\"sk-container-id-4\" class=\"sk-top-container\"><div class=\"sk-text-repr-fallback\"><pre>RandomForestRegressor(max_depth=66, max_features=43, n_estimators=900,\n",
       "                      n_jobs=-1)</pre><b>In a Jupyter environment, please rerun this cell to show the HTML representation or trust the notebook. <br />On GitHub, the HTML representation is unable to render, please try loading this page with nbviewer.org.</b></div><div class=\"sk-container\" hidden><div class=\"sk-item\"><div class=\"sk-estimator sk-toggleable\"><input class=\"sk-toggleable__control sk-hidden--visually\" id=\"sk-estimator-id-4\" type=\"checkbox\" checked><label for=\"sk-estimator-id-4\" class=\"sk-toggleable__label sk-toggleable__label-arrow\">RandomForestRegressor</label><div class=\"sk-toggleable__content\"><pre>RandomForestRegressor(max_depth=66, max_features=43, n_estimators=900,\n",
       "                      n_jobs=-1)</pre></div></div></div></div></div>"
      ],
      "text/plain": [
       "RandomForestRegressor(max_depth=66, max_features=43, n_estimators=900,\n",
       "                      n_jobs=-1)"
      ]
     },
     "execution_count": 163,
     "metadata": {},
     "output_type": "execute_result"
    }
   ],
   "source": [
    "best_model.fit(X, y)"
   ]
  },
  {
   "cell_type": "code",
   "execution_count": 164,
   "id": "ff337cce-3430-48f3-891d-e22858e40ecf",
   "metadata": {},
   "outputs": [
    {
     "data": {
      "text/html": [
       "<div>\n",
       "<style scoped>\n",
       "    .dataframe tbody tr th:only-of-type {\n",
       "        vertical-align: middle;\n",
       "    }\n",
       "\n",
       "    .dataframe tbody tr th {\n",
       "        vertical-align: top;\n",
       "    }\n",
       "\n",
       "    .dataframe thead th {\n",
       "        text-align: right;\n",
       "    }\n",
       "</style>\n",
       "<table border=\"1\" class=\"dataframe\">\n",
       "  <thead>\n",
       "    <tr style=\"text-align: right;\">\n",
       "      <th></th>\n",
       "      <th>average_rating</th>\n",
       "      <th>number_of_reviews</th>\n",
       "      <th>brand</th>\n",
       "      <th>avg_delivery_time_days</th>\n",
       "      <th>seller</th>\n",
       "      <th>sub_category</th>\n",
       "      <th>fabrication_time</th>\n",
       "      <th>sleeve</th>\n",
       "      <th>pack_of</th>\n",
       "      <th>brand_color</th>\n",
       "      <th>size</th>\n",
       "      <th>fit</th>\n",
       "      <th>pattern</th>\n",
       "      <th>ideal_for</th>\n",
       "      <th>suitable_for</th>\n",
       "      <th>fabric</th>\n",
       "      <th>type</th>\n",
       "      <th>product_details_count</th>\n",
       "      <th>number_images</th>\n",
       "      <th>category_bags_wallets_belts</th>\n",
       "      <th>category_clothing_and_accessories</th>\n",
       "      <th>category_footwear</th>\n",
       "      <th>out_of_stock_false</th>\n",
       "      <th>out_of_stock_true</th>\n",
       "    </tr>\n",
       "  </thead>\n",
       "  <tbody>\n",
       "    <tr>\n",
       "      <th>0</th>\n",
       "      <td>3.2</td>\n",
       "      <td>26</td>\n",
       "      <td>1060.503599</td>\n",
       "      <td>8</td>\n",
       "      <td>1060.503599</td>\n",
       "      <td>863.486546</td>\n",
       "      <td>653</td>\n",
       "      <td>1485.779916</td>\n",
       "      <td>1427.855411</td>\n",
       "      <td>1712.967593</td>\n",
       "      <td>1715.010047</td>\n",
       "      <td>1624.843023</td>\n",
       "      <td>1278.800554</td>\n",
       "      <td>1629.711641</td>\n",
       "      <td>1326.090835</td>\n",
       "      <td>1360.456363</td>\n",
       "      <td>1694.869493</td>\n",
       "      <td>6</td>\n",
       "      <td>5</td>\n",
       "      <td>False</td>\n",
       "      <td>True</td>\n",
       "      <td>False</td>\n",
       "      <td>True</td>\n",
       "      <td>False</td>\n",
       "    </tr>\n",
       "    <tr>\n",
       "      <th>1</th>\n",
       "      <td>4.0</td>\n",
       "      <td>33</td>\n",
       "      <td>711.378809</td>\n",
       "      <td>12</td>\n",
       "      <td>706.917447</td>\n",
       "      <td>1296.724832</td>\n",
       "      <td>668</td>\n",
       "      <td>1255.066104</td>\n",
       "      <td>1427.855411</td>\n",
       "      <td>1101.109437</td>\n",
       "      <td>1213.153051</td>\n",
       "      <td>1301.680988</td>\n",
       "      <td>1278.800554</td>\n",
       "      <td>1384.842808</td>\n",
       "      <td>1547.554396</td>\n",
       "      <td>1484.430353</td>\n",
       "      <td>1130.332763</td>\n",
       "      <td>16</td>\n",
       "      <td>2</td>\n",
       "      <td>False</td>\n",
       "      <td>True</td>\n",
       "      <td>False</td>\n",
       "      <td>True</td>\n",
       "      <td>False</td>\n",
       "    </tr>\n",
       "    <tr>\n",
       "      <th>2</th>\n",
       "      <td>3.9</td>\n",
       "      <td>32</td>\n",
       "      <td>1096.234907</td>\n",
       "      <td>11</td>\n",
       "      <td>1067.085770</td>\n",
       "      <td>2516.372152</td>\n",
       "      <td>53</td>\n",
       "      <td>1974.974990</td>\n",
       "      <td>1464.689266</td>\n",
       "      <td>1712.967593</td>\n",
       "      <td>1715.010047</td>\n",
       "      <td>1624.843023</td>\n",
       "      <td>1279.264182</td>\n",
       "      <td>1629.711641</td>\n",
       "      <td>1547.554396</td>\n",
       "      <td>1232.427563</td>\n",
       "      <td>1694.869493</td>\n",
       "      <td>13</td>\n",
       "      <td>5</td>\n",
       "      <td>False</td>\n",
       "      <td>True</td>\n",
       "      <td>False</td>\n",
       "      <td>True</td>\n",
       "      <td>False</td>\n",
       "    </tr>\n",
       "    <tr>\n",
       "      <th>3</th>\n",
       "      <td>3.8</td>\n",
       "      <td>31</td>\n",
       "      <td>1053.276528</td>\n",
       "      <td>11</td>\n",
       "      <td>1053.830368</td>\n",
       "      <td>1300.285269</td>\n",
       "      <td>510</td>\n",
       "      <td>1266.172725</td>\n",
       "      <td>1629.647741</td>\n",
       "      <td>2214.490224</td>\n",
       "      <td>1200.432591</td>\n",
       "      <td>1307.592591</td>\n",
       "      <td>1636.641186</td>\n",
       "      <td>1394.748519</td>\n",
       "      <td>1560.163921</td>\n",
       "      <td>1504.419550</td>\n",
       "      <td>1333.459626</td>\n",
       "      <td>18</td>\n",
       "      <td>5</td>\n",
       "      <td>False</td>\n",
       "      <td>True</td>\n",
       "      <td>False</td>\n",
       "      <td>True</td>\n",
       "      <td>False</td>\n",
       "    </tr>\n",
       "    <tr>\n",
       "      <th>4</th>\n",
       "      <td>2.4</td>\n",
       "      <td>20</td>\n",
       "      <td>836.694971</td>\n",
       "      <td>5</td>\n",
       "      <td>659.477365</td>\n",
       "      <td>1297.751489</td>\n",
       "      <td>496</td>\n",
       "      <td>1261.472679</td>\n",
       "      <td>1425.126569</td>\n",
       "      <td>990.294207</td>\n",
       "      <td>1156.249561</td>\n",
       "      <td>1301.747950</td>\n",
       "      <td>1280.442163</td>\n",
       "      <td>1383.028204</td>\n",
       "      <td>1548.552601</td>\n",
       "      <td>1495.491345</td>\n",
       "      <td>1131.172133</td>\n",
       "      <td>15</td>\n",
       "      <td>5</td>\n",
       "      <td>False</td>\n",
       "      <td>True</td>\n",
       "      <td>False</td>\n",
       "      <td>True</td>\n",
       "      <td>False</td>\n",
       "    </tr>\n",
       "    <tr>\n",
       "      <th>...</th>\n",
       "      <td>...</td>\n",
       "      <td>...</td>\n",
       "      <td>...</td>\n",
       "      <td>...</td>\n",
       "      <td>...</td>\n",
       "      <td>...</td>\n",
       "      <td>...</td>\n",
       "      <td>...</td>\n",
       "      <td>...</td>\n",
       "      <td>...</td>\n",
       "      <td>...</td>\n",
       "      <td>...</td>\n",
       "      <td>...</td>\n",
       "      <td>...</td>\n",
       "      <td>...</td>\n",
       "      <td>...</td>\n",
       "      <td>...</td>\n",
       "      <td>...</td>\n",
       "      <td>...</td>\n",
       "      <td>...</td>\n",
       "      <td>...</td>\n",
       "      <td>...</td>\n",
       "      <td>...</td>\n",
       "      <td>...</td>\n",
       "    </tr>\n",
       "    <tr>\n",
       "      <th>23303</th>\n",
       "      <td>2.5</td>\n",
       "      <td>21</td>\n",
       "      <td>1286.475590</td>\n",
       "      <td>5</td>\n",
       "      <td>1277.605396</td>\n",
       "      <td>1302.903611</td>\n",
       "      <td>552</td>\n",
       "      <td>1977.375580</td>\n",
       "      <td>1431.477104</td>\n",
       "      <td>499.000000</td>\n",
       "      <td>1226.288002</td>\n",
       "      <td>1415.218642</td>\n",
       "      <td>1629.460160</td>\n",
       "      <td>1388.399620</td>\n",
       "      <td>1557.084778</td>\n",
       "      <td>1498.137999</td>\n",
       "      <td>1139.188058</td>\n",
       "      <td>17</td>\n",
       "      <td>5</td>\n",
       "      <td>False</td>\n",
       "      <td>True</td>\n",
       "      <td>False</td>\n",
       "      <td>True</td>\n",
       "      <td>False</td>\n",
       "    </tr>\n",
       "    <tr>\n",
       "      <th>23304</th>\n",
       "      <td>4.1</td>\n",
       "      <td>34</td>\n",
       "      <td>1156.906763</td>\n",
       "      <td>13</td>\n",
       "      <td>546.071232</td>\n",
       "      <td>2519.829211</td>\n",
       "      <td>501</td>\n",
       "      <td>1975.161187</td>\n",
       "      <td>1474.944402</td>\n",
       "      <td>1715.771697</td>\n",
       "      <td>1717.005095</td>\n",
       "      <td>1626.480578</td>\n",
       "      <td>1296.660703</td>\n",
       "      <td>1383.028204</td>\n",
       "      <td>1330.556886</td>\n",
       "      <td>1495.491345</td>\n",
       "      <td>830.797696</td>\n",
       "      <td>11</td>\n",
       "      <td>4</td>\n",
       "      <td>False</td>\n",
       "      <td>True</td>\n",
       "      <td>False</td>\n",
       "      <td>True</td>\n",
       "      <td>False</td>\n",
       "    </tr>\n",
       "    <tr>\n",
       "      <th>23306</th>\n",
       "      <td>0.0</td>\n",
       "      <td>0</td>\n",
       "      <td>1770.439769</td>\n",
       "      <td>4</td>\n",
       "      <td>1770.439769</td>\n",
       "      <td>1724.988029</td>\n",
       "      <td>687</td>\n",
       "      <td>1485.779916</td>\n",
       "      <td>1464.689266</td>\n",
       "      <td>1712.967593</td>\n",
       "      <td>1715.010047</td>\n",
       "      <td>1624.843023</td>\n",
       "      <td>1627.888456</td>\n",
       "      <td>1629.711641</td>\n",
       "      <td>1326.090835</td>\n",
       "      <td>1498.888672</td>\n",
       "      <td>1729.785132</td>\n",
       "      <td>15</td>\n",
       "      <td>5</td>\n",
       "      <td>False</td>\n",
       "      <td>True</td>\n",
       "      <td>False</td>\n",
       "      <td>True</td>\n",
       "      <td>False</td>\n",
       "    </tr>\n",
       "    <tr>\n",
       "      <th>23307</th>\n",
       "      <td>0.0</td>\n",
       "      <td>0</td>\n",
       "      <td>900.383501</td>\n",
       "      <td>4</td>\n",
       "      <td>900.383501</td>\n",
       "      <td>1296.724832</td>\n",
       "      <td>647</td>\n",
       "      <td>1255.066104</td>\n",
       "      <td>1427.855411</td>\n",
       "      <td>993.141204</td>\n",
       "      <td>1208.700886</td>\n",
       "      <td>1301.680988</td>\n",
       "      <td>1278.800554</td>\n",
       "      <td>1384.842808</td>\n",
       "      <td>1547.554396</td>\n",
       "      <td>1360.456363</td>\n",
       "      <td>1130.332763</td>\n",
       "      <td>17</td>\n",
       "      <td>6</td>\n",
       "      <td>False</td>\n",
       "      <td>True</td>\n",
       "      <td>False</td>\n",
       "      <td>True</td>\n",
       "      <td>False</td>\n",
       "    </tr>\n",
       "    <tr>\n",
       "      <th>23308</th>\n",
       "      <td>2.8</td>\n",
       "      <td>23</td>\n",
       "      <td>2502.334537</td>\n",
       "      <td>6</td>\n",
       "      <td>2779.747814</td>\n",
       "      <td>1297.629320</td>\n",
       "      <td>453</td>\n",
       "      <td>1961.845187</td>\n",
       "      <td>1431.697045</td>\n",
       "      <td>1709.306289</td>\n",
       "      <td>1711.481488</td>\n",
       "      <td>1296.860070</td>\n",
       "      <td>2742.752995</td>\n",
       "      <td>1628.458355</td>\n",
       "      <td>1549.183185</td>\n",
       "      <td>2484.753663</td>\n",
       "      <td>1689.752954</td>\n",
       "      <td>12</td>\n",
       "      <td>7</td>\n",
       "      <td>False</td>\n",
       "      <td>True</td>\n",
       "      <td>False</td>\n",
       "      <td>True</td>\n",
       "      <td>False</td>\n",
       "    </tr>\n",
       "  </tbody>\n",
       "</table>\n",
       "<p>19813 rows × 24 columns</p>\n",
       "</div>"
      ],
      "text/plain": [
       "       average_rating  number_of_reviews        brand  avg_delivery_time_days  \\\n",
       "0                 3.2                 26  1060.503599                       8   \n",
       "1                 4.0                 33   711.378809                      12   \n",
       "2                 3.9                 32  1096.234907                      11   \n",
       "3                 3.8                 31  1053.276528                      11   \n",
       "4                 2.4                 20   836.694971                       5   \n",
       "...               ...                ...          ...                     ...   \n",
       "23303             2.5                 21  1286.475590                       5   \n",
       "23304             4.1                 34  1156.906763                      13   \n",
       "23306             0.0                  0  1770.439769                       4   \n",
       "23307             0.0                  0   900.383501                       4   \n",
       "23308             2.8                 23  2502.334537                       6   \n",
       "\n",
       "            seller  sub_category  fabrication_time       sleeve      pack_of  \\\n",
       "0      1060.503599    863.486546               653  1485.779916  1427.855411   \n",
       "1       706.917447   1296.724832               668  1255.066104  1427.855411   \n",
       "2      1067.085770   2516.372152                53  1974.974990  1464.689266   \n",
       "3      1053.830368   1300.285269               510  1266.172725  1629.647741   \n",
       "4       659.477365   1297.751489               496  1261.472679  1425.126569   \n",
       "...            ...           ...               ...          ...          ...   \n",
       "23303  1277.605396   1302.903611               552  1977.375580  1431.477104   \n",
       "23304   546.071232   2519.829211               501  1975.161187  1474.944402   \n",
       "23306  1770.439769   1724.988029               687  1485.779916  1464.689266   \n",
       "23307   900.383501   1296.724832               647  1255.066104  1427.855411   \n",
       "23308  2779.747814   1297.629320               453  1961.845187  1431.697045   \n",
       "\n",
       "       brand_color         size          fit      pattern    ideal_for  \\\n",
       "0      1712.967593  1715.010047  1624.843023  1278.800554  1629.711641   \n",
       "1      1101.109437  1213.153051  1301.680988  1278.800554  1384.842808   \n",
       "2      1712.967593  1715.010047  1624.843023  1279.264182  1629.711641   \n",
       "3      2214.490224  1200.432591  1307.592591  1636.641186  1394.748519   \n",
       "4       990.294207  1156.249561  1301.747950  1280.442163  1383.028204   \n",
       "...            ...          ...          ...          ...          ...   \n",
       "23303   499.000000  1226.288002  1415.218642  1629.460160  1388.399620   \n",
       "23304  1715.771697  1717.005095  1626.480578  1296.660703  1383.028204   \n",
       "23306  1712.967593  1715.010047  1624.843023  1627.888456  1629.711641   \n",
       "23307   993.141204  1208.700886  1301.680988  1278.800554  1384.842808   \n",
       "23308  1709.306289  1711.481488  1296.860070  2742.752995  1628.458355   \n",
       "\n",
       "       suitable_for       fabric         type  product_details_count  \\\n",
       "0       1326.090835  1360.456363  1694.869493                      6   \n",
       "1       1547.554396  1484.430353  1130.332763                     16   \n",
       "2       1547.554396  1232.427563  1694.869493                     13   \n",
       "3       1560.163921  1504.419550  1333.459626                     18   \n",
       "4       1548.552601  1495.491345  1131.172133                     15   \n",
       "...             ...          ...          ...                    ...   \n",
       "23303   1557.084778  1498.137999  1139.188058                     17   \n",
       "23304   1330.556886  1495.491345   830.797696                     11   \n",
       "23306   1326.090835  1498.888672  1729.785132                     15   \n",
       "23307   1547.554396  1360.456363  1130.332763                     17   \n",
       "23308   1549.183185  2484.753663  1689.752954                     12   \n",
       "\n",
       "       number_images  category_bags_wallets_belts  \\\n",
       "0                  5                        False   \n",
       "1                  2                        False   \n",
       "2                  5                        False   \n",
       "3                  5                        False   \n",
       "4                  5                        False   \n",
       "...              ...                          ...   \n",
       "23303              5                        False   \n",
       "23304              4                        False   \n",
       "23306              5                        False   \n",
       "23307              6                        False   \n",
       "23308              7                        False   \n",
       "\n",
       "       category_clothing_and_accessories  category_footwear  \\\n",
       "0                                   True              False   \n",
       "1                                   True              False   \n",
       "2                                   True              False   \n",
       "3                                   True              False   \n",
       "4                                   True              False   \n",
       "...                                  ...                ...   \n",
       "23303                               True              False   \n",
       "23304                               True              False   \n",
       "23306                               True              False   \n",
       "23307                               True              False   \n",
       "23308                               True              False   \n",
       "\n",
       "       out_of_stock_false  out_of_stock_true  \n",
       "0                    True              False  \n",
       "1                    True              False  \n",
       "2                    True              False  \n",
       "3                    True              False  \n",
       "4                    True              False  \n",
       "...                   ...                ...  \n",
       "23303                True              False  \n",
       "23304                True              False  \n",
       "23306                True              False  \n",
       "23307                True              False  \n",
       "23308                True              False  \n",
       "\n",
       "[19813 rows x 24 columns]"
      ]
     },
     "execution_count": 164,
     "metadata": {},
     "output_type": "execute_result"
    }
   ],
   "source": [
    "X"
   ]
  },
  {
   "cell_type": "markdown",
   "id": "87582459-cba2-494e-b913-e99fb8d47f11",
   "metadata": {},
   "source": [
    "## Previsao No test(fazer as mesmas transformações do treino)"
   ]
  },
  {
   "cell_type": "code",
   "execution_count": 167,
   "id": "73df7fb8-9d79-47c3-bcac-9491f0a0f166",
   "metadata": {},
   "outputs": [],
   "source": [
    "X_test = pd.read_json(path + 'test.json', orient='split')"
   ]
  },
  {
   "cell_type": "code",
   "execution_count": 168,
   "id": "fd608848-b39d-44f6-a2a7-341fbe588ef5",
   "metadata": {},
   "outputs": [],
   "source": [
    "X_test['product_details_count'] = X_test['product_details'].apply(lambda x: len(ast.literal_eval(x)) )"
   ]
  },
  {
   "cell_type": "code",
   "execution_count": 169,
   "id": "08008734-8602-44db-8eb0-cbe04e578c07",
   "metadata": {},
   "outputs": [],
   "source": [
    "X_test['product_details'] = X_test['product_details'].apply(lambda x: ast.literal_eval(x))"
   ]
  },
  {
   "cell_type": "code",
   "execution_count": 170,
   "id": "b81d14a4-37f9-458c-ad9f-a5c6e18758cd",
   "metadata": {},
   "outputs": [],
   "source": [
    "all_keys = set()\n",
    "for data in X_test['product_details']:\n",
    "    for item in data:\n",
    "        all_keys.update(item.keys())\n",
    "\n",
    "# Para cada chave no conjunto, crie uma coluna no DataFrame e preencha com os valores correspondentes\n",
    "for key in all_keys:\n",
    "    X_test[key] = X_test['product_details'].apply(lambda x: next((item[key] for item in x if key in item), np.nan))\n",
    "\n",
    "# Remova a coluna 'product_details' original\n",
    "X_test.drop('product_details', axis=1, inplace=True)"
   ]
  },
  {
   "cell_type": "code",
   "execution_count": 171,
   "id": "46add8d0-7458-4df1-ab31-13faf5dc28eb",
   "metadata": {},
   "outputs": [],
   "source": [
    "X_test.rename(columns={'Pack of': 'Pack Of 2'}, inplace=True)\n",
    "# Preencha os valores NaN na coluna 'Pack Of' com os valores da coluna 'Pack Of' 2\n",
    "X_test['Pack Of'].fillna(X_test['Pack Of 2'], inplace=True)\n",
    "\n",
    "# Agora você pode descartar a coluna 'Pack Of 2' se desejar\n",
    "X_test.drop('Pack Of 2', axis=1, inplace=True)"
   ]
  },
  {
   "cell_type": "code",
   "execution_count": 172,
   "id": "81398222-0085-4bb1-81d9-135583a58e4e",
   "metadata": {},
   "outputs": [],
   "source": [
    "X_test['images'] = X_test['images'].apply(lambda x: ast.literal_eval(x))"
   ]
  },
  {
   "cell_type": "code",
   "execution_count": 173,
   "id": "15da41c5-5d98-478d-9963-c2dfcebc261a",
   "metadata": {},
   "outputs": [],
   "source": [
    "X_test['number_images'] = X_test['images'].apply(lambda x: len(x))"
   ]
  },
  {
   "cell_type": "code",
   "execution_count": 174,
   "id": "1a23a98b-a263-476b-a032-29035a8a9084",
   "metadata": {},
   "outputs": [],
   "source": [
    "details_to_maintain_test = ['_id',\n",
    "                       'average_rating',\n",
    "                       'number_of_reviews',\n",
    "                       'brand',\n",
    "                       'category',\n",
    "                       'crawled_at',\n",
    "                       'description',\n",
    "                       'images',\n",
    "                       'out_of_stock',\n",
    "                       'avg_delivery_time_days',\n",
    "                       'pid',\n",
    "                       'seller',\n",
    "                       'sub_category',\n",
    "                       'fabrication_time',\n",
    "                       'title',\n",
    "                       #'actual_price',\n",
    "                       'Sleeve',\n",
    "                       'Pack Of',\n",
    "                       'Brand Color',\n",
    "                       'Size',\n",
    "                       'Fit',\n",
    "                       'Pattern',\n",
    "                       'Ideal For',\n",
    "                       'Suitable For',\n",
    "                       'Fabric',\n",
    "                       'Type',\n",
    "                       'product_details_count',\n",
    "                       'number_images',\n",
    "                       #'Shade',\n",
    "                           ]"
   ]
  },
  {
   "cell_type": "code",
   "execution_count": 175,
   "id": "08f55db0-446e-46b9-aea4-ce4b5f3deacf",
   "metadata": {},
   "outputs": [],
   "source": [
    "X_test = X_test[details_to_maintain_test]"
   ]
  },
  {
   "cell_type": "code",
   "execution_count": 176,
   "id": "39365c3f-6612-426c-af48-6f8f70d4c711",
   "metadata": {},
   "outputs": [
    {
     "data": {
      "text/html": [
       "<div>\n",
       "<style scoped>\n",
       "    .dataframe tbody tr th:only-of-type {\n",
       "        vertical-align: middle;\n",
       "    }\n",
       "\n",
       "    .dataframe tbody tr th {\n",
       "        vertical-align: top;\n",
       "    }\n",
       "\n",
       "    .dataframe thead th {\n",
       "        text-align: right;\n",
       "    }\n",
       "</style>\n",
       "<table border=\"1\" class=\"dataframe\">\n",
       "  <thead>\n",
       "    <tr style=\"text-align: right;\">\n",
       "      <th></th>\n",
       "      <th>_id</th>\n",
       "      <th>average_rating</th>\n",
       "      <th>number_of_reviews</th>\n",
       "      <th>brand</th>\n",
       "      <th>category</th>\n",
       "      <th>crawled_at</th>\n",
       "      <th>description</th>\n",
       "      <th>images</th>\n",
       "      <th>out_of_stock</th>\n",
       "      <th>avg_delivery_time_days</th>\n",
       "      <th>pid</th>\n",
       "      <th>seller</th>\n",
       "      <th>sub_category</th>\n",
       "      <th>fabrication_time</th>\n",
       "      <th>title</th>\n",
       "      <th>Sleeve</th>\n",
       "      <th>Pack Of</th>\n",
       "      <th>Brand Color</th>\n",
       "      <th>Size</th>\n",
       "      <th>Fit</th>\n",
       "      <th>Pattern</th>\n",
       "      <th>Ideal For</th>\n",
       "      <th>Suitable For</th>\n",
       "      <th>Fabric</th>\n",
       "      <th>Type</th>\n",
       "      <th>product_details_count</th>\n",
       "      <th>number_images</th>\n",
       "    </tr>\n",
       "  </thead>\n",
       "  <tbody>\n",
       "    <tr>\n",
       "      <th>0</th>\n",
       "      <td>35d28961-170f-515d-90d4-55ee978a8afa</td>\n",
       "      <td>4.8</td>\n",
       "      <td>40</td>\n",
       "      <td>Mo</td>\n",
       "      <td>Clothing and Accessories</td>\n",
       "      <td>2021-02-10 21:18:47</td>\n",
       "      <td>Accentuate your formal wardrobe by buying this...</td>\n",
       "      <td>[https://rukminim1.flixcart.com/image/128/128/...</td>\n",
       "      <td>False</td>\n",
       "      <td>17</td>\n",
       "      <td>SHTFDYZGEXPED7YS</td>\n",
       "      <td>KKSONS</td>\n",
       "      <td>Topwear</td>\n",
       "      <td>32</td>\n",
       "      <td>Men Slim Fit Printed Button Down Collar Casual...</td>\n",
       "      <td>Full Sleeve</td>\n",
       "      <td>1</td>\n",
       "      <td>NaN</td>\n",
       "      <td>NaN</td>\n",
       "      <td>Slim</td>\n",
       "      <td>Printed</td>\n",
       "      <td>NaN</td>\n",
       "      <td>Western Wear</td>\n",
       "      <td>Cotton Blend</td>\n",
       "      <td>NaN</td>\n",
       "      <td>14</td>\n",
       "      <td>4</td>\n",
       "    </tr>\n",
       "    <tr>\n",
       "      <th>1</th>\n",
       "      <td>5089618f-7eec-571b-84b6-41c3b43a2ed4</td>\n",
       "      <td>3.7</td>\n",
       "      <td>31</td>\n",
       "      <td>True Bl</td>\n",
       "      <td>Clothing and Accessories</td>\n",
       "      <td>2021-02-10 22:12:20</td>\n",
       "      <td>undefined</td>\n",
       "      <td>[https://rukminim1.flixcart.com/image/128/128/...</td>\n",
       "      <td>False</td>\n",
       "      <td>10</td>\n",
       "      <td>TROFM47EVWRYK7ZU</td>\n",
       "      <td>KAPSONSRETAILPVTLTD</td>\n",
       "      <td>Bottomwear</td>\n",
       "      <td>318</td>\n",
       "      <td>Slim Fit Men Brown Cotton Blend Trousers</td>\n",
       "      <td>NaN</td>\n",
       "      <td>1</td>\n",
       "      <td>NaN</td>\n",
       "      <td>NaN</td>\n",
       "      <td>Slim Fit</td>\n",
       "      <td>Solid</td>\n",
       "      <td>NaN</td>\n",
       "      <td>Western Wear</td>\n",
       "      <td>Cotton Blend</td>\n",
       "      <td>Casual Trousers</td>\n",
       "      <td>14</td>\n",
       "      <td>5</td>\n",
       "    </tr>\n",
       "    <tr>\n",
       "      <th>2</th>\n",
       "      <td>84716375-2ea3-5376-bca1-ecef76b0aa87</td>\n",
       "      <td>3.2</td>\n",
       "      <td>26</td>\n",
       "      <td>vims rai</td>\n",
       "      <td>Clothing and Accessories</td>\n",
       "      <td>2021-02-11 01:16:36</td>\n",
       "      <td>undefined</td>\n",
       "      <td>[https://rukminim1.flixcart.com/image/128/128/...</td>\n",
       "      <td>False</td>\n",
       "      <td>8</td>\n",
       "      <td>FABFZAMPGDW3BKGX</td>\n",
       "      <td>WHITE SKY</td>\n",
       "      <td>Fabrics</td>\n",
       "      <td>411</td>\n",
       "      <td>Rayon Printed Shirt Fabric  (Unstitched)</td>\n",
       "      <td>NaN</td>\n",
       "      <td>NaN</td>\n",
       "      <td>NaN</td>\n",
       "      <td>NaN</td>\n",
       "      <td>NaN</td>\n",
       "      <td>Printed</td>\n",
       "      <td>Men</td>\n",
       "      <td>NaN</td>\n",
       "      <td>Rayon</td>\n",
       "      <td>Shirt Fabric</td>\n",
       "      <td>15</td>\n",
       "      <td>4</td>\n",
       "    </tr>\n",
       "    <tr>\n",
       "      <th>3</th>\n",
       "      <td>84120873-2b67-5f2c-9074-803e52e278f7</td>\n",
       "      <td>3.6</td>\n",
       "      <td>30</td>\n",
       "      <td>True Bl</td>\n",
       "      <td>Clothing and Accessories</td>\n",
       "      <td>2021-02-10 22:21:32</td>\n",
       "      <td>undefined</td>\n",
       "      <td>[https://rukminim1.flixcart.com/image/128/128/...</td>\n",
       "      <td>False</td>\n",
       "      <td>10</td>\n",
       "      <td>BZRFNMGPNBQTYHMG</td>\n",
       "      <td>KAPSONSRETAILPVTLTD</td>\n",
       "      <td>Blazers, Waistcoats and Suits</td>\n",
       "      <td>431</td>\n",
       "      <td>Solid Single Breasted Formal Men Full Sleeve B...</td>\n",
       "      <td>Full Sleeve</td>\n",
       "      <td>1</td>\n",
       "      <td>NaN</td>\n",
       "      <td>NaN</td>\n",
       "      <td>NaN</td>\n",
       "      <td>Solid</td>\n",
       "      <td>NaN</td>\n",
       "      <td>NaN</td>\n",
       "      <td>Polyester</td>\n",
       "      <td>Single Breasted</td>\n",
       "      <td>11</td>\n",
       "      <td>5</td>\n",
       "    </tr>\n",
       "    <tr>\n",
       "      <th>4</th>\n",
       "      <td>96238f84-3bb8-5ec1-b2f4-fe481ba35faa</td>\n",
       "      <td>2.5</td>\n",
       "      <td>21</td>\n",
       "      <td>ECKO Unl</td>\n",
       "      <td>Clothing and Accessories</td>\n",
       "      <td>2021-02-10 22:32:00</td>\n",
       "      <td>ECKO Unltd YD CHECK  Cotton Woven Slim Fit IND...</td>\n",
       "      <td>[https://rukminim1.flixcart.com/image/128/128/...</td>\n",
       "      <td>False</td>\n",
       "      <td>5</td>\n",
       "      <td>SHTFV5G6PZDQZEVZ</td>\n",
       "      <td>SandSMarketing</td>\n",
       "      <td>Topwear</td>\n",
       "      <td>512</td>\n",
       "      <td>Men Slim Fit Checkered Cut Away Collar Casual ...</td>\n",
       "      <td>Full Sleeve</td>\n",
       "      <td>1</td>\n",
       "      <td>NaN</td>\n",
       "      <td>NaN</td>\n",
       "      <td>Slim</td>\n",
       "      <td>Checkered</td>\n",
       "      <td>NaN</td>\n",
       "      <td>Western Wear</td>\n",
       "      <td>Cotton Blend</td>\n",
       "      <td>NaN</td>\n",
       "      <td>13</td>\n",
       "      <td>5</td>\n",
       "    </tr>\n",
       "  </tbody>\n",
       "</table>\n",
       "</div>"
      ],
      "text/plain": [
       "                                    _id  average_rating  number_of_reviews  \\\n",
       "0  35d28961-170f-515d-90d4-55ee978a8afa             4.8                 40   \n",
       "1  5089618f-7eec-571b-84b6-41c3b43a2ed4             3.7                 31   \n",
       "2  84716375-2ea3-5376-bca1-ecef76b0aa87             3.2                 26   \n",
       "3  84120873-2b67-5f2c-9074-803e52e278f7             3.6                 30   \n",
       "4  96238f84-3bb8-5ec1-b2f4-fe481ba35faa             2.5                 21   \n",
       "\n",
       "      brand                  category          crawled_at  \\\n",
       "0        Mo  Clothing and Accessories 2021-02-10 21:18:47   \n",
       "1   True Bl  Clothing and Accessories 2021-02-10 22:12:20   \n",
       "2  vims rai  Clothing and Accessories 2021-02-11 01:16:36   \n",
       "3   True Bl  Clothing and Accessories 2021-02-10 22:21:32   \n",
       "4  ECKO Unl  Clothing and Accessories 2021-02-10 22:32:00   \n",
       "\n",
       "                                         description  \\\n",
       "0  Accentuate your formal wardrobe by buying this...   \n",
       "1                                          undefined   \n",
       "2                                          undefined   \n",
       "3                                          undefined   \n",
       "4  ECKO Unltd YD CHECK  Cotton Woven Slim Fit IND...   \n",
       "\n",
       "                                              images  out_of_stock  \\\n",
       "0  [https://rukminim1.flixcart.com/image/128/128/...         False   \n",
       "1  [https://rukminim1.flixcart.com/image/128/128/...         False   \n",
       "2  [https://rukminim1.flixcart.com/image/128/128/...         False   \n",
       "3  [https://rukminim1.flixcart.com/image/128/128/...         False   \n",
       "4  [https://rukminim1.flixcart.com/image/128/128/...         False   \n",
       "\n",
       "   avg_delivery_time_days               pid               seller  \\\n",
       "0                      17  SHTFDYZGEXPED7YS               KKSONS   \n",
       "1                      10  TROFM47EVWRYK7ZU  KAPSONSRETAILPVTLTD   \n",
       "2                       8  FABFZAMPGDW3BKGX            WHITE SKY   \n",
       "3                      10  BZRFNMGPNBQTYHMG  KAPSONSRETAILPVTLTD   \n",
       "4                       5  SHTFV5G6PZDQZEVZ       SandSMarketing   \n",
       "\n",
       "                    sub_category  fabrication_time  \\\n",
       "0                        Topwear                32   \n",
       "1                     Bottomwear               318   \n",
       "2                        Fabrics               411   \n",
       "3  Blazers, Waistcoats and Suits               431   \n",
       "4                        Topwear               512   \n",
       "\n",
       "                                               title       Sleeve Pack Of  \\\n",
       "0  Men Slim Fit Printed Button Down Collar Casual...  Full Sleeve       1   \n",
       "1           Slim Fit Men Brown Cotton Blend Trousers          NaN       1   \n",
       "2           Rayon Printed Shirt Fabric  (Unstitched)          NaN     NaN   \n",
       "3  Solid Single Breasted Formal Men Full Sleeve B...  Full Sleeve       1   \n",
       "4  Men Slim Fit Checkered Cut Away Collar Casual ...  Full Sleeve       1   \n",
       "\n",
       "  Brand Color Size       Fit    Pattern Ideal For  Suitable For        Fabric  \\\n",
       "0         NaN  NaN      Slim    Printed       NaN  Western Wear  Cotton Blend   \n",
       "1         NaN  NaN  Slim Fit      Solid       NaN  Western Wear  Cotton Blend   \n",
       "2         NaN  NaN       NaN    Printed       Men           NaN         Rayon   \n",
       "3         NaN  NaN       NaN      Solid       NaN           NaN     Polyester   \n",
       "4         NaN  NaN      Slim  Checkered       NaN  Western Wear  Cotton Blend   \n",
       "\n",
       "              Type  product_details_count  number_images  \n",
       "0              NaN                     14              4  \n",
       "1  Casual Trousers                     14              5  \n",
       "2     Shirt Fabric                     15              4  \n",
       "3  Single Breasted                     11              5  \n",
       "4              NaN                     13              5  "
      ]
     },
     "execution_count": 176,
     "metadata": {},
     "output_type": "execute_result"
    }
   ],
   "source": [
    "X_test.head()"
   ]
  },
  {
   "cell_type": "code",
   "execution_count": 177,
   "id": "d4d2589f-c0ee-4231-a42c-89f9a5f6763d",
   "metadata": {},
   "outputs": [],
   "source": [
    "X_test = pd.get_dummies(X_test, columns=onehot)\n",
    "X_test[te_cols] = te.transform(X_test[te_cols])"
   ]
  },
  {
   "cell_type": "code",
   "execution_count": 178,
   "id": "b38e399c-b854-4acf-abcb-edeed3782d3e",
   "metadata": {},
   "outputs": [],
   "source": [
    "X_test = X_test.drop(cols_drop, axis=1)\n",
    "X_test = X_test.drop('pid', axis=1)"
   ]
  },
  {
   "cell_type": "code",
   "execution_count": 179,
   "id": "007b49ee-3dbc-436b-a893-6dabe6f0c55f",
   "metadata": {},
   "outputs": [
    {
     "data": {
      "text/html": [
       "<div>\n",
       "<style scoped>\n",
       "    .dataframe tbody tr th:only-of-type {\n",
       "        vertical-align: middle;\n",
       "    }\n",
       "\n",
       "    .dataframe tbody tr th {\n",
       "        vertical-align: top;\n",
       "    }\n",
       "\n",
       "    .dataframe thead th {\n",
       "        text-align: right;\n",
       "    }\n",
       "</style>\n",
       "<table border=\"1\" class=\"dataframe\">\n",
       "  <thead>\n",
       "    <tr style=\"text-align: right;\">\n",
       "      <th></th>\n",
       "      <th>average_rating</th>\n",
       "      <th>number_of_reviews</th>\n",
       "      <th>brand</th>\n",
       "      <th>avg_delivery_time_days</th>\n",
       "      <th>seller</th>\n",
       "      <th>sub_category</th>\n",
       "      <th>fabrication_time</th>\n",
       "      <th>Sleeve</th>\n",
       "      <th>Pack Of</th>\n",
       "      <th>Brand Color</th>\n",
       "      <th>Size</th>\n",
       "      <th>Fit</th>\n",
       "      <th>Pattern</th>\n",
       "      <th>Ideal For</th>\n",
       "      <th>Suitable For</th>\n",
       "      <th>Fabric</th>\n",
       "      <th>Type</th>\n",
       "      <th>product_details_count</th>\n",
       "      <th>number_images</th>\n",
       "      <th>category_Bags, Wallets &amp; Belts</th>\n",
       "      <th>category_Clothing and Accessories</th>\n",
       "      <th>category_Footwear</th>\n",
       "      <th>out_of_stock_False</th>\n",
       "      <th>out_of_stock_True</th>\n",
       "    </tr>\n",
       "  </thead>\n",
       "  <tbody>\n",
       "    <tr>\n",
       "      <th>0</th>\n",
       "      <td>4.8</td>\n",
       "      <td>40</td>\n",
       "      <td>1444.867614</td>\n",
       "      <td>17</td>\n",
       "      <td>1484.968130</td>\n",
       "      <td>1299.049885</td>\n",
       "      <td>32</td>\n",
       "      <td>1976.394231</td>\n",
       "      <td>1431.158920</td>\n",
       "      <td>1480.980568</td>\n",
       "      <td>1480.980568</td>\n",
       "      <td>1411.139804</td>\n",
       "      <td>1283.628944</td>\n",
       "      <td>1480.980568</td>\n",
       "      <td>1552.498280</td>\n",
       "      <td>1496.650804</td>\n",
       "      <td>1480.980568</td>\n",
       "      <td>14</td>\n",
       "      <td>4</td>\n",
       "      <td>False</td>\n",
       "      <td>True</td>\n",
       "      <td>False</td>\n",
       "      <td>True</td>\n",
       "      <td>False</td>\n",
       "    </tr>\n",
       "    <tr>\n",
       "      <th>1</th>\n",
       "      <td>3.7</td>\n",
       "      <td>31</td>\n",
       "      <td>2625.158350</td>\n",
       "      <td>10</td>\n",
       "      <td>2845.184491</td>\n",
       "      <td>1996.485795</td>\n",
       "      <td>318</td>\n",
       "      <td>1480.980568</td>\n",
       "      <td>1431.158920</td>\n",
       "      <td>1480.980568</td>\n",
       "      <td>1480.980568</td>\n",
       "      <td>2160.091736</td>\n",
       "      <td>1629.287467</td>\n",
       "      <td>1480.980568</td>\n",
       "      <td>1552.498280</td>\n",
       "      <td>1496.650804</td>\n",
       "      <td>2270.457512</td>\n",
       "      <td>14</td>\n",
       "      <td>5</td>\n",
       "      <td>False</td>\n",
       "      <td>True</td>\n",
       "      <td>False</td>\n",
       "      <td>True</td>\n",
       "      <td>False</td>\n",
       "    </tr>\n",
       "    <tr>\n",
       "      <th>2</th>\n",
       "      <td>3.2</td>\n",
       "      <td>26</td>\n",
       "      <td>1203.601184</td>\n",
       "      <td>8</td>\n",
       "      <td>1219.220717</td>\n",
       "      <td>1197.636572</td>\n",
       "      <td>411</td>\n",
       "      <td>1480.980568</td>\n",
       "      <td>1480.980568</td>\n",
       "      <td>1480.980568</td>\n",
       "      <td>1480.980568</td>\n",
       "      <td>1480.980568</td>\n",
       "      <td>1283.628944</td>\n",
       "      <td>1386.974560</td>\n",
       "      <td>1480.980568</td>\n",
       "      <td>1256.351490</td>\n",
       "      <td>1206.847489</td>\n",
       "      <td>15</td>\n",
       "      <td>4</td>\n",
       "      <td>False</td>\n",
       "      <td>True</td>\n",
       "      <td>False</td>\n",
       "      <td>True</td>\n",
       "      <td>False</td>\n",
       "    </tr>\n",
       "    <tr>\n",
       "      <th>3</th>\n",
       "      <td>3.6</td>\n",
       "      <td>30</td>\n",
       "      <td>2625.158350</td>\n",
       "      <td>10</td>\n",
       "      <td>2845.184491</td>\n",
       "      <td>4129.189314</td>\n",
       "      <td>431</td>\n",
       "      <td>1976.394231</td>\n",
       "      <td>1431.158920</td>\n",
       "      <td>1480.980568</td>\n",
       "      <td>1480.980568</td>\n",
       "      <td>1480.980568</td>\n",
       "      <td>1629.287467</td>\n",
       "      <td>1480.980568</td>\n",
       "      <td>1480.980568</td>\n",
       "      <td>2263.556790</td>\n",
       "      <td>5657.115926</td>\n",
       "      <td>11</td>\n",
       "      <td>5</td>\n",
       "      <td>False</td>\n",
       "      <td>True</td>\n",
       "      <td>False</td>\n",
       "      <td>True</td>\n",
       "      <td>False</td>\n",
       "    </tr>\n",
       "    <tr>\n",
       "      <th>4</th>\n",
       "      <td>2.5</td>\n",
       "      <td>21</td>\n",
       "      <td>1281.544466</td>\n",
       "      <td>5</td>\n",
       "      <td>1271.418787</td>\n",
       "      <td>1299.049885</td>\n",
       "      <td>512</td>\n",
       "      <td>1976.394231</td>\n",
       "      <td>1431.158920</td>\n",
       "      <td>1480.980568</td>\n",
       "      <td>1480.980568</td>\n",
       "      <td>1411.139804</td>\n",
       "      <td>1483.169153</td>\n",
       "      <td>1480.980568</td>\n",
       "      <td>1552.498280</td>\n",
       "      <td>1496.650804</td>\n",
       "      <td>1480.980568</td>\n",
       "      <td>13</td>\n",
       "      <td>5</td>\n",
       "      <td>False</td>\n",
       "      <td>True</td>\n",
       "      <td>False</td>\n",
       "      <td>True</td>\n",
       "      <td>False</td>\n",
       "    </tr>\n",
       "  </tbody>\n",
       "</table>\n",
       "</div>"
      ],
      "text/plain": [
       "   average_rating  number_of_reviews        brand  avg_delivery_time_days  \\\n",
       "0             4.8                 40  1444.867614                      17   \n",
       "1             3.7                 31  2625.158350                      10   \n",
       "2             3.2                 26  1203.601184                       8   \n",
       "3             3.6                 30  2625.158350                      10   \n",
       "4             2.5                 21  1281.544466                       5   \n",
       "\n",
       "        seller  sub_category  fabrication_time       Sleeve      Pack Of  \\\n",
       "0  1484.968130   1299.049885                32  1976.394231  1431.158920   \n",
       "1  2845.184491   1996.485795               318  1480.980568  1431.158920   \n",
       "2  1219.220717   1197.636572               411  1480.980568  1480.980568   \n",
       "3  2845.184491   4129.189314               431  1976.394231  1431.158920   \n",
       "4  1271.418787   1299.049885               512  1976.394231  1431.158920   \n",
       "\n",
       "   Brand Color         Size          Fit      Pattern    Ideal For  \\\n",
       "0  1480.980568  1480.980568  1411.139804  1283.628944  1480.980568   \n",
       "1  1480.980568  1480.980568  2160.091736  1629.287467  1480.980568   \n",
       "2  1480.980568  1480.980568  1480.980568  1283.628944  1386.974560   \n",
       "3  1480.980568  1480.980568  1480.980568  1629.287467  1480.980568   \n",
       "4  1480.980568  1480.980568  1411.139804  1483.169153  1480.980568   \n",
       "\n",
       "   Suitable For       Fabric         Type  product_details_count  \\\n",
       "0   1552.498280  1496.650804  1480.980568                     14   \n",
       "1   1552.498280  1496.650804  2270.457512                     14   \n",
       "2   1480.980568  1256.351490  1206.847489                     15   \n",
       "3   1480.980568  2263.556790  5657.115926                     11   \n",
       "4   1552.498280  1496.650804  1480.980568                     13   \n",
       "\n",
       "   number_images  category_Bags, Wallets & Belts  \\\n",
       "0              4                           False   \n",
       "1              5                           False   \n",
       "2              4                           False   \n",
       "3              5                           False   \n",
       "4              5                           False   \n",
       "\n",
       "   category_Clothing and Accessories  category_Footwear  out_of_stock_False  \\\n",
       "0                               True              False                True   \n",
       "1                               True              False                True   \n",
       "2                               True              False                True   \n",
       "3                               True              False                True   \n",
       "4                               True              False                True   \n",
       "\n",
       "   out_of_stock_True  \n",
       "0              False  \n",
       "1              False  \n",
       "2              False  \n",
       "3              False  \n",
       "4              False  "
      ]
     },
     "execution_count": 179,
     "metadata": {},
     "output_type": "execute_result"
    }
   ],
   "source": [
    "X_test.head()"
   ]
  },
  {
   "cell_type": "code",
   "execution_count": 180,
   "id": "fa6fae4c-9e6e-4c42-98d3-2f476c2c863a",
   "metadata": {},
   "outputs": [],
   "source": [
    "X_test.columns = X_test.columns.map(lambda x: inflection.parameterize(x, separator='_'))"
   ]
  },
  {
   "cell_type": "code",
   "execution_count": 181,
   "id": "b18c205e-ecc0-477d-acbc-a03d4b8a87ae",
   "metadata": {},
   "outputs": [
    {
     "data": {
      "text/html": [
       "<div>\n",
       "<style scoped>\n",
       "    .dataframe tbody tr th:only-of-type {\n",
       "        vertical-align: middle;\n",
       "    }\n",
       "\n",
       "    .dataframe tbody tr th {\n",
       "        vertical-align: top;\n",
       "    }\n",
       "\n",
       "    .dataframe thead th {\n",
       "        text-align: right;\n",
       "    }\n",
       "</style>\n",
       "<table border=\"1\" class=\"dataframe\">\n",
       "  <thead>\n",
       "    <tr style=\"text-align: right;\">\n",
       "      <th></th>\n",
       "      <th>average_rating</th>\n",
       "      <th>number_of_reviews</th>\n",
       "      <th>brand</th>\n",
       "      <th>avg_delivery_time_days</th>\n",
       "      <th>seller</th>\n",
       "      <th>sub_category</th>\n",
       "      <th>fabrication_time</th>\n",
       "      <th>sleeve</th>\n",
       "      <th>pack_of</th>\n",
       "      <th>brand_color</th>\n",
       "      <th>size</th>\n",
       "      <th>fit</th>\n",
       "      <th>pattern</th>\n",
       "      <th>ideal_for</th>\n",
       "      <th>suitable_for</th>\n",
       "      <th>fabric</th>\n",
       "      <th>type</th>\n",
       "      <th>product_details_count</th>\n",
       "      <th>number_images</th>\n",
       "      <th>category_bags_wallets_belts</th>\n",
       "      <th>category_clothing_and_accessories</th>\n",
       "      <th>category_footwear</th>\n",
       "      <th>out_of_stock_false</th>\n",
       "      <th>out_of_stock_true</th>\n",
       "    </tr>\n",
       "  </thead>\n",
       "  <tbody>\n",
       "    <tr>\n",
       "      <th>0</th>\n",
       "      <td>4.8</td>\n",
       "      <td>40</td>\n",
       "      <td>1444.867614</td>\n",
       "      <td>17</td>\n",
       "      <td>1484.968130</td>\n",
       "      <td>1299.049885</td>\n",
       "      <td>32</td>\n",
       "      <td>1976.394231</td>\n",
       "      <td>1431.158920</td>\n",
       "      <td>1480.980568</td>\n",
       "      <td>1480.980568</td>\n",
       "      <td>1411.139804</td>\n",
       "      <td>1283.628944</td>\n",
       "      <td>1480.980568</td>\n",
       "      <td>1552.498280</td>\n",
       "      <td>1496.650804</td>\n",
       "      <td>1480.980568</td>\n",
       "      <td>14</td>\n",
       "      <td>4</td>\n",
       "      <td>False</td>\n",
       "      <td>True</td>\n",
       "      <td>False</td>\n",
       "      <td>True</td>\n",
       "      <td>False</td>\n",
       "    </tr>\n",
       "    <tr>\n",
       "      <th>1</th>\n",
       "      <td>3.7</td>\n",
       "      <td>31</td>\n",
       "      <td>2625.158350</td>\n",
       "      <td>10</td>\n",
       "      <td>2845.184491</td>\n",
       "      <td>1996.485795</td>\n",
       "      <td>318</td>\n",
       "      <td>1480.980568</td>\n",
       "      <td>1431.158920</td>\n",
       "      <td>1480.980568</td>\n",
       "      <td>1480.980568</td>\n",
       "      <td>2160.091736</td>\n",
       "      <td>1629.287467</td>\n",
       "      <td>1480.980568</td>\n",
       "      <td>1552.498280</td>\n",
       "      <td>1496.650804</td>\n",
       "      <td>2270.457512</td>\n",
       "      <td>14</td>\n",
       "      <td>5</td>\n",
       "      <td>False</td>\n",
       "      <td>True</td>\n",
       "      <td>False</td>\n",
       "      <td>True</td>\n",
       "      <td>False</td>\n",
       "    </tr>\n",
       "    <tr>\n",
       "      <th>2</th>\n",
       "      <td>3.2</td>\n",
       "      <td>26</td>\n",
       "      <td>1203.601184</td>\n",
       "      <td>8</td>\n",
       "      <td>1219.220717</td>\n",
       "      <td>1197.636572</td>\n",
       "      <td>411</td>\n",
       "      <td>1480.980568</td>\n",
       "      <td>1480.980568</td>\n",
       "      <td>1480.980568</td>\n",
       "      <td>1480.980568</td>\n",
       "      <td>1480.980568</td>\n",
       "      <td>1283.628944</td>\n",
       "      <td>1386.974560</td>\n",
       "      <td>1480.980568</td>\n",
       "      <td>1256.351490</td>\n",
       "      <td>1206.847489</td>\n",
       "      <td>15</td>\n",
       "      <td>4</td>\n",
       "      <td>False</td>\n",
       "      <td>True</td>\n",
       "      <td>False</td>\n",
       "      <td>True</td>\n",
       "      <td>False</td>\n",
       "    </tr>\n",
       "    <tr>\n",
       "      <th>3</th>\n",
       "      <td>3.6</td>\n",
       "      <td>30</td>\n",
       "      <td>2625.158350</td>\n",
       "      <td>10</td>\n",
       "      <td>2845.184491</td>\n",
       "      <td>4129.189314</td>\n",
       "      <td>431</td>\n",
       "      <td>1976.394231</td>\n",
       "      <td>1431.158920</td>\n",
       "      <td>1480.980568</td>\n",
       "      <td>1480.980568</td>\n",
       "      <td>1480.980568</td>\n",
       "      <td>1629.287467</td>\n",
       "      <td>1480.980568</td>\n",
       "      <td>1480.980568</td>\n",
       "      <td>2263.556790</td>\n",
       "      <td>5657.115926</td>\n",
       "      <td>11</td>\n",
       "      <td>5</td>\n",
       "      <td>False</td>\n",
       "      <td>True</td>\n",
       "      <td>False</td>\n",
       "      <td>True</td>\n",
       "      <td>False</td>\n",
       "    </tr>\n",
       "    <tr>\n",
       "      <th>4</th>\n",
       "      <td>2.5</td>\n",
       "      <td>21</td>\n",
       "      <td>1281.544466</td>\n",
       "      <td>5</td>\n",
       "      <td>1271.418787</td>\n",
       "      <td>1299.049885</td>\n",
       "      <td>512</td>\n",
       "      <td>1976.394231</td>\n",
       "      <td>1431.158920</td>\n",
       "      <td>1480.980568</td>\n",
       "      <td>1480.980568</td>\n",
       "      <td>1411.139804</td>\n",
       "      <td>1483.169153</td>\n",
       "      <td>1480.980568</td>\n",
       "      <td>1552.498280</td>\n",
       "      <td>1496.650804</td>\n",
       "      <td>1480.980568</td>\n",
       "      <td>13</td>\n",
       "      <td>5</td>\n",
       "      <td>False</td>\n",
       "      <td>True</td>\n",
       "      <td>False</td>\n",
       "      <td>True</td>\n",
       "      <td>False</td>\n",
       "    </tr>\n",
       "    <tr>\n",
       "      <th>...</th>\n",
       "      <td>...</td>\n",
       "      <td>...</td>\n",
       "      <td>...</td>\n",
       "      <td>...</td>\n",
       "      <td>...</td>\n",
       "      <td>...</td>\n",
       "      <td>...</td>\n",
       "      <td>...</td>\n",
       "      <td>...</td>\n",
       "      <td>...</td>\n",
       "      <td>...</td>\n",
       "      <td>...</td>\n",
       "      <td>...</td>\n",
       "      <td>...</td>\n",
       "      <td>...</td>\n",
       "      <td>...</td>\n",
       "      <td>...</td>\n",
       "      <td>...</td>\n",
       "      <td>...</td>\n",
       "      <td>...</td>\n",
       "      <td>...</td>\n",
       "      <td>...</td>\n",
       "      <td>...</td>\n",
       "      <td>...</td>\n",
       "    </tr>\n",
       "    <tr>\n",
       "      <th>5595</th>\n",
       "      <td>3.4</td>\n",
       "      <td>28</td>\n",
       "      <td>1619.560348</td>\n",
       "      <td>9</td>\n",
       "      <td>1619.560348</td>\n",
       "      <td>1299.049885</td>\n",
       "      <td>8</td>\n",
       "      <td>1174.084770</td>\n",
       "      <td>1619.722911</td>\n",
       "      <td>1523.405066</td>\n",
       "      <td>1152.364716</td>\n",
       "      <td>1303.335941</td>\n",
       "      <td>1492.073937</td>\n",
       "      <td>1386.974560</td>\n",
       "      <td>1552.498280</td>\n",
       "      <td>1496.650804</td>\n",
       "      <td>1133.166129</td>\n",
       "      <td>18</td>\n",
       "      <td>5</td>\n",
       "      <td>False</td>\n",
       "      <td>True</td>\n",
       "      <td>False</td>\n",
       "      <td>True</td>\n",
       "      <td>False</td>\n",
       "    </tr>\n",
       "    <tr>\n",
       "      <th>5596</th>\n",
       "      <td>4.2</td>\n",
       "      <td>35</td>\n",
       "      <td>1134.959592</td>\n",
       "      <td>13</td>\n",
       "      <td>2368.587894</td>\n",
       "      <td>1716.720207</td>\n",
       "      <td>72</td>\n",
       "      <td>1480.980568</td>\n",
       "      <td>1480.980568</td>\n",
       "      <td>1480.980568</td>\n",
       "      <td>1480.980568</td>\n",
       "      <td>1480.980568</td>\n",
       "      <td>1480.980568</td>\n",
       "      <td>1386.974560</td>\n",
       "      <td>1480.980568</td>\n",
       "      <td>1372.920886</td>\n",
       "      <td>1555.781684</td>\n",
       "      <td>5</td>\n",
       "      <td>5</td>\n",
       "      <td>False</td>\n",
       "      <td>True</td>\n",
       "      <td>False</td>\n",
       "      <td>True</td>\n",
       "      <td>False</td>\n",
       "    </tr>\n",
       "    <tr>\n",
       "      <th>5597</th>\n",
       "      <td>0.0</td>\n",
       "      <td>0</td>\n",
       "      <td>8599.000000</td>\n",
       "      <td>4</td>\n",
       "      <td>8599.000000</td>\n",
       "      <td>4129.189314</td>\n",
       "      <td>378</td>\n",
       "      <td>1976.394231</td>\n",
       "      <td>1431.158920</td>\n",
       "      <td>1480.980568</td>\n",
       "      <td>1480.980568</td>\n",
       "      <td>1480.980568</td>\n",
       "      <td>1483.169153</td>\n",
       "      <td>1480.980568</td>\n",
       "      <td>1480.980568</td>\n",
       "      <td>1714.500104</td>\n",
       "      <td>5657.115926</td>\n",
       "      <td>14</td>\n",
       "      <td>5</td>\n",
       "      <td>False</td>\n",
       "      <td>True</td>\n",
       "      <td>False</td>\n",
       "      <td>True</td>\n",
       "      <td>False</td>\n",
       "    </tr>\n",
       "    <tr>\n",
       "      <th>5598</th>\n",
       "      <td>3.3</td>\n",
       "      <td>27</td>\n",
       "      <td>1332.734634</td>\n",
       "      <td>8</td>\n",
       "      <td>1323.849810</td>\n",
       "      <td>1299.049885</td>\n",
       "      <td>524</td>\n",
       "      <td>1174.084770</td>\n",
       "      <td>1431.158920</td>\n",
       "      <td>1111.568247</td>\n",
       "      <td>1185.954086</td>\n",
       "      <td>1303.335941</td>\n",
       "      <td>1283.628944</td>\n",
       "      <td>1386.974560</td>\n",
       "      <td>1552.498280</td>\n",
       "      <td>1496.650804</td>\n",
       "      <td>1329.664942</td>\n",
       "      <td>14</td>\n",
       "      <td>4</td>\n",
       "      <td>False</td>\n",
       "      <td>True</td>\n",
       "      <td>False</td>\n",
       "      <td>True</td>\n",
       "      <td>False</td>\n",
       "    </tr>\n",
       "    <tr>\n",
       "      <th>5599</th>\n",
       "      <td>3.8</td>\n",
       "      <td>31</td>\n",
       "      <td>2687.333993</td>\n",
       "      <td>11</td>\n",
       "      <td>3026.832459</td>\n",
       "      <td>1299.049885</td>\n",
       "      <td>314</td>\n",
       "      <td>1174.084770</td>\n",
       "      <td>1431.158920</td>\n",
       "      <td>1077.631836</td>\n",
       "      <td>1152.364716</td>\n",
       "      <td>1303.335941</td>\n",
       "      <td>1629.287467</td>\n",
       "      <td>1386.974560</td>\n",
       "      <td>1552.498280</td>\n",
       "      <td>1496.650804</td>\n",
       "      <td>1329.664942</td>\n",
       "      <td>13</td>\n",
       "      <td>6</td>\n",
       "      <td>False</td>\n",
       "      <td>True</td>\n",
       "      <td>False</td>\n",
       "      <td>True</td>\n",
       "      <td>False</td>\n",
       "    </tr>\n",
       "  </tbody>\n",
       "</table>\n",
       "<p>5600 rows × 24 columns</p>\n",
       "</div>"
      ],
      "text/plain": [
       "      average_rating  number_of_reviews        brand  avg_delivery_time_days  \\\n",
       "0                4.8                 40  1444.867614                      17   \n",
       "1                3.7                 31  2625.158350                      10   \n",
       "2                3.2                 26  1203.601184                       8   \n",
       "3                3.6                 30  2625.158350                      10   \n",
       "4                2.5                 21  1281.544466                       5   \n",
       "...              ...                ...          ...                     ...   \n",
       "5595             3.4                 28  1619.560348                       9   \n",
       "5596             4.2                 35  1134.959592                      13   \n",
       "5597             0.0                  0  8599.000000                       4   \n",
       "5598             3.3                 27  1332.734634                       8   \n",
       "5599             3.8                 31  2687.333993                      11   \n",
       "\n",
       "           seller  sub_category  fabrication_time       sleeve      pack_of  \\\n",
       "0     1484.968130   1299.049885                32  1976.394231  1431.158920   \n",
       "1     2845.184491   1996.485795               318  1480.980568  1431.158920   \n",
       "2     1219.220717   1197.636572               411  1480.980568  1480.980568   \n",
       "3     2845.184491   4129.189314               431  1976.394231  1431.158920   \n",
       "4     1271.418787   1299.049885               512  1976.394231  1431.158920   \n",
       "...           ...           ...               ...          ...          ...   \n",
       "5595  1619.560348   1299.049885                 8  1174.084770  1619.722911   \n",
       "5596  2368.587894   1716.720207                72  1480.980568  1480.980568   \n",
       "5597  8599.000000   4129.189314               378  1976.394231  1431.158920   \n",
       "5598  1323.849810   1299.049885               524  1174.084770  1431.158920   \n",
       "5599  3026.832459   1299.049885               314  1174.084770  1431.158920   \n",
       "\n",
       "      brand_color         size          fit      pattern    ideal_for  \\\n",
       "0     1480.980568  1480.980568  1411.139804  1283.628944  1480.980568   \n",
       "1     1480.980568  1480.980568  2160.091736  1629.287467  1480.980568   \n",
       "2     1480.980568  1480.980568  1480.980568  1283.628944  1386.974560   \n",
       "3     1480.980568  1480.980568  1480.980568  1629.287467  1480.980568   \n",
       "4     1480.980568  1480.980568  1411.139804  1483.169153  1480.980568   \n",
       "...           ...          ...          ...          ...          ...   \n",
       "5595  1523.405066  1152.364716  1303.335941  1492.073937  1386.974560   \n",
       "5596  1480.980568  1480.980568  1480.980568  1480.980568  1386.974560   \n",
       "5597  1480.980568  1480.980568  1480.980568  1483.169153  1480.980568   \n",
       "5598  1111.568247  1185.954086  1303.335941  1283.628944  1386.974560   \n",
       "5599  1077.631836  1152.364716  1303.335941  1629.287467  1386.974560   \n",
       "\n",
       "      suitable_for       fabric         type  product_details_count  \\\n",
       "0      1552.498280  1496.650804  1480.980568                     14   \n",
       "1      1552.498280  1496.650804  2270.457512                     14   \n",
       "2      1480.980568  1256.351490  1206.847489                     15   \n",
       "3      1480.980568  2263.556790  5657.115926                     11   \n",
       "4      1552.498280  1496.650804  1480.980568                     13   \n",
       "...            ...          ...          ...                    ...   \n",
       "5595   1552.498280  1496.650804  1133.166129                     18   \n",
       "5596   1480.980568  1372.920886  1555.781684                      5   \n",
       "5597   1480.980568  1714.500104  5657.115926                     14   \n",
       "5598   1552.498280  1496.650804  1329.664942                     14   \n",
       "5599   1552.498280  1496.650804  1329.664942                     13   \n",
       "\n",
       "      number_images  category_bags_wallets_belts  \\\n",
       "0                 4                        False   \n",
       "1                 5                        False   \n",
       "2                 4                        False   \n",
       "3                 5                        False   \n",
       "4                 5                        False   \n",
       "...             ...                          ...   \n",
       "5595              5                        False   \n",
       "5596              5                        False   \n",
       "5597              5                        False   \n",
       "5598              4                        False   \n",
       "5599              6                        False   \n",
       "\n",
       "      category_clothing_and_accessories  category_footwear  \\\n",
       "0                                  True              False   \n",
       "1                                  True              False   \n",
       "2                                  True              False   \n",
       "3                                  True              False   \n",
       "4                                  True              False   \n",
       "...                                 ...                ...   \n",
       "5595                               True              False   \n",
       "5596                               True              False   \n",
       "5597                               True              False   \n",
       "5598                               True              False   \n",
       "5599                               True              False   \n",
       "\n",
       "      out_of_stock_false  out_of_stock_true  \n",
       "0                   True              False  \n",
       "1                   True              False  \n",
       "2                   True              False  \n",
       "3                   True              False  \n",
       "4                   True              False  \n",
       "...                  ...                ...  \n",
       "5595                True              False  \n",
       "5596                True              False  \n",
       "5597                True              False  \n",
       "5598                True              False  \n",
       "5599                True              False  \n",
       "\n",
       "[5600 rows x 24 columns]"
      ]
     },
     "execution_count": 181,
     "metadata": {},
     "output_type": "execute_result"
    }
   ],
   "source": [
    "X_test"
   ]
  },
  {
   "cell_type": "markdown",
   "id": "a9c22056-c86b-4107-b13c-51f43e6a0188",
   "metadata": {},
   "source": [
    "## Predict"
   ]
  },
  {
   "cell_type": "code",
   "execution_count": 182,
   "id": "b759347e-6685-4a5b-a8b3-74a5dd868ca9",
   "metadata": {},
   "outputs": [],
   "source": [
    "y_pred = best_model.predict(X_test)\n"
   ]
  },
  {
   "cell_type": "markdown",
   "id": "4618e920-e8ae-4c6a-956d-3346b5379241",
   "metadata": {},
   "source": [
    "## submissao"
   ]
  },
  {
   "cell_type": "code",
   "execution_count": 183,
   "id": "be1e1964-6900-4a3d-b2e0-b69340d0a3a0",
   "metadata": {},
   "outputs": [],
   "source": [
    "X_test = pd.read_json(path + 'test.json', orient='split')"
   ]
  },
  {
   "cell_type": "code",
   "execution_count": 184,
   "id": "0b41af49-2c87-4712-ac28-6413af1281f6",
   "metadata": {},
   "outputs": [],
   "source": [
    "X_test['actual_price'] = y_pred"
   ]
  },
  {
   "cell_type": "code",
   "execution_count": 160,
   "id": "53e5e80a-e47b-4830-b77d-6168a1fc5d47",
   "metadata": {},
   "outputs": [],
   "source": [
    "cols_sub = ['pid','actual_price']\n",
    "df_submission = X_test[cols_sub]"
   ]
  },
  {
   "cell_type": "code",
   "execution_count": 161,
   "id": "ce08685b-8d45-477e-8eb7-2a1cad2835dd",
   "metadata": {},
   "outputs": [],
   "source": [
    "df_submission.to_csv('quinta_submissao.csv', index=False)"
   ]
  },
  {
   "cell_type": "code",
   "execution_count": 162,
   "id": "bc2bb93a-e7e4-4285-b356-04509cef0324",
   "metadata": {},
   "outputs": [
    {
     "data": {
      "text/html": [
       "<div>\n",
       "<style scoped>\n",
       "    .dataframe tbody tr th:only-of-type {\n",
       "        vertical-align: middle;\n",
       "    }\n",
       "\n",
       "    .dataframe tbody tr th {\n",
       "        vertical-align: top;\n",
       "    }\n",
       "\n",
       "    .dataframe thead th {\n",
       "        text-align: right;\n",
       "    }\n",
       "</style>\n",
       "<table border=\"1\" class=\"dataframe\">\n",
       "  <thead>\n",
       "    <tr style=\"text-align: right;\">\n",
       "      <th></th>\n",
       "      <th>pid</th>\n",
       "      <th>actual_price</th>\n",
       "    </tr>\n",
       "  </thead>\n",
       "  <tbody>\n",
       "    <tr>\n",
       "      <th>0</th>\n",
       "      <td>SHTFDYZGEXPED7YS</td>\n",
       "      <td>1295.25</td>\n",
       "    </tr>\n",
       "    <tr>\n",
       "      <th>1</th>\n",
       "      <td>TROFM47EVWRYK7ZU</td>\n",
       "      <td>2556.22</td>\n",
       "    </tr>\n",
       "    <tr>\n",
       "      <th>2</th>\n",
       "      <td>FABFZAMPGDW3BKGX</td>\n",
       "      <td>3016.00</td>\n",
       "    </tr>\n",
       "    <tr>\n",
       "      <th>3</th>\n",
       "      <td>BZRFNMGPNBQTYHMG</td>\n",
       "      <td>6143.00</td>\n",
       "    </tr>\n",
       "    <tr>\n",
       "      <th>4</th>\n",
       "      <td>SHTFV5G6PZDQZEVZ</td>\n",
       "      <td>1164.01</td>\n",
       "    </tr>\n",
       "    <tr>\n",
       "      <th>...</th>\n",
       "      <td>...</td>\n",
       "      <td>...</td>\n",
       "    </tr>\n",
       "    <tr>\n",
       "      <th>5595</th>\n",
       "      <td>TSHFHHYFYUDABZAV</td>\n",
       "      <td>1508.96</td>\n",
       "    </tr>\n",
       "    <tr>\n",
       "      <th>5596</th>\n",
       "      <td>DHTFZ3WE9XGWEH3H</td>\n",
       "      <td>2290.13</td>\n",
       "    </tr>\n",
       "    <tr>\n",
       "      <th>5597</th>\n",
       "      <td>BZRFZQC6NXA5QV7F</td>\n",
       "      <td>7495.11</td>\n",
       "    </tr>\n",
       "    <tr>\n",
       "      <th>5598</th>\n",
       "      <td>TSHFMKUGFR6HSP7E</td>\n",
       "      <td>1114.11</td>\n",
       "    </tr>\n",
       "    <tr>\n",
       "      <th>5599</th>\n",
       "      <td>TSHEQFQ2FRKWAFZC</td>\n",
       "      <td>2159.82</td>\n",
       "    </tr>\n",
       "  </tbody>\n",
       "</table>\n",
       "<p>5600 rows × 2 columns</p>\n",
       "</div>"
      ],
      "text/plain": [
       "                   pid  actual_price\n",
       "0     SHTFDYZGEXPED7YS       1295.25\n",
       "1     TROFM47EVWRYK7ZU       2556.22\n",
       "2     FABFZAMPGDW3BKGX       3016.00\n",
       "3     BZRFNMGPNBQTYHMG       6143.00\n",
       "4     SHTFV5G6PZDQZEVZ       1164.01\n",
       "...                ...           ...\n",
       "5595  TSHFHHYFYUDABZAV       1508.96\n",
       "5596  DHTFZ3WE9XGWEH3H       2290.13\n",
       "5597  BZRFZQC6NXA5QV7F       7495.11\n",
       "5598  TSHFMKUGFR6HSP7E       1114.11\n",
       "5599  TSHEQFQ2FRKWAFZC       2159.82\n",
       "\n",
       "[5600 rows x 2 columns]"
      ]
     },
     "execution_count": 162,
     "metadata": {},
     "output_type": "execute_result"
    }
   ],
   "source": [
    "df_submission"
   ]
  },
  {
   "cell_type": "code",
   "execution_count": null,
   "id": "9d2a77d8-dfd8-4fbd-9d9a-4782758dfe8d",
   "metadata": {},
   "outputs": [],
   "source": []
  }
 ],
 "metadata": {
  "kernelspec": {
   "display_name": "Python 3 (ipykernel)",
   "language": "python",
   "name": "python3"
  },
  "language_info": {
   "codemirror_mode": {
    "name": "ipython",
    "version": 3
   },
   "file_extension": ".py",
   "mimetype": "text/x-python",
   "name": "python",
   "nbconvert_exporter": "python",
   "pygments_lexer": "ipython3",
   "version": "3.10.11"
  }
 },
 "nbformat": 4,
 "nbformat_minor": 5
}
