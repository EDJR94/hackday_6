{
 "cells": [
  {
   "cell_type": "markdown",
   "id": "1be62e80",
   "metadata": {
    "ExecuteTime": {
     "end_time": "2023-10-18T20:51:10.006918Z",
     "start_time": "2023-10-18T20:51:05.697416Z"
    }
   },
   "source": [
    "# Imports"
   ]
  },
  {
   "cell_type": "code",
   "execution_count": 1,
   "id": "0ea3121e",
   "metadata": {
    "ExecuteTime": {
     "end_time": "2023-10-20T00:59:34.330024Z",
     "start_time": "2023-10-20T00:59:28.099311Z"
    }
   },
   "outputs": [],
   "source": [
    "import pandas as pd\n",
    "import numpy as np\n",
    "from sklearn.model_selection import train_test_split\n",
    "from sklearn.linear_model import LinearRegression\n",
    "from sklearn import metrics as mt\n",
    "from category_encoders.count import CountEncoder\n",
    "import warnings\n",
    "\n",
    "warnings.filterwarnings('ignore')"
   ]
  },
  {
   "cell_type": "markdown",
   "id": "281ba13f",
   "metadata": {},
   "source": [
    "# Load Data"
   ]
  },
  {
   "cell_type": "code",
   "execution_count": 2,
   "id": "b5581833",
   "metadata": {
    "ExecuteTime": {
     "end_time": "2023-10-20T00:59:34.981047Z",
     "start_time": "2023-10-20T00:59:34.335028Z"
    }
   },
   "outputs": [],
   "source": [
    "train = pd.read_csv('train.csv')\n",
    "test = pd.read_csv('test.csv')"
   ]
  },
  {
   "cell_type": "code",
   "execution_count": 3,
   "id": "3a3d28e2",
   "metadata": {
    "ExecuteTime": {
     "end_time": "2023-10-20T00:59:35.013026Z",
     "start_time": "2023-10-20T00:59:34.985028Z"
    }
   },
   "outputs": [
    {
     "data": {
      "text/html": [
       "<div>\n",
       "<style scoped>\n",
       "    .dataframe tbody tr th:only-of-type {\n",
       "        vertical-align: middle;\n",
       "    }\n",
       "\n",
       "    .dataframe tbody tr th {\n",
       "        vertical-align: top;\n",
       "    }\n",
       "\n",
       "    .dataframe thead th {\n",
       "        text-align: right;\n",
       "    }\n",
       "</style>\n",
       "<table border=\"1\" class=\"dataframe\">\n",
       "  <thead>\n",
       "    <tr style=\"text-align: right;\">\n",
       "      <th></th>\n",
       "      <th>_id</th>\n",
       "      <th>average_rating</th>\n",
       "      <th>number_of_reviews</th>\n",
       "      <th>brand</th>\n",
       "      <th>category</th>\n",
       "      <th>crawled_at</th>\n",
       "      <th>description</th>\n",
       "      <th>images</th>\n",
       "      <th>out_of_stock</th>\n",
       "      <th>avg_delivery_time_days</th>\n",
       "      <th>pid</th>\n",
       "      <th>product_details</th>\n",
       "      <th>seller</th>\n",
       "      <th>sub_category</th>\n",
       "      <th>fabrication_time</th>\n",
       "      <th>title</th>\n",
       "      <th>actual_price</th>\n",
       "    </tr>\n",
       "  </thead>\n",
       "  <tbody>\n",
       "    <tr>\n",
       "      <th>0</th>\n",
       "      <td>53df9662-e500-569c-946e-0c8d215a72cd</td>\n",
       "      <td>3.2</td>\n",
       "      <td>26</td>\n",
       "      <td>East I</td>\n",
       "      <td>Clothing and Accessories</td>\n",
       "      <td>2021-02-10 21:17:28</td>\n",
       "      <td>Navy Blue Printed Boxers Has  An Inner  Elasti...</td>\n",
       "      <td>['https://rukminim1.flixcart.com/image/128/128...</td>\n",
       "      <td>False</td>\n",
       "      <td>8</td>\n",
       "      <td>BXRFTZF7JGX75DAW</td>\n",
       "      <td>[{'Color': 'Dark Blue'}, {'Fabric': 'Pure Cott...</td>\n",
       "      <td>ZIYAA</td>\n",
       "      <td>Innerwear and Swimwear</td>\n",
       "      <td>393</td>\n",
       "      <td>Printed Men Boxer  (Pack of 1)</td>\n",
       "      <td>849.0</td>\n",
       "    </tr>\n",
       "    <tr>\n",
       "      <th>1</th>\n",
       "      <td>d0142842-84f7-537d-a06f-d85b76488a5f</td>\n",
       "      <td>4.0</td>\n",
       "      <td>33</td>\n",
       "      <td>dream o</td>\n",
       "      <td>Clothing and Accessories</td>\n",
       "      <td>2021-02-11 01:02:46</td>\n",
       "      <td>smiley printed tshirt on round neck cotton tshirt</td>\n",
       "      <td>['https://rukminim1.flixcart.com/image/128/128...</td>\n",
       "      <td>False</td>\n",
       "      <td>12</td>\n",
       "      <td>TSHFWQM96UHR6A4Q</td>\n",
       "      <td>[{'Type': 'Round Neck'}, {'Sleeve': 'Short Sle...</td>\n",
       "      <td>Dream Onn Creations</td>\n",
       "      <td>Topwear</td>\n",
       "      <td>587</td>\n",
       "      <td>Printed Men Round Neck Orange T-Shirt</td>\n",
       "      <td>699.0</td>\n",
       "    </tr>\n",
       "    <tr>\n",
       "      <th>2</th>\n",
       "      <td>79c8f0d7-30b1-5dd4-9f2f-2fe97782b027</td>\n",
       "      <td>3.9</td>\n",
       "      <td>32</td>\n",
       "      <td>Free Authori</td>\n",
       "      <td>Clothing and Accessories</td>\n",
       "      <td>2021-02-11 00:43:37</td>\n",
       "      <td>Free Authority Presents this Crew Neck Yellow ...</td>\n",
       "      <td>['https://rukminim1.flixcart.com/image/128/128...</td>\n",
       "      <td>False</td>\n",
       "      <td>11</td>\n",
       "      <td>SWSFWCXH2WF6ZYRB</td>\n",
       "      <td>[{'Color': 'Yellow'}, {'Fabric': 'Polycotton'}...</td>\n",
       "      <td>BioworldMerchandising</td>\n",
       "      <td>Winter Wear</td>\n",
       "      <td>193</td>\n",
       "      <td>Full Sleeve Graphic Print Men Sweatshirt</td>\n",
       "      <td>1499.0</td>\n",
       "    </tr>\n",
       "    <tr>\n",
       "      <th>3</th>\n",
       "      <td>0531c28c-7c50-5fbd-9ce3-a7cae3243ad5</td>\n",
       "      <td>3.8</td>\n",
       "      <td>31</td>\n",
       "      <td>HUMBE</td>\n",
       "      <td>Clothing and Accessories</td>\n",
       "      <td>2021-02-10 21:22:10</td>\n",
       "      <td>Cotton Blend FabricCollar / Polo Neck White &amp; ...</td>\n",
       "      <td>['https://rukminim1.flixcart.com/image/128/128...</td>\n",
       "      <td>False</td>\n",
       "      <td>11</td>\n",
       "      <td>TSHFHQH3HKDAGGK9</td>\n",
       "      <td>[{'Type': 'Polo Neck'}, {'Sleeve': 'Short Slee...</td>\n",
       "      <td>HUMBERT</td>\n",
       "      <td>Topwear</td>\n",
       "      <td>482</td>\n",
       "      <td>Solid Men Polo Neck Light Blue, White T-Shirt ...</td>\n",
       "      <td>1699.0</td>\n",
       "    </tr>\n",
       "    <tr>\n",
       "      <th>4</th>\n",
       "      <td>d604baad-472e-5c18-86a3-7b46d4a890c2</td>\n",
       "      <td>2.4</td>\n",
       "      <td>20</td>\n",
       "      <td>Rose We</td>\n",
       "      <td>Clothing and Accessories</td>\n",
       "      <td>2021-02-10 23:36:36</td>\n",
       "      <td>undefined</td>\n",
       "      <td>['https://rukminim1.flixcart.com/image/128/128...</td>\n",
       "      <td>False</td>\n",
       "      <td>5</td>\n",
       "      <td>TSHFW9CJZSYUU6UX</td>\n",
       "      <td>[{'Type': 'Round Neck'}, {'Sleeve': 'Short Sle...</td>\n",
       "      <td>Rupalcollectionjaipur</td>\n",
       "      <td>Topwear</td>\n",
       "      <td>126</td>\n",
       "      <td>Printed Men Round Neck White T-Shirt</td>\n",
       "      <td>599.0</td>\n",
       "    </tr>\n",
       "  </tbody>\n",
       "</table>\n",
       "</div>"
      ],
      "text/plain": [
       "                                    _id  average_rating  number_of_reviews  \\\n",
       "0  53df9662-e500-569c-946e-0c8d215a72cd             3.2                 26   \n",
       "1  d0142842-84f7-537d-a06f-d85b76488a5f             4.0                 33   \n",
       "2  79c8f0d7-30b1-5dd4-9f2f-2fe97782b027             3.9                 32   \n",
       "3  0531c28c-7c50-5fbd-9ce3-a7cae3243ad5             3.8                 31   \n",
       "4  d604baad-472e-5c18-86a3-7b46d4a890c2             2.4                 20   \n",
       "\n",
       "          brand                  category           crawled_at  \\\n",
       "0        East I  Clothing and Accessories  2021-02-10 21:17:28   \n",
       "1       dream o  Clothing and Accessories  2021-02-11 01:02:46   \n",
       "2  Free Authori  Clothing and Accessories  2021-02-11 00:43:37   \n",
       "3         HUMBE  Clothing and Accessories  2021-02-10 21:22:10   \n",
       "4       Rose We  Clothing and Accessories  2021-02-10 23:36:36   \n",
       "\n",
       "                                         description  \\\n",
       "0  Navy Blue Printed Boxers Has  An Inner  Elasti...   \n",
       "1  smiley printed tshirt on round neck cotton tshirt   \n",
       "2  Free Authority Presents this Crew Neck Yellow ...   \n",
       "3  Cotton Blend FabricCollar / Polo Neck White & ...   \n",
       "4                                          undefined   \n",
       "\n",
       "                                              images  out_of_stock  \\\n",
       "0  ['https://rukminim1.flixcart.com/image/128/128...         False   \n",
       "1  ['https://rukminim1.flixcart.com/image/128/128...         False   \n",
       "2  ['https://rukminim1.flixcart.com/image/128/128...         False   \n",
       "3  ['https://rukminim1.flixcart.com/image/128/128...         False   \n",
       "4  ['https://rukminim1.flixcart.com/image/128/128...         False   \n",
       "\n",
       "   avg_delivery_time_days               pid  \\\n",
       "0                       8  BXRFTZF7JGX75DAW   \n",
       "1                      12  TSHFWQM96UHR6A4Q   \n",
       "2                      11  SWSFWCXH2WF6ZYRB   \n",
       "3                      11  TSHFHQH3HKDAGGK9   \n",
       "4                       5  TSHFW9CJZSYUU6UX   \n",
       "\n",
       "                                     product_details                 seller  \\\n",
       "0  [{'Color': 'Dark Blue'}, {'Fabric': 'Pure Cott...                  ZIYAA   \n",
       "1  [{'Type': 'Round Neck'}, {'Sleeve': 'Short Sle...    Dream Onn Creations   \n",
       "2  [{'Color': 'Yellow'}, {'Fabric': 'Polycotton'}...  BioworldMerchandising   \n",
       "3  [{'Type': 'Polo Neck'}, {'Sleeve': 'Short Slee...                HUMBERT   \n",
       "4  [{'Type': 'Round Neck'}, {'Sleeve': 'Short Sle...  Rupalcollectionjaipur   \n",
       "\n",
       "             sub_category  fabrication_time  \\\n",
       "0  Innerwear and Swimwear               393   \n",
       "1                 Topwear               587   \n",
       "2             Winter Wear               193   \n",
       "3                 Topwear               482   \n",
       "4                 Topwear               126   \n",
       "\n",
       "                                               title  actual_price  \n",
       "0                     Printed Men Boxer  (Pack of 1)         849.0  \n",
       "1              Printed Men Round Neck Orange T-Shirt         699.0  \n",
       "2           Full Sleeve Graphic Print Men Sweatshirt        1499.0  \n",
       "3  Solid Men Polo Neck Light Blue, White T-Shirt ...        1699.0  \n",
       "4               Printed Men Round Neck White T-Shirt         599.0  "
      ]
     },
     "execution_count": 3,
     "metadata": {},
     "output_type": "execute_result"
    }
   ],
   "source": [
    "train.head()"
   ]
  },
  {
   "cell_type": "code",
   "execution_count": 4,
   "id": "95bb50a2",
   "metadata": {
    "ExecuteTime": {
     "end_time": "2023-10-20T00:59:35.155026Z",
     "start_time": "2023-10-20T00:59:35.016027Z"
    }
   },
   "outputs": [
    {
     "data": {
      "text/html": [
       "<div>\n",
       "<style scoped>\n",
       "    .dataframe tbody tr th:only-of-type {\n",
       "        vertical-align: middle;\n",
       "    }\n",
       "\n",
       "    .dataframe tbody tr th {\n",
       "        vertical-align: top;\n",
       "    }\n",
       "\n",
       "    .dataframe thead th {\n",
       "        text-align: right;\n",
       "    }\n",
       "</style>\n",
       "<table border=\"1\" class=\"dataframe\">\n",
       "  <thead>\n",
       "    <tr style=\"text-align: right;\">\n",
       "      <th></th>\n",
       "      <th>_id</th>\n",
       "      <th>average_rating</th>\n",
       "      <th>number_of_reviews</th>\n",
       "      <th>brand</th>\n",
       "      <th>category</th>\n",
       "      <th>crawled_at</th>\n",
       "      <th>description</th>\n",
       "      <th>images</th>\n",
       "      <th>out_of_stock</th>\n",
       "      <th>avg_delivery_time_days</th>\n",
       "      <th>pid</th>\n",
       "      <th>product_details</th>\n",
       "      <th>seller</th>\n",
       "      <th>sub_category</th>\n",
       "      <th>fabrication_time</th>\n",
       "      <th>title</th>\n",
       "    </tr>\n",
       "  </thead>\n",
       "  <tbody>\n",
       "    <tr>\n",
       "      <th>0</th>\n",
       "      <td>35d28961-170f-515d-90d4-55ee978a8afa</td>\n",
       "      <td>4.8</td>\n",
       "      <td>40</td>\n",
       "      <td>Mo</td>\n",
       "      <td>Clothing and Accessories</td>\n",
       "      <td>2021-02-10 21:18:47</td>\n",
       "      <td>Accentuate your formal wardrobe by buying this...</td>\n",
       "      <td>['https://rukminim1.flixcart.com/image/128/128...</td>\n",
       "      <td>False</td>\n",
       "      <td>17</td>\n",
       "      <td>SHTFDYZGEXPED7YS</td>\n",
       "      <td>[{'Pack of': '1'}, {'Model Name': 'Mods Slim f...</td>\n",
       "      <td>KKSONS</td>\n",
       "      <td>Topwear</td>\n",
       "      <td>295</td>\n",
       "      <td>Men Slim Fit Printed Button Down Collar Casual...</td>\n",
       "    </tr>\n",
       "    <tr>\n",
       "      <th>1</th>\n",
       "      <td>5089618f-7eec-571b-84b6-41c3b43a2ed4</td>\n",
       "      <td>3.7</td>\n",
       "      <td>31</td>\n",
       "      <td>True Bl</td>\n",
       "      <td>Clothing and Accessories</td>\n",
       "      <td>2021-02-10 22:12:20</td>\n",
       "      <td>undefined</td>\n",
       "      <td>['https://rukminim1.flixcart.com/image/128/128...</td>\n",
       "      <td>False</td>\n",
       "      <td>10</td>\n",
       "      <td>TROFM47EVWRYK7ZU</td>\n",
       "      <td>[{'Fit': 'Slim Fit'}, {'Occasion': 'Casual'}, ...</td>\n",
       "      <td>KAPSONSRETAILPVTLTD</td>\n",
       "      <td>Bottomwear</td>\n",
       "      <td>304</td>\n",
       "      <td>Slim Fit Men Brown Cotton Blend Trousers</td>\n",
       "    </tr>\n",
       "    <tr>\n",
       "      <th>2</th>\n",
       "      <td>84716375-2ea3-5376-bca1-ecef76b0aa87</td>\n",
       "      <td>3.2</td>\n",
       "      <td>26</td>\n",
       "      <td>vims rai</td>\n",
       "      <td>Clothing and Accessories</td>\n",
       "      <td>2021-02-11 01:16:36</td>\n",
       "      <td>undefined</td>\n",
       "      <td>['https://rukminim1.flixcart.com/image/128/128...</td>\n",
       "      <td>False</td>\n",
       "      <td>8</td>\n",
       "      <td>FABFZAMPGDW3BKGX</td>\n",
       "      <td>[{'Type': 'Shirt Fabric'}, {'Sales Package': '...</td>\n",
       "      <td>WHITE SKY</td>\n",
       "      <td>Fabrics</td>\n",
       "      <td>454</td>\n",
       "      <td>Rayon Printed Shirt Fabric  (Unstitched)</td>\n",
       "    </tr>\n",
       "    <tr>\n",
       "      <th>3</th>\n",
       "      <td>84120873-2b67-5f2c-9074-803e52e278f7</td>\n",
       "      <td>3.6</td>\n",
       "      <td>30</td>\n",
       "      <td>True Bl</td>\n",
       "      <td>Clothing and Accessories</td>\n",
       "      <td>2021-02-10 22:21:32</td>\n",
       "      <td>undefined</td>\n",
       "      <td>['https://rukminim1.flixcart.com/image/128/128...</td>\n",
       "      <td>False</td>\n",
       "      <td>10</td>\n",
       "      <td>BZRFNMGPNBQTYHMG</td>\n",
       "      <td>[{'Color': 'Blue'}, {'Fabric': 'Polyester'}, {...</td>\n",
       "      <td>KAPSONSRETAILPVTLTD</td>\n",
       "      <td>Blazers, Waistcoats and Suits</td>\n",
       "      <td>226</td>\n",
       "      <td>Solid Single Breasted Formal Men Full Sleeve B...</td>\n",
       "    </tr>\n",
       "    <tr>\n",
       "      <th>4</th>\n",
       "      <td>96238f84-3bb8-5ec1-b2f4-fe481ba35faa</td>\n",
       "      <td>2.5</td>\n",
       "      <td>21</td>\n",
       "      <td>ECKO Unl</td>\n",
       "      <td>Clothing and Accessories</td>\n",
       "      <td>2021-02-10 22:32:00</td>\n",
       "      <td>ECKO Unltd YD CHECK  Cotton Woven Slim Fit IND...</td>\n",
       "      <td>['https://rukminim1.flixcart.com/image/128/128...</td>\n",
       "      <td>False</td>\n",
       "      <td>5</td>\n",
       "      <td>SHTFV5G6PZDQZEVZ</td>\n",
       "      <td>[{'Pack of': '1'}, {'Style Code': 'EKSH001497'...</td>\n",
       "      <td>SandSMarketing</td>\n",
       "      <td>Topwear</td>\n",
       "      <td>524</td>\n",
       "      <td>Men Slim Fit Checkered Cut Away Collar Casual ...</td>\n",
       "    </tr>\n",
       "  </tbody>\n",
       "</table>\n",
       "</div>"
      ],
      "text/plain": [
       "                                    _id  average_rating  number_of_reviews  \\\n",
       "0  35d28961-170f-515d-90d4-55ee978a8afa             4.8                 40   \n",
       "1  5089618f-7eec-571b-84b6-41c3b43a2ed4             3.7                 31   \n",
       "2  84716375-2ea3-5376-bca1-ecef76b0aa87             3.2                 26   \n",
       "3  84120873-2b67-5f2c-9074-803e52e278f7             3.6                 30   \n",
       "4  96238f84-3bb8-5ec1-b2f4-fe481ba35faa             2.5                 21   \n",
       "\n",
       "      brand                  category           crawled_at  \\\n",
       "0        Mo  Clothing and Accessories  2021-02-10 21:18:47   \n",
       "1   True Bl  Clothing and Accessories  2021-02-10 22:12:20   \n",
       "2  vims rai  Clothing and Accessories  2021-02-11 01:16:36   \n",
       "3   True Bl  Clothing and Accessories  2021-02-10 22:21:32   \n",
       "4  ECKO Unl  Clothing and Accessories  2021-02-10 22:32:00   \n",
       "\n",
       "                                         description  \\\n",
       "0  Accentuate your formal wardrobe by buying this...   \n",
       "1                                          undefined   \n",
       "2                                          undefined   \n",
       "3                                          undefined   \n",
       "4  ECKO Unltd YD CHECK  Cotton Woven Slim Fit IND...   \n",
       "\n",
       "                                              images  out_of_stock  \\\n",
       "0  ['https://rukminim1.flixcart.com/image/128/128...         False   \n",
       "1  ['https://rukminim1.flixcart.com/image/128/128...         False   \n",
       "2  ['https://rukminim1.flixcart.com/image/128/128...         False   \n",
       "3  ['https://rukminim1.flixcart.com/image/128/128...         False   \n",
       "4  ['https://rukminim1.flixcart.com/image/128/128...         False   \n",
       "\n",
       "   avg_delivery_time_days               pid  \\\n",
       "0                      17  SHTFDYZGEXPED7YS   \n",
       "1                      10  TROFM47EVWRYK7ZU   \n",
       "2                       8  FABFZAMPGDW3BKGX   \n",
       "3                      10  BZRFNMGPNBQTYHMG   \n",
       "4                       5  SHTFV5G6PZDQZEVZ   \n",
       "\n",
       "                                     product_details               seller  \\\n",
       "0  [{'Pack of': '1'}, {'Model Name': 'Mods Slim f...               KKSONS   \n",
       "1  [{'Fit': 'Slim Fit'}, {'Occasion': 'Casual'}, ...  KAPSONSRETAILPVTLTD   \n",
       "2  [{'Type': 'Shirt Fabric'}, {'Sales Package': '...            WHITE SKY   \n",
       "3  [{'Color': 'Blue'}, {'Fabric': 'Polyester'}, {...  KAPSONSRETAILPVTLTD   \n",
       "4  [{'Pack of': '1'}, {'Style Code': 'EKSH001497'...       SandSMarketing   \n",
       "\n",
       "                    sub_category  fabrication_time  \\\n",
       "0                        Topwear               295   \n",
       "1                     Bottomwear               304   \n",
       "2                        Fabrics               454   \n",
       "3  Blazers, Waistcoats and Suits               226   \n",
       "4                        Topwear               524   \n",
       "\n",
       "                                               title  \n",
       "0  Men Slim Fit Printed Button Down Collar Casual...  \n",
       "1           Slim Fit Men Brown Cotton Blend Trousers  \n",
       "2           Rayon Printed Shirt Fabric  (Unstitched)  \n",
       "3  Solid Single Breasted Formal Men Full Sleeve B...  \n",
       "4  Men Slim Fit Checkered Cut Away Collar Casual ...  "
      ]
     },
     "execution_count": 4,
     "metadata": {},
     "output_type": "execute_result"
    }
   ],
   "source": [
    "test.head()"
   ]
  },
  {
   "cell_type": "markdown",
   "id": "2434ee91",
   "metadata": {},
   "source": [
    "# Feature Selection"
   ]
  },
  {
   "cell_type": "code",
   "execution_count": 5,
   "id": "50ec645e",
   "metadata": {
    "ExecuteTime": {
     "end_time": "2023-10-20T00:59:35.282030Z",
     "start_time": "2023-10-20T00:59:35.159028Z"
    }
   },
   "outputs": [],
   "source": [
    "cols_train = train.columns\n",
    "cols_test = test.columns"
   ]
  },
  {
   "cell_type": "code",
   "execution_count": 6,
   "id": "42b74951",
   "metadata": {
    "ExecuteTime": {
     "end_time": "2023-10-20T00:59:35.425026Z",
     "start_time": "2023-10-20T00:59:35.286029Z"
    }
   },
   "outputs": [],
   "source": [
    "df_train = train[cols_train]"
   ]
  },
  {
   "cell_type": "markdown",
   "id": "a0266c68",
   "metadata": {},
   "source": [
    "# Data Preparation"
   ]
  },
  {
   "cell_type": "code",
   "execution_count": 7,
   "id": "36c3455c",
   "metadata": {
    "ExecuteTime": {
     "end_time": "2023-10-20T00:59:35.536025Z",
     "start_time": "2023-10-20T00:59:35.428026Z"
    }
   },
   "outputs": [],
   "source": [
    "# Selecionando colunas categóricas para encoding\n",
    "X_train_enc = df_train.drop(['pid', 'actual_price'], axis = 1)\n",
    "cols_category_train = X_train_enc.select_dtypes(include = ['object']).columns"
   ]
  },
  {
   "cell_type": "code",
   "execution_count": 8,
   "id": "cb05f551",
   "metadata": {
    "ExecuteTime": {
     "end_time": "2023-10-20T00:59:36.316026Z",
     "start_time": "2023-10-20T00:59:35.539028Z"
    }
   },
   "outputs": [],
   "source": [
    "# Encoder base e fill NaNs\n",
    "count = CountEncoder(cols = cols_category_train, return_df = True)\n",
    "X_train_enc = count.fit_transform(X_train_enc)\n",
    "X_train_enc = X_train_enc.fillna(0)"
   ]
  },
  {
   "cell_type": "code",
   "execution_count": 9,
   "id": "2d74bdda",
   "metadata": {
    "ExecuteTime": {
     "end_time": "2023-10-20T00:59:36.348027Z",
     "start_time": "2023-10-20T00:59:36.319027Z"
    }
   },
   "outputs": [
    {
     "data": {
      "text/html": [
       "<div>\n",
       "<style scoped>\n",
       "    .dataframe tbody tr th:only-of-type {\n",
       "        vertical-align: middle;\n",
       "    }\n",
       "\n",
       "    .dataframe tbody tr th {\n",
       "        vertical-align: top;\n",
       "    }\n",
       "\n",
       "    .dataframe thead th {\n",
       "        text-align: right;\n",
       "    }\n",
       "</style>\n",
       "<table border=\"1\" class=\"dataframe\">\n",
       "  <thead>\n",
       "    <tr style=\"text-align: right;\">\n",
       "      <th></th>\n",
       "      <th>_id</th>\n",
       "      <th>average_rating</th>\n",
       "      <th>number_of_reviews</th>\n",
       "      <th>brand</th>\n",
       "      <th>category</th>\n",
       "      <th>crawled_at</th>\n",
       "      <th>description</th>\n",
       "      <th>images</th>\n",
       "      <th>out_of_stock</th>\n",
       "      <th>avg_delivery_time_days</th>\n",
       "      <th>product_details</th>\n",
       "      <th>seller</th>\n",
       "      <th>sub_category</th>\n",
       "      <th>fabrication_time</th>\n",
       "      <th>title</th>\n",
       "      <th>actual_price</th>\n",
       "    </tr>\n",
       "  </thead>\n",
       "  <tbody>\n",
       "    <tr>\n",
       "      <th>0</th>\n",
       "      <td>1</td>\n",
       "      <td>3.2</td>\n",
       "      <td>26</td>\n",
       "      <td>85</td>\n",
       "      <td>22482</td>\n",
       "      <td>2</td>\n",
       "      <td>5</td>\n",
       "      <td>1</td>\n",
       "      <td>False</td>\n",
       "      <td>8</td>\n",
       "      <td>1</td>\n",
       "      <td>85</td>\n",
       "      <td>1275</td>\n",
       "      <td>393</td>\n",
       "      <td>134</td>\n",
       "      <td>849.0</td>\n",
       "    </tr>\n",
       "    <tr>\n",
       "      <th>1</th>\n",
       "      <td>1</td>\n",
       "      <td>4.0</td>\n",
       "      <td>33</td>\n",
       "      <td>57</td>\n",
       "      <td>22482</td>\n",
       "      <td>2</td>\n",
       "      <td>9</td>\n",
       "      <td>1</td>\n",
       "      <td>False</td>\n",
       "      <td>12</td>\n",
       "      <td>1</td>\n",
       "      <td>56</td>\n",
       "      <td>12874</td>\n",
       "      <td>587</td>\n",
       "      <td>26</td>\n",
       "      <td>699.0</td>\n",
       "    </tr>\n",
       "    <tr>\n",
       "      <th>2</th>\n",
       "      <td>1</td>\n",
       "      <td>3.9</td>\n",
       "      <td>32</td>\n",
       "      <td>668</td>\n",
       "      <td>22482</td>\n",
       "      <td>1</td>\n",
       "      <td>3</td>\n",
       "      <td>1</td>\n",
       "      <td>False</td>\n",
       "      <td>11</td>\n",
       "      <td>1</td>\n",
       "      <td>651</td>\n",
       "      <td>2172</td>\n",
       "      <td>193</td>\n",
       "      <td>180</td>\n",
       "      <td>1499.0</td>\n",
       "    </tr>\n",
       "    <tr>\n",
       "      <th>3</th>\n",
       "      <td>1</td>\n",
       "      <td>3.8</td>\n",
       "      <td>31</td>\n",
       "      <td>141</td>\n",
       "      <td>22482</td>\n",
       "      <td>2</td>\n",
       "      <td>1</td>\n",
       "      <td>1</td>\n",
       "      <td>False</td>\n",
       "      <td>11</td>\n",
       "      <td>1</td>\n",
       "      <td>140</td>\n",
       "      <td>12874</td>\n",
       "      <td>482</td>\n",
       "      <td>1</td>\n",
       "      <td>1699.0</td>\n",
       "    </tr>\n",
       "    <tr>\n",
       "      <th>4</th>\n",
       "      <td>1</td>\n",
       "      <td>2.4</td>\n",
       "      <td>20</td>\n",
       "      <td>120</td>\n",
       "      <td>22482</td>\n",
       "      <td>2</td>\n",
       "      <td>9466</td>\n",
       "      <td>1</td>\n",
       "      <td>False</td>\n",
       "      <td>5</td>\n",
       "      <td>1</td>\n",
       "      <td>83</td>\n",
       "      <td>12874</td>\n",
       "      <td>126</td>\n",
       "      <td>552</td>\n",
       "      <td>599.0</td>\n",
       "    </tr>\n",
       "  </tbody>\n",
       "</table>\n",
       "</div>"
      ],
      "text/plain": [
       "   _id  average_rating  number_of_reviews  brand  category  crawled_at  \\\n",
       "0    1             3.2                 26     85     22482           2   \n",
       "1    1             4.0                 33     57     22482           2   \n",
       "2    1             3.9                 32    668     22482           1   \n",
       "3    1             3.8                 31    141     22482           2   \n",
       "4    1             2.4                 20    120     22482           2   \n",
       "\n",
       "   description  images  out_of_stock  avg_delivery_time_days  product_details  \\\n",
       "0            5       1         False                       8                1   \n",
       "1            9       1         False                      12                1   \n",
       "2            3       1         False                      11                1   \n",
       "3            1       1         False                      11                1   \n",
       "4         9466       1         False                       5                1   \n",
       "\n",
       "   seller  sub_category  fabrication_time  title  actual_price  \n",
       "0      85          1275               393    134         849.0  \n",
       "1      56         12874               587     26         699.0  \n",
       "2     651          2172               193    180        1499.0  \n",
       "3     140         12874               482      1        1699.0  \n",
       "4      83         12874               126    552         599.0  "
      ]
     },
     "execution_count": 9,
     "metadata": {},
     "output_type": "execute_result"
    }
   ],
   "source": [
    "# Concat X e y\n",
    "y_train_enc = df_train[['actual_price']]\n",
    "y_train_enc = y_train_enc.fillna(0)\n",
    "train_enc = pd.concat([X_train_enc, y_train_enc], axis = 1)\n",
    "train_enc.head()"
   ]
  },
  {
   "cell_type": "markdown",
   "id": "afc535ae",
   "metadata": {},
   "source": [
    "# Machine Learning"
   ]
  },
  {
   "cell_type": "code",
   "execution_count": 10,
   "id": "44963238",
   "metadata": {
    "ExecuteTime": {
     "end_time": "2023-10-20T00:59:36.475024Z",
     "start_time": "2023-10-20T00:59:36.351028Z"
    }
   },
   "outputs": [],
   "source": [
    "# Separando features e label\n",
    "X = train_enc.drop(['actual_price'], axis = 1).values\n",
    "y = train_enc['actual_price'].values.ravel()"
   ]
  },
  {
   "cell_type": "code",
   "execution_count": 11,
   "id": "4554815a",
   "metadata": {
    "ExecuteTime": {
     "end_time": "2023-10-20T00:59:37.048027Z",
     "start_time": "2023-10-20T00:59:36.480027Z"
    }
   },
   "outputs": [
    {
     "data": {
      "text/html": [
       "<style>#sk-container-id-1 {color: black;background-color: white;}#sk-container-id-1 pre{padding: 0;}#sk-container-id-1 div.sk-toggleable {background-color: white;}#sk-container-id-1 label.sk-toggleable__label {cursor: pointer;display: block;width: 100%;margin-bottom: 0;padding: 0.3em;box-sizing: border-box;text-align: center;}#sk-container-id-1 label.sk-toggleable__label-arrow:before {content: \"▸\";float: left;margin-right: 0.25em;color: #696969;}#sk-container-id-1 label.sk-toggleable__label-arrow:hover:before {color: black;}#sk-container-id-1 div.sk-estimator:hover label.sk-toggleable__label-arrow:before {color: black;}#sk-container-id-1 div.sk-toggleable__content {max-height: 0;max-width: 0;overflow: hidden;text-align: left;background-color: #f0f8ff;}#sk-container-id-1 div.sk-toggleable__content pre {margin: 0.2em;color: black;border-radius: 0.25em;background-color: #f0f8ff;}#sk-container-id-1 input.sk-toggleable__control:checked~div.sk-toggleable__content {max-height: 200px;max-width: 100%;overflow: auto;}#sk-container-id-1 input.sk-toggleable__control:checked~label.sk-toggleable__label-arrow:before {content: \"▾\";}#sk-container-id-1 div.sk-estimator input.sk-toggleable__control:checked~label.sk-toggleable__label {background-color: #d4ebff;}#sk-container-id-1 div.sk-label input.sk-toggleable__control:checked~label.sk-toggleable__label {background-color: #d4ebff;}#sk-container-id-1 input.sk-hidden--visually {border: 0;clip: rect(1px 1px 1px 1px);clip: rect(1px, 1px, 1px, 1px);height: 1px;margin: -1px;overflow: hidden;padding: 0;position: absolute;width: 1px;}#sk-container-id-1 div.sk-estimator {font-family: monospace;background-color: #f0f8ff;border: 1px dotted black;border-radius: 0.25em;box-sizing: border-box;margin-bottom: 0.5em;}#sk-container-id-1 div.sk-estimator:hover {background-color: #d4ebff;}#sk-container-id-1 div.sk-parallel-item::after {content: \"\";width: 100%;border-bottom: 1px solid gray;flex-grow: 1;}#sk-container-id-1 div.sk-label:hover label.sk-toggleable__label {background-color: #d4ebff;}#sk-container-id-1 div.sk-serial::before {content: \"\";position: absolute;border-left: 1px solid gray;box-sizing: border-box;top: 0;bottom: 0;left: 50%;z-index: 0;}#sk-container-id-1 div.sk-serial {display: flex;flex-direction: column;align-items: center;background-color: white;padding-right: 0.2em;padding-left: 0.2em;position: relative;}#sk-container-id-1 div.sk-item {position: relative;z-index: 1;}#sk-container-id-1 div.sk-parallel {display: flex;align-items: stretch;justify-content: center;background-color: white;position: relative;}#sk-container-id-1 div.sk-item::before, #sk-container-id-1 div.sk-parallel-item::before {content: \"\";position: absolute;border-left: 1px solid gray;box-sizing: border-box;top: 0;bottom: 0;left: 50%;z-index: -1;}#sk-container-id-1 div.sk-parallel-item {display: flex;flex-direction: column;z-index: 1;position: relative;background-color: white;}#sk-container-id-1 div.sk-parallel-item:first-child::after {align-self: flex-end;width: 50%;}#sk-container-id-1 div.sk-parallel-item:last-child::after {align-self: flex-start;width: 50%;}#sk-container-id-1 div.sk-parallel-item:only-child::after {width: 0;}#sk-container-id-1 div.sk-dashed-wrapped {border: 1px dashed gray;margin: 0 0.4em 0.5em 0.4em;box-sizing: border-box;padding-bottom: 0.4em;background-color: white;}#sk-container-id-1 div.sk-label label {font-family: monospace;font-weight: bold;display: inline-block;line-height: 1.2em;}#sk-container-id-1 div.sk-label-container {text-align: center;}#sk-container-id-1 div.sk-container {/* jupyter's `normalize.less` sets `[hidden] { display: none; }` but bootstrap.min.css set `[hidden] { display: none !important; }` so we also need the `!important` here to be able to override the default hidden behavior on the sphinx rendered scikit-learn.org. See: https://github.com/scikit-learn/scikit-learn/issues/21755 */display: inline-block !important;position: relative;}#sk-container-id-1 div.sk-text-repr-fallback {display: none;}</style><div id=\"sk-container-id-1\" class=\"sk-top-container\"><div class=\"sk-text-repr-fallback\"><pre>LinearRegression()</pre><b>In a Jupyter environment, please rerun this cell to show the HTML representation or trust the notebook. <br />On GitHub, the HTML representation is unable to render, please try loading this page with nbviewer.org.</b></div><div class=\"sk-container\" hidden><div class=\"sk-item\"><div class=\"sk-estimator sk-toggleable\"><input class=\"sk-toggleable__control sk-hidden--visually\" id=\"sk-estimator-id-1\" type=\"checkbox\" checked><label for=\"sk-estimator-id-1\" class=\"sk-toggleable__label sk-toggleable__label-arrow\">LinearRegression</label><div class=\"sk-toggleable__content\"><pre>LinearRegression()</pre></div></div></div></div></div>"
      ],
      "text/plain": [
       "LinearRegression()"
      ]
     },
     "execution_count": 11,
     "metadata": {},
     "output_type": "execute_result"
    }
   ],
   "source": [
    "# Treinamento do algoritmo\n",
    "lr = LinearRegression()\n",
    "lr.fit(X, y)"
   ]
  },
  {
   "cell_type": "markdown",
   "id": "04ad351a",
   "metadata": {},
   "source": [
    "# Submission"
   ]
  },
  {
   "cell_type": "code",
   "execution_count": 12,
   "id": "b79b44fb",
   "metadata": {
    "ExecuteTime": {
     "end_time": "2023-10-20T00:59:37.304039Z",
     "start_time": "2023-10-20T00:59:37.051027Z"
    }
   },
   "outputs": [],
   "source": [
    "# Preparação do teste\n",
    "X_test = test[cols_test]\n",
    "X_test = X_test.drop(['pid'], axis = 1)\n",
    "X_test = count.fit_transform(X_test)\n",
    "X_test = X_test.fillna(0)"
   ]
  },
  {
   "cell_type": "code",
   "execution_count": 13,
   "id": "24502aac",
   "metadata": {
    "ExecuteTime": {
     "end_time": "2023-10-20T00:59:37.320025Z",
     "start_time": "2023-10-20T00:59:37.306025Z"
    }
   },
   "outputs": [],
   "source": [
    "# Predição\n",
    "y_pred = lr.predict(X_test)"
   ]
  },
  {
   "cell_type": "code",
   "execution_count": 14,
   "id": "b663dc7b",
   "metadata": {
    "ExecuteTime": {
     "end_time": "2023-10-20T00:59:37.479024Z",
     "start_time": "2023-10-20T00:59:37.325028Z"
    }
   },
   "outputs": [
    {
     "data": {
      "text/html": [
       "<div>\n",
       "<style scoped>\n",
       "    .dataframe tbody tr th:only-of-type {\n",
       "        vertical-align: middle;\n",
       "    }\n",
       "\n",
       "    .dataframe tbody tr th {\n",
       "        vertical-align: top;\n",
       "    }\n",
       "\n",
       "    .dataframe thead th {\n",
       "        text-align: right;\n",
       "    }\n",
       "</style>\n",
       "<table border=\"1\" class=\"dataframe\">\n",
       "  <thead>\n",
       "    <tr style=\"text-align: right;\">\n",
       "      <th></th>\n",
       "      <th>pid</th>\n",
       "      <th>actual_price</th>\n",
       "    </tr>\n",
       "  </thead>\n",
       "  <tbody>\n",
       "    <tr>\n",
       "      <th>0</th>\n",
       "      <td>SHTFDYZGEXPED7YS</td>\n",
       "      <td>632.659851</td>\n",
       "    </tr>\n",
       "    <tr>\n",
       "      <th>1</th>\n",
       "      <td>TROFM47EVWRYK7ZU</td>\n",
       "      <td>842.852702</td>\n",
       "    </tr>\n",
       "    <tr>\n",
       "      <th>2</th>\n",
       "      <td>FABFZAMPGDW3BKGX</td>\n",
       "      <td>947.778733</td>\n",
       "    </tr>\n",
       "    <tr>\n",
       "      <th>3</th>\n",
       "      <td>BZRFNMGPNBQTYHMG</td>\n",
       "      <td>888.808821</td>\n",
       "    </tr>\n",
       "    <tr>\n",
       "      <th>4</th>\n",
       "      <td>SHTFV5G6PZDQZEVZ</td>\n",
       "      <td>815.149737</td>\n",
       "    </tr>\n",
       "  </tbody>\n",
       "</table>\n",
       "</div>"
      ],
      "text/plain": [
       "                pid  actual_price\n",
       "0  SHTFDYZGEXPED7YS    632.659851\n",
       "1  TROFM47EVWRYK7ZU    842.852702\n",
       "2  FABFZAMPGDW3BKGX    947.778733\n",
       "3  BZRFNMGPNBQTYHMG    888.808821\n",
       "4  SHTFV5G6PZDQZEVZ    815.149737"
      ]
     },
     "execution_count": 14,
     "metadata": {},
     "output_type": "execute_result"
    }
   ],
   "source": [
    "# Dataframe de submissão\n",
    "df_submission = pd.concat([test['pid'], pd.Series(y_pred)], axis = 1).rename(columns = {0: 'actual_price'})\n",
    "df_submission.head()"
   ]
  },
  {
   "cell_type": "code",
   "execution_count": 15,
   "id": "ac7ecf8e",
   "metadata": {
    "ExecuteTime": {
     "end_time": "2023-10-20T00:59:37.762441Z",
     "start_time": "2023-10-20T00:59:37.481025Z"
    }
   },
   "outputs": [],
   "source": [
    "# Exportando para .csv\n",
    "df_submission.to_csv('baseline_submission.csv', index = False)"
   ]
  }
 ],
 "metadata": {
  "hide_input": false,
  "kernelspec": {
   "display_name": "Python 3 (ipykernel)",
   "language": "python",
   "name": "python3"
  },
  "language_info": {
   "codemirror_mode": {
    "name": "ipython",
    "version": 3
   },
   "file_extension": ".py",
   "mimetype": "text/x-python",
   "name": "python",
   "nbconvert_exporter": "python",
   "pygments_lexer": "ipython3",
   "version": "3.9.16"
  }
 },
 "nbformat": 4,
 "nbformat_minor": 5
}
